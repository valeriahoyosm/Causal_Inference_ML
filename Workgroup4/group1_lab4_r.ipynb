{
 "cells": [
  {
   "cell_type": "markdown",
   "id": "2c420ed3",
   "metadata": {},
   "source": [
    "## WORKGROUP 4"
   ]
  },
  {
   "cell_type": "markdown",
   "id": "073e42a7",
   "metadata": {},
   "source": [
    "Integrantes: \n",
    "- Valeria Hoyos Macedo\n",
    "- Josué Eduardo Maguiña Mezaz\n",
    "- Alvaro Alexander Yllu Socualaya\n",
    "- Maria pamela Cubas Albujar"
   ]
  },
  {
   "cell_type": "markdown",
   "id": "6542c0b5",
   "metadata": {
    "id": "A31khSgl54JO"
   },
   "source": [
    "## Bootstraping\n"
   ]
  },
  {
   "cell_type": "markdown",
   "id": "bd978fd7",
   "metadata": {
    "id": "RXukp_Xl6GsY"
   },
   "source": [
    "### Loading libraries"
   ]
  },
  {
   "cell_type": "code",
   "execution_count": 31,
   "id": "776160b5",
   "metadata": {
    "id": "6Xg9eORvb7Dh",
    "vscode": {
     "languageId": "r"
    }
   },
   "outputs": [],
   "source": [
    "library(dplyr)\n",
    "library(readr)\n",
    "library(boot)\n",
    "library(tibble)\n"
   ]
  },
  {
   "cell_type": "markdown",
   "id": "d90700d6",
   "metadata": {
    "id": "2p5HgD4O6KBG"
   },
   "source": [
    "### Loading dat form URL"
   ]
  },
  {
   "cell_type": "code",
   "execution_count": 32,
   "id": "cb41eb22",
   "metadata": {
    "colab": {
     "base_uri": "https://localhost:8080/"
    },
    "id": "JVZisq0Zdbeq",
    "outputId": "255e40b1-56e0-4dc4-837b-00430f74d3be",
    "vscode": {
     "languageId": "r"
    }
   },
   "outputs": [
    {
     "name": "stderr",
     "output_type": "stream",
     "text": [
      "\u001b[1m\u001b[22mNew names:\n",
      "\u001b[36m•\u001b[39m `` -> `...1`\n",
      "\u001b[1mRows: \u001b[22m\u001b[34m13913\u001b[39m \u001b[1mColumns: \u001b[22m\u001b[34m24\u001b[39m\n",
      "\u001b[36m──\u001b[39m \u001b[1mColumn specification\u001b[22m \u001b[36m────────────────────────────────────────────────────────\u001b[39m\n",
      "\u001b[1mDelimiter:\u001b[22m \",\"\n",
      "\u001b[32mdbl\u001b[39m (24): ...1, abdt, tg, inuidur1, inuidur2, female, black, hispanic, othra...\n",
      "\n",
      "\u001b[36mℹ\u001b[39m Use `spec()` to retrieve the full column specification for this data.\n",
      "\u001b[36mℹ\u001b[39m Specify the column types or set `show_col_types = FALSE` to quiet this message.\n"
     ]
    }
   ],
   "source": [
    "data <- read_csv(\"https://raw.githubusercontent.com/alexanderquispe/CausalAI-Course/1b3b3368927b48ea4c9a13dc239b4665c938c838/data/penn_jae.csv\")"
   ]
  },
  {
   "cell_type": "markdown",
   "id": "a484d4e9",
   "metadata": {
    "id": "MBeNMtQ36OUV"
   },
   "source": [
    "### Filter data to include only observation where tg=0 or tg=4 and create T4"
   ]
  },
  {
   "cell_type": "code",
   "execution_count": 64,
   "id": "a6dab3c5",
   "metadata": {
    "colab": {
     "base_uri": "https://localhost:8080/",
     "height": 1000
    },
    "id": "7jSLXpUKeH5d",
    "outputId": "83977a5a-078d-4d7b-892f-954d19f3cc92",
    "vscode": {
     "languageId": "r"
    }
   },
   "outputs": [
    {
     "data": {
      "text/html": [
       "<table class=\"dataframe\">\n",
       "<caption>A tibble: 5099 × 25</caption>\n",
       "<thead>\n",
       "\t<tr><th scope=col>...1</th><th scope=col>abdt</th><th scope=col>tg</th><th scope=col>inuidur1</th><th scope=col>inuidur2</th><th scope=col>female</th><th scope=col>black</th><th scope=col>hispanic</th><th scope=col>othrace</th><th scope=col>dep</th><th scope=col>⋯</th><th scope=col>q6</th><th scope=col>recall</th><th scope=col>agelt35</th><th scope=col>agegt54</th><th scope=col>durable</th><th scope=col>nondurable</th><th scope=col>lusd</th><th scope=col>husd</th><th scope=col>muld</th><th scope=col>T4</th></tr>\n",
       "\t<tr><th scope=col>&lt;dbl&gt;</th><th scope=col>&lt;dbl&gt;</th><th scope=col>&lt;dbl&gt;</th><th scope=col>&lt;dbl&gt;</th><th scope=col>&lt;dbl&gt;</th><th scope=col>&lt;dbl&gt;</th><th scope=col>&lt;dbl&gt;</th><th scope=col>&lt;dbl&gt;</th><th scope=col>&lt;dbl&gt;</th><th scope=col>&lt;dbl&gt;</th><th scope=col>⋯</th><th scope=col>&lt;dbl&gt;</th><th scope=col>&lt;dbl&gt;</th><th scope=col>&lt;dbl&gt;</th><th scope=col>&lt;dbl&gt;</th><th scope=col>&lt;dbl&gt;</th><th scope=col>&lt;dbl&gt;</th><th scope=col>&lt;dbl&gt;</th><th scope=col>&lt;dbl&gt;</th><th scope=col>&lt;dbl&gt;</th><th scope=col>&lt;int&gt;</th></tr>\n",
       "</thead>\n",
       "<tbody>\n",
       "\t<tr><td> 1</td><td>10824</td><td>0</td><td>18</td><td>18</td><td>0</td><td>0</td><td>0</td><td>0</td><td>2</td><td>⋯</td><td>0</td><td>0</td><td>0</td><td>0</td><td>0</td><td>0</td><td>0</td><td>1</td><td>0</td><td>0</td></tr>\n",
       "\t<tr><td> 4</td><td>10824</td><td>0</td><td> 1</td><td> 1</td><td>0</td><td>0</td><td>0</td><td>0</td><td>0</td><td>⋯</td><td>0</td><td>0</td><td>0</td><td>0</td><td>0</td><td>0</td><td>1</td><td>0</td><td>0</td><td>0</td></tr>\n",
       "\t<tr><td> 5</td><td>10747</td><td>0</td><td>27</td><td>27</td><td>0</td><td>0</td><td>0</td><td>0</td><td>0</td><td>⋯</td><td>0</td><td>0</td><td>0</td><td>0</td><td>0</td><td>0</td><td>1</td><td>0</td><td>0</td><td>0</td></tr>\n",
       "\t<tr><td>12</td><td>10607</td><td>4</td><td> 9</td><td> 9</td><td>0</td><td>0</td><td>0</td><td>0</td><td>0</td><td>⋯</td><td>0</td><td>0</td><td>1</td><td>0</td><td>0</td><td>0</td><td>0</td><td>0</td><td>1</td><td>1</td></tr>\n",
       "\t<tr><td>13</td><td>10831</td><td>0</td><td>27</td><td>27</td><td>0</td><td>0</td><td>0</td><td>0</td><td>1</td><td>⋯</td><td>0</td><td>0</td><td>0</td><td>1</td><td>1</td><td>0</td><td>1</td><td>0</td><td>0</td><td>0</td></tr>\n",
       "\t<tr><td>14</td><td>10845</td><td>0</td><td>27</td><td>27</td><td>1</td><td>0</td><td>0</td><td>0</td><td>0</td><td>⋯</td><td>0</td><td>0</td><td>0</td><td>1</td><td>0</td><td>0</td><td>1</td><td>0</td><td>0</td><td>0</td></tr>\n",
       "\t<tr><td>15</td><td>10831</td><td>0</td><td> 9</td><td> 9</td><td>1</td><td>0</td><td>0</td><td>0</td><td>1</td><td>⋯</td><td>0</td><td>0</td><td>0</td><td>1</td><td>0</td><td>0</td><td>1</td><td>0</td><td>0</td><td>0</td></tr>\n",
       "\t<tr><td>17</td><td>10859</td><td>0</td><td>27</td><td>27</td><td>1</td><td>0</td><td>0</td><td>0</td><td>1</td><td>⋯</td><td>1</td><td>0</td><td>0</td><td>0</td><td>0</td><td>0</td><td>1</td><td>0</td><td>0</td><td>0</td></tr>\n",
       "\t<tr><td>23</td><td>10516</td><td>0</td><td>15</td><td>15</td><td>1</td><td>0</td><td>0</td><td>0</td><td>0</td><td>⋯</td><td>0</td><td>0</td><td>0</td><td>0</td><td>0</td><td>0</td><td>1</td><td>0</td><td>0</td><td>0</td></tr>\n",
       "\t<tr><td>25</td><td>10663</td><td>0</td><td>28</td><td>11</td><td>1</td><td>0</td><td>0</td><td>0</td><td>0</td><td>⋯</td><td>0</td><td>0</td><td>0</td><td>1</td><td>0</td><td>0</td><td>1</td><td>0</td><td>0</td><td>0</td></tr>\n",
       "\t<tr><td>26</td><td>10747</td><td>0</td><td>12</td><td>12</td><td>1</td><td>0</td><td>0</td><td>0</td><td>2</td><td>⋯</td><td>0</td><td>1</td><td>1</td><td>0</td><td>0</td><td>0</td><td>0</td><td>0</td><td>1</td><td>0</td></tr>\n",
       "\t<tr><td>27</td><td>10551</td><td>4</td><td>22</td><td>22</td><td>1</td><td>0</td><td>1</td><td>0</td><td>2</td><td>⋯</td><td>0</td><td>0</td><td>1</td><td>0</td><td>0</td><td>0</td><td>0</td><td>0</td><td>1</td><td>1</td></tr>\n",
       "\t<tr><td>32</td><td>10768</td><td>0</td><td>18</td><td>18</td><td>1</td><td>0</td><td>0</td><td>0</td><td>0</td><td>⋯</td><td>0</td><td>0</td><td>0</td><td>1</td><td>0</td><td>0</td><td>0</td><td>0</td><td>1</td><td>0</td></tr>\n",
       "\t<tr><td>33</td><td>10537</td><td>0</td><td> 1</td><td> 1</td><td>1</td><td>0</td><td>0</td><td>0</td><td>2</td><td>⋯</td><td>0</td><td>0</td><td>0</td><td>0</td><td>0</td><td>0</td><td>0</td><td>0</td><td>1</td><td>0</td></tr>\n",
       "\t<tr><td>39</td><td>10600</td><td>4</td><td> 7</td><td> 7</td><td>1</td><td>0</td><td>0</td><td>0</td><td>0</td><td>⋯</td><td>0</td><td>0</td><td>0</td><td>0</td><td>0</td><td>0</td><td>1</td><td>0</td><td>0</td><td>1</td></tr>\n",
       "\t<tr><td>43</td><td>10866</td><td>0</td><td>18</td><td>18</td><td>0</td><td>0</td><td>0</td><td>0</td><td>0</td><td>⋯</td><td>1</td><td>0</td><td>0</td><td>0</td><td>1</td><td>0</td><td>1</td><td>0</td><td>0</td><td>0</td></tr>\n",
       "\t<tr><td>49</td><td>10572</td><td>0</td><td>14</td><td>14</td><td>0</td><td>0</td><td>0</td><td>0</td><td>2</td><td>⋯</td><td>0</td><td>0</td><td>0</td><td>0</td><td>0</td><td>0</td><td>1</td><td>0</td><td>0</td><td>0</td></tr>\n",
       "\t<tr><td>50</td><td>10663</td><td>0</td><td> 5</td><td> 5</td><td>0</td><td>0</td><td>0</td><td>0</td><td>0</td><td>⋯</td><td>0</td><td>0</td><td>0</td><td>1</td><td>0</td><td>0</td><td>1</td><td>0</td><td>0</td><td>0</td></tr>\n",
       "\t<tr><td>58</td><td>10789</td><td>0</td><td> 9</td><td> 9</td><td>0</td><td>0</td><td>0</td><td>0</td><td>0</td><td>⋯</td><td>0</td><td>0</td><td>0</td><td>0</td><td>0</td><td>1</td><td>1</td><td>0</td><td>0</td><td>0</td></tr>\n",
       "\t<tr><td>59</td><td>10768</td><td>0</td><td> 3</td><td> 3</td><td>0</td><td>1</td><td>0</td><td>0</td><td>0</td><td>⋯</td><td>0</td><td>0</td><td>0</td><td>0</td><td>0</td><td>0</td><td>0</td><td>0</td><td>1</td><td>0</td></tr>\n",
       "\t<tr><td>60</td><td>10649</td><td>0</td><td>27</td><td>27</td><td>0</td><td>0</td><td>0</td><td>0</td><td>1</td><td>⋯</td><td>0</td><td>0</td><td>1</td><td>0</td><td>0</td><td>0</td><td>0</td><td>1</td><td>0</td><td>0</td></tr>\n",
       "\t<tr><td>61</td><td>10670</td><td>4</td><td>27</td><td>27</td><td>1</td><td>0</td><td>0</td><td>0</td><td>2</td><td>⋯</td><td>0</td><td>1</td><td>0</td><td>0</td><td>0</td><td>0</td><td>0</td><td>0</td><td>1</td><td>1</td></tr>\n",
       "\t<tr><td>63</td><td>10796</td><td>0</td><td>10</td><td>10</td><td>0</td><td>0</td><td>0</td><td>0</td><td>0</td><td>⋯</td><td>0</td><td>0</td><td>1</td><td>0</td><td>0</td><td>0</td><td>0</td><td>1</td><td>0</td><td>0</td></tr>\n",
       "\t<tr><td>65</td><td>10558</td><td>0</td><td>25</td><td>25</td><td>0</td><td>0</td><td>1</td><td>0</td><td>2</td><td>⋯</td><td>0</td><td>1</td><td>1</td><td>0</td><td>0</td><td>0</td><td>1</td><td>0</td><td>0</td><td>0</td></tr>\n",
       "\t<tr><td>72</td><td>10831</td><td>4</td><td> 1</td><td> 1</td><td>0</td><td>0</td><td>0</td><td>0</td><td>0</td><td>⋯</td><td>0</td><td>0</td><td>0</td><td>0</td><td>0</td><td>0</td><td>1</td><td>0</td><td>0</td><td>1</td></tr>\n",
       "\t<tr><td>73</td><td>10810</td><td>4</td><td> 3</td><td> 3</td><td>0</td><td>0</td><td>0</td><td>0</td><td>0</td><td>⋯</td><td>0</td><td>0</td><td>1</td><td>0</td><td>0</td><td>0</td><td>0</td><td>1</td><td>0</td><td>1</td></tr>\n",
       "\t<tr><td>75</td><td>10551</td><td>4</td><td>13</td><td>13</td><td>0</td><td>0</td><td>0</td><td>0</td><td>2</td><td>⋯</td><td>0</td><td>0</td><td>1</td><td>0</td><td>0</td><td>0</td><td>0</td><td>1</td><td>0</td><td>1</td></tr>\n",
       "\t<tr><td>77</td><td>10796</td><td>0</td><td> 1</td><td> 1</td><td>0</td><td>0</td><td>0</td><td>0</td><td>0</td><td>⋯</td><td>0</td><td>0</td><td>1</td><td>0</td><td>0</td><td>0</td><td>0</td><td>1</td><td>0</td><td>0</td></tr>\n",
       "\t<tr><td>81</td><td>10719</td><td>0</td><td>27</td><td>27</td><td>0</td><td>0</td><td>0</td><td>0</td><td>0</td><td>⋯</td><td>0</td><td>0</td><td>1</td><td>0</td><td>1</td><td>0</td><td>1</td><td>0</td><td>0</td><td>0</td></tr>\n",
       "\t<tr><td>82</td><td>10726</td><td>4</td><td>14</td><td>14</td><td>0</td><td>0</td><td>0</td><td>0</td><td>2</td><td>⋯</td><td>0</td><td>0</td><td>1</td><td>0</td><td>0</td><td>1</td><td>1</td><td>0</td><td>0</td><td>1</td></tr>\n",
       "\t<tr><td>⋮</td><td>⋮</td><td>⋮</td><td>⋮</td><td>⋮</td><td>⋮</td><td>⋮</td><td>⋮</td><td>⋮</td><td>⋮</td><td>⋱</td><td>⋮</td><td>⋮</td><td>⋮</td><td>⋮</td><td>⋮</td><td>⋮</td><td>⋮</td><td>⋮</td><td>⋮</td><td>⋮</td></tr>\n",
       "\t<tr><td>13829</td><td>10558</td><td>0</td><td>20</td><td>20</td><td>0</td><td>0</td><td>1</td><td>0</td><td>0</td><td>⋯</td><td>0</td><td>0</td><td>1</td><td>0</td><td>0</td><td>0</td><td>0</td><td>0</td><td>1</td><td>0</td></tr>\n",
       "\t<tr><td>13831</td><td>10852</td><td>4</td><td>27</td><td>27</td><td>0</td><td>0</td><td>1</td><td>0</td><td>0</td><td>⋯</td><td>0</td><td>0</td><td>1</td><td>0</td><td>1</td><td>0</td><td>0</td><td>0</td><td>1</td><td>1</td></tr>\n",
       "\t<tr><td>13842</td><td>10579</td><td>4</td><td>13</td><td>13</td><td>0</td><td>0</td><td>1</td><td>0</td><td>1</td><td>⋯</td><td>0</td><td>0</td><td>1</td><td>0</td><td>0</td><td>0</td><td>0</td><td>0</td><td>1</td><td>1</td></tr>\n",
       "\t<tr><td>13845</td><td>10796</td><td>0</td><td> 1</td><td> 1</td><td>1</td><td>0</td><td>1</td><td>0</td><td>1</td><td>⋯</td><td>0</td><td>0</td><td>0</td><td>0</td><td>0</td><td>1</td><td>1</td><td>0</td><td>0</td><td>0</td></tr>\n",
       "\t<tr><td>13846</td><td>10782</td><td>0</td><td> 1</td><td> 1</td><td>0</td><td>0</td><td>1</td><td>0</td><td>1</td><td>⋯</td><td>0</td><td>0</td><td>1</td><td>0</td><td>0</td><td>0</td><td>1</td><td>0</td><td>0</td><td>0</td></tr>\n",
       "\t<tr><td>13847</td><td>10579</td><td>4</td><td>16</td><td>16</td><td>0</td><td>0</td><td>1</td><td>0</td><td>2</td><td>⋯</td><td>0</td><td>0</td><td>0</td><td>0</td><td>0</td><td>0</td><td>0</td><td>0</td><td>1</td><td>1</td></tr>\n",
       "\t<tr><td>13854</td><td>10544</td><td>0</td><td>13</td><td>13</td><td>0</td><td>0</td><td>1</td><td>0</td><td>0</td><td>⋯</td><td>0</td><td>0</td><td>0</td><td>0</td><td>0</td><td>0</td><td>0</td><td>0</td><td>1</td><td>0</td></tr>\n",
       "\t<tr><td>13864</td><td>10628</td><td>0</td><td>10</td><td>10</td><td>0</td><td>0</td><td>1</td><td>0</td><td>0</td><td>⋯</td><td>0</td><td>0</td><td>0</td><td>0</td><td>1</td><td>0</td><td>0</td><td>0</td><td>1</td><td>0</td></tr>\n",
       "\t<tr><td>13872</td><td>10593</td><td>4</td><td> 1</td><td> 1</td><td>0</td><td>0</td><td>1</td><td>0</td><td>0</td><td>⋯</td><td>0</td><td>0</td><td>1</td><td>0</td><td>0</td><td>1</td><td>1</td><td>0</td><td>0</td><td>1</td></tr>\n",
       "\t<tr><td>13873</td><td>10593</td><td>4</td><td> 2</td><td> 2</td><td>0</td><td>0</td><td>1</td><td>0</td><td>2</td><td>⋯</td><td>0</td><td>0</td><td>0</td><td>0</td><td>1</td><td>0</td><td>1</td><td>0</td><td>0</td><td>1</td></tr>\n",
       "\t<tr><td>13875</td><td>10712</td><td>0</td><td>22</td><td>22</td><td>0</td><td>0</td><td>1</td><td>0</td><td>2</td><td>⋯</td><td>0</td><td>0</td><td>1</td><td>0</td><td>0</td><td>1</td><td>0</td><td>0</td><td>1</td><td>0</td></tr>\n",
       "\t<tr><td>13876</td><td>10768</td><td>0</td><td>27</td><td>27</td><td>0</td><td>0</td><td>1</td><td>0</td><td>0</td><td>⋯</td><td>0</td><td>0</td><td>1</td><td>0</td><td>1</td><td>0</td><td>0</td><td>0</td><td>1</td><td>0</td></tr>\n",
       "\t<tr><td>13877</td><td>10817</td><td>0</td><td>16</td><td>16</td><td>1</td><td>0</td><td>1</td><td>0</td><td>0</td><td>⋯</td><td>0</td><td>0</td><td>0</td><td>0</td><td>0</td><td>0</td><td>0</td><td>0</td><td>1</td><td>0</td></tr>\n",
       "\t<tr><td>13880</td><td>10572</td><td>4</td><td>17</td><td>17</td><td>0</td><td>0</td><td>1</td><td>0</td><td>2</td><td>⋯</td><td>0</td><td>0</td><td>0</td><td>0</td><td>0</td><td>0</td><td>0</td><td>0</td><td>1</td><td>1</td></tr>\n",
       "\t<tr><td>13883</td><td>10845</td><td>4</td><td> 2</td><td> 2</td><td>1</td><td>0</td><td>1</td><td>0</td><td>1</td><td>⋯</td><td>0</td><td>0</td><td>1</td><td>0</td><td>0</td><td>1</td><td>0</td><td>0</td><td>1</td><td>1</td></tr>\n",
       "\t<tr><td>13888</td><td>10642</td><td>0</td><td>10</td><td>10</td><td>0</td><td>0</td><td>0</td><td>0</td><td>0</td><td>⋯</td><td>0</td><td>0</td><td>1</td><td>0</td><td>1</td><td>0</td><td>1</td><td>0</td><td>0</td><td>0</td></tr>\n",
       "\t<tr><td>13891</td><td>10670</td><td>0</td><td>20</td><td>20</td><td>0</td><td>0</td><td>0</td><td>0</td><td>0</td><td>⋯</td><td>0</td><td>0</td><td>1</td><td>0</td><td>1</td><td>0</td><td>0</td><td>1</td><td>0</td><td>0</td></tr>\n",
       "\t<tr><td>13892</td><td>10530</td><td>0</td><td>27</td><td>27</td><td>1</td><td>0</td><td>0</td><td>1</td><td>0</td><td>⋯</td><td>0</td><td>0</td><td>1</td><td>0</td><td>0</td><td>0</td><td>0</td><td>0</td><td>1</td><td>0</td></tr>\n",
       "\t<tr><td>13893</td><td>10691</td><td>0</td><td>27</td><td>27</td><td>1</td><td>0</td><td>0</td><td>1</td><td>0</td><td>⋯</td><td>0</td><td>0</td><td>0</td><td>0</td><td>1</td><td>0</td><td>1</td><td>0</td><td>0</td><td>0</td></tr>\n",
       "\t<tr><td>13894</td><td>10796</td><td>0</td><td>15</td><td>15</td><td>1</td><td>0</td><td>0</td><td>1</td><td>0</td><td>⋯</td><td>0</td><td>0</td><td>1</td><td>0</td><td>1</td><td>0</td><td>1</td><td>0</td><td>0</td><td>0</td></tr>\n",
       "\t<tr><td>13895</td><td>10635</td><td>4</td><td>20</td><td>20</td><td>0</td><td>0</td><td>0</td><td>1</td><td>0</td><td>⋯</td><td>0</td><td>0</td><td>1</td><td>0</td><td>0</td><td>0</td><td>0</td><td>0</td><td>1</td><td>1</td></tr>\n",
       "\t<tr><td>13896</td><td>10859</td><td>0</td><td> 1</td><td> 1</td><td>1</td><td>0</td><td>0</td><td>1</td><td>0</td><td>⋯</td><td>1</td><td>0</td><td>1</td><td>0</td><td>0</td><td>0</td><td>1</td><td>0</td><td>0</td><td>0</td></tr>\n",
       "\t<tr><td>13899</td><td>10796</td><td>0</td><td>23</td><td>23</td><td>0</td><td>1</td><td>0</td><td>0</td><td>0</td><td>⋯</td><td>0</td><td>0</td><td>0</td><td>0</td><td>0</td><td>0</td><td>0</td><td>0</td><td>1</td><td>0</td></tr>\n",
       "\t<tr><td>13900</td><td>10740</td><td>4</td><td>13</td><td>13</td><td>1</td><td>1</td><td>0</td><td>0</td><td>0</td><td>⋯</td><td>0</td><td>1</td><td>1</td><td>0</td><td>0</td><td>0</td><td>1</td><td>0</td><td>0</td><td>1</td></tr>\n",
       "\t<tr><td>13901</td><td>10845</td><td>0</td><td> 6</td><td> 6</td><td>1</td><td>0</td><td>0</td><td>1</td><td>2</td><td>⋯</td><td>0</td><td>0</td><td>0</td><td>0</td><td>0</td><td>1</td><td>0</td><td>0</td><td>1</td><td>0</td></tr>\n",
       "\t<tr><td>13905</td><td>10628</td><td>4</td><td>10</td><td>10</td><td>0</td><td>0</td><td>1</td><td>0</td><td>0</td><td>⋯</td><td>0</td><td>0</td><td>1</td><td>0</td><td>0</td><td>0</td><td>0</td><td>0</td><td>1</td><td>1</td></tr>\n",
       "\t<tr><td>13906</td><td>10523</td><td>4</td><td> 4</td><td> 4</td><td>0</td><td>0</td><td>1</td><td>0</td><td>2</td><td>⋯</td><td>0</td><td>0</td><td>0</td><td>0</td><td>0</td><td>0</td><td>0</td><td>0</td><td>1</td><td>1</td></tr>\n",
       "\t<tr><td>13907</td><td>10558</td><td>0</td><td> 9</td><td> 9</td><td>0</td><td>0</td><td>0</td><td>0</td><td>2</td><td>⋯</td><td>0</td><td>0</td><td>1</td><td>0</td><td>0</td><td>0</td><td>1</td><td>0</td><td>0</td><td>0</td></tr>\n",
       "\t<tr><td>13911</td><td>10817</td><td>4</td><td> 4</td><td> 4</td><td>0</td><td>0</td><td>0</td><td>0</td><td>0</td><td>⋯</td><td>0</td><td>0</td><td>0</td><td>1</td><td>0</td><td>0</td><td>0</td><td>0</td><td>0</td><td>1</td></tr>\n",
       "\t<tr><td>13912</td><td>10691</td><td>0</td><td>27</td><td>27</td><td>0</td><td>0</td><td>0</td><td>0</td><td>0</td><td>⋯</td><td>0</td><td>0</td><td>0</td><td>1</td><td>1</td><td>0</td><td>1</td><td>0</td><td>0</td><td>0</td></tr>\n",
       "</tbody>\n",
       "</table>\n"
      ],
      "text/latex": [
       "A tibble: 5099 × 25\n",
       "\\begin{tabular}{lllllllllllllllllllll}\n",
       " ...1 & abdt & tg & inuidur1 & inuidur2 & female & black & hispanic & othrace & dep & ⋯ & q6 & recall & agelt35 & agegt54 & durable & nondurable & lusd & husd & muld & T4\\\\\n",
       " <dbl> & <dbl> & <dbl> & <dbl> & <dbl> & <dbl> & <dbl> & <dbl> & <dbl> & <dbl> & ⋯ & <dbl> & <dbl> & <dbl> & <dbl> & <dbl> & <dbl> & <dbl> & <dbl> & <dbl> & <int>\\\\\n",
       "\\hline\n",
       "\t  1 & 10824 & 0 & 18 & 18 & 0 & 0 & 0 & 0 & 2 & ⋯ & 0 & 0 & 0 & 0 & 0 & 0 & 0 & 1 & 0 & 0\\\\\n",
       "\t  4 & 10824 & 0 &  1 &  1 & 0 & 0 & 0 & 0 & 0 & ⋯ & 0 & 0 & 0 & 0 & 0 & 0 & 1 & 0 & 0 & 0\\\\\n",
       "\t  5 & 10747 & 0 & 27 & 27 & 0 & 0 & 0 & 0 & 0 & ⋯ & 0 & 0 & 0 & 0 & 0 & 0 & 1 & 0 & 0 & 0\\\\\n",
       "\t 12 & 10607 & 4 &  9 &  9 & 0 & 0 & 0 & 0 & 0 & ⋯ & 0 & 0 & 1 & 0 & 0 & 0 & 0 & 0 & 1 & 1\\\\\n",
       "\t 13 & 10831 & 0 & 27 & 27 & 0 & 0 & 0 & 0 & 1 & ⋯ & 0 & 0 & 0 & 1 & 1 & 0 & 1 & 0 & 0 & 0\\\\\n",
       "\t 14 & 10845 & 0 & 27 & 27 & 1 & 0 & 0 & 0 & 0 & ⋯ & 0 & 0 & 0 & 1 & 0 & 0 & 1 & 0 & 0 & 0\\\\\n",
       "\t 15 & 10831 & 0 &  9 &  9 & 1 & 0 & 0 & 0 & 1 & ⋯ & 0 & 0 & 0 & 1 & 0 & 0 & 1 & 0 & 0 & 0\\\\\n",
       "\t 17 & 10859 & 0 & 27 & 27 & 1 & 0 & 0 & 0 & 1 & ⋯ & 1 & 0 & 0 & 0 & 0 & 0 & 1 & 0 & 0 & 0\\\\\n",
       "\t 23 & 10516 & 0 & 15 & 15 & 1 & 0 & 0 & 0 & 0 & ⋯ & 0 & 0 & 0 & 0 & 0 & 0 & 1 & 0 & 0 & 0\\\\\n",
       "\t 25 & 10663 & 0 & 28 & 11 & 1 & 0 & 0 & 0 & 0 & ⋯ & 0 & 0 & 0 & 1 & 0 & 0 & 1 & 0 & 0 & 0\\\\\n",
       "\t 26 & 10747 & 0 & 12 & 12 & 1 & 0 & 0 & 0 & 2 & ⋯ & 0 & 1 & 1 & 0 & 0 & 0 & 0 & 0 & 1 & 0\\\\\n",
       "\t 27 & 10551 & 4 & 22 & 22 & 1 & 0 & 1 & 0 & 2 & ⋯ & 0 & 0 & 1 & 0 & 0 & 0 & 0 & 0 & 1 & 1\\\\\n",
       "\t 32 & 10768 & 0 & 18 & 18 & 1 & 0 & 0 & 0 & 0 & ⋯ & 0 & 0 & 0 & 1 & 0 & 0 & 0 & 0 & 1 & 0\\\\\n",
       "\t 33 & 10537 & 0 &  1 &  1 & 1 & 0 & 0 & 0 & 2 & ⋯ & 0 & 0 & 0 & 0 & 0 & 0 & 0 & 0 & 1 & 0\\\\\n",
       "\t 39 & 10600 & 4 &  7 &  7 & 1 & 0 & 0 & 0 & 0 & ⋯ & 0 & 0 & 0 & 0 & 0 & 0 & 1 & 0 & 0 & 1\\\\\n",
       "\t 43 & 10866 & 0 & 18 & 18 & 0 & 0 & 0 & 0 & 0 & ⋯ & 1 & 0 & 0 & 0 & 1 & 0 & 1 & 0 & 0 & 0\\\\\n",
       "\t 49 & 10572 & 0 & 14 & 14 & 0 & 0 & 0 & 0 & 2 & ⋯ & 0 & 0 & 0 & 0 & 0 & 0 & 1 & 0 & 0 & 0\\\\\n",
       "\t 50 & 10663 & 0 &  5 &  5 & 0 & 0 & 0 & 0 & 0 & ⋯ & 0 & 0 & 0 & 1 & 0 & 0 & 1 & 0 & 0 & 0\\\\\n",
       "\t 58 & 10789 & 0 &  9 &  9 & 0 & 0 & 0 & 0 & 0 & ⋯ & 0 & 0 & 0 & 0 & 0 & 1 & 1 & 0 & 0 & 0\\\\\n",
       "\t 59 & 10768 & 0 &  3 &  3 & 0 & 1 & 0 & 0 & 0 & ⋯ & 0 & 0 & 0 & 0 & 0 & 0 & 0 & 0 & 1 & 0\\\\\n",
       "\t 60 & 10649 & 0 & 27 & 27 & 0 & 0 & 0 & 0 & 1 & ⋯ & 0 & 0 & 1 & 0 & 0 & 0 & 0 & 1 & 0 & 0\\\\\n",
       "\t 61 & 10670 & 4 & 27 & 27 & 1 & 0 & 0 & 0 & 2 & ⋯ & 0 & 1 & 0 & 0 & 0 & 0 & 0 & 0 & 1 & 1\\\\\n",
       "\t 63 & 10796 & 0 & 10 & 10 & 0 & 0 & 0 & 0 & 0 & ⋯ & 0 & 0 & 1 & 0 & 0 & 0 & 0 & 1 & 0 & 0\\\\\n",
       "\t 65 & 10558 & 0 & 25 & 25 & 0 & 0 & 1 & 0 & 2 & ⋯ & 0 & 1 & 1 & 0 & 0 & 0 & 1 & 0 & 0 & 0\\\\\n",
       "\t 72 & 10831 & 4 &  1 &  1 & 0 & 0 & 0 & 0 & 0 & ⋯ & 0 & 0 & 0 & 0 & 0 & 0 & 1 & 0 & 0 & 1\\\\\n",
       "\t 73 & 10810 & 4 &  3 &  3 & 0 & 0 & 0 & 0 & 0 & ⋯ & 0 & 0 & 1 & 0 & 0 & 0 & 0 & 1 & 0 & 1\\\\\n",
       "\t 75 & 10551 & 4 & 13 & 13 & 0 & 0 & 0 & 0 & 2 & ⋯ & 0 & 0 & 1 & 0 & 0 & 0 & 0 & 1 & 0 & 1\\\\\n",
       "\t 77 & 10796 & 0 &  1 &  1 & 0 & 0 & 0 & 0 & 0 & ⋯ & 0 & 0 & 1 & 0 & 0 & 0 & 0 & 1 & 0 & 0\\\\\n",
       "\t 81 & 10719 & 0 & 27 & 27 & 0 & 0 & 0 & 0 & 0 & ⋯ & 0 & 0 & 1 & 0 & 1 & 0 & 1 & 0 & 0 & 0\\\\\n",
       "\t 82 & 10726 & 4 & 14 & 14 & 0 & 0 & 0 & 0 & 2 & ⋯ & 0 & 0 & 1 & 0 & 0 & 1 & 1 & 0 & 0 & 1\\\\\n",
       "\t ⋮ & ⋮ & ⋮ & ⋮ & ⋮ & ⋮ & ⋮ & ⋮ & ⋮ & ⋮ & ⋱ & ⋮ & ⋮ & ⋮ & ⋮ & ⋮ & ⋮ & ⋮ & ⋮ & ⋮ & ⋮\\\\\n",
       "\t 13829 & 10558 & 0 & 20 & 20 & 0 & 0 & 1 & 0 & 0 & ⋯ & 0 & 0 & 1 & 0 & 0 & 0 & 0 & 0 & 1 & 0\\\\\n",
       "\t 13831 & 10852 & 4 & 27 & 27 & 0 & 0 & 1 & 0 & 0 & ⋯ & 0 & 0 & 1 & 0 & 1 & 0 & 0 & 0 & 1 & 1\\\\\n",
       "\t 13842 & 10579 & 4 & 13 & 13 & 0 & 0 & 1 & 0 & 1 & ⋯ & 0 & 0 & 1 & 0 & 0 & 0 & 0 & 0 & 1 & 1\\\\\n",
       "\t 13845 & 10796 & 0 &  1 &  1 & 1 & 0 & 1 & 0 & 1 & ⋯ & 0 & 0 & 0 & 0 & 0 & 1 & 1 & 0 & 0 & 0\\\\\n",
       "\t 13846 & 10782 & 0 &  1 &  1 & 0 & 0 & 1 & 0 & 1 & ⋯ & 0 & 0 & 1 & 0 & 0 & 0 & 1 & 0 & 0 & 0\\\\\n",
       "\t 13847 & 10579 & 4 & 16 & 16 & 0 & 0 & 1 & 0 & 2 & ⋯ & 0 & 0 & 0 & 0 & 0 & 0 & 0 & 0 & 1 & 1\\\\\n",
       "\t 13854 & 10544 & 0 & 13 & 13 & 0 & 0 & 1 & 0 & 0 & ⋯ & 0 & 0 & 0 & 0 & 0 & 0 & 0 & 0 & 1 & 0\\\\\n",
       "\t 13864 & 10628 & 0 & 10 & 10 & 0 & 0 & 1 & 0 & 0 & ⋯ & 0 & 0 & 0 & 0 & 1 & 0 & 0 & 0 & 1 & 0\\\\\n",
       "\t 13872 & 10593 & 4 &  1 &  1 & 0 & 0 & 1 & 0 & 0 & ⋯ & 0 & 0 & 1 & 0 & 0 & 1 & 1 & 0 & 0 & 1\\\\\n",
       "\t 13873 & 10593 & 4 &  2 &  2 & 0 & 0 & 1 & 0 & 2 & ⋯ & 0 & 0 & 0 & 0 & 1 & 0 & 1 & 0 & 0 & 1\\\\\n",
       "\t 13875 & 10712 & 0 & 22 & 22 & 0 & 0 & 1 & 0 & 2 & ⋯ & 0 & 0 & 1 & 0 & 0 & 1 & 0 & 0 & 1 & 0\\\\\n",
       "\t 13876 & 10768 & 0 & 27 & 27 & 0 & 0 & 1 & 0 & 0 & ⋯ & 0 & 0 & 1 & 0 & 1 & 0 & 0 & 0 & 1 & 0\\\\\n",
       "\t 13877 & 10817 & 0 & 16 & 16 & 1 & 0 & 1 & 0 & 0 & ⋯ & 0 & 0 & 0 & 0 & 0 & 0 & 0 & 0 & 1 & 0\\\\\n",
       "\t 13880 & 10572 & 4 & 17 & 17 & 0 & 0 & 1 & 0 & 2 & ⋯ & 0 & 0 & 0 & 0 & 0 & 0 & 0 & 0 & 1 & 1\\\\\n",
       "\t 13883 & 10845 & 4 &  2 &  2 & 1 & 0 & 1 & 0 & 1 & ⋯ & 0 & 0 & 1 & 0 & 0 & 1 & 0 & 0 & 1 & 1\\\\\n",
       "\t 13888 & 10642 & 0 & 10 & 10 & 0 & 0 & 0 & 0 & 0 & ⋯ & 0 & 0 & 1 & 0 & 1 & 0 & 1 & 0 & 0 & 0\\\\\n",
       "\t 13891 & 10670 & 0 & 20 & 20 & 0 & 0 & 0 & 0 & 0 & ⋯ & 0 & 0 & 1 & 0 & 1 & 0 & 0 & 1 & 0 & 0\\\\\n",
       "\t 13892 & 10530 & 0 & 27 & 27 & 1 & 0 & 0 & 1 & 0 & ⋯ & 0 & 0 & 1 & 0 & 0 & 0 & 0 & 0 & 1 & 0\\\\\n",
       "\t 13893 & 10691 & 0 & 27 & 27 & 1 & 0 & 0 & 1 & 0 & ⋯ & 0 & 0 & 0 & 0 & 1 & 0 & 1 & 0 & 0 & 0\\\\\n",
       "\t 13894 & 10796 & 0 & 15 & 15 & 1 & 0 & 0 & 1 & 0 & ⋯ & 0 & 0 & 1 & 0 & 1 & 0 & 1 & 0 & 0 & 0\\\\\n",
       "\t 13895 & 10635 & 4 & 20 & 20 & 0 & 0 & 0 & 1 & 0 & ⋯ & 0 & 0 & 1 & 0 & 0 & 0 & 0 & 0 & 1 & 1\\\\\n",
       "\t 13896 & 10859 & 0 &  1 &  1 & 1 & 0 & 0 & 1 & 0 & ⋯ & 1 & 0 & 1 & 0 & 0 & 0 & 1 & 0 & 0 & 0\\\\\n",
       "\t 13899 & 10796 & 0 & 23 & 23 & 0 & 1 & 0 & 0 & 0 & ⋯ & 0 & 0 & 0 & 0 & 0 & 0 & 0 & 0 & 1 & 0\\\\\n",
       "\t 13900 & 10740 & 4 & 13 & 13 & 1 & 1 & 0 & 0 & 0 & ⋯ & 0 & 1 & 1 & 0 & 0 & 0 & 1 & 0 & 0 & 1\\\\\n",
       "\t 13901 & 10845 & 0 &  6 &  6 & 1 & 0 & 0 & 1 & 2 & ⋯ & 0 & 0 & 0 & 0 & 0 & 1 & 0 & 0 & 1 & 0\\\\\n",
       "\t 13905 & 10628 & 4 & 10 & 10 & 0 & 0 & 1 & 0 & 0 & ⋯ & 0 & 0 & 1 & 0 & 0 & 0 & 0 & 0 & 1 & 1\\\\\n",
       "\t 13906 & 10523 & 4 &  4 &  4 & 0 & 0 & 1 & 0 & 2 & ⋯ & 0 & 0 & 0 & 0 & 0 & 0 & 0 & 0 & 1 & 1\\\\\n",
       "\t 13907 & 10558 & 0 &  9 &  9 & 0 & 0 & 0 & 0 & 2 & ⋯ & 0 & 0 & 1 & 0 & 0 & 0 & 1 & 0 & 0 & 0\\\\\n",
       "\t 13911 & 10817 & 4 &  4 &  4 & 0 & 0 & 0 & 0 & 0 & ⋯ & 0 & 0 & 0 & 1 & 0 & 0 & 0 & 0 & 0 & 1\\\\\n",
       "\t 13912 & 10691 & 0 & 27 & 27 & 0 & 0 & 0 & 0 & 0 & ⋯ & 0 & 0 & 0 & 1 & 1 & 0 & 1 & 0 & 0 & 0\\\\\n",
       "\\end{tabular}\n"
      ],
      "text/markdown": [
       "\n",
       "A tibble: 5099 × 25\n",
       "\n",
       "| ...1 &lt;dbl&gt; | abdt &lt;dbl&gt; | tg &lt;dbl&gt; | inuidur1 &lt;dbl&gt; | inuidur2 &lt;dbl&gt; | female &lt;dbl&gt; | black &lt;dbl&gt; | hispanic &lt;dbl&gt; | othrace &lt;dbl&gt; | dep &lt;dbl&gt; | ⋯ ⋯ | q6 &lt;dbl&gt; | recall &lt;dbl&gt; | agelt35 &lt;dbl&gt; | agegt54 &lt;dbl&gt; | durable &lt;dbl&gt; | nondurable &lt;dbl&gt; | lusd &lt;dbl&gt; | husd &lt;dbl&gt; | muld &lt;dbl&gt; | T4 &lt;int&gt; |\n",
       "|---|---|---|---|---|---|---|---|---|---|---|---|---|---|---|---|---|---|---|---|---|\n",
       "|  1 | 10824 | 0 | 18 | 18 | 0 | 0 | 0 | 0 | 2 | ⋯ | 0 | 0 | 0 | 0 | 0 | 0 | 0 | 1 | 0 | 0 |\n",
       "|  4 | 10824 | 0 |  1 |  1 | 0 | 0 | 0 | 0 | 0 | ⋯ | 0 | 0 | 0 | 0 | 0 | 0 | 1 | 0 | 0 | 0 |\n",
       "|  5 | 10747 | 0 | 27 | 27 | 0 | 0 | 0 | 0 | 0 | ⋯ | 0 | 0 | 0 | 0 | 0 | 0 | 1 | 0 | 0 | 0 |\n",
       "| 12 | 10607 | 4 |  9 |  9 | 0 | 0 | 0 | 0 | 0 | ⋯ | 0 | 0 | 1 | 0 | 0 | 0 | 0 | 0 | 1 | 1 |\n",
       "| 13 | 10831 | 0 | 27 | 27 | 0 | 0 | 0 | 0 | 1 | ⋯ | 0 | 0 | 0 | 1 | 1 | 0 | 1 | 0 | 0 | 0 |\n",
       "| 14 | 10845 | 0 | 27 | 27 | 1 | 0 | 0 | 0 | 0 | ⋯ | 0 | 0 | 0 | 1 | 0 | 0 | 1 | 0 | 0 | 0 |\n",
       "| 15 | 10831 | 0 |  9 |  9 | 1 | 0 | 0 | 0 | 1 | ⋯ | 0 | 0 | 0 | 1 | 0 | 0 | 1 | 0 | 0 | 0 |\n",
       "| 17 | 10859 | 0 | 27 | 27 | 1 | 0 | 0 | 0 | 1 | ⋯ | 1 | 0 | 0 | 0 | 0 | 0 | 1 | 0 | 0 | 0 |\n",
       "| 23 | 10516 | 0 | 15 | 15 | 1 | 0 | 0 | 0 | 0 | ⋯ | 0 | 0 | 0 | 0 | 0 | 0 | 1 | 0 | 0 | 0 |\n",
       "| 25 | 10663 | 0 | 28 | 11 | 1 | 0 | 0 | 0 | 0 | ⋯ | 0 | 0 | 0 | 1 | 0 | 0 | 1 | 0 | 0 | 0 |\n",
       "| 26 | 10747 | 0 | 12 | 12 | 1 | 0 | 0 | 0 | 2 | ⋯ | 0 | 1 | 1 | 0 | 0 | 0 | 0 | 0 | 1 | 0 |\n",
       "| 27 | 10551 | 4 | 22 | 22 | 1 | 0 | 1 | 0 | 2 | ⋯ | 0 | 0 | 1 | 0 | 0 | 0 | 0 | 0 | 1 | 1 |\n",
       "| 32 | 10768 | 0 | 18 | 18 | 1 | 0 | 0 | 0 | 0 | ⋯ | 0 | 0 | 0 | 1 | 0 | 0 | 0 | 0 | 1 | 0 |\n",
       "| 33 | 10537 | 0 |  1 |  1 | 1 | 0 | 0 | 0 | 2 | ⋯ | 0 | 0 | 0 | 0 | 0 | 0 | 0 | 0 | 1 | 0 |\n",
       "| 39 | 10600 | 4 |  7 |  7 | 1 | 0 | 0 | 0 | 0 | ⋯ | 0 | 0 | 0 | 0 | 0 | 0 | 1 | 0 | 0 | 1 |\n",
       "| 43 | 10866 | 0 | 18 | 18 | 0 | 0 | 0 | 0 | 0 | ⋯ | 1 | 0 | 0 | 0 | 1 | 0 | 1 | 0 | 0 | 0 |\n",
       "| 49 | 10572 | 0 | 14 | 14 | 0 | 0 | 0 | 0 | 2 | ⋯ | 0 | 0 | 0 | 0 | 0 | 0 | 1 | 0 | 0 | 0 |\n",
       "| 50 | 10663 | 0 |  5 |  5 | 0 | 0 | 0 | 0 | 0 | ⋯ | 0 | 0 | 0 | 1 | 0 | 0 | 1 | 0 | 0 | 0 |\n",
       "| 58 | 10789 | 0 |  9 |  9 | 0 | 0 | 0 | 0 | 0 | ⋯ | 0 | 0 | 0 | 0 | 0 | 1 | 1 | 0 | 0 | 0 |\n",
       "| 59 | 10768 | 0 |  3 |  3 | 0 | 1 | 0 | 0 | 0 | ⋯ | 0 | 0 | 0 | 0 | 0 | 0 | 0 | 0 | 1 | 0 |\n",
       "| 60 | 10649 | 0 | 27 | 27 | 0 | 0 | 0 | 0 | 1 | ⋯ | 0 | 0 | 1 | 0 | 0 | 0 | 0 | 1 | 0 | 0 |\n",
       "| 61 | 10670 | 4 | 27 | 27 | 1 | 0 | 0 | 0 | 2 | ⋯ | 0 | 1 | 0 | 0 | 0 | 0 | 0 | 0 | 1 | 1 |\n",
       "| 63 | 10796 | 0 | 10 | 10 | 0 | 0 | 0 | 0 | 0 | ⋯ | 0 | 0 | 1 | 0 | 0 | 0 | 0 | 1 | 0 | 0 |\n",
       "| 65 | 10558 | 0 | 25 | 25 | 0 | 0 | 1 | 0 | 2 | ⋯ | 0 | 1 | 1 | 0 | 0 | 0 | 1 | 0 | 0 | 0 |\n",
       "| 72 | 10831 | 4 |  1 |  1 | 0 | 0 | 0 | 0 | 0 | ⋯ | 0 | 0 | 0 | 0 | 0 | 0 | 1 | 0 | 0 | 1 |\n",
       "| 73 | 10810 | 4 |  3 |  3 | 0 | 0 | 0 | 0 | 0 | ⋯ | 0 | 0 | 1 | 0 | 0 | 0 | 0 | 1 | 0 | 1 |\n",
       "| 75 | 10551 | 4 | 13 | 13 | 0 | 0 | 0 | 0 | 2 | ⋯ | 0 | 0 | 1 | 0 | 0 | 0 | 0 | 1 | 0 | 1 |\n",
       "| 77 | 10796 | 0 |  1 |  1 | 0 | 0 | 0 | 0 | 0 | ⋯ | 0 | 0 | 1 | 0 | 0 | 0 | 0 | 1 | 0 | 0 |\n",
       "| 81 | 10719 | 0 | 27 | 27 | 0 | 0 | 0 | 0 | 0 | ⋯ | 0 | 0 | 1 | 0 | 1 | 0 | 1 | 0 | 0 | 0 |\n",
       "| 82 | 10726 | 4 | 14 | 14 | 0 | 0 | 0 | 0 | 2 | ⋯ | 0 | 0 | 1 | 0 | 0 | 1 | 1 | 0 | 0 | 1 |\n",
       "| ⋮ | ⋮ | ⋮ | ⋮ | ⋮ | ⋮ | ⋮ | ⋮ | ⋮ | ⋮ | ⋱ | ⋮ | ⋮ | ⋮ | ⋮ | ⋮ | ⋮ | ⋮ | ⋮ | ⋮ | ⋮ |\n",
       "| 13829 | 10558 | 0 | 20 | 20 | 0 | 0 | 1 | 0 | 0 | ⋯ | 0 | 0 | 1 | 0 | 0 | 0 | 0 | 0 | 1 | 0 |\n",
       "| 13831 | 10852 | 4 | 27 | 27 | 0 | 0 | 1 | 0 | 0 | ⋯ | 0 | 0 | 1 | 0 | 1 | 0 | 0 | 0 | 1 | 1 |\n",
       "| 13842 | 10579 | 4 | 13 | 13 | 0 | 0 | 1 | 0 | 1 | ⋯ | 0 | 0 | 1 | 0 | 0 | 0 | 0 | 0 | 1 | 1 |\n",
       "| 13845 | 10796 | 0 |  1 |  1 | 1 | 0 | 1 | 0 | 1 | ⋯ | 0 | 0 | 0 | 0 | 0 | 1 | 1 | 0 | 0 | 0 |\n",
       "| 13846 | 10782 | 0 |  1 |  1 | 0 | 0 | 1 | 0 | 1 | ⋯ | 0 | 0 | 1 | 0 | 0 | 0 | 1 | 0 | 0 | 0 |\n",
       "| 13847 | 10579 | 4 | 16 | 16 | 0 | 0 | 1 | 0 | 2 | ⋯ | 0 | 0 | 0 | 0 | 0 | 0 | 0 | 0 | 1 | 1 |\n",
       "| 13854 | 10544 | 0 | 13 | 13 | 0 | 0 | 1 | 0 | 0 | ⋯ | 0 | 0 | 0 | 0 | 0 | 0 | 0 | 0 | 1 | 0 |\n",
       "| 13864 | 10628 | 0 | 10 | 10 | 0 | 0 | 1 | 0 | 0 | ⋯ | 0 | 0 | 0 | 0 | 1 | 0 | 0 | 0 | 1 | 0 |\n",
       "| 13872 | 10593 | 4 |  1 |  1 | 0 | 0 | 1 | 0 | 0 | ⋯ | 0 | 0 | 1 | 0 | 0 | 1 | 1 | 0 | 0 | 1 |\n",
       "| 13873 | 10593 | 4 |  2 |  2 | 0 | 0 | 1 | 0 | 2 | ⋯ | 0 | 0 | 0 | 0 | 1 | 0 | 1 | 0 | 0 | 1 |\n",
       "| 13875 | 10712 | 0 | 22 | 22 | 0 | 0 | 1 | 0 | 2 | ⋯ | 0 | 0 | 1 | 0 | 0 | 1 | 0 | 0 | 1 | 0 |\n",
       "| 13876 | 10768 | 0 | 27 | 27 | 0 | 0 | 1 | 0 | 0 | ⋯ | 0 | 0 | 1 | 0 | 1 | 0 | 0 | 0 | 1 | 0 |\n",
       "| 13877 | 10817 | 0 | 16 | 16 | 1 | 0 | 1 | 0 | 0 | ⋯ | 0 | 0 | 0 | 0 | 0 | 0 | 0 | 0 | 1 | 0 |\n",
       "| 13880 | 10572 | 4 | 17 | 17 | 0 | 0 | 1 | 0 | 2 | ⋯ | 0 | 0 | 0 | 0 | 0 | 0 | 0 | 0 | 1 | 1 |\n",
       "| 13883 | 10845 | 4 |  2 |  2 | 1 | 0 | 1 | 0 | 1 | ⋯ | 0 | 0 | 1 | 0 | 0 | 1 | 0 | 0 | 1 | 1 |\n",
       "| 13888 | 10642 | 0 | 10 | 10 | 0 | 0 | 0 | 0 | 0 | ⋯ | 0 | 0 | 1 | 0 | 1 | 0 | 1 | 0 | 0 | 0 |\n",
       "| 13891 | 10670 | 0 | 20 | 20 | 0 | 0 | 0 | 0 | 0 | ⋯ | 0 | 0 | 1 | 0 | 1 | 0 | 0 | 1 | 0 | 0 |\n",
       "| 13892 | 10530 | 0 | 27 | 27 | 1 | 0 | 0 | 1 | 0 | ⋯ | 0 | 0 | 1 | 0 | 0 | 0 | 0 | 0 | 1 | 0 |\n",
       "| 13893 | 10691 | 0 | 27 | 27 | 1 | 0 | 0 | 1 | 0 | ⋯ | 0 | 0 | 0 | 0 | 1 | 0 | 1 | 0 | 0 | 0 |\n",
       "| 13894 | 10796 | 0 | 15 | 15 | 1 | 0 | 0 | 1 | 0 | ⋯ | 0 | 0 | 1 | 0 | 1 | 0 | 1 | 0 | 0 | 0 |\n",
       "| 13895 | 10635 | 4 | 20 | 20 | 0 | 0 | 0 | 1 | 0 | ⋯ | 0 | 0 | 1 | 0 | 0 | 0 | 0 | 0 | 1 | 1 |\n",
       "| 13896 | 10859 | 0 |  1 |  1 | 1 | 0 | 0 | 1 | 0 | ⋯ | 1 | 0 | 1 | 0 | 0 | 0 | 1 | 0 | 0 | 0 |\n",
       "| 13899 | 10796 | 0 | 23 | 23 | 0 | 1 | 0 | 0 | 0 | ⋯ | 0 | 0 | 0 | 0 | 0 | 0 | 0 | 0 | 1 | 0 |\n",
       "| 13900 | 10740 | 4 | 13 | 13 | 1 | 1 | 0 | 0 | 0 | ⋯ | 0 | 1 | 1 | 0 | 0 | 0 | 1 | 0 | 0 | 1 |\n",
       "| 13901 | 10845 | 0 |  6 |  6 | 1 | 0 | 0 | 1 | 2 | ⋯ | 0 | 0 | 0 | 0 | 0 | 1 | 0 | 0 | 1 | 0 |\n",
       "| 13905 | 10628 | 4 | 10 | 10 | 0 | 0 | 1 | 0 | 0 | ⋯ | 0 | 0 | 1 | 0 | 0 | 0 | 0 | 0 | 1 | 1 |\n",
       "| 13906 | 10523 | 4 |  4 |  4 | 0 | 0 | 1 | 0 | 2 | ⋯ | 0 | 0 | 0 | 0 | 0 | 0 | 0 | 0 | 1 | 1 |\n",
       "| 13907 | 10558 | 0 |  9 |  9 | 0 | 0 | 0 | 0 | 2 | ⋯ | 0 | 0 | 1 | 0 | 0 | 0 | 1 | 0 | 0 | 0 |\n",
       "| 13911 | 10817 | 4 |  4 |  4 | 0 | 0 | 0 | 0 | 0 | ⋯ | 0 | 0 | 0 | 1 | 0 | 0 | 0 | 0 | 0 | 1 |\n",
       "| 13912 | 10691 | 0 | 27 | 27 | 0 | 0 | 0 | 0 | 0 | ⋯ | 0 | 0 | 0 | 1 | 1 | 0 | 1 | 0 | 0 | 0 |\n",
       "\n"
      ],
      "text/plain": [
       "     ...1  abdt  tg inuidur1 inuidur2 female black hispanic othrace dep ⋯ q6\n",
       "1     1    10824 0  18       18       0      0     0        0       2   ⋯ 0 \n",
       "2     4    10824 0   1        1       0      0     0        0       0   ⋯ 0 \n",
       "3     5    10747 0  27       27       0      0     0        0       0   ⋯ 0 \n",
       "4    12    10607 4   9        9       0      0     0        0       0   ⋯ 0 \n",
       "5    13    10831 0  27       27       0      0     0        0       1   ⋯ 0 \n",
       "6    14    10845 0  27       27       1      0     0        0       0   ⋯ 0 \n",
       "7    15    10831 0   9        9       1      0     0        0       1   ⋯ 0 \n",
       "8    17    10859 0  27       27       1      0     0        0       1   ⋯ 1 \n",
       "9    23    10516 0  15       15       1      0     0        0       0   ⋯ 0 \n",
       "10   25    10663 0  28       11       1      0     0        0       0   ⋯ 0 \n",
       "11   26    10747 0  12       12       1      0     0        0       2   ⋯ 0 \n",
       "12   27    10551 4  22       22       1      0     1        0       2   ⋯ 0 \n",
       "13   32    10768 0  18       18       1      0     0        0       0   ⋯ 0 \n",
       "14   33    10537 0   1        1       1      0     0        0       2   ⋯ 0 \n",
       "15   39    10600 4   7        7       1      0     0        0       0   ⋯ 0 \n",
       "16   43    10866 0  18       18       0      0     0        0       0   ⋯ 1 \n",
       "17   49    10572 0  14       14       0      0     0        0       2   ⋯ 0 \n",
       "18   50    10663 0   5        5       0      0     0        0       0   ⋯ 0 \n",
       "19   58    10789 0   9        9       0      0     0        0       0   ⋯ 0 \n",
       "20   59    10768 0   3        3       0      1     0        0       0   ⋯ 0 \n",
       "21   60    10649 0  27       27       0      0     0        0       1   ⋯ 0 \n",
       "22   61    10670 4  27       27       1      0     0        0       2   ⋯ 0 \n",
       "23   63    10796 0  10       10       0      0     0        0       0   ⋯ 0 \n",
       "24   65    10558 0  25       25       0      0     1        0       2   ⋯ 0 \n",
       "25   72    10831 4   1        1       0      0     0        0       0   ⋯ 0 \n",
       "26   73    10810 4   3        3       0      0     0        0       0   ⋯ 0 \n",
       "27   75    10551 4  13       13       0      0     0        0       2   ⋯ 0 \n",
       "28   77    10796 0   1        1       0      0     0        0       0   ⋯ 0 \n",
       "29   81    10719 0  27       27       0      0     0        0       0   ⋯ 0 \n",
       "30   82    10726 4  14       14       0      0     0        0       2   ⋯ 0 \n",
       "⋮    ⋮     ⋮     ⋮  ⋮        ⋮        ⋮      ⋮     ⋮        ⋮       ⋮   ⋱ ⋮ \n",
       "5070 13829 10558 0  20       20       0      0     1        0       0   ⋯ 0 \n",
       "5071 13831 10852 4  27       27       0      0     1        0       0   ⋯ 0 \n",
       "5072 13842 10579 4  13       13       0      0     1        0       1   ⋯ 0 \n",
       "5073 13845 10796 0   1        1       1      0     1        0       1   ⋯ 0 \n",
       "5074 13846 10782 0   1        1       0      0     1        0       1   ⋯ 0 \n",
       "5075 13847 10579 4  16       16       0      0     1        0       2   ⋯ 0 \n",
       "5076 13854 10544 0  13       13       0      0     1        0       0   ⋯ 0 \n",
       "5077 13864 10628 0  10       10       0      0     1        0       0   ⋯ 0 \n",
       "5078 13872 10593 4   1        1       0      0     1        0       0   ⋯ 0 \n",
       "5079 13873 10593 4   2        2       0      0     1        0       2   ⋯ 0 \n",
       "5080 13875 10712 0  22       22       0      0     1        0       2   ⋯ 0 \n",
       "5081 13876 10768 0  27       27       0      0     1        0       0   ⋯ 0 \n",
       "5082 13877 10817 0  16       16       1      0     1        0       0   ⋯ 0 \n",
       "5083 13880 10572 4  17       17       0      0     1        0       2   ⋯ 0 \n",
       "5084 13883 10845 4   2        2       1      0     1        0       1   ⋯ 0 \n",
       "5085 13888 10642 0  10       10       0      0     0        0       0   ⋯ 0 \n",
       "5086 13891 10670 0  20       20       0      0     0        0       0   ⋯ 0 \n",
       "5087 13892 10530 0  27       27       1      0     0        1       0   ⋯ 0 \n",
       "5088 13893 10691 0  27       27       1      0     0        1       0   ⋯ 0 \n",
       "5089 13894 10796 0  15       15       1      0     0        1       0   ⋯ 0 \n",
       "5090 13895 10635 4  20       20       0      0     0        1       0   ⋯ 0 \n",
       "5091 13896 10859 0   1        1       1      0     0        1       0   ⋯ 1 \n",
       "5092 13899 10796 0  23       23       0      1     0        0       0   ⋯ 0 \n",
       "5093 13900 10740 4  13       13       1      1     0        0       0   ⋯ 0 \n",
       "5094 13901 10845 0   6        6       1      0     0        1       2   ⋯ 0 \n",
       "5095 13905 10628 4  10       10       0      0     1        0       0   ⋯ 0 \n",
       "5096 13906 10523 4   4        4       0      0     1        0       2   ⋯ 0 \n",
       "5097 13907 10558 0   9        9       0      0     0        0       2   ⋯ 0 \n",
       "5098 13911 10817 4   4        4       0      0     0        0       0   ⋯ 0 \n",
       "5099 13912 10691 0  27       27       0      0     0        0       0   ⋯ 0 \n",
       "     recall agelt35 agegt54 durable nondurable lusd husd muld T4\n",
       "1    0      0       0       0       0          0    1    0    0 \n",
       "2    0      0       0       0       0          1    0    0    0 \n",
       "3    0      0       0       0       0          1    0    0    0 \n",
       "4    0      1       0       0       0          0    0    1    1 \n",
       "5    0      0       1       1       0          1    0    0    0 \n",
       "6    0      0       1       0       0          1    0    0    0 \n",
       "7    0      0       1       0       0          1    0    0    0 \n",
       "8    0      0       0       0       0          1    0    0    0 \n",
       "9    0      0       0       0       0          1    0    0    0 \n",
       "10   0      0       1       0       0          1    0    0    0 \n",
       "11   1      1       0       0       0          0    0    1    0 \n",
       "12   0      1       0       0       0          0    0    1    1 \n",
       "13   0      0       1       0       0          0    0    1    0 \n",
       "14   0      0       0       0       0          0    0    1    0 \n",
       "15   0      0       0       0       0          1    0    0    1 \n",
       "16   0      0       0       1       0          1    0    0    0 \n",
       "17   0      0       0       0       0          1    0    0    0 \n",
       "18   0      0       1       0       0          1    0    0    0 \n",
       "19   0      0       0       0       1          1    0    0    0 \n",
       "20   0      0       0       0       0          0    0    1    0 \n",
       "21   0      1       0       0       0          0    1    0    0 \n",
       "22   1      0       0       0       0          0    0    1    1 \n",
       "23   0      1       0       0       0          0    1    0    0 \n",
       "24   1      1       0       0       0          1    0    0    0 \n",
       "25   0      0       0       0       0          1    0    0    1 \n",
       "26   0      1       0       0       0          0    1    0    1 \n",
       "27   0      1       0       0       0          0    1    0    1 \n",
       "28   0      1       0       0       0          0    1    0    0 \n",
       "29   0      1       0       1       0          1    0    0    0 \n",
       "30   0      1       0       0       1          1    0    0    1 \n",
       "⋮    ⋮      ⋮       ⋮       ⋮       ⋮          ⋮    ⋮    ⋮    ⋮ \n",
       "5070 0      1       0       0       0          0    0    1    0 \n",
       "5071 0      1       0       1       0          0    0    1    1 \n",
       "5072 0      1       0       0       0          0    0    1    1 \n",
       "5073 0      0       0       0       1          1    0    0    0 \n",
       "5074 0      1       0       0       0          1    0    0    0 \n",
       "5075 0      0       0       0       0          0    0    1    1 \n",
       "5076 0      0       0       0       0          0    0    1    0 \n",
       "5077 0      0       0       1       0          0    0    1    0 \n",
       "5078 0      1       0       0       1          1    0    0    1 \n",
       "5079 0      0       0       1       0          1    0    0    1 \n",
       "5080 0      1       0       0       1          0    0    1    0 \n",
       "5081 0      1       0       1       0          0    0    1    0 \n",
       "5082 0      0       0       0       0          0    0    1    0 \n",
       "5083 0      0       0       0       0          0    0    1    1 \n",
       "5084 0      1       0       0       1          0    0    1    1 \n",
       "5085 0      1       0       1       0          1    0    0    0 \n",
       "5086 0      1       0       1       0          0    1    0    0 \n",
       "5087 0      1       0       0       0          0    0    1    0 \n",
       "5088 0      0       0       1       0          1    0    0    0 \n",
       "5089 0      1       0       1       0          1    0    0    0 \n",
       "5090 0      1       0       0       0          0    0    1    1 \n",
       "5091 0      1       0       0       0          1    0    0    0 \n",
       "5092 0      0       0       0       0          0    0    1    0 \n",
       "5093 1      1       0       0       0          1    0    0    1 \n",
       "5094 0      0       0       0       1          0    0    1    0 \n",
       "5095 0      1       0       0       0          0    0    1    1 \n",
       "5096 0      0       0       0       0          0    0    1    1 \n",
       "5097 0      1       0       0       0          1    0    0    0 \n",
       "5098 0      0       1       0       0          0    0    0    1 \n",
       "5099 0      0       1       1       0          1    0    0    0 "
      ]
     },
     "metadata": {},
     "output_type": "display_data"
    }
   ],
   "source": [
    "n_data <- data %>% filter(tg == 0 | tg == 4)\n",
    "n_data <- n_data %>% mutate(T4 = as.integer(tg == 4))\n",
    "n_data"
   ]
  },
  {
   "cell_type": "markdown",
   "id": "4b559240",
   "metadata": {
    "id": "TrI2KTRA6W2r"
   },
   "source": [
    "### Define dependent and independent variable"
   ]
  },
  {
   "cell_type": "code",
   "execution_count": 65,
   "id": "8fd09021",
   "metadata": {
    "id": "EyqAaBGyeLKT",
    "vscode": {
     "languageId": "r"
    }
   },
   "outputs": [],
   "source": [
    "dependent_var <- log(n_data$inuidur1)\n",
    "independent_vars <- c('T4', 'female', 'black', 'othrace', 'dep',\n",
    "                      'q2', 'q3', 'q4', 'q5', 'q6', 'agelt35', 'agegt54',\n",
    "                      'durable', 'lusd', 'husd')\n"
   ]
  },
  {
   "cell_type": "markdown",
   "id": "d66ee310",
   "metadata": {
    "id": "1UCxq_2M6jsd"
   },
   "source": [
    "### Create the OLS formula"
   ]
  },
  {
   "cell_type": "code",
   "execution_count": 66,
   "id": "1eba63f0",
   "metadata": {
    "colab": {
     "base_uri": "https://localhost:8080/",
     "height": 53
    },
    "id": "l3xUHcaaeT4t",
    "outputId": "e025e28f-8a0e-4aa5-d42e-92be249e680d",
    "vscode": {
     "languageId": "r"
    }
   },
   "outputs": [
    {
     "data": {
      "text/plain": [
       "dependent_var ~ T4 + female + black + othrace + dep + q2 + q3 + \n",
       "    q4 + q5 + q6 + agelt35 + agegt54 + durable + lusd + husd"
      ]
     },
     "metadata": {},
     "output_type": "display_data"
    }
   ],
   "source": [
    "model_formula <- as.formula(paste(\"dependent_var ~\", paste(independent_vars, collapse = \" + \")))\n",
    "model_formula"
   ]
  },
  {
   "cell_type": "markdown",
   "id": "ea905b7c",
   "metadata": {
    "id": "W3GvJtzv6r4W"
   },
   "source": [
    "### Fit the initial model"
   ]
  },
  {
   "cell_type": "code",
   "execution_count": 67,
   "id": "86143d2e",
   "metadata": {
    "colab": {
     "base_uri": "https://localhost:8080/",
     "height": 596
    },
    "id": "ZOuCUrpueW-s",
    "outputId": "14cd9f0c-04f7-4bb0-b4f3-0b971edfc2bc",
    "vscode": {
     "languageId": "r"
    }
   },
   "outputs": [
    {
     "data": {
      "text/plain": [
       "\n",
       "Call:\n",
       "lm(formula = model_formula, data = n_data)\n",
       "\n",
       "Residuals:\n",
       "    Min      1Q  Median      3Q     Max \n",
       "-2.6195 -0.9966  0.3133  1.0400  2.0883 \n",
       "\n",
       "Coefficients:\n",
       "             Estimate Std. Error t value Pr(>|t|)    \n",
       "(Intercept)  2.178441   0.159001  13.701  < 2e-16 ***\n",
       "T4          -0.071659   0.035460  -2.021 0.043349 *  \n",
       "female       0.125810   0.034780   3.617 0.000301 ***\n",
       "black       -0.293971   0.052967  -5.550 3.00e-08 ***\n",
       "othrace     -0.470387   0.198281  -2.372 0.017713 *  \n",
       "dep          0.045993   0.022535   2.041 0.041308 *  \n",
       "q2           0.073251   0.156807   0.467 0.640420    \n",
       "q3          -0.039092   0.156454  -0.250 0.802704    \n",
       "q4          -0.055596   0.156534  -0.355 0.722478    \n",
       "q5          -0.144996   0.155854  -0.930 0.352243    \n",
       "q6           0.003035   0.166438   0.018 0.985453    \n",
       "agelt35     -0.162642   0.036960  -4.401 1.10e-05 ***\n",
       "agegt54      0.227801   0.058892   3.868 0.000111 ***\n",
       "durable      0.126551   0.048142   2.629 0.008597 ** \n",
       "lusd        -0.175602   0.040972  -4.286 1.85e-05 ***\n",
       "husd        -0.105557   0.044893  -2.351 0.018746 *  \n",
       "---\n",
       "Signif. codes:  0 ‘***’ 0.001 ‘**’ 0.01 ‘*’ 0.05 ‘.’ 0.1 ‘ ’ 1\n",
       "\n",
       "Residual standard error: 1.199 on 5083 degrees of freedom\n",
       "Multiple R-squared:  0.02912,\tAdjusted R-squared:  0.02625 \n",
       "F-statistic: 10.16 on 15 and 5083 DF,  p-value: < 2.2e-16\n"
      ]
     },
     "metadata": {},
     "output_type": "display_data"
    }
   ],
   "source": [
    "model <- lm(model_formula, data = n_data)\n",
    "summary(model)"
   ]
  },
  {
   "cell_type": "markdown",
   "id": "236751db",
   "metadata": {
    "id": "HvCyc3XP6wTC"
   },
   "source": [
    "### Save the results from the original model"
   ]
  },
  {
   "cell_type": "code",
   "execution_count": 69,
   "id": "c8f4bbbf",
   "metadata": {
    "id": "zzMZyDO7ed2t",
    "vscode": {
     "languageId": "r"
    }
   },
   "outputs": [],
   "source": [
    "og_results <- tibble(\n",
    "  Variable = c('T4', 'female', 'black'),\n",
    "  Estimate = coef(model)[c('T4', 'female', 'black')],\n",
    "  `Std. Error` = summary(model)$coefficients[c('T4', 'female', 'black'), 'Std. Error']\n",
    ")"
   ]
  },
  {
   "cell_type": "markdown",
   "id": "c7d4ca66",
   "metadata": {
    "id": "IMgKht3L611H"
   },
   "source": [
    "### Create bootstrapping function"
   ]
  },
  {
   "cell_type": "code",
   "execution_count": 74,
   "id": "e955565d",
   "metadata": {
    "id": "SkSe9cBNfLtF",
    "vscode": {
     "languageId": "r"
    }
   },
   "outputs": [],
   "source": [
    "boot_fn <- function(data, index)\n",
    " coef(model_formula,n_data,subset= index))"
   ]
  },
  {
   "cell_type": "markdown",
   "id": "55fd5a78",
   "metadata": {
    "id": "Z3Zhto8-7DgC"
   },
   "source": [
    "###Iterate the bootstrapping 1000 times"
   ]
  },
  {
   "cell_type": "code",
   "execution_count": 81,
   "id": "6ab93e97",
   "metadata": {
    "colab": {
     "base_uri": "https://localhost:8080/",
     "height": 488
    },
    "id": "D3sW7x0tfg36",
    "outputId": "00cf4a47-9071-4091-dcec-5ab7dbcfe885",
    "vscode": {
     "languageId": "r"
    }
   },
   "outputs": [
    {
     "data": {
      "text/plain": [
       "\n",
       "ORDINARY NONPARAMETRIC BOOTSTRAP\n",
       "\n",
       "\n",
       "Call:\n",
       "boot(data = n_data, statistic = boot.fn, R = 1000)\n",
       "\n",
       "\n",
       "Bootstrap Statistics :\n",
       "         original        bias    std. error\n",
       "t1*   2.178440628  1.232648e-03  0.15443488\n",
       "t2*  -0.071658908 -4.025497e-04  0.03557617\n",
       "t3*   0.125810490  8.623276e-04  0.03523702\n",
       "t4*  -0.293970722  5.426950e-04  0.06036912\n",
       "t5*  -0.470387346 -5.598168e-03  0.24319471\n",
       "t6*   0.045993486 -4.154231e-04  0.02208736\n",
       "t7*   0.073250572 -1.135168e-03  0.15207547\n",
       "t8*  -0.039092037 -4.110129e-04  0.14976631\n",
       "t9*  -0.055596066 -8.839347e-04  0.15078820\n",
       "t10* -0.144996201 -1.589444e-03  0.14980279\n",
       "t11*  0.003034724 -3.793215e-03  0.16119971\n",
       "t12* -0.162642268  1.750767e-03  0.03820420\n",
       "t13*  0.227801007  3.562052e-04  0.05779681\n",
       "t14*  0.126550597  5.074714e-05  0.04853301\n",
       "t15* -0.175602274 -6.350185e-04  0.04096166\n",
       "t16* -0.105557232 -7.278585e-04  0.04516640"
      ]
     },
     "metadata": {},
     "output_type": "display_data"
    }
   ],
   "source": [
    "set.seed(1)\n",
    "results <- boot(n_data,boot_fn, R = 1000)\n",
    "results"
   ]
  },
  {
   "cell_type": "markdown",
   "id": "310ce4f9",
   "metadata": {
    "id": "ddDR4KC97NN8"
   },
   "source": [
    "### Saving the results of the bootstrap"
   ]
  },
  {
   "cell_type": "code",
   "execution_count": 101,
   "id": "6cea3cc6",
   "metadata": {
    "id": "AlQAbdzUdf26",
    "vscode": {
     "languageId": "r"
    }
   },
   "outputs": [],
   "source": [
    "mean_t4 <- mean(results$t[, 2])\n",
    "mean_female <- mean(results$t[, 3])\n",
    "mean_black <- mean(results$t[, 4])"
   ]
  },
  {
   "cell_type": "code",
   "execution_count": 102,
   "id": "92f4d8a5",
   "metadata": {
    "id": "je6TfJWWfvrn",
    "vscode": {
     "languageId": "r"
    }
   },
   "outputs": [],
   "source": [
    "se_t4 <- sd(results$t[, 2])\n",
    "se_female <- sd(results$t[, 3])\n",
    "se_black <- sd(results$t[, 4])"
   ]
  },
  {
   "cell_type": "code",
   "execution_count": 103,
   "id": "e028e507",
   "metadata": {
    "id": "joGEd4Q1dlaz",
    "vscode": {
     "languageId": "r"
    }
   },
   "outputs": [],
   "source": [
    "boot_results <- tibble(\n",
    "  Variable = c('t4', 'female', 'black'),\n",
    "  `Bootstrap Estimate` = c(mean_t4, mean_female, mean_black),\n",
    "  `Bootstrap Std. Error` = c(se_t4, se_female, se_black)\n",
    ")\n"
   ]
  },
  {
   "cell_type": "code",
   "execution_count": 104,
   "id": "a3da5f87",
   "metadata": {
    "colab": {
     "base_uri": "https://localhost:8080/"
    },
    "id": "Vl1eNFX1dnMQ",
    "outputId": "8dfc1abe-8ad3-49a9-9a2d-2a13b877a3ef",
    "vscode": {
     "languageId": "r"
    }
   },
   "outputs": [
    {
     "name": "stdout",
     "output_type": "stream",
     "text": [
      "[1] \"Original Model Results\"\n",
      "\u001b[90m# A tibble: 3 × 3\u001b[39m\n",
      "  Variable Estimate `Std. Error`\n",
      "  \u001b[3m\u001b[90m<chr>\u001b[39m\u001b[23m       \u001b[3m\u001b[90m<dbl>\u001b[39m\u001b[23m        \u001b[3m\u001b[90m<dbl>\u001b[39m\u001b[23m\n",
      "\u001b[90m1\u001b[39m T4        -\u001b[31m0\u001b[39m\u001b[31m.\u001b[39m\u001b[31m0\u001b[39m\u001b[31m71\u001b[4m7\u001b[24m\u001b[39m       0.035\u001b[4m5\u001b[24m\n",
      "\u001b[90m2\u001b[39m female     0.126        0.034\u001b[4m8\u001b[24m\n",
      "\u001b[90m3\u001b[39m black     -\u001b[31m0\u001b[39m\u001b[31m.\u001b[39m\u001b[31m294\u001b[39m        0.053\u001b[4m0\u001b[24m\n",
      "[1] \"\\nBootstrap Results\"\n",
      "\u001b[90m# A tibble: 3 × 3\u001b[39m\n",
      "  Variable `Bootstrap Estimate` `Bootstrap Std. Error`\n",
      "  \u001b[3m\u001b[90m<chr>\u001b[39m\u001b[23m                   \u001b[3m\u001b[90m<dbl>\u001b[39m\u001b[23m                  \u001b[3m\u001b[90m<dbl>\u001b[39m\u001b[23m\n",
      "\u001b[90m1\u001b[39m t4                    -\u001b[31m0\u001b[39m\u001b[31m.\u001b[39m\u001b[31m0\u001b[39m\u001b[31m72\u001b[4m1\u001b[24m\u001b[39m                 0.035\u001b[4m6\u001b[24m\n",
      "\u001b[90m2\u001b[39m female                 0.127                  0.035\u001b[4m2\u001b[24m\n",
      "\u001b[90m3\u001b[39m black                 -\u001b[31m0\u001b[39m\u001b[31m.\u001b[39m\u001b[31m293\u001b[39m                  0.060\u001b[4m4\u001b[24m\n"
     ]
    }
   ],
   "source": [
    "print(\"Original Model Results\")\n",
    "print(og_results)\n",
    "print(\"\\nBootstrap Results\")\n",
    "print(boot_results)"
   ]
  },
  {
   "cell_type": "markdown",
   "id": "9090eab0-6a81-49fb-9e67-fbdffd2909f1",
   "metadata": {},
   "source": [
    "# Preg. 2"
   ]
  },
  {
   "cell_type": "code",
   "execution_count": null,
   "id": "2b0f5e58-3962-49bf-a901-873e981de32c",
   "metadata": {
    "vscode": {
     "languageId": "r"
    }
   },
   "outputs": [],
   "source": [
    "#install.packages(\"grf\")\n",
    "#install.packages(\"Hmisc\")"
   ]
  },
  {
   "cell_type": "markdown",
   "id": "7856b08a-ee68-4d04-ae90-9db2f8ad3228",
   "metadata": {},
   "source": [
    "####  How the tree was built? \n",
    "This code uses the grf package in R to estimate causal effects by constructing a causal tree. First, the data is loaded and prepared, converting categorical variables into factors and creating dummy variables. Then, regression forests are fitted to predict the outcome (Y) and treatment (W) variables, considering the cluster structure (schools) and ensuring equal weights for each cluster. With these predictions (Y.hat and W.hat), an initial causal forest is constructed to calculate variable importance. Only variables with above-average importance are selected to build the final causal forest, tuning all parameters. Finally, treatment effect predictions (tau.hat) are obtained from the fine-tuned causal tree. \n"
   ]
  },
  {
   "cell_type": "code",
   "execution_count": 38,
   "id": "005349b2-93df-4878-809e-8ddd29eb455f",
   "metadata": {
    "vscode": {
     "languageId": "r"
    }
   },
   "outputs": [
    {
     "data": {
      "text/plain": [
       "\n",
       "Call:\n",
       "glm(formula = Z ~ ., family = binomial, data = data.all[, -3])\n",
       "\n",
       "Coefficients: (6 not defined because of singularities)\n",
       "              Estimate Std. Error z value Pr(>|z|)    \n",
       "(Intercept) -0.9524636  0.2845173  -3.348 0.000815 ***\n",
       "schoolid2    0.0697302  0.2766287   0.252 0.800986    \n",
       "schoolid3    0.0382080  0.2911323   0.131 0.895586    \n",
       "schoolid4    0.1761334  0.2784711   0.633 0.527059    \n",
       "schoolid5   -0.0033389  0.2950180  -0.011 0.990970    \n",
       "schoolid6    0.0583548  0.3067481   0.190 0.849124    \n",
       "schoolid7   -0.1313759  0.3188190  -0.412 0.680288    \n",
       "schoolid8    0.1233661  0.3023736   0.408 0.683279    \n",
       "schoolid9   -0.1955428  0.3073344  -0.636 0.524611    \n",
       "schoolid10  -0.1892794  0.2968750  -0.638 0.523752    \n",
       "schoolid11  -0.2224060  0.5461005  -0.407 0.683816    \n",
       "schoolid12  -0.3312420  0.5414374  -0.612 0.540682    \n",
       "schoolid13  -0.0408540  0.3989507  -0.102 0.918436    \n",
       "schoolid14  -0.8681934  0.6033674  -1.439 0.150175    \n",
       "schoolid15  -0.1059135  0.3263162  -0.325 0.745504    \n",
       "schoolid16  -0.1063268  0.2885387  -0.369 0.712500    \n",
       "schoolid17   0.0854323  0.3119435   0.274 0.784184    \n",
       "schoolid18  -0.1924441  0.2997822  -0.642 0.520908    \n",
       "schoolid19  -0.0265326  0.3229712  -0.082 0.934526    \n",
       "schoolid20  -0.2179554  0.3041336  -0.717 0.473594    \n",
       "schoolid21  -0.2147440  0.2982822  -0.720 0.471565    \n",
       "schoolid22  -0.5115966  0.4410779  -1.160 0.246098    \n",
       "schoolid23   0.0039231  0.3475373   0.011 0.990994    \n",
       "schoolid24  -0.0848314  0.3259572  -0.260 0.794668    \n",
       "schoolid25   0.0521087  0.2754586   0.189 0.849959    \n",
       "schoolid26   0.0241212  0.2876511   0.084 0.933171    \n",
       "schoolid27  -0.2300630  0.3104796  -0.741 0.458698    \n",
       "schoolid28  -0.3519010  0.2924774  -1.203 0.228909    \n",
       "schoolid29  -0.2198764  0.3293288  -0.668 0.504357    \n",
       "schoolid30  -0.3146292  0.3257994  -0.966 0.334187    \n",
       "schoolid31   0.1398555  0.6137901   0.228 0.819759    \n",
       "schoolid32   0.1555524  0.3916156   0.397 0.691215    \n",
       "schoolid33  -0.0991693  0.3939370  -0.252 0.801243    \n",
       "schoolid34  -0.0073688  0.2980808  -0.025 0.980278    \n",
       "schoolid35  -0.3528987  0.3997273  -0.883 0.377318    \n",
       "schoolid36  -0.3751465  0.3988972  -0.940 0.346982    \n",
       "schoolid37  -0.0343169  0.3219646  -0.107 0.915117    \n",
       "schoolid38  -0.1346432  0.3851869  -0.350 0.726674    \n",
       "schoolid39  -0.4339936  0.3612869  -1.201 0.229657    \n",
       "schoolid40  -0.3993958  0.3834495  -1.042 0.297604    \n",
       "schoolid41  -0.1490784  0.3542105  -0.421 0.673846    \n",
       "schoolid42  -0.1545715  0.3551857  -0.435 0.663428    \n",
       "schoolid43  -0.5679567  0.4277455  -1.328 0.184247    \n",
       "schoolid44  -0.1425896  0.3774795  -0.378 0.705623    \n",
       "schoolid45  -0.1337888  0.3232493  -0.414 0.678957    \n",
       "schoolid46  -0.2573249  0.3129119  -0.822 0.410874    \n",
       "schoolid47   0.0027726  0.2770108   0.010 0.992014    \n",
       "schoolid48  -0.3406079  0.3470361  -0.981 0.326358    \n",
       "schoolid49  -0.3236117  0.3434541  -0.942 0.346077    \n",
       "schoolid50  -0.1185119  0.4086074  -0.290 0.771787    \n",
       "schoolid51   0.4087898  0.4506822   0.907 0.364382    \n",
       "schoolid52  -0.3144014  0.4118342  -0.763 0.445214    \n",
       "schoolid53  -0.2733677  0.4511280  -0.606 0.544538    \n",
       "schoolid54  -0.0889588  0.3872532  -0.230 0.818311    \n",
       "schoolid55  -0.1558106  0.4155020  -0.375 0.707665    \n",
       "schoolid56   0.1050353  0.3149235   0.334 0.738737    \n",
       "schoolid57  -0.0314901  0.2901719  -0.109 0.913581    \n",
       "schoolid58  -0.0383183  0.2730077  -0.140 0.888379    \n",
       "schoolid59  -0.0529637  0.2934895  -0.180 0.856790    \n",
       "schoolid60  -0.1624792  0.3972885  -0.409 0.682561    \n",
       "schoolid61  -0.0289549  0.3201953  -0.090 0.927946    \n",
       "schoolid62   0.0993158  0.2669678   0.372 0.709882    \n",
       "schoolid63   0.1684702  0.3282167   0.513 0.607749    \n",
       "schoolid64  -0.0693060  0.2770896  -0.250 0.802493    \n",
       "schoolid65  -0.0004197  0.4072922  -0.001 0.999178    \n",
       "schoolid66  -0.2130911  0.2984091  -0.714 0.475171    \n",
       "schoolid67   0.0358440  0.2921158   0.123 0.902341    \n",
       "schoolid68  -0.0871303  0.3290814  -0.265 0.791188    \n",
       "schoolid69  -0.2550387  0.2908992  -0.877 0.380636    \n",
       "schoolid70  -0.0268947  0.4032160  -0.067 0.946820    \n",
       "schoolid71   0.0037464  0.4268290   0.009 0.992997    \n",
       "schoolid72  -0.1304085  0.2881512  -0.453 0.650859    \n",
       "schoolid73  -0.2160697  0.2840030  -0.761 0.446776    \n",
       "schoolid74  -0.0935320  0.2842612  -0.329 0.742129    \n",
       "schoolid75  -0.1056241  0.3024204  -0.349 0.726892    \n",
       "schoolid76  -0.1052261  0.2939262  -0.358 0.720342    \n",
       "S3           0.1036077  0.0197345   5.250 1.52e-07 ***\n",
       "C1          -0.0015919  0.0053900  -0.295 0.767728    \n",
       "C2          -0.1038596  0.0424020  -2.449 0.014309 *  \n",
       "C3          -0.1319218  0.0461833  -2.856 0.004284 ** \n",
       "XC                  NA         NA      NA       NA    \n",
       "X1                  NA         NA      NA       NA    \n",
       "X2                  NA         NA      NA       NA    \n",
       "X3                  NA         NA      NA       NA    \n",
       "X4                  NA         NA      NA       NA    \n",
       "X5                  NA         NA      NA       NA    \n",
       "---\n",
       "Signif. codes:  0 '***' 0.001 '**' 0.01 '*' 0.05 '.' 0.1 ' ' 1\n",
       "\n",
       "(Dispersion parameter for binomial family taken to be 1)\n",
       "\n",
       "    Null deviance: 13115  on 10390  degrees of freedom\n",
       "Residual deviance: 13009  on 10311  degrees of freedom\n",
       "AIC: 13169\n",
       "\n",
       "Number of Fisher Scoring iterations: 4\n"
      ]
     },
     "metadata": {},
     "output_type": "display_data"
    }
   ],
   "source": [
    "set.seed(1)\n",
    "\n",
    "rm(list = ls())\n",
    "\n",
    "library(grf)\n",
    "if(packageVersion(\"grf\") < '0.10.2') {\n",
    "  warning(\"This script requires grf 0.10.2 or higher\")\n",
    "}\n",
    "library(sandwich)\n",
    "library(lmtest)\n",
    "library(Hmisc)\n",
    "library(ggplot2)\n",
    "\n",
    "data.all = read.csv(\"synthetic_data.csv\")\n",
    "data.all$schoolid = factor(data.all$schoolid)\n",
    "\n",
    "DF = data.all[,-1]\n",
    "school.id = as.numeric(data.all$schoolid)\n",
    "\n",
    "school.mat = model.matrix(~ schoolid + 0, data = data.all)\n",
    "school.size = colSums(school.mat)\n",
    "\n",
    "# It appears that school ID does not affect pscore. So ignore it\n",
    "# in modeling, and just treat it as source of per-cluster error.\n",
    "w.lm = glm(Z ~ ., data = data.all[,-3], family = binomial)\n",
    "summary(w.lm)\n",
    "\n",
    "\n",
    "W = DF$Z\n",
    "Y = DF$Y\n",
    "X.raw = DF[,-(1:2)]\n",
    "\n",
    "C1.exp = model.matrix(~ factor(X.raw$C1) + 0)\n",
    "XC.exp = model.matrix(~ factor(X.raw$XC) + 0)\n",
    "\n",
    "X = cbind(X.raw[,-which(names(X.raw) %in% c(\"C1\", \"XC\"))], C1.exp, XC.exp)\n",
    "\n",
    "# Grow a forest. Add extra trees for the causal forest.\n",
    "Y.forest = regression_forest(X, Y, clusters = school.id, equalize.cluster.weights = TRUE)\n",
    "Y.hat = predict(Y.forest)$predictions\n",
    "W.forest = regression_forest(X, W, clusters = school.id, equalize.cluster.weights = TRUE)\n",
    "W.hat = predict(W.forest)$predictions\n",
    "\n",
    "cf.raw = causal_forest(X, Y, W,\n",
    "                       Y.hat = Y.hat, W.hat = W.hat,\n",
    "                       clusters = school.id,\n",
    "                       equalize.cluster.weights = TRUE)\n",
    "varimp = variable_importance(cf.raw)\n",
    "selected.idx = which(varimp > mean(varimp))\n",
    "\n",
    "cf = causal_forest(X[,selected.idx], Y, W,\n",
    "                   Y.hat = Y.hat, W.hat = W.hat,\n",
    "                   clusters = school.id,\n",
    "                   equalize.cluster.weights = TRUE,\n",
    "                   tune.parameters = \"all\")\n",
    "tau.hat = predict(cf)$predictions\n",
    "\n"
   ]
  },
  {
   "cell_type": "markdown",
   "id": "30234df7-7363-46d5-8dec-cd1efa4b2e61",
   "metadata": {},
   "source": [
    "#### Estimate ATE"
   ]
  },
  {
   "cell_type": "code",
   "execution_count": 39,
   "id": "81f045bf-cd96-4732-b066-7ca55df78bb3",
   "metadata": {
    "vscode": {
     "languageId": "r"
    }
   },
   "outputs": [
    {
     "data": {
      "text/html": [
       "'95% CI for the ATE: 0.248 +/- 0.04'"
      ],
      "text/latex": [
       "'95\\% CI for the ATE: 0.248 +/- 0.04'"
      ],
      "text/markdown": [
       "'95% CI for the ATE: 0.248 +/- 0.04'"
      ],
      "text/plain": [
       "[1] \"95% CI for the ATE: 0.248 +/- 0.04\""
      ]
     },
     "metadata": {},
     "output_type": "display_data"
    }
   ],
   "source": [
    "ATE = average_treatment_effect(cf)\n",
    "paste(\"95% CI for the ATE:\", round(ATE[1], 3),\n",
    "      \"+/-\", round(qnorm(0.975) * ATE[2], 3))"
   ]
  },
  {
   "cell_type": "markdown",
   "id": "57e6b107-4633-4f43-ac8a-4974706f1a91",
   "metadata": {},
   "source": [
    "With the tuned parameters, we estimate the average treatment effect (ATE) that is 0.226 and has a confidence interval (+/-0.0485) with a 95/% confidence. This means that the effect of the treatment or the intervetion related to the growth mind set had a positive and significant impact on the measure of achievement of the students on average."
   ]
  },
  {
   "cell_type": "markdown",
   "id": "74a22b43-480b-4fc0-bc09-ff293052ce7c",
   "metadata": {},
   "source": [
    "### Run best linear predictor analysis\n"
   ]
  },
  {
   "cell_type": "code",
   "execution_count": 40,
   "id": "48a4cbf0-9afc-4e53-9885-5d692e76db04",
   "metadata": {
    "vscode": {
     "languageId": "r"
    }
   },
   "outputs": [
    {
     "data": {
      "text/plain": [
       "\n",
       "Best linear fit using forest predictions (on held-out data)\n",
       "as well as the mean forest prediction as regressors, along\n",
       "with one-sided heteroskedasticity-robust (HC3) SEs:\n",
       "\n",
       "                               Estimate Std. Error t value Pr(>t)    \n",
       "mean.forest.prediction         0.992560   0.082569 12.0210 <2e-16 ***\n",
       "differential.forest.prediction 0.275835   0.616262  0.4476 0.3272    \n",
       "---\n",
       "Signif. codes:  0 '***' 0.001 '**' 0.01 '*' 0.05 '.' 0.1 ' ' 1\n"
      ]
     },
     "metadata": {},
     "output_type": "display_data"
    },
    {
     "data": {
      "text/html": [
       "'95% CI for difference in ATE: 0.037 +/- 0.073'"
      ],
      "text/latex": [
       "'95\\% CI for difference in ATE: 0.037 +/- 0.073'"
      ],
      "text/markdown": [
       "'95% CI for difference in ATE: 0.037 +/- 0.073'"
      ],
      "text/plain": [
       "[1] \"95% CI for difference in ATE: 0.037 +/- 0.073\""
      ]
     },
     "metadata": {},
     "output_type": "display_data"
    },
    {
     "data": {
      "text/plain": [
       "\n",
       "\tWelch Two Sample t-test\n",
       "\n",
       "data:  school.score[high.X1] and school.score[!high.X1]\n",
       "t = -3.0796, df = 71.402, p-value = 0.002942\n",
       "alternative hypothesis: true difference in means is not equal to 0\n",
       "95 percent confidence interval:\n",
       " -0.19481996 -0.04169622\n",
       "sample estimates:\n",
       "mean of x mean of y \n",
       "0.1885602 0.3068183 \n"
      ]
     },
     "metadata": {},
     "output_type": "display_data"
    },
    {
     "data": {
      "text/plain": [
       "\n",
       "\tWelch Two Sample t-test\n",
       "\n",
       "data:  school.score[high.X2] and school.score[!high.X2]\n",
       "t = 1.0011, df = 72.229, p-value = 0.3201\n",
       "alternative hypothesis: true difference in means is not equal to 0\n",
       "95 percent confidence interval:\n",
       " -0.04020131  0.12131665\n",
       "sample estimates:\n",
       "mean of x mean of y \n",
       "0.2679681 0.2274105 \n"
      ]
     },
     "metadata": {},
     "output_type": "display_data"
    },
    {
     "data": {
      "text/plain": [
       "                 Df Sum Sq Mean Sq F value Pr(>F)\n",
       "school.X2.levels  2  0.085 0.04251   1.377  0.259\n",
       "Residuals        73  2.254 0.03088               "
      ]
     },
     "metadata": {},
     "output_type": "display_data"
    },
    {
     "data": {
      "text/plain": [
       "\n",
       "\tOne Sample t-test\n",
       "\n",
       "data:  school.score.XS3.high - school.score.XS3.low\n",
       "t = 2.2544, df = 75, p-value = 0.02709\n",
       "alternative hypothesis: true mean is not equal to 0\n",
       "95 percent confidence interval:\n",
       " 0.0100095 0.1620529\n",
       "sample estimates:\n",
       " mean of x \n",
       "0.08603122 \n"
      ]
     },
     "metadata": {},
     "output_type": "display_data"
    },
    {
     "data": {
      "image/png": "[encoded data removed]",
      "text/plain": [
       "plot without title"
      ]
     },
     "metadata": {
      "image/png": {
       "height": 420,
       "width": 420
      }
     },
     "output_type": "display_data"
    }
   ],
   "source": [
    "# Run best linear predictor analysis\n",
    "test_calibration(cf)\n",
    "\n",
    "# Compare regions with high and low estimated CATEs\n",
    "high_effect = tau.hat > median(tau.hat)\n",
    "ate.high = average_treatment_effect(cf, subset = high_effect)\n",
    "ate.low = average_treatment_effect(cf, subset = !high_effect)\n",
    "paste(\"95% CI for difference in ATE:\",\n",
    "      round(ate.high[1] - ate.low[1], 3), \"+/-\",\n",
    "      round(qnorm(0.975) * sqrt(ate.high[2]^2 + ate.low[2]^2), 3))\n",
    "\n",
    "\n",
    "#\n",
    "# formal test for X1 and X2\n",
    "#\n",
    "\n",
    "dr.score = tau.hat + W / cf$W.hat *\n",
    "  (Y - cf$Y.hat - (1 - cf$W.hat) * tau.hat) -\n",
    "  (1 - W) / (1 - cf$W.hat) * (Y - cf$Y.hat + cf$W.hat * tau.hat)\n",
    "school.score = t(school.mat) %*% dr.score / school.size\n",
    "\n",
    "school.X1 = t(school.mat) %*% X$X1 / school.size\n",
    "high.X1 = school.X1 > median(school.X1)\n",
    "t.test(school.score[high.X1], school.score[!high.X1])\n",
    "\n",
    "school.X2 = (t(school.mat) %*% X$X2) / school.size\n",
    "high.X2 = school.X2 > median(school.X2)\n",
    "t.test(school.score[high.X2], school.score[!high.X2])\n",
    "\n",
    "school.X2.levels = cut(school.X2,\n",
    "  breaks = c(-Inf, quantile(school.X2, c(1/3, 2/3)), Inf))\n",
    "summary(aov(school.score ~ school.X2.levels))\n",
    "\n",
    "#\n",
    "# formal test for S3\n",
    "#\n",
    "\n",
    "school.score.XS3.high = t(school.mat) %*% (dr.score * (X$S3 >= 6)) /\n",
    "  t(school.mat) %*% (X$S3 >= 6)\n",
    "school.score.XS3.low = t(school.mat) %*% (dr.score * (X$S3 < 6)) /\n",
    "  t(school.mat) %*% (X$S3 < 6)\n",
    "\n",
    "plot(school.score.XS3.low, school.score.XS3.high)\n",
    "t.test(school.score.XS3.high - school.score.XS3.low)"
   ]
  },
  {
   "cell_type": "markdown",
   "id": "eefe0d24-5b65-4a90-9c35-383159c8fd88",
   "metadata": {},
   "source": [
    "It finds that if we insists in cluster-robust inference, there's almost no treatment heterogenity present and thus that the causal forest couldn't identify subgroups with effects at stand.\n",
    "\n",
    "Due to this, they try to found if there's heterogenity between two specific variables: pre-existing mindset and school-level achievement. They find that schools with larger values of pre-existing mindset have larger effects than schools with smaller values of this variables. However, they do not see much heterogeneity along school-level achievement."
   ]
  },
  {
   "cell_type": "markdown",
   "id": "936f2a5e-be5e-4ae8-91ed-d31267e32fc7",
   "metadata": {},
   "source": [
    "### Look at school-wise heterogeneity\n"
   ]
  },
  {
   "cell_type": "code",
   "execution_count": 43,
   "id": "acf97fdb-65c8-4cd3-94b7-fa241efb7e46",
   "metadata": {
    "vscode": {
     "languageId": "r"
    }
   },
   "outputs": [
    {
     "name": "stdout",
     "output_type": "stream",
     "text": [
      "[1] \"0.248 +/- 0.04\"\n"
     ]
    },
    {
     "data": {
      "image/png": "[encoded data removed]",
      "text/plain": [
       "Plot with title \"\""
      ]
     },
     "metadata": {
      "image/png": {
       "height": 420,
       "width": 420
      }
     },
     "output_type": "display_data"
    },
    {
     "data": {
      "image/png": "[encoded data removed]",
      "text/plain": [
       "plot without title"
      ]
     },
     "metadata": {
      "image/png": {
       "height": 420,
       "width": 420
      }
     },
     "output_type": "display_data"
    }
   ],
   "source": [
    "# Look at school-wise heterogeneity\n",
    "pardef = par(mar = c(5, 4, 4, 2) + 0.5, cex.lab=1.5, cex.axis=1.5, cex.main=1.5, cex.sub=1.5)\n",
    "hist(school.score, xlab = \"School Treatment Effect Estimate\", main = \"\")\n",
    "\n",
    "# Re-check ATE... sanity check only\n",
    "ate.hat = mean(school.score)\n",
    "se.hat = sqrt(var(school.score) / length(school.score - 1))\n",
    "print(paste(round(ate.hat, 3), \"+/-\", round(1.96 * se.hat, 3)))\n",
    "\n",
    "# Look at variation in propensity scores\n",
    "DF = X\n",
    "DF$W.hat = cf$W.hat\n",
    "\n",
    "pardef = par(mar = c(5, 4, 4, 2) + 0.5, cex.lab=1.5, cex.axis=1.5, cex.main=1.5, cex.sub=1.5)\n",
    "boxplot(W.hat ~ S3, data = DF, ylab = \"Propensity Score\", xlab = \"Student Expectation of Success\")\n",
    "lines(smooth.spline(X$S3, cf$W.hat), lwd = 2, col = 4)"
   ]
  },
  {
   "cell_type": "markdown",
   "id": "46999382-6911-49eb-9be1-99b560107222",
   "metadata": {},
   "source": [
    "As seen before, there's much perceivable heterogenety at school-level. In order to see if this help us to identify heteregenous effects, we fit models using only school-level covariates. This fact seems to be presented on the next graphs, where the distribution of the school treatment effects and the student expectation success propensity score are shown\n",
    "\n"
   ]
  },
  {
   "cell_type": "markdown",
   "id": "158235b2-dcc2-48e6-8cdb-c207e6c4987d",
   "metadata": {},
   "source": [
    "### Analysis ignoring clusters. How do the results change?\n"
   ]
  },
  {
   "cell_type": "code",
   "execution_count": 44,
   "id": "d90de692-4a29-4429-8f44-05449a67c3c7",
   "metadata": {
    "scrolled": true,
    "vscode": {
     "languageId": "r"
    }
   },
   "outputs": [
    {
     "data": {
      "text/html": [
       "'95% CI for the ATE: 0.253 +/- 0.022'"
      ],
      "text/latex": [
       "'95\\% CI for the ATE: 0.253 +/- 0.022'"
      ],
      "text/markdown": [
       "'95% CI for the ATE: 0.253 +/- 0.022'"
      ],
      "text/plain": [
       "[1] \"95% CI for the ATE: 0.253 +/- 0.022\""
      ]
     },
     "metadata": {},
     "output_type": "display_data"
    },
    {
     "data": {
      "text/plain": [
       "\n",
       "Best linear fit using forest predictions (on held-out data)\n",
       "as well as the mean forest prediction as regressors, along\n",
       "with one-sided heteroskedasticity-robust (HC3) SEs:\n",
       "\n",
       "                               Estimate Std. Error t value    Pr(>t)    \n",
       "mean.forest.prediction         1.013601   0.045216 22.4171 < 2.2e-16 ***\n",
       "differential.forest.prediction 0.528143   0.121994  4.3292 7.551e-06 ***\n",
       "---\n",
       "Signif. codes:  0 '***' 0.001 '**' 0.01 '*' 0.05 '.' 0.1 ' ' 1\n"
      ]
     },
     "metadata": {},
     "output_type": "display_data"
    },
    {
     "name": "stdout",
     "output_type": "stream",
     "text": [
      "[1] 1\n",
      "[1] 2\n",
      "[1] 3\n",
      "[1] 4\n",
      "[1] 5\n"
     ]
    },
    {
     "data": {
      "text/plain": [
       "\n",
       "Best linear fit using forest predictions (on held-out data)\n",
       "as well as the mean forest prediction as regressors, along\n",
       "with one-sided heteroskedasticity-robust (HC3) SEs:\n",
       "\n",
       "                               Estimate Std. Error t value  Pr(>t)    \n",
       "mean.forest.prediction         1.008590   0.065529 15.3914 < 2e-16 ***\n",
       "differential.forest.prediction 0.381997   0.233055  1.6391 0.05061 .  \n",
       "---\n",
       "Signif. codes:  0 '***' 0.001 '**' 0.01 '*' 0.05 '.' 0.1 ' ' 1\n"
      ]
     },
     "metadata": {},
     "output_type": "display_data"
    },
    {
     "data": {
      "text/html": [
       "<style>\n",
       ".list-inline {list-style: none; margin:0; padding: 0}\n",
       ".list-inline>li {display: inline-block}\n",
       ".list-inline>li:not(:last-child)::after {content: \"\\00b7\"; padding: 0 .5ex}\n",
       "</style>\n",
       "<ol class=list-inline><li>-2.04282391312871e-05</li><li>0.000251553138701288</li></ol>\n"
      ],
      "text/latex": [
       "\\begin{enumerate*}\n",
       "\\item -2.04282391312871e-05\n",
       "\\item 0.000251553138701288\n",
       "\\end{enumerate*}\n"
      ],
      "text/markdown": [
       "1. -2.04282391312871e-05\n",
       "2. 0.000251553138701288\n",
       "\n",
       "\n"
      ],
      "text/plain": [
       "[1] -2.042824e-05  2.515531e-04"
      ]
     },
     "metadata": {},
     "output_type": "display_data"
    },
    {
     "data": {
      "text/plain": [
       "                     Df Sum Sq Mean Sq F value  Pr(>F)    \n",
       "factor(school.id)    75    203   2.708   1.999 7.3e-07 ***\n",
       "Residuals         10315  13972   1.355                    \n",
       "---\n",
       "Signif. codes:  0 '***' 0.001 '**' 0.01 '*' 0.05 '.' 0.1 ' ' 1"
      ]
     },
     "metadata": {},
     "output_type": "display_data"
    },
    {
     "data": {
      "image/png": "[encoded data removed]",
      "text/plain": [
       "plot without title"
      ]
     },
     "metadata": {
      "image/png": {
       "height": 420,
       "width": 420
      }
     },
     "output_type": "display_data"
    }
   ],
   "source": [
    "\n",
    "cf.noclust = causal_forest(X[,selected.idx], Y, W,\n",
    "                           Y.hat = Y.hat, W.hat = W.hat,\n",
    "                           tune.parameters = \"all\")\n",
    "\n",
    "ATE.noclust = average_treatment_effect(cf.noclust)\n",
    "paste(\"95% CI for the ATE:\", round(ATE.noclust[1], 3),\n",
    "      \"+/-\", round(qnorm(0.975) * ATE.noclust[2], 3))\n",
    "\n",
    "test_calibration(cf.noclust)\n",
    "\n",
    "tau.hat.noclust = predict(cf.noclust)$predict\n",
    "plot(school.id, tau.hat.noclust)\n",
    "\n",
    "nfold = 5\n",
    "school.levels = unique(school.id)\n",
    "cluster.folds = sample.int(nfold, length(school.levels), replace = TRUE)\n",
    "\n",
    "tau.hat.crossfold = rep(NA, length(Y))\n",
    "for (foldid in 1:nfold) {\n",
    "  print(foldid)\n",
    "  infold = school.id %in% school.levels[cluster.folds == foldid]\n",
    "  cf.fold = causal_forest(X[!infold, selected.idx], Y[!infold], W[!infold],\n",
    "                          Y.hat = Y.hat[!infold], W.hat = W.hat[!infold],\n",
    "                          tune.parameters = \"all\")\n",
    "  pred.fold = predict(cf.fold, X[infold, selected.idx])$predictions\n",
    "  tau.hat.crossfold[infold] = pred.fold\n",
    "}\n",
    "\n",
    "cf.noclust.cpy = cf.noclust\n",
    "cf.noclust.cpy$predictions = tau.hat.crossfold\n",
    "cf.noclust.cpy$clusters = school.id\n",
    "test_calibration(cf.noclust.cpy)\n",
    "\n",
    "Rloss = mean(((Y - Y.hat) - tau.hat * (W - W.hat))^2)\n",
    "Rloss.noclust = mean(((Y - Y.hat) - tau.hat.noclust * (W - W.hat))^2)\n",
    "Rloss.crossfold = mean(((Y - Y.hat) - tau.hat.crossfold * (W - W.hat))^2)\n",
    "\n",
    "c(Rloss.noclust - Rloss, Rloss.crossfold - Rloss)\n",
    "\n",
    "summary(aov(dr.score ~ factor(school.id)))"
   ]
  },
  {
   "cell_type": "markdown",
   "id": "f55b375f-1bba-47e3-b6e3-f9360c0cfe7b",
   "metadata": {},
   "source": [
    "We have seen until now no evidence on heteregenious effects of the treatment considering clusters. This mean we have token into account the possible correlation between students that attend the same school. Althought it will be naive to be believed that this doesn't happend, it will helpful to analyse whether there exist consistent difference"
   ]
  },
  {
   "cell_type": "markdown",
   "id": "d1c3f69d-8963-4270-88e9-41e979fd226f",
   "metadata": {},
   "source": [
    "### Analysis without fitting the propensity score"
   ]
  },
  {
   "cell_type": "code",
   "execution_count": 45,
   "id": "5e5f51b7-385a-40c5-a2c2-e7c5b3d63b25",
   "metadata": {
    "vscode": {
     "languageId": "r"
    }
   },
   "outputs": [
    {
     "data": {
      "text/html": [
       "'95% CI for the ATE: 0.254 +/- 0.038'"
      ],
      "text/latex": [
       "'95\\% CI for the ATE: 0.254 +/- 0.038'"
      ],
      "text/markdown": [
       "'95% CI for the ATE: 0.254 +/- 0.038'"
      ],
      "text/plain": [
       "[1] \"95% CI for the ATE: 0.254 +/- 0.038\""
      ]
     },
     "metadata": {},
     "output_type": "display_data"
    },
    {
     "data": {
      "image/png": "[encoded data removed]",
      "text/plain": [
       "plot without title"
      ]
     },
     "metadata": {
      "image/png": {
       "height": 420,
       "width": 420
      }
     },
     "output_type": "display_data"
    }
   ],
   "source": [
    "\n",
    "cf.noprop = causal_forest(X[,selected.idx], Y, W,\n",
    "                          Y.hat = Y.hat, W.hat = mean(W),\n",
    "                          tune.parameters = \"all\",\n",
    "                          equalize.cluster.weights = TRUE,\n",
    "                          clusters = school.id)\n",
    "tau.hat.noprop = predict(cf.noprop)$predictions\n",
    "\n",
    "ATE.noprop = average_treatment_effect(cf.noprop)\n",
    "paste(\"95% CI for the ATE:\", round(ATE.noprop[1], 3),\n",
    "      \"+/-\", round(qnorm(0.975) * ATE.noprop[2], 3))\n",
    "\n",
    "pardef = par(mar = c(5, 4, 4, 2) + 0.5, cex.lab=1.5, cex.axis=1.5, cex.main=1.5, cex.sub=1.5)\n",
    "plot(tau.hat, tau.hat.noprop,\n",
    "     xlim = range(tau.hat, tau.hat.noprop),\n",
    "     ylim = range(tau.hat, tau.hat.noprop),\n",
    "     xlab = \"orthogonalized causal forest estimates\",\n",
    "     ylab = \"non-orthogonalized causal forest\")\n",
    "abline(0, 1, lwd = 2, lty = 2, col = 4)\n",
    "par = pardef\n"
   ]
  },
  {
   "cell_type": "markdown",
   "id": "7bc38dfb",
   "metadata": {},
   "source": [
    "We see that propensity score is not as important to the results found as clsutering was since it appers to be that the ATE found (0.254) is very much similar to the one found using orthogalization. As we can see in the followin figure, the overlaped distribution are almost the same because they are really close to the 45 degree line that means equiality between the two variables (that are the estimates)."
   ]
  },
  {
   "cell_type": "markdown",
   "id": "e5cc7d2e-8226-4f5e-a1e0-72cc8c918392",
   "metadata": {},
   "source": [
    "### The code plot six plots in the Make some plots section, so explain what you find there."
   ]
  },
  {
   "cell_type": "code",
   "execution_count": 46,
   "id": "25e98c8a-a817-47b3-9150-1c78c8222734",
   "metadata": {
    "vscode": {
     "languageId": "r"
    }
   },
   "outputs": [
    {
     "data": {
      "text/plain": [
       "\n",
       "Best linear fit using forest predictions (on held-out data)\n",
       "as well as the mean forest prediction as regressors, along\n",
       "with one-sided heteroskedasticity-robust (HC3) SEs:\n",
       "\n",
       "                               Estimate Std. Error t value Pr(>t)    \n",
       "mean.forest.prediction         1.001136   0.082595 12.1210 <2e-16 ***\n",
       "differential.forest.prediction 0.818609   0.653020  1.2536  0.107    \n",
       "---\n",
       "Signif. codes:  0 '***' 0.001 '**' 0.01 '*' 0.05 '.' 0.1 ' ' 1\n"
      ]
     },
     "metadata": {},
     "output_type": "display_data"
    },
    {
     "data": {
      "text/plain": [
       "\n",
       "t test of coefficients:\n",
       "\n",
       "               Estimate  Std. Error t value Pr(>|t|)   \n",
       "(Intercept)  0.24079581  0.07773953  3.0975 0.002866 **\n",
       "X1          -0.04959039  0.02966052 -1.6719 0.099273 . \n",
       "X2           0.01412785  0.03388522  0.4169 0.678081   \n",
       "X3           0.00939179  0.02683438  0.3500 0.727460   \n",
       "X4           0.02372228  0.02555013  0.9285 0.356552   \n",
       "X5          -0.03526586  0.02708329 -1.3021 0.197399   \n",
       "XC.1         0.00090015  0.09453655  0.0095 0.992432   \n",
       "XC.2         0.08582749  0.10582788  0.8110 0.420275   \n",
       "XC.3        -0.13553694  0.08823978 -1.5360 0.129317   \n",
       "XC.4         0.04492317  0.08222504  0.5463 0.586672   \n",
       "---\n",
       "Signif. codes:  0 '***' 0.001 '**' 0.01 '*' 0.05 '.' 0.1 ' ' 1\n"
      ]
     },
     "metadata": {},
     "output_type": "display_data"
    },
    {
     "data": {
      "image/png": "[encoded data removed]",
      "text/plain": [
       "Plot with title \"\""
      ]
     },
     "metadata": {
      "image/png": {
       "height": 420,
       "width": 420
      }
     },
     "output_type": "display_data"
    },
    {
     "data": {
      "image/png": "[encoded data removed]",
      "text/plain": [
       "Plot with title \"\""
      ]
     },
     "metadata": {
      "image/png": {
       "height": 420,
       "width": 420
      }
     },
     "output_type": "display_data"
    },
    {
     "data": {
      "image/png": "[encoded data removed]",
      "text/plain": [
       "Plot with title \"\""
      ]
     },
     "metadata": {
      "image/png": {
       "height": 420,
       "width": 420
      }
     },
     "output_type": "display_data"
    },
    {
     "data": {
      "image/png": "[encoded data removed]",
      "text/plain": [
       "plot without title"
      ]
     },
     "metadata": {
      "image/png": {
       "height": 420,
       "width": 420
      }
     },
     "output_type": "display_data"
    },
    {
     "data": {
      "image/png": "[encoded data removed]",
      "text/plain": [
       "plot without title"
      ]
     },
     "metadata": {
      "image/png": {
       "height": 420,
       "width": 420
      }
     },
     "output_type": "display_data"
    },
    {
     "data": {
      "image/png": "[encoded data removed]",
      "text/plain": [
       "plot without title"
      ]
     },
     "metadata": {
      "image/png": {
       "height": 420,
       "width": 420
      }
     },
     "output_type": "display_data"
    }
   ],
   "source": [
    "# Train forest on school-wise DR scores\n",
    "#\n",
    "\n",
    "school.X = (t(school.mat) %*% as.matrix(X[,c(4:8, 25:28)])) / school.size\n",
    "school.X = data.frame(school.X)\n",
    "colnames(school.X) = c(\"X1\", \"X2\", \"X3\", \"X4\", \"X5\",\n",
    "                    \"XC.1\", \"XC.2\", \"XC.3\", \"XC.4\")\n",
    "\n",
    "dr.score = tau.hat + W / cf$W.hat * (Y - cf$Y.hat - (1 - cf$W.hat) * tau.hat) -\n",
    "  (1 - W) / (1 - cf$W.hat) * (Y - cf$Y.hat + cf$W.hat * tau.hat)\n",
    "school.score = t(school.mat) %*% dr.score / school.size\n",
    "\n",
    "school.forest = regression_forest(school.X, school.score)\n",
    "school.pred = predict(school.forest)$predictions\n",
    "test_calibration(school.forest)\n",
    "\n",
    "\n",
    "# Alternative OLS analysis\n",
    "school.DF = data.frame(school.X, school.score=school.score)\n",
    "coeftest(lm(school.score ~ ., data = school.DF), vcov = vcovHC)\n",
    "\n",
    "#\n",
    "# Make some plots...\n",
    "#\n",
    "\n",
    "pardef = par(mar = c(5, 4, 4, 2) + 0.5, cex.lab=1.5, cex.axis=1.5, cex.main=1.5, cex.sub=1.5)\n",
    "hist(tau.hat, xlab = \"estimated CATE\", main = \"\")\n",
    "\n",
    "pardef = par(mar = c(5, 4, 4, 2) + 0.5, cex.lab=1.5, cex.axis=1.5, cex.main=1.5, cex.sub=1.5)\n",
    "hist(tau.hat.noprop, xlab = \"estimated CATE\", main = \"\")\n",
    "\n",
    "pardef = par(mar = c(5, 4, 4, 2) + 0.5, cex.lab=1.5, cex.axis=1.5, cex.main=1.5, cex.sub=1.5)\n",
    "hist(tau.hat.noclust, xlab = \"estimated CATE\", main = \"\",\n",
    "     breaks = seq(-0.0, 0.55, by = 0.55 / 25))\n",
    "\n",
    "pardef = par(mar = c(5, 4, 4, 2) + 0.5, cex.lab=1.5, cex.axis=1.5, cex.main=1.5, cex.sub=1.5)\n",
    "boxplot(tau.hat ~ round(X$X1), xlab = \"X1\", ylab = \"estimated CATE\")\n",
    "lines(smooth.spline(4 + X[,\"X1\"], tau.hat, df = 4), lwd = 2, col = 4)\n",
    "\n",
    "pardef = par(mar = c(5, 4, 4, 2) + 0.5, cex.lab=1.5, cex.axis=1.5, cex.main=1.5, cex.sub=1.5)\n",
    "boxplot(tau.hat ~ round(X$X2), xlab = \"X2\", ylab = \"estimated CATE\")\n",
    "lines(smooth.spline(4 + X[,\"X2\"], tau.hat, df = 4), lwd = 2, col = 4)\n",
    "\n",
    "\n",
    "school.avg.tauhat = t(school.mat) %*% tau.hat / school.size\n",
    "\n",
    "pardef = par(mar = c(5, 4, 4, 2) + 0.5, cex.lab=1.5, cex.axis=1.5, cex.main=1.5, cex.sub=1.5)\n",
    "plot(school.avg.tauhat, school.pred, cex = 1.5,\n",
    "     xlim = range(school.avg.tauhat, school.pred),\n",
    "     ylim = range(school.avg.tauhat, school.pred),\n",
    "     xlab = \"average CATE estimate in school\",\n",
    "     ylab = \"school-wise forest predictions\")\n",
    "abline(0, 1, lwd = 2, lty = 2, col = 4)\n",
    "par = pardef"
   ]
  },
  {
   "cell_type": "code",
   "execution_count": 47,
   "id": "5b32d7fd-32fe-4d8f-9eb6-cab5d4a0242a",
   "metadata": {
    "vscode": {
     "languageId": "r"
    }
   },
   "outputs": [
    {
     "data": {
      "text/html": [
       "'95% CI for the ATE: -0.055 +/- 0.144'"
      ],
      "text/latex": [
       "'95\\% CI for the ATE: -0.055 +/- 0.144'"
      ],
      "text/markdown": [
       "'95% CI for the ATE: -0.055 +/- 0.144'"
      ],
      "text/plain": [
       "[1] \"95% CI for the ATE: -0.055 +/- 0.144\""
      ]
     },
     "metadata": {},
     "output_type": "display_data"
    },
    {
     "data": {
      "text/html": [
       "'95% CI for the ATE: 0.052 +/- 0.143'"
      ],
      "text/latex": [
       "'95\\% CI for the ATE: 0.052 +/- 0.143'"
      ],
      "text/markdown": [
       "'95% CI for the ATE: 0.052 +/- 0.143'"
      ],
      "text/plain": [
       "[1] \"95% CI for the ATE: 0.052 +/- 0.143\""
      ]
     },
     "metadata": {},
     "output_type": "display_data"
    }
   ],
   "source": [
    "# Experiment with no orthogonalization\n",
    "#\n",
    "\n",
    "n.synth = 1000\n",
    "p.synth = 10\n",
    "X.synth = matrix(rnorm(n.synth * p.synth), n.synth, p.synth)\n",
    "W.synth = rbinom(n.synth, 1, 1 / (1 + exp(-X.synth[,1])))\n",
    "Y.synth = 2 * rowMeans(X.synth[,1:6]) + rnorm(n.synth)\n",
    "\n",
    "Y.forest.synth = regression_forest(X.synth, Y.synth)\n",
    "Y.hat.synth = predict(Y.forest.synth)$predictions\n",
    "W.forest.synth = regression_forest(X.synth, W.synth)\n",
    "W.hat.synth = predict(W.forest.synth)$predictions\n",
    "\n",
    "cf.synth = causal_forest(X.synth, Y.synth, W.synth,\n",
    "                         Y.hat = Y.hat.synth, W.hat = W.hat.synth)\n",
    "ATE.synth = average_treatment_effect(cf.synth)\n",
    "paste(\"95% CI for the ATE:\", round(ATE.synth[1], 3),\n",
    "      \"+/-\", round(qnorm(0.975) * ATE.synth[2], 3))\n",
    "\n",
    "cf.synth.noprop = causal_forest(X.synth, Y.synth, W.synth,\n",
    "                                Y.hat = Y.hat.synth, W.hat = mean(W.synth))\n",
    "ATE.synth.noprop = average_treatment_effect(cf.synth.noprop)\n",
    "paste(\"95% CI for the ATE:\", round(ATE.synth.noprop[1], 3),\n",
    "      \"+/-\", round(qnorm(0.975) * ATE.synth.noprop[2], 3))\n"
   ]
  },
  {
   "cell_type": "markdown",
   "id": "03f14f0a-8c1b-4c63-889d-22a45a447e25",
   "metadata": {},
   "source": [
    "### Visualize school-level covariates by treatment heterogeneity"
   ]
  },
  {
   "cell_type": "code",
   "execution_count": 48,
   "id": "205b0cca-799f-444c-b1d9-251b03c386a7",
   "metadata": {
    "vscode": {
     "languageId": "r"
    }
   },
   "outputs": [
    {
     "data": {
      "text/html": [
       "0.210526315789474"
      ],
      "text/latex": [
       "0.210526315789474"
      ],
      "text/markdown": [
       "0.210526315789474"
      ],
      "text/plain": [
       "[1] 0.2105263"
      ]
     },
     "metadata": {},
     "output_type": "display_data"
    },
    {
     "data": {
      "text/html": [
       "0.5"
      ],
      "text/latex": [
       "0.5"
      ],
      "text/markdown": [
       "0.5"
      ],
      "text/plain": [
       "[1] 0.5"
      ]
     },
     "metadata": {},
     "output_type": "display_data"
    },
    {
     "data": {
      "image/png": "[encoded data removed]",
      "text/plain": [
       "plot without title"
      ]
     },
     "metadata": {
      "image/png": {
       "height": 420,
       "width": 420
      }
     },
     "output_type": "display_data"
    }
   ],
   "source": [
    "# Visualize school-level covariates by treatment heterogeneity\n",
    "#\n",
    "\n",
    "school.X.std = scale(school.X)\n",
    "school.tercile = cut(school.pred,\n",
    "                     breaks = c(-Inf, quantile(school.pred, c(1/3, 2/3)), Inf))\n",
    "school.tercile.mat = model.matrix(~ school.tercile + 0)\n",
    "school.means = diag(1 / colSums(school.tercile.mat)) %*% t(school.tercile.mat) %*% as.matrix(school.X.std)\n",
    "\n",
    "MM = max(abs(school.means))\n",
    "HC = heat.colors(21)\n",
    "school.col = apply(school.means, 1:2, function(aa) HC[1 + round(20 * (0.5 + aa))])\n",
    "\n",
    "DF.plot = data.frame(tercile=rep(factor(1:3, labels=c(\"low\", \"mid\", \"high\")), 9), mean=as.numeric(school.means),\n",
    "                     feature = factor(rbind(colnames(school.X), colnames(school.X), colnames(school.X))))\n",
    "\n",
    "ggplot(data = DF.plot, aes(x = feature, y = tercile, fill = mean)) +\n",
    "    geom_tile() + scale_fill_gradient(low = \"white\", high = \"steelblue\") +\n",
    "    theme(axis.text = element_text(size=12), axis.title = element_text(size=14),\n",
    "          legend.title = element_text(size=14), legend.text = element_text(size=12)) +\n",
    "    theme(panel.background = element_blank())\n",
    "ggsave(\"tercile_plot.pdf\", width = 8, height = 4.5, dpi = 120)\n",
    "\n",
    "mean(school.X$XC.3)\n",
    "mean(school.X$XC.3[as.numeric(school.tercile) == 1])"
   ]
  },
  {
   "cell_type": "markdown",
   "id": "de7d8144",
   "metadata": {},
   "source": [
    "This graph show us the difference between the mean of the CATE for each school-level covariate considered in the school-wise estimation. We can see that there is not much hetereginty between the means in all covariates but the X1, where the difference between the low and high group of CATEs. This reminds us that even if it seem to be variability in the effects when we divide by this covariate, there's not enough evidence that controling with the other covariates this effect will remain even when analysing the data at school-level."
   ]
  },
  {
   "cell_type": "markdown",
   "id": "3448bb44-7230-42aa-92e1-16d54b8c20b5",
   "metadata": {},
   "source": [
    "### CATE by school"
   ]
  },
  {
   "cell_type": "code",
   "execution_count": 49,
   "id": "ae10c34b-6e79-4911-a288-5eeadbd0bf3c",
   "metadata": {
    "vscode": {
     "languageId": "r"
    }
   },
   "outputs": [
    {
     "data": {
      "image/png": "[encoded data removed]",
      "text/plain": [
       "plot without title"
      ]
     },
     "metadata": {
      "image/png": {
       "height": 420,
       "width": 420
      }
     },
     "output_type": "display_data"
    }
   ],
   "source": [
    "ord = order(order(school.pred))\n",
    "school.sort = ord[school.id]\n",
    "\n",
    "pardef = par(mar = c(5, 4, 4, 2) + 0.5, cex.lab=1.5, cex.axis=1.5, cex.main=1.5, cex.sub=1.5)\n",
    "boxplot(tau.hat.noclust ~ school.sort, xaxt = \"n\",\n",
    "        xlab = \"school\", ylab = \"estimated CATE\")\n",
    "points(1:76, sort(school.pred), col = 4, pch = 16)\n",
    "legend(\"topleft\", c(\"school mean CATE\", \"CATE w/o clustering\"), pch = c(16, 1), col = c(4, 1), cex = 1.5)\n",
    "par = pardef\n"
   ]
  },
  {
   "cell_type": "markdown",
   "id": "a3a50b21",
   "metadata": {},
   "source": [
    "This graph compares per-student predictions from a non-cluster-robust causal forest to per-school mean treatment effect predictions from a forest trained on per-school responses that takes clustering into account. As seen before. We can see that CATE found in when ignoring clusters is higher and more disperse by school than when considering clusters."
   ]
  }
 ],
 "metadata": {
  "kernelspec": {
   "display_name": "R",
   "language": "R",
   "name": "ir"
  },
  "language_info": {
   "codemirror_mode": "r",
   "file_extension": ".r",
   "mimetype": "text/x-r-source",
   "name": "R",
   "pygments_lexer": "r",
   "version": "4.3.3"
  }
 },
 "nbformat": 4,
 "nbformat_minor": 5
}
