{
 "cells": [
  {
   "cell_type": "code",
   "execution_count": 2,
   "metadata": {
    "scrolled": true,
    "vscode": {
     "languageId": "r"
    }
   },
   "outputs": [
    {
     "data": {
      "text/html": [
       "<ol class=list-inline>\n",
       "\t<li>5150</li>\n",
       "\t<li>20</li>\n",
       "</ol>\n"
      ],
      "text/latex": [
       "\\begin{enumerate*}\n",
       "\\item 5150\n",
       "\\item 20\n",
       "\\end{enumerate*}\n"
      ],
      "text/markdown": [
       "1. 5150\n",
       "2. 20\n",
       "\n",
       "\n"
      ],
      "text/plain": [
       "[1] 5150   20"
      ]
     },
     "metadata": {},
     "output_type": "display_data"
    }
   ],
   "source": [
    "load(\"../../data/wage2015_subsample_inference.Rdata\")\n",
    "attach(data) # make each variable as an object \n",
    "\n",
    "dim(data)"
   ]
  },
  {
   "cell_type": "markdown",
   "metadata": {},
   "source": [
    "# An inferential problem: The Gender Wage Gap"
   ]
  },
  {
   "cell_type": "markdown",
   "metadata": {
    "papermill": {
     "duration": 0.019386,
     "end_time": "2021-02-21T17:17:47.847419",
     "exception": false,
     "start_time": "2021-02-21T17:17:47.828033",
     "status": "completed"
    },
    "tags": []
   },
   "source": [
    "In the previous lab, we already analyzed data from the March Supplement of the U.S. Current Population Survey (2015) and answered the question how to use job-relevant characteristics, such as education and experience, to best predict wages. Now, we focus on the following inference question:\n",
    "\n",
    "What is the difference in predicted wages between men and women with the same job-relevant characteristics?\n",
    "\n",
    "Thus, we analyze if there is a difference in the payment of men and women (*gender wage gap*). The gender wage gap may partly reflect *discrimination* against women in the labor market or may partly reflect a *selection effect*, namely that women are relatively more likely to take on occupations that pay somewhat less (for example, school teaching)."
   ]
  },
  {
   "cell_type": "markdown",
   "metadata": {
    "papermill": {
     "duration": 0.018623,
     "end_time": "2021-02-21T17:17:47.884840",
     "exception": false,
     "start_time": "2021-02-21T17:17:47.866217",
     "status": "completed"
    },
    "tags": []
   },
   "source": [
    "To investigate the gender wage gap, we consider the following log-linear regression model\n",
    "\n",
    "\\begin{align}\n",
    "\\log(Y) &= \\beta'X + \\epsilon\\\\\n",
    "&= \\beta_1 D  + \\beta_2' W + \\epsilon,\n",
    "\\end{align}\n",
    "\n",
    "where $D$ is the indicator of being female ($1$ if female and $0$ otherwise) and the\n",
    "$W$'s are controls explaining variation in wages. Considering transformed wages by the logarithm, we are analyzing the relative difference in the payment of men and women."
   ]
  },
  {
   "cell_type": "markdown",
   "metadata": {},
   "source": [
    "***Variable description***\n",
    "\n",
    "- occ : occupational classification\n",
    "- ind : industry classification\n",
    "- lwage : log hourly wage\n",
    "- sex : gender (1 female) (0 male)\n",
    "- shs : some high school\n",
    "- hsg : High school graduated\n",
    "- scl : Some College\n",
    "- clg: College Graduate\n",
    "- ad: Advanced Degree\n",
    "- ne: Northeast\n",
    "- mw: Midwest\n",
    "- so: South\n",
    "- we: West\n",
    "- exp1: experience"
   ]
  },
  {
   "cell_type": "markdown",
   "metadata": {},
   "source": [
    "### **1.  Analysis in the subset of workers with advanced college education (variables scl, clg, ad).**"
   ]
  },
  {
   "cell_type": "markdown",
   "metadata": {},
   "source": [
    "Next, we will conduct an analysis for the subset of workers with advanced college education. To do this, we will restrict our data and keep only those who have Some College, College Graduate, or Advanced Degree. "
   ]
  },
  {
   "cell_type": "code",
   "execution_count": 470,
   "metadata": {
    "vscode": {
     "languageId": "r"
    }
   },
   "outputs": [
    {
     "name": "stderr",
     "output_type": "stream",
     "text": [
      "Warning message:\n",
      "\"package 'xtable' is in use and will not be installed\"\n"
     ]
    }
   ],
   "source": [
    "install.packages(\"xtable\")\n",
    "library(xtable)"
   ]
  },
  {
   "cell_type": "code",
   "execution_count": 471,
   "metadata": {
    "execution": {
     "iopub.execute_input": "2021-02-21T17:17:48.309038Z",
     "iopub.status.busy": "2021-02-21T17:17:48.279446Z",
     "iopub.status.idle": "2021-02-21T17:17:48.385996Z",
     "shell.execute_reply": "2021-02-21T17:17:48.384619Z"
    },
    "papermill": {
     "duration": 0.130992,
     "end_time": "2021-02-21T17:17:48.386138",
     "exception": false,
     "start_time": "2021-02-21T17:17:48.255146",
     "status": "completed"
    },
    "tags": [],
    "vscode": {
     "languageId": "r"
    }
   },
   "outputs": [
    {
     "data": {
      "text/html": [
       "<table class=\"dataframe\">\n",
       "<caption>A xtable: 12 × 3</caption>\n",
       "<thead>\n",
       "\t<tr><th></th><th scope=col>All</th><th scope=col>Men</th><th scope=col>Women</th></tr>\n",
       "\t<tr><th></th><th scope=col>&lt;dbl&gt;</th><th scope=col>&lt;dbl&gt;</th><th scope=col>&lt;dbl&gt;</th></tr>\n",
       "</thead>\n",
       "<tbody>\n",
       "\t<tr><th scope=row>Log Wage</th><td> 3.0627476</td><td> 3.0994485</td><td> 3.0244165</td></tr>\n",
       "\t<tr><th scope=row>Sex</th><td> 0.4891362</td><td> 0.0000000</td><td> 1.0000000</td></tr>\n",
       "\t<tr><th scope=row>Less then High School</th><td> 0.0000000</td><td> 0.0000000</td><td> 0.0000000</td></tr>\n",
       "\t<tr><th scope=row>High School Graduate</th><td> 0.0000000</td><td> 0.0000000</td><td> 0.0000000</td></tr>\n",
       "\t<tr><th scope=row>Some College</th><td> 0.3794383</td><td> 0.4056017</td><td> 0.3521127</td></tr>\n",
       "\t<tr><th scope=row>Gollage Graduate</th><td> 0.4334923</td><td> 0.4362033</td><td> 0.4306609</td></tr>\n",
       "\t<tr><th scope=row>Advanced Degree</th><td> 0.1870694</td><td> 0.1581950</td><td> 0.2172264</td></tr>\n",
       "\t<tr><th scope=row>Northeast</th><td> 0.2498675</td><td> 0.2458506</td><td> 0.2540628</td></tr>\n",
       "\t<tr><th scope=row>Midwest</th><td> 0.2983572</td><td> 0.3034232</td><td> 0.2930661</td></tr>\n",
       "\t<tr><th scope=row>South</th><td> 0.2225755</td><td> 0.2308091</td><td> 0.2139762</td></tr>\n",
       "\t<tr><th scope=row>West</th><td> 0.2291998</td><td> 0.2199170</td><td> 0.2388949</td></tr>\n",
       "\t<tr><th scope=row>Experience</th><td>12.5102014</td><td>12.2022822</td><td>12.8317985</td></tr>\n",
       "</tbody>\n",
       "</table>\n"
      ],
      "text/latex": [
       "A xtable: 12 × 3\n",
       "\\begin{tabular}{r|lll}\n",
       "  & All & Men & Women\\\\\n",
       "  & <dbl> & <dbl> & <dbl>\\\\\n",
       "\\hline\n",
       "\tLog Wage &  3.0627476 &  3.0994485 &  3.0244165\\\\\n",
       "\tSex &  0.4891362 &  0.0000000 &  1.0000000\\\\\n",
       "\tLess then High School &  0.0000000 &  0.0000000 &  0.0000000\\\\\n",
       "\tHigh School Graduate &  0.0000000 &  0.0000000 &  0.0000000\\\\\n",
       "\tSome College &  0.3794383 &  0.4056017 &  0.3521127\\\\\n",
       "\tGollage Graduate &  0.4334923 &  0.4362033 &  0.4306609\\\\\n",
       "\tAdvanced Degree &  0.1870694 &  0.1581950 &  0.2172264\\\\\n",
       "\tNortheast &  0.2498675 &  0.2458506 &  0.2540628\\\\\n",
       "\tMidwest &  0.2983572 &  0.3034232 &  0.2930661\\\\\n",
       "\tSouth &  0.2225755 &  0.2308091 &  0.2139762\\\\\n",
       "\tWest &  0.2291998 &  0.2199170 &  0.2388949\\\\\n",
       "\tExperience & 12.5102014 & 12.2022822 & 12.8317985\\\\\n",
       "\\end{tabular}\n"
      ],
      "text/markdown": [
       "\n",
       "A xtable: 12 × 3\n",
       "\n",
       "| <!--/--> | All &lt;dbl&gt; | Men &lt;dbl&gt; | Women &lt;dbl&gt; |\n",
       "|---|---|---|---|\n",
       "| Log Wage |  3.0627476 |  3.0994485 |  3.0244165 |\n",
       "| Sex |  0.4891362 |  0.0000000 |  1.0000000 |\n",
       "| Less then High School |  0.0000000 |  0.0000000 |  0.0000000 |\n",
       "| High School Graduate |  0.0000000 |  0.0000000 |  0.0000000 |\n",
       "| Some College |  0.3794383 |  0.4056017 |  0.3521127 |\n",
       "| Gollage Graduate |  0.4334923 |  0.4362033 |  0.4306609 |\n",
       "| Advanced Degree |  0.1870694 |  0.1581950 |  0.2172264 |\n",
       "| Northeast |  0.2498675 |  0.2458506 |  0.2540628 |\n",
       "| Midwest |  0.2983572 |  0.3034232 |  0.2930661 |\n",
       "| South |  0.2225755 |  0.2308091 |  0.2139762 |\n",
       "| West |  0.2291998 |  0.2199170 |  0.2388949 |\n",
       "| Experience | 12.5102014 | 12.2022822 | 12.8317985 |\n",
       "\n"
      ],
      "text/plain": [
       "                      All        Men        Women     \n",
       "Log Wage               3.0627476  3.0994485  3.0244165\n",
       "Sex                    0.4891362  0.0000000  1.0000000\n",
       "Less then High School  0.0000000  0.0000000  0.0000000\n",
       "High School Graduate   0.0000000  0.0000000  0.0000000\n",
       "Some College           0.3794383  0.4056017  0.3521127\n",
       "Gollage Graduate       0.4334923  0.4362033  0.4306609\n",
       "Advanced Degree        0.1870694  0.1581950  0.2172264\n",
       "Northeast              0.2498675  0.2458506  0.2540628\n",
       "Midwest                0.2983572  0.3034232  0.2930661\n",
       "South                  0.2225755  0.2308091  0.2139762\n",
       "West                   0.2291998  0.2199170  0.2388949\n",
       "Experience            12.5102014 12.2022822 12.8317985"
      ]
     },
     "metadata": {},
     "output_type": "display_data"
    }
   ],
   "source": [
    "\n",
    "# keep the workers with advanced college education\n",
    "sub_data <- data[data$scl == 1 | data$clg == 1 | data$ad == 1,]\n",
    "\n",
    "Z <- data[data$scl == 1 | data$clg == 1 | data$ad == 1, \n",
    "          colnames(data) %in% c(\"lwage\", \"sex\", \"shs\", \"hsg\", \"scl\", \"clg\", \"ad\", \"ne\", \"mw\", \"so\", \"we\", \"exp1\")]\n",
    "\n",
    "data_female <- data[data$sex==1 & (data$scl == 1 | data$clg == 1 | data$ad == 1),]\n",
    "Z_female <- data_female[which(colnames(data) %in% c(\"lwage\",\"sex\",\"shs\",\"hsg\",\"scl\",\"clg\",\"ad\",\"ne\",\"mw\",\"so\",\"we\",\"exp1\"))]\n",
    "\n",
    "data_male <- data[data$sex==0 & (data$scl == 1 | data$clg == 1 | data$ad == 1),]\n",
    "Z_male <- data_male[which(colnames(data) %in% c(\"lwage\",\"sex\",\"shs\",\"hsg\",\"scl\",\"clg\",\"ad\",\"ne\",\"mw\",\"so\",\"we\",\"exp1\"))]\n",
    "\n",
    "table <- matrix(0, 12, 3)\n",
    "table[1:12,1]   <- as.numeric(lapply(Z_sub_data,mean))\n",
    "table[1:12,2]   <- as.numeric(lapply(Z_male,mean))\n",
    "table[1:12,3]   <- as.numeric(lapply(Z_female,mean))\n",
    "rownames(table) <- c(\"Log Wage\",\"Sex\",\"Less then High School\",\"High School Graduate\",\"Some College\",\"Gollage Graduate\",\"Advanced Degree\", \"Northeast\",\"Midwest\",\"South\",\"West\",\"Experience\")\n",
    "colnames(table) <- c(\"All\",\"Men\",\"Women\")\n",
    "tab<- xtable(table, digits = 4)\n",
    "tab"
   ]
  },
  {
   "cell_type": "code",
   "execution_count": 472,
   "metadata": {
    "execution": {
     "iopub.execute_input": "2021-02-21T17:17:48.431654Z",
     "iopub.status.busy": "2021-02-21T17:17:48.430537Z",
     "iopub.status.idle": "2021-02-21T17:17:48.450210Z",
     "shell.execute_reply": "2021-02-21T17:17:48.448493Z"
    },
    "papermill": {
     "duration": 0.044113,
     "end_time": "2021-02-21T17:17:48.450550",
     "exception": false,
     "start_time": "2021-02-21T17:17:48.406437",
     "status": "completed"
    },
    "tags": [],
    "vscode": {
     "languageId": "r"
    }
   },
   "outputs": [],
   "source": [
    "#print(tab,type=\"html\") # set type=\"latex\" for printing table in LaTeX"
   ]
  },
  {
   "cell_type": "markdown",
   "metadata": {
    "papermill": {
     "duration": 0.020063,
     "end_time": "2021-02-21T17:17:48.491517",
     "exception": false,
     "start_time": "2021-02-21T17:17:48.471454",
     "status": "completed"
    },
    "tags": []
   },
   "source": [
    "<!-- html table generated in R 3.6.3 by xtable 1.8-4 package -->\n",
    "<!-- Mon Jan 18 10:41:44 2021 -->\n",
    "<table border=1>\n",
    "<tr> <th>  </th> <th> All </th> <th> Men </th> <th> Women </th>  </tr>\n",
    "  <tr> <td align=\"right\"> Log Wage </td> <td align=\"right\"> 3.0627 </td> <td align=\"right\"> 3.0994 </td> <td align=\"right\"> 3.0244 </td> </tr>\n",
    "  <tr> <td align=\"right\"> Sex </td> <td align=\"right\"> 0.4891 </td> <td align=\"right\"> 0.0000 </td> <td align=\"right\"> 1.0000 </td> </tr>\n",
    "  <tr> <td align=\"right\"> Less then High School </td> <td align=\"right\"> 0.0000 </td> <td align=\"right\"> 0.0000 </td> <td align=\"right\"> 0.0000 </td> </tr>\n",
    "  <tr> <td align=\"right\"> High School Graduate </td> <td align=\"right\"> 0.0000 </td> <td align=\"right\"> 0.0000 </td> <td align=\"right\"> 0.0000 </td> </tr>\n",
    "  <tr> <td align=\"right\"> Some College </td> <td align=\"right\"> 0.3794 </td> <td align=\"right\"> 0.4056 </td> <td align=\"right\"> 0.3521 </td> </tr>\n",
    "  <tr> <td align=\"right\"> Gollage Graduate </td> <td align=\"right\"> 0.4335 </td> <td align=\"right\"> 0.4362 </td> <td align=\"right\"> 0.4307 </td> </tr>\n",
    "  <tr> <td align=\"right\"> Advanced Degree </td> <td align=\"right\"> 0.1871 </td> <td align=\"right\"> 0.1582 </td> <td align=\"right\"> 0.2172 </td> </tr>\n",
    "  <tr> <td align=\"right\"> Northeast </td> <td align=\"right\"> 0.2499 </td> <td align=\"right\"> 0.2459 </td> <td align=\"right\"> 0.2541 </td> </tr>\n",
    "  <tr> <td align=\"right\"> Midwest </td> <td align=\"right\"> 0.2984 </td> <td align=\"right\"> 0.3034 </td> <td align=\"right\"> 0.2931 </td> </tr>\n",
    "  <tr> <td align=\"right\"> South </td> <td align=\"right\"> 0.2226 </td> <td align=\"right\"> 0.2308 </td> <td align=\"right\"> 0.2140 </td> </tr>\n",
    "  <tr> <td align=\"right\"> West </td> <td align=\"right\"> 0.2292 </td> <td align=\"right\"> 0.2199 </td> <td align=\"right\"> 0.2389 </td> </tr>\n",
    "  <tr> <td align=\"right\"> Experience </td> <td align=\"right\"> 12.5102 </td> <td align=\"right\"> 12.2023 </td> <td align=\"right\"> 12.8318 </td> </tr>\n",
    "   </table>\n",
    "   "
   ]
  },
  {
   "cell_type": "markdown",
   "metadata": {
    "papermill": {
     "duration": 0.020634,
     "end_time": "2021-02-21T17:17:48.532828",
     "exception": false,
     "start_time": "2021-02-21T17:17:48.512194",
     "status": "completed"
    },
    "tags": []
   },
   "source": [
    "In particular, the table above shows that the difference in average *logwage* between men and women  with higher education is equal to $0.0750$"
   ]
  },
  {
   "cell_type": "code",
   "execution_count": 473,
   "metadata": {
    "execution": {
     "iopub.execute_input": "2021-02-21T17:17:48.578674Z",
     "iopub.status.busy": "2021-02-21T17:17:48.577061Z",
     "iopub.status.idle": "2021-02-21T17:17:48.591063Z",
     "shell.execute_reply": "2021-02-21T17:17:48.589749Z"
    },
    "papermill": {
     "duration": 0.037974,
     "end_time": "2021-02-21T17:17:48.591228",
     "exception": false,
     "start_time": "2021-02-21T17:17:48.553254",
     "status": "completed"
    },
    "tags": [],
    "vscode": {
     "languageId": "r"
    }
   },
   "outputs": [
    {
     "data": {
      "text/html": [
       "-0.0750320051259581"
      ],
      "text/latex": [
       "-0.0750320051259581"
      ],
      "text/markdown": [
       "-0.0750320051259581"
      ],
      "text/plain": [
       "[1] -0.07503201"
      ]
     },
     "metadata": {},
     "output_type": "display_data"
    }
   ],
   "source": [
    "mean(data_female$lwage)-mean(data_male$lwage)"
   ]
  },
  {
   "cell_type": "markdown",
   "metadata": {
    "papermill": {
     "duration": 0.022161,
     "end_time": "2021-02-21T17:17:48.635417",
     "exception": false,
     "start_time": "2021-02-21T17:17:48.613256",
     "status": "completed"
    },
    "tags": []
   },
   "source": [
    "Thus, the unconditional gender wage gap is about $7,5$\\% for the group of never married workers (women get paid less on average in our sample). "
   ]
  },
  {
   "cell_type": "markdown",
   "metadata": {
    "papermill": {
     "duration": 0.020929,
     "end_time": "2021-02-21T17:17:48.718630",
     "exception": false,
     "start_time": "2021-02-21T17:17:48.697701",
     "status": "completed"
    },
    "tags": []
   },
   "source": [
    "#### 1.1 OLS estimation without controls"
   ]
  },
  {
   "cell_type": "code",
   "execution_count": 516,
   "metadata": {
    "execution": {
     "iopub.execute_input": "2021-02-21T17:17:48.766832Z",
     "iopub.status.busy": "2021-02-21T17:17:48.765704Z",
     "iopub.status.idle": "2021-02-21T17:17:48.946342Z",
     "shell.execute_reply": "2021-02-21T17:17:48.944941Z"
    },
    "papermill": {
     "duration": 0.205828,
     "end_time": "2021-02-21T17:17:48.946508",
     "exception": false,
     "start_time": "2021-02-21T17:17:48.740680",
     "status": "completed"
    },
    "tags": [],
    "vscode": {
     "languageId": "r"
    }
   },
   "outputs": [
    {
     "name": "stdout",
     "output_type": "stream",
     "text": [
      "The estimated gender coefficient is -0.07503201  and the corresponding robust standard error is 0.0183426"
     ]
    }
   ],
   "source": [
    "# install.packages(\"sandwich\")\n",
    "library(sandwich)\n",
    "\n",
    "nocontrol.fit <- lm(lwage ~ sex, data=sub_data)\n",
    "nocontrol.est <- summary(nocontrol.fit)$coef[\"sex\",1]\n",
    "HCV.coefs <- vcovHC(nocontrol.fit, type = 'HC');\n",
    "nocontrol.se <- sqrt(diag(HCV.coefs))[2] # Estimated std errors\n",
    "\n",
    "# print unconditional effect of gender and the corresponding standard error\n",
    "cat (\"The estimated gender coefficient is\",nocontrol.est,\" and the corresponding robust standard error is\",nocontrol.se) \n",
    "\n",
    "CI1upper <-confint(nocontrol.fit)[2,2]\n",
    "CI1low <-confint(nocontrol.fit)[2,1]\n",
    "\n"
   ]
  },
  {
   "cell_type": "markdown",
   "metadata": {},
   "source": [
    "#### 1.2 OLS estimation with controls"
   ]
  },
  {
   "cell_type": "markdown",
   "metadata": {
    "papermill": {
     "duration": 0.021605,
     "end_time": "2021-02-21T17:17:49.034485",
     "exception": false,
     "start_time": "2021-02-21T17:17:49.012880",
     "status": "completed"
    },
    "tags": []
   },
   "source": [
    "Next, we run an ols regression of $Y$ on $(D,W)$ to control for the effect of covariates summarized in $W$:\n",
    "\n",
    "\\begin{align}\n",
    "\\log(Y) &=\\beta_1 D  + \\beta_2' W + \\epsilon.\n",
    "\\end{align}\n",
    "\n",
    "Here, we are considering the flexible model from the previous lab. Hence, $W$ controls for experience, education, region, and occupation and industry indicators plus transformations and two-way interactions."
   ]
  },
  {
   "cell_type": "code",
   "execution_count": 545,
   "metadata": {
    "execution": {
     "iopub.execute_input": "2021-02-21T17:17:49.124867Z",
     "iopub.status.busy": "2021-02-21T17:17:49.123217Z",
     "iopub.status.idle": "2021-02-21T17:17:49.792247Z",
     "shell.execute_reply": "2021-02-21T17:17:49.790841Z"
    },
    "papermill": {
     "duration": 0.694579,
     "end_time": "2021-02-21T17:17:49.792415",
     "exception": false,
     "start_time": "2021-02-21T17:17:49.097836",
     "status": "completed"
    },
    "tags": [],
    "vscode": {
     "languageId": "r"
    }
   },
   "outputs": [
    {
     "name": "stdout",
     "output_type": "stream",
     "text": [
      "Coefficient for OLS with controls -0.0676339"
     ]
    }
   ],
   "source": [
    "# Ols regression with controls\n",
    "flex <- lwage ~ sex + (exp1+exp2+exp3+exp4)*(shs+hsg+scl+clg+occ2+ind2+mw+so+we) \n",
    "control.fit <- lm(flex, data=sub_data)\n",
    "control.est <- summary(control.fit)$coef[2,1]\n",
    "cat(\"Coefficient for OLS with controls\", control.est)\n",
    "\n",
    "HCV.coefs <- vcovHC(control.fit, type = 'HC');\n",
    "control.se <- sqrt(diag(HCV.coefs))[2] # \n",
    "\n",
    "#confint(control.fit)\n",
    "CI2upper <-confint(control.fit)[2,2]\n",
    "CI2low <-confint(control.fit)[2,1]\n",
    "#summary(control.fit)\n"
   ]
  },
  {
   "cell_type": "markdown",
   "metadata": {
    "papermill": {
     "duration": 0.023222,
     "end_time": "2021-02-21T17:17:49.931749",
     "exception": false,
     "start_time": "2021-02-21T17:17:49.908527",
     "status": "completed"
    },
    "tags": []
   },
   "source": [
    "#### 1.3 Partialling-Out using ols"
   ]
  },
  {
   "cell_type": "code",
   "execution_count": 539,
   "metadata": {
    "execution": {
     "iopub.execute_input": "2021-02-21T17:17:49.985297Z",
     "iopub.status.busy": "2021-02-21T17:17:49.983529Z",
     "iopub.status.idle": "2021-02-21T17:17:50.409345Z",
     "shell.execute_reply": "2021-02-21T17:17:50.407916Z"
    },
    "papermill": {
     "duration": 0.454504,
     "end_time": "2021-02-21T17:17:50.409522",
     "exception": false,
     "start_time": "2021-02-21T17:17:49.955018",
     "status": "completed"
    },
    "scrolled": true,
    "tags": [],
    "vscode": {
     "languageId": "r"
    }
   },
   "outputs": [
    {
     "name": "stdout",
     "output_type": "stream",
     "text": [
      "Coefficient for D via partialling-out -0.0676339"
     ]
    },
    {
     "data": {
      "text/html": [
       "'confidence interval'"
      ],
      "text/latex": [
       "'confidence interval'"
      ],
      "text/markdown": [
       "'confidence interval'"
      ],
      "text/plain": [
       "[1] \"confidence interval\""
      ]
     },
     "metadata": {},
     "output_type": "display_data"
    },
    {
     "data": {
      "text/html": [
       "<style>\n",
       ".dl-inline {width: auto; margin:0; padding: 0}\n",
       ".dl-inline>dt, .dl-inline>dd {float: none; width: auto; display: inline-block}\n",
       ".dl-inline>dt::after {content: \":\\0020\"; padding-right: .5ex}\n",
       ".dl-inline>dt:not(:first-of-type) {padding-left: .5ex}\n",
       "</style><dl class=dl-inline><dt>2.5 %</dt><dd>-0.100823033855121</dd><dt>97.5 %</dt><dd>-0.0344447624332549</dd></dl>\n"
      ],
      "text/latex": [
       "\\begin{description*}\n",
       "\\item[2.5 \\textbackslash{}\\%] -0.100823033855121\n",
       "\\item[97.5 \\textbackslash{}\\%] -0.0344447624332549\n",
       "\\end{description*}\n"
      ],
      "text/markdown": [
       "2.5 %\n",
       ":   -0.10082303385512197.5 %\n",
       ":   -0.0344447624332549\n",
       "\n"
      ],
      "text/plain": [
       "      2.5 %      97.5 % \n",
       "-0.10082303 -0.03444476 "
      ]
     },
     "metadata": {},
     "output_type": "display_data"
    }
   ],
   "source": [
    "# models\n",
    "flex.y <- lwage ~ (exp1+exp2+exp3+exp4)*(shs+hsg+scl+clg+occ2+ind2+mw+so+we) # model for Y\n",
    "flex.d <- sex ~  (exp1+exp2+exp3+exp4)*(shs+hsg+scl+clg+occ2+ind2+mw+so+we) # model for D\n",
    "\n",
    "# partialling-out the linear effect of W from Y\n",
    "t.Y <- lm(flex.y, data=sub_data)$res\n",
    "# partialling-out the linear effect of W from D\n",
    "t.D <- lm(flex.d, data=sub_data)$res\n",
    "\n",
    "# regression of Y on D after partialling-out the effect of W\n",
    "partial.fit <- lm(t.Y~t.D)\n",
    "partial.est <- summary(partial.fit)$coef[2,1]\n",
    "cat(\"Coefficient for D via partialling-out\", partial.est)\n",
    "\n",
    "# standard error\n",
    "HCV.coefs <- vcovHC(partial.fit, type = 'HC')\n",
    "partial.se <- sqrt(diag(HCV.coefs))[2]\n",
    "\n",
    "'confidence interval'\n",
    "confint(partial.fit)[2,]\n",
    "CI3upper <-confint(partial.fit)[2,2]\n",
    "CI3low <-confint(partial.fit)[2,1]\n",
    "#summary(partial.fit)"
   ]
  },
  {
   "cell_type": "markdown",
   "metadata": {
    "papermill": {
     "duration": 0.024507,
     "end_time": "2021-02-21T17:17:50.507023",
     "exception": false,
     "start_time": "2021-02-21T17:17:50.482516",
     "status": "completed"
    },
    "tags": []
   },
   "source": [
    "We know that the partialling-out approach works well when the dimension of $W$ is low\n",
    "in relation to the sample size $n$. When the dimension of $W$ is relatively high, we need to use variable selection\n",
    "or penalization for regularization purposes. \n",
    "\n",
    "In the following, we illustrate the partialling-out approach using lasso instead of ols. "
   ]
  },
  {
   "cell_type": "markdown",
   "metadata": {
    "papermill": {
     "duration": 0.024337,
     "end_time": "2021-02-21T17:17:54.368605",
     "exception": false,
     "start_time": "2021-02-21T17:17:54.344268",
     "status": "completed"
    },
    "tags": []
   },
   "source": [
    "Next, we summarize the results."
   ]
  },
  {
   "cell_type": "code",
   "execution_count": 534,
   "metadata": {
    "execution": {
     "iopub.execute_input": "2021-02-21T17:17:54.423027Z",
     "iopub.status.busy": "2021-02-21T17:17:54.422073Z",
     "iopub.status.idle": "2021-02-21T17:17:54.458426Z",
     "shell.execute_reply": "2021-02-21T17:17:54.456968Z"
    },
    "papermill": {
     "duration": 0.064967,
     "end_time": "2021-02-21T17:17:54.458569",
     "exception": false,
     "start_time": "2021-02-21T17:17:54.393602",
     "status": "completed"
    },
    "tags": [],
    "vscode": {
     "languageId": "r"
    }
   },
   "outputs": [
    {
     "data": {
      "text/html": [
       "<table class=\"dataframe\">\n",
       "<caption>A xtable: 3 × 2</caption>\n",
       "<thead>\n",
       "\t<tr><th></th><th scope=col>Estimate</th><th scope=col>Std. Error</th></tr>\n",
       "\t<tr><th></th><th scope=col>&lt;dbl&gt;</th><th scope=col>&lt;dbl&gt;</th></tr>\n",
       "</thead>\n",
       "<tbody>\n",
       "\t<tr><th scope=row>Without controls</th><td>-0.07503201</td><td>0.01834260</td></tr>\n",
       "\t<tr><th scope=row>full reg</th><td>-0.06763390</td><td>0.01676536</td></tr>\n",
       "\t<tr><th scope=row>partial reg</th><td>-0.06763390</td><td>0.01676536</td></tr>\n",
       "</tbody>\n",
       "</table>\n"
      ],
      "text/latex": [
       "A xtable: 3 × 2\n",
       "\\begin{tabular}{r|ll}\n",
       "  & Estimate & Std. Error\\\\\n",
       "  & <dbl> & <dbl>\\\\\n",
       "\\hline\n",
       "\tWithout controls & -0.07503201 & 0.01834260\\\\\n",
       "\tfull reg & -0.06763390 & 0.01676536\\\\\n",
       "\tpartial reg & -0.06763390 & 0.01676536\\\\\n",
       "\\end{tabular}\n"
      ],
      "text/markdown": [
       "\n",
       "A xtable: 3 × 2\n",
       "\n",
       "| <!--/--> | Estimate &lt;dbl&gt; | Std. Error &lt;dbl&gt; |\n",
       "|---|---|---|\n",
       "| Without controls | -0.07503201 | 0.01834260 |\n",
       "| full reg | -0.06763390 | 0.01676536 |\n",
       "| partial reg | -0.06763390 | 0.01676536 |\n",
       "\n"
      ],
      "text/plain": [
       "                 Estimate    Std. Error\n",
       "Without controls -0.07503201 0.01834260\n",
       "full reg         -0.06763390 0.01676536\n",
       "partial reg      -0.06763390 0.01676536"
      ]
     },
     "metadata": {},
     "output_type": "display_data"
    }
   ],
   "source": [
    "table<- matrix(0, 3, 2)\n",
    "table[1,1]<- nocontrol.est  \n",
    "table[1,2]<- nocontrol.se   \n",
    "table[2,1]<- control.est\n",
    "table[2,2]<- control.se    \n",
    "table[3,1]<- partial.est  \n",
    "table[3,2]<- partial.se  \n",
    "\n",
    "colnames(table)<- c(\"Estimate\",\"Std. Error\")\n",
    "rownames(table)<- c(\"Without controls\", \"full reg\", \"partial reg\")\t\n",
    "tab<- xtable(table, digits=c(3, 3, 4))\n",
    "tab"
   ]
  },
  {
   "cell_type": "code",
   "execution_count": 480,
   "metadata": {
    "execution": {
     "iopub.execute_input": "2021-02-21T17:17:54.513692Z",
     "iopub.status.busy": "2021-02-21T17:17:54.511988Z",
     "iopub.status.idle": "2021-02-21T17:17:54.528106Z",
     "shell.execute_reply": "2021-02-21T17:17:54.526677Z"
    },
    "papermill": {
     "duration": 0.044599,
     "end_time": "2021-02-21T17:17:54.528256",
     "exception": false,
     "start_time": "2021-02-21T17:17:54.483657",
     "status": "completed"
    },
    "scrolled": true,
    "tags": [],
    "vscode": {
     "languageId": "r"
    }
   },
   "outputs": [
    {
     "name": "stdout",
     "output_type": "stream",
     "text": [
      "<!-- html table generated in R 4.3.3 by xtable 1.8-4 package -->\n",
      "<!-- Sat Apr 13 16:33:20 2024 -->\n",
      "<table border=1>\n",
      "<tr> <th>  </th> <th> Estimate </th> <th> Std. Error </th>  </tr>\n",
      "  <tr> <td align=\"right\"> Without controls </td> <td align=\"right\"> -0.075 </td> <td align=\"right\"> 0.0183 </td> </tr>\n",
      "  <tr> <td align=\"right\"> full reg </td> <td align=\"right\"> -0.068 </td> <td align=\"right\"> 0.0168 </td> </tr>\n",
      "  <tr> <td align=\"right\"> partial reg </td> <td align=\"right\"> -0.068 </td> <td align=\"right\"> 0.0168 </td> </tr>\n",
      "   </table>\n"
     ]
    }
   ],
   "source": [
    "print(tab, type=\"html\")"
   ]
  },
  {
   "cell_type": "markdown",
   "metadata": {
    "papermill": {
     "duration": 0.025712,
     "end_time": "2021-02-21T17:17:54.579623",
     "exception": false,
     "start_time": "2021-02-21T17:17:54.553911",
     "status": "completed"
    },
    "tags": []
   },
   "source": [
    "<!-- html table generated in R 3.6.3 by xtable 1.8-4 package -->\n",
    "<!-- Mon Jan 18 11:56:24 2021 -->\n",
    "<table border=1>\n",
    "<tr> <th>  </th> <th> Estimate </th> <th> Std. Error </th>  </tr>\n",
    "  <tr> <td align=\"right\"> Without controls </td> <td align=\"right\"> -0.075 </td> <td align=\"right\"> 0.0183 </td> </tr>\n",
    "  <tr> <td align=\"right\"> full reg </td> <td align=\"right\"> -0.068 </td> <td align=\"right\"> 0.0168 </td> </tr>\n",
    "  <tr> <td align=\"right\"> partial reg </td> <td align=\"right\"> -0.068 </td> <td align=\"right\"> 0.0168 </td> </tr>\n",
    "   </table>\n"
   ]
  },
  {
   "cell_type": "markdown",
   "metadata": {
    "papermill": {
     "duration": 0.025752,
     "end_time": "2021-02-21T17:17:54.682415",
     "exception": false,
     "start_time": "2021-02-21T17:17:54.656663",
     "status": "completed"
    },
    "tags": []
   },
   "source": [
    "Next we try \"extra\" flexible model, where we take interactions of all controls, giving us about 1000 controls."
   ]
  },
  {
   "cell_type": "code",
   "execution_count": 481,
   "metadata": {
    "execution": {
     "iopub.execute_input": "2021-02-21T17:17:54.739845Z",
     "iopub.status.busy": "2021-02-21T17:17:54.738234Z",
     "iopub.status.idle": "2021-02-21T17:18:01.410371Z",
     "shell.execute_reply": "2021-02-21T17:18:01.408677Z"
    },
    "papermill": {
     "duration": 6.702636,
     "end_time": "2021-02-21T17:18:01.410656",
     "exception": false,
     "start_time": "2021-02-21T17:17:54.708020",
     "status": "completed"
    },
    "scrolled": true,
    "tags": [],
    "vscode": {
     "languageId": "r"
    }
   },
   "outputs": [
    {
     "name": "stdout",
     "output_type": "stream",
     "text": [
      "Number of Extra-Flex Controls 979 \n",
      "Coefficient for OLS with extra flex controls -0.06127046"
     ]
    }
   ],
   "source": [
    "extraflex <- lwage ~ sex + (exp1+exp2+exp3+exp4+shs+hsg+scl+clg+occ2+ind2+mw+so+we)^2\n",
    "control.fit <- lm(extraflex, data=data)\n",
    "#summary(control.fit)\n",
    "control.est <- summary(control.fit)$coef[2,1]\n",
    "cat(\"Number of Extra-Flex Controls\", length(control.fit$coef)-1, \"\\n\")\n",
    "cat(\"Coefficient for OLS with extra flex controls\", control.est)\n",
    "#summary(control.fit)\n",
    "HCV.coefs <- vcovHC(control.fit, type = 'HC');\n",
    "n= length(wage); p =length(control.fit$coef);\n",
    "control.se <- sqrt(diag(HCV.coefs))[2]*sqrt(n/(n-p)) # Estimated std errors\n",
    "# crude adjustment for the effect of dimensionality on OLS standard errors, motivated by Cattaneo, Jannson, and Newey (2018)\n",
    "# for really correct way of doing this, we need to implement Cattaneo, Jannson, and Newey (2018)'s procedure."
   ]
  },
  {
   "cell_type": "code",
   "execution_count": 482,
   "metadata": {
    "vscode": {
     "languageId": "r"
    }
   },
   "outputs": [],
   "source": [
    "#install.packages(\"ggplot2\")\n",
    "#install.packages(\"dplyr\")"
   ]
  },
  {
   "cell_type": "markdown",
   "metadata": {
    "papermill": {
     "duration": 0.028689,
     "end_time": "2021-02-21T17:18:37.699906",
     "exception": false,
     "start_time": "2021-02-21T17:18:37.671217",
     "status": "completed"
    },
    "tags": []
   },
   "source": [
    "### **2.   Descriptive statistics subset of workers with advanced college education (variables scl, clg, ad).**\n"
   ]
  },
  {
   "cell_type": "markdown",
   "metadata": {},
   "source": [
    "##### 2.1)  Wage & Lwage"
   ]
  },
  {
   "cell_type": "code",
   "execution_count": 483,
   "metadata": {
    "scrolled": true,
    "vscode": {
     "languageId": "r"
    }
   },
   "outputs": [
    {
     "data": {
      "image/png": "[encoded data removed]",
      "text/plain": [
       "plot without title"
      ]
     },
     "metadata": {
      "image/png": {
       "height": 420,
       "width": 420
      }
     },
     "output_type": "display_data"
    }
   ],
   "source": [
    "grafico1 <- ggplot(data) + \n",
    "  geom_density(aes(x = wage), fill = \"steelblue\") +\n",
    "  theme_light() +\n",
    "  labs(title = \"Figure1: Density of wages\") +\n",
    "  theme(plot.title = element_text(hjust = 0.5))\n",
    "\n",
    "print(grafico1)"
   ]
  },
  {
   "cell_type": "code",
   "execution_count": 484,
   "metadata": {
    "vscode": {
     "languageId": "r"
    }
   },
   "outputs": [
    {
     "data": {
      "image/png": "[encoded data removed]",
      "text/plain": [
       "plot without title"
      ]
     },
     "metadata": {
      "image/png": {
       "height": 420,
       "width": 420
      }
     },
     "output_type": "display_data"
    }
   ],
   "source": [
    "grafico2 <- ggplot(data) + \n",
    "  geom_density(aes(x = lwage), fill = \"steelblue\") +\n",
    "  theme_light() +\n",
    "  labs(title = \"Figure2: Density of the logarithm of wages\") +\n",
    "  theme(plot.title = element_text(hjust = 0.5))\n",
    "print(grafico2)"
   ]
  },
  {
   "cell_type": "markdown",
   "metadata": {},
   "source": [
    "#### 2.2 Descriptive data by gender"
   ]
  },
  {
   "cell_type": "code",
   "execution_count": 485,
   "metadata": {
    "vscode": {
     "languageId": "r"
    }
   },
   "outputs": [
    {
     "data": {
      "image/png": "[encoded data removed]",
      "text/plain": [
       "plot without title"
      ]
     },
     "metadata": {
      "image/png": {
       "height": 420,
       "width": 420
      }
     },
     "output_type": "display_data"
    }
   ],
   "source": [
    "data$Gender <- ifelse(data$sex==0, \"Male\", \"Female\")\n",
    "colores <- c(\"steelblue\", \"gray\") \n",
    "ggplot(data, aes(x = Gender, fill = Gender)) + \n",
    "  geom_bar() + \n",
    "  theme_light() +\n",
    "  scale_fill_manual(values = colores) + \n",
    "  ggtitle(\"Figure 3: Number of participants by Gender\")  +\n",
    "  theme(plot.title = element_text(hjust = 0.5))\n",
    "\n"
   ]
  },
  {
   "cell_type": "code",
   "execution_count": 486,
   "metadata": {
    "vscode": {
     "languageId": "r"
    }
   },
   "outputs": [
    {
     "data": {
      "image/png": "[encoded data removed]",
      "text/plain": [
       "plot without title"
      ]
     },
     "metadata": {
      "image/png": {
       "height": 420,
       "width": 420
      }
     },
     "output_type": "display_data"
    }
   ],
   "source": [
    "colores <- c(\"steelblue\", \"gray\") \n",
    "\n",
    "grafico <- ggplot(data, aes(x = lwage, fill = Gender)) +\n",
    "  geom_density(alpha = 0.5) + \n",
    "  scale_fill_manual(values = colores) +\n",
    "  theme_light() +\n",
    "  labs(title = \"Figure 4: Density of the Logarithm of Wages by Gender\") +\n",
    "  theme(plot.title = element_text(hjust = 0.5))\n",
    "\n",
    "print (grafico)"
   ]
  },
  {
   "cell_type": "code",
   "execution_count": 487,
   "metadata": {
    "vscode": {
     "languageId": "r"
    }
   },
   "outputs": [
    {
     "data": {
      "image/png": "[encoded data removed]",
      "text/plain": [
       "plot without title"
      ]
     },
     "metadata": {
      "image/png": {
       "height": 420,
       "width": 420
      }
     },
     "output_type": "display_data"
    }
   ],
   "source": [
    "base4 <- ggplot(data, aes(y = wage))\n",
    "colores <- c(\"steelblue\", \"gray\")\n",
    "\n",
    "base4 + geom_boxplot(aes(x = Gender, fill = Gender)) +\n",
    "  scale_fill_manual(values = colores) +\n",
    "  theme_light() +\n",
    "  labs(title = \"Figure 5:Box Plot of Wages by Gender\")"
   ]
  },
  {
   "cell_type": "code",
   "execution_count": 488,
   "metadata": {
    "vscode": {
     "languageId": "r"
    }
   },
   "outputs": [
    {
     "data": {
      "image/png": "[encoded data removed]",
      "text/plain": [
       "plot without title"
      ]
     },
     "metadata": {
      "image/png": {
       "height": 420,
       "width": 420
      }
     },
     "output_type": "display_data"
    }
   ],
   "source": [
    "data$Some_High_School <- ifelse(data$shs==0, \"No Some High School\", \"Some High School\")\n",
    "\n",
    "data1 <- ggplot(data,aes(Some_High_School))\n",
    "data1 + geom_bar(aes(fill = Gender), position = \"fill\") + \n",
    "scale_fill_manual(values = colores) + ggtitle(\"Figure 6: Some high school by Gender\") +   theme_light()"
   ]
  },
  {
   "cell_type": "code",
   "execution_count": 489,
   "metadata": {
    "scrolled": true,
    "vscode": {
     "languageId": "r"
    }
   },
   "outputs": [
    {
     "data": {
      "image/png": "[encoded data removed]",
      "text/plain": [
       "plot without title"
      ]
     },
     "metadata": {
      "image/png": {
       "height": 420,
       "width": 420
      }
     },
     "output_type": "display_data"
    }
   ],
   "source": [
    "grafico <- ggplot(data, aes(x = exp1, fill = Gender)) +\n",
    "  geom_density(alpha = 0.5) + \n",
    "  scale_fill_manual(values = colores) +\n",
    "  theme_light() +\n",
    "  labs(title = \"Figure 7: Density of the Experience by Gender\") +\n",
    "  theme(plot.title = element_text(hjust = 0.5))\n",
    "\n",
    "print (grafico)"
   ]
  },
  {
   "cell_type": "code",
   "execution_count": 490,
   "metadata": {
    "vscode": {
     "languageId": "r"
    }
   },
   "outputs": [
    {
     "data": {
      "image/png": "[encoded data removed]",
      "text/plain": [
       "plot without title"
      ]
     },
     "metadata": {
      "image/png": {
       "height": 420,
       "width": 420
      }
     },
     "output_type": "display_data"
    }
   ],
   "source": [
    "data1 <- ggplot(data,aes(exp1))\n",
    "colores <- c(\"steelblue\", \"gray\")\n",
    "\n",
    "data1 + geom_histogram(aes(fill = Gender), binwidth = 5) + \n",
    "  scale_fill_manual(values = colores) +\n",
    "  ggtitle(\"Figure 8: Experience by Gender\") +  \n",
    "  theme_light()"
   ]
  },
  {
   "cell_type": "markdown",
   "metadata": {},
   "source": [
    "### **3. Confidence Interval of sex's coefficient for a different models:**\n"
   ]
  },
  {
   "cell_type": "code",
   "execution_count": 535,
   "metadata": {
    "vscode": {
     "languageId": "r"
    }
   },
   "outputs": [],
   "source": [
    "CIdf <- data.frame(x = c('No Control','With Control','Partialling Out'),\n",
    "                         y = c(nocontrol.est,control.est,partial.est),\n",
    "                         lower = c(CI1low,CI2low,CI3low),\n",
    "                         upper = c(CI1upper,CI2upper,CI3upper))\n"
   ]
  },
  {
   "cell_type": "code",
   "execution_count": 543,
   "metadata": {
    "vscode": {
     "languageId": "r"
    }
   },
   "outputs": [
    {
     "data": {
      "image/png": "[encoded data removed]",
      "text/plain": [
       "plot without title"
      ]
     },
     "metadata": {
      "image/png": {
       "height": 420,
       "width": 420
      }
     },
     "output_type": "display_data"
    }
   ],
   "source": [
    "ggplot(CIdf, aes(x, y)) +\n",
    "  geom_point(color = \"darkred\") +  # Puntos rojos\n",
    "  geom_errorbar(aes(ymin = lower, ymax = upper), color = \"navyblue\") +  # Borde de los intervalos de error azules\n",
    "  ggtitle(\"Figure 9: C.I. of the sex variable according to different estimations.\") +\n",
    "  theme_light()"
   ]
  },
  {
   "cell_type": "markdown",
   "metadata": {},
   "source": [
    "### **4. Replication of the figure: Experience Profiles and Wage Gap for High School Graduates**\n"
   ]
  },
  {
   "cell_type": "code",
   "execution_count": 621,
   "metadata": {
    "vscode": {
     "languageId": "r"
    }
   },
   "outputs": [],
   "source": [
    "data_hsg <- data[data$hsg==1,]\n",
    "data_clg <- data[data$clg==1,]"
   ]
  },
  {
   "cell_type": "code",
   "execution_count": 624,
   "metadata": {
    "scrolled": true,
    "vscode": {
     "languageId": "r"
    }
   },
   "outputs": [
    {
     "data": {
      "text/html": [
       "40"
      ],
      "text/latex": [
       "40"
      ],
      "text/markdown": [
       "40"
      ],
      "text/plain": [
       "[1] 40"
      ]
     },
     "metadata": {},
     "output_type": "display_data"
    },
    {
     "data": {
      "text/html": [
       "40"
      ],
      "text/latex": [
       "40"
      ],
      "text/markdown": [
       "40"
      ],
      "text/plain": [
       "[1] 40"
      ]
     },
     "metadata": {},
     "output_type": "display_data"
    },
    {
     "data": {
      "text/html": [
       "<table class=\"dataframe\">\n",
       "<caption>A tibble: 6 × 3</caption>\n",
       "<thead>\n",
       "\t<tr><th scope=col>exp2</th><th scope=col>Promlwageo</th><th scope=col>PromMov</th></tr>\n",
       "\t<tr><th scope=col>&lt;dbl&gt;</th><th scope=col>&lt;dbl&gt;</th><th scope=col>&lt;dbl&gt;</th></tr>\n",
       "</thead>\n",
       "<tbody>\n",
       "\t<tr><td>0.25</td><td>2.571897</td><td>2.571897</td></tr>\n",
       "\t<tr><td>0.36</td><td>2.563404</td><td>2.568463</td></tr>\n",
       "\t<tr><td>0.49</td><td>2.630928</td><td>2.586276</td></tr>\n",
       "\t<tr><td>0.64</td><td>2.705300</td><td>2.607477</td></tr>\n",
       "\t<tr><td>0.81</td><td>2.539439</td><td>2.595123</td></tr>\n",
       "\t<tr><td>1.00</td><td>2.764200</td><td>2.621106</td></tr>\n",
       "</tbody>\n",
       "</table>\n"
      ],
      "text/latex": [
       "A tibble: 6 × 3\n",
       "\\begin{tabular}{lll}\n",
       " exp2 & Promlwageo & PromMov\\\\\n",
       " <dbl> & <dbl> & <dbl>\\\\\n",
       "\\hline\n",
       "\t 0.25 & 2.571897 & 2.571897\\\\\n",
       "\t 0.36 & 2.563404 & 2.568463\\\\\n",
       "\t 0.49 & 2.630928 & 2.586276\\\\\n",
       "\t 0.64 & 2.705300 & 2.607477\\\\\n",
       "\t 0.81 & 2.539439 & 2.595123\\\\\n",
       "\t 1.00 & 2.764200 & 2.621106\\\\\n",
       "\\end{tabular}\n"
      ],
      "text/markdown": [
       "\n",
       "A tibble: 6 × 3\n",
       "\n",
       "| exp2 &lt;dbl&gt; | Promlwageo &lt;dbl&gt; | PromMov &lt;dbl&gt; |\n",
       "|---|---|---|\n",
       "| 0.25 | 2.571897 | 2.571897 |\n",
       "| 0.36 | 2.563404 | 2.568463 |\n",
       "| 0.49 | 2.630928 | 2.586276 |\n",
       "| 0.64 | 2.705300 | 2.607477 |\n",
       "| 0.81 | 2.539439 | 2.595123 |\n",
       "| 1.00 | 2.764200 | 2.621106 |\n",
       "\n"
      ],
      "text/plain": [
       "  exp2 Promlwageo PromMov \n",
       "1 0.25 2.571897   2.571897\n",
       "2 0.36 2.563404   2.568463\n",
       "3 0.49 2.630928   2.586276\n",
       "4 0.64 2.705300   2.607477\n",
       "5 0.81 2.539439   2.595123\n",
       "6 1.00 2.764200   2.621106"
      ]
     },
     "metadata": {},
     "output_type": "display_data"
    },
    {
     "data": {
      "text/html": [
       "40"
      ],
      "text/latex": [
       "40"
      ],
      "text/markdown": [
       "40"
      ],
      "text/plain": [
       "[1] 40"
      ]
     },
     "metadata": {},
     "output_type": "display_data"
    },
    {
     "data": {
      "text/html": [
       "40"
      ],
      "text/latex": [
       "40"
      ],
      "text/markdown": [
       "40"
      ],
      "text/plain": [
       "[1] 40"
      ]
     },
     "metadata": {},
     "output_type": "display_data"
    },
    {
     "data": {
      "text/html": [
       "<table class=\"dataframe\">\n",
       "<caption>A tibble: 6 × 3</caption>\n",
       "<thead>\n",
       "\t<tr><th scope=col>exp2</th><th scope=col>Promlwageo</th><th scope=col>PromMov</th></tr>\n",
       "\t<tr><th scope=col>&lt;dbl&gt;</th><th scope=col>&lt;dbl&gt;</th><th scope=col>&lt;dbl&gt;</th></tr>\n",
       "</thead>\n",
       "<tbody>\n",
       "\t<tr><td>0.01</td><td>3.031143</td><td>3.031143</td></tr>\n",
       "\t<tr><td>0.04</td><td>3.019492</td><td>3.025765</td></tr>\n",
       "\t<tr><td>0.09</td><td>3.061553</td><td>3.036540</td></tr>\n",
       "\t<tr><td>0.16</td><td>3.070771</td><td>3.043327</td></tr>\n",
       "\t<tr><td>0.25</td><td>3.030900</td><td>3.041500</td></tr>\n",
       "\t<tr><td>0.36</td><td>3.182292</td><td>3.056320</td></tr>\n",
       "</tbody>\n",
       "</table>\n"
      ],
      "text/latex": [
       "A tibble: 6 × 3\n",
       "\\begin{tabular}{lll}\n",
       " exp2 & Promlwageo & PromMov\\\\\n",
       " <dbl> & <dbl> & <dbl>\\\\\n",
       "\\hline\n",
       "\t 0.01 & 3.031143 & 3.031143\\\\\n",
       "\t 0.04 & 3.019492 & 3.025765\\\\\n",
       "\t 0.09 & 3.061553 & 3.036540\\\\\n",
       "\t 0.16 & 3.070771 & 3.043327\\\\\n",
       "\t 0.25 & 3.030900 & 3.041500\\\\\n",
       "\t 0.36 & 3.182292 & 3.056320\\\\\n",
       "\\end{tabular}\n"
      ],
      "text/markdown": [
       "\n",
       "A tibble: 6 × 3\n",
       "\n",
       "| exp2 &lt;dbl&gt; | Promlwageo &lt;dbl&gt; | PromMov &lt;dbl&gt; |\n",
       "|---|---|---|\n",
       "| 0.01 | 3.031143 | 3.031143 |\n",
       "| 0.04 | 3.019492 | 3.025765 |\n",
       "| 0.09 | 3.061553 | 3.036540 |\n",
       "| 0.16 | 3.070771 | 3.043327 |\n",
       "| 0.25 | 3.030900 | 3.041500 |\n",
       "| 0.36 | 3.182292 | 3.056320 |\n",
       "\n"
      ],
      "text/plain": [
       "  exp2 Promlwageo PromMov \n",
       "1 0.01 3.031143   3.031143\n",
       "2 0.04 3.019492   3.025765\n",
       "3 0.09 3.061553   3.036540\n",
       "4 0.16 3.070771   3.043327\n",
       "5 0.25 3.030900   3.041500\n",
       "6 0.36 3.182292   3.056320"
      ]
     },
     "metadata": {},
     "output_type": "display_data"
    },
    {
     "data": {
      "text/html": [
       "40"
      ],
      "text/latex": [
       "40"
      ],
      "text/markdown": [
       "40"
      ],
      "text/plain": [
       "[1] 40"
      ]
     },
     "metadata": {},
     "output_type": "display_data"
    }
   ],
   "source": [
    "library(dplyr)\n",
    "Tabla_hsg=data_hsg%>% \n",
    "  group_by(exp2) %>% \n",
    "  summarise(Promlwageo = mean(lwage))\n",
    "\n",
    "Tabla_clg=data_clg%>% \n",
    "  group_by(exp2) %>% \n",
    "  summarise(Promlwageo = mean(lwage))\n",
    "\n",
    "nivel_hsg = c(unique(data_hsg$exp2))\n",
    "nivel_hsg = sort(nivel_hsg)\n",
    "length(nivel_hsg)\n",
    "\n",
    "Promedio=rep(0,length(unique(data_hsg$exp2)))\n",
    "length(Promedio)\n",
    "for (i in 1:40) {Promedio[i]= mean(data_hsg$lwage[data_hsg$exp2<=nivel_hsg[i]])}\n",
    "Tabla_hsg$PromMov=Promedio\n",
    "head(Tabla_hsg)\n",
    "\n",
    "nivel_clg = c(unique(data_clg$exp2))\n",
    "nivel_clg = sort(nivel_clg)\n",
    "length(nivel_clg)\n",
    "Promedio=rep(0,length(unique(data_clg$exp2)))\n",
    "length(Promedio)\n",
    "for (i in 1:40) {Promedio[i]= mean(data_clg$lwage[data_clg$exp2<=nivel_clg[i]])}\n",
    "Tabla_clg$PromMov=Promedio\n",
    "head(Tabla_clg)\n",
    "\n",
    "nivel_hsg = c(unique(data_hsg$exp2))\n",
    "nivel_hsg = sort(nivel_hsg)\n",
    "\n",
    "Promedio=rep(0,length(unique(data_hsg$exp2)))\n",
    "length(Promedio)\n",
    "for (i in 1:40) {Promedio[i]= mean(data_hsg$lwage[data_hsg$exp2<=nivel_hsg[i]])}\n",
    "Tabla_hsg$PromMov=Promedio\n"
   ]
  },
  {
   "cell_type": "markdown",
   "metadata": {},
   "source": [
    "#Figure 1\n",
    "x = Tabla_clg$exp2\n",
    "x_1 = Tabla_scl$exp2\n",
    "y = Tabla_clg$PromMov\n",
    "y_1 = Tabla_scl$PromMov\n",
    "\n",
    "plot(x, y, ylim=c(2.5,3.2),type = 'l',xlab = \"Years of Potencial Experience\", \n",
    "     ylab=\"Log Wage(or Wage Gap)\", main=\"Figure 1. Real SCL and CLG\", xlim=c(0,45),col=\"darkblue\" )    \n",
    "lines(x_1, y_1,col=\"darkgreen\", type = 'l')\n",
    "grid(nx = NULL, ny = NULL, lty = 2, col = \"gray\", lwd = 1)\n",
    "axis(side = 1, at=seq(0,43,by=5))\n",
    "legend(x=\"topleft\",\n",
    "       legend = c(\"Real CLG\",\"Real SCL\")\n",
    "       ,col = c(\"darkblue\",\"darkgreen\")\n",
    "       ,cex=0.75, x.intersp=1.5, y.intersp=0.8, text.width = c(5), \n",
    "       lty=c(1,1))"
   ]
  },
  {
   "cell_type": "code",
   "execution_count": 625,
   "metadata": {
    "vscode": {
     "languageId": "r"
    }
   },
   "outputs": [],
   "source": [
    "flex1 <- lwage ~ sex + (exp1+exp2+exp3+exp4)*(shs+hsg+scl+clg+occ2+ind2+mw+so+we) \n",
    "control.fit1 <- lm(flex, data=data)\n",
    "Predict=predict(control.fit1)\n",
    "data$Predict=Predict\n",
    "data_sclP <- data[data$scl==1,]\n",
    "data_clgP <- data[data$clg==1,]"
   ]
  },
  {
   "cell_type": "code",
   "execution_count": 627,
   "metadata": {
    "vscode": {
     "languageId": "r"
    }
   },
   "outputs": [
    {
     "data": {
      "text/html": [
       "40"
      ],
      "text/latex": [
       "40"
      ],
      "text/markdown": [
       "40"
      ],
      "text/plain": [
       "[1] 40"
      ]
     },
     "metadata": {},
     "output_type": "display_data"
    },
    {
     "data": {
      "text/html": [
       "<table class=\"dataframe\">\n",
       "<caption>A tibble: 6 × 3</caption>\n",
       "<thead>\n",
       "\t<tr><th scope=col>exp2</th><th scope=col>PromPredict</th><th scope=col>PromMovP</th></tr>\n",
       "\t<tr><th scope=col>&lt;dbl&gt;</th><th scope=col>&lt;dbl&gt;</th><th scope=col>&lt;dbl&gt;</th></tr>\n",
       "</thead>\n",
       "<tbody>\n",
       "\t<tr><td>0.25</td><td>2.553731</td><td>2.553731</td></tr>\n",
       "\t<tr><td>0.36</td><td>2.586924</td><td>2.567149</td></tr>\n",
       "\t<tr><td>0.49</td><td>2.652755</td><td>2.591562</td></tr>\n",
       "\t<tr><td>0.64</td><td>2.619963</td><td>2.596621</td></tr>\n",
       "\t<tr><td>0.81</td><td>2.667957</td><td>2.609574</td></tr>\n",
       "\t<tr><td>1.00</td><td>2.683254</td><td>2.620897</td></tr>\n",
       "</tbody>\n",
       "</table>\n"
      ],
      "text/latex": [
       "A tibble: 6 × 3\n",
       "\\begin{tabular}{lll}\n",
       " exp2 & PromPredict & PromMovP\\\\\n",
       " <dbl> & <dbl> & <dbl>\\\\\n",
       "\\hline\n",
       "\t 0.25 & 2.553731 & 2.553731\\\\\n",
       "\t 0.36 & 2.586924 & 2.567149\\\\\n",
       "\t 0.49 & 2.652755 & 2.591562\\\\\n",
       "\t 0.64 & 2.619963 & 2.596621\\\\\n",
       "\t 0.81 & 2.667957 & 2.609574\\\\\n",
       "\t 1.00 & 2.683254 & 2.620897\\\\\n",
       "\\end{tabular}\n"
      ],
      "text/markdown": [
       "\n",
       "A tibble: 6 × 3\n",
       "\n",
       "| exp2 &lt;dbl&gt; | PromPredict &lt;dbl&gt; | PromMovP &lt;dbl&gt; |\n",
       "|---|---|---|\n",
       "| 0.25 | 2.553731 | 2.553731 |\n",
       "| 0.36 | 2.586924 | 2.567149 |\n",
       "| 0.49 | 2.652755 | 2.591562 |\n",
       "| 0.64 | 2.619963 | 2.596621 |\n",
       "| 0.81 | 2.667957 | 2.609574 |\n",
       "| 1.00 | 2.683254 | 2.620897 |\n",
       "\n"
      ],
      "text/plain": [
       "  exp2 PromPredict PromMovP\n",
       "1 0.25 2.553731    2.553731\n",
       "2 0.36 2.586924    2.567149\n",
       "3 0.49 2.652755    2.591562\n",
       "4 0.64 2.619963    2.596621\n",
       "5 0.81 2.667957    2.609574\n",
       "6 1.00 2.683254    2.620897"
      ]
     },
     "metadata": {},
     "output_type": "display_data"
    },
    {
     "data": {
      "text/html": [
       "40"
      ],
      "text/latex": [
       "40"
      ],
      "text/markdown": [
       "40"
      ],
      "text/plain": [
       "[1] 40"
      ]
     },
     "metadata": {},
     "output_type": "display_data"
    },
    {
     "data": {
      "text/html": [
       "<table class=\"dataframe\">\n",
       "<caption>A tibble: 6 × 3</caption>\n",
       "<thead>\n",
       "\t<tr><th scope=col>exp2</th><th scope=col>PromPredict</th><th scope=col>PromMov</th></tr>\n",
       "\t<tr><th scope=col>&lt;dbl&gt;</th><th scope=col>&lt;dbl&gt;</th><th scope=col>&lt;dbl&gt;</th></tr>\n",
       "</thead>\n",
       "<tbody>\n",
       "\t<tr><td>0.01</td><td>3.024485</td><td>3.024485</td></tr>\n",
       "\t<tr><td>0.04</td><td>3.015086</td><td>3.020147</td></tr>\n",
       "\t<tr><td>0.09</td><td>3.070717</td><td>3.035372</td></tr>\n",
       "\t<tr><td>0.16</td><td>3.076058</td><td>3.043439</td></tr>\n",
       "\t<tr><td>0.25</td><td>3.073906</td><td>3.047920</td></tr>\n",
       "\t<tr><td>0.36</td><td>3.105220</td><td>3.053951</td></tr>\n",
       "</tbody>\n",
       "</table>\n"
      ],
      "text/latex": [
       "A tibble: 6 × 3\n",
       "\\begin{tabular}{lll}\n",
       " exp2 & PromPredict & PromMov\\\\\n",
       " <dbl> & <dbl> & <dbl>\\\\\n",
       "\\hline\n",
       "\t 0.01 & 3.024485 & 3.024485\\\\\n",
       "\t 0.04 & 3.015086 & 3.020147\\\\\n",
       "\t 0.09 & 3.070717 & 3.035372\\\\\n",
       "\t 0.16 & 3.076058 & 3.043439\\\\\n",
       "\t 0.25 & 3.073906 & 3.047920\\\\\n",
       "\t 0.36 & 3.105220 & 3.053951\\\\\n",
       "\\end{tabular}\n"
      ],
      "text/markdown": [
       "\n",
       "A tibble: 6 × 3\n",
       "\n",
       "| exp2 &lt;dbl&gt; | PromPredict &lt;dbl&gt; | PromMov &lt;dbl&gt; |\n",
       "|---|---|---|\n",
       "| 0.01 | 3.024485 | 3.024485 |\n",
       "| 0.04 | 3.015086 | 3.020147 |\n",
       "| 0.09 | 3.070717 | 3.035372 |\n",
       "| 0.16 | 3.076058 | 3.043439 |\n",
       "| 0.25 | 3.073906 | 3.047920 |\n",
       "| 0.36 | 3.105220 | 3.053951 |\n",
       "\n"
      ],
      "text/plain": [
       "  exp2 PromPredict PromMov \n",
       "1 0.01 3.024485    3.024485\n",
       "2 0.04 3.015086    3.020147\n",
       "3 0.09 3.070717    3.035372\n",
       "4 0.16 3.076058    3.043439\n",
       "5 0.25 3.073906    3.047920\n",
       "6 0.36 3.105220    3.053951"
      ]
     },
     "metadata": {},
     "output_type": "display_data"
    }
   ],
   "source": [
    "\n",
    "\n",
    "library(dplyr)\n",
    "\n",
    "#Using \"sclP\"\n",
    "Tabla_hsgP=data_hsgP%>% \n",
    "  group_by(exp2) %>% \n",
    "  summarise(PromPredict = mean(Predict))\n",
    "\n",
    "nivel_hsgP = c(unique(data_hsgP$exp2))\n",
    "nivel_hsgP = sort(nivel_hsgP)\n",
    "\n",
    "Promedio=rep(0,length(unique(data_hsgP$exp2)))\n",
    "length(Promedio)\n",
    "for (i in 1:40) {Promedio[i]= mean(data_hsgP$Predict[data_hsgP$exp2<=nivel_hsgP[i]])}\n",
    "\n",
    "Tabla_hsgP$PromMovP=Promedio\n",
    "head(Tabla_hsgP)\n",
    "\n",
    "# We repeat for \"clgP\"\n",
    "Tabla_clgP=data_clgP%>% \n",
    "  group_by(exp2) %>% \n",
    "  summarise(PromPredict = mean(Predict))\n",
    "\n",
    "nivel_clgP = c(unique(data_clgP$exp2))\n",
    "nivel_clgP = sort(nivel_clgP)\n",
    "\n",
    "Promedio=rep(0,length(unique(data_clgP$exp2)))\n",
    "length(Promedio)\n",
    "for (i in 1:40) {Promedio[i]= mean(data_clgP$Predict[data_clgP$exp2<=nivel_clgP[i]])}\n",
    "\n",
    "Tabla_clgP$PromMov=Promedio\n",
    "head(Tabla_clgP)"
   ]
  },
  {
   "cell_type": "code",
   "execution_count": 654,
   "metadata": {
    "vscode": {
     "languageId": "r"
    }
   },
   "outputs": [
    {
     "data": {
      "image/png": "[encoded data removed]",
      "text/plain": [
       "Plot with title \"Figure 10: Comparison between actual and fitted for CLG and HSG\""
      ]
     },
     "metadata": {
      "image/png": {
       "height": 420,
       "width": 420
      }
     },
     "output_type": "display_data"
    }
   ],
   "source": [
    "x = Tabla_clg$exp2\n",
    "x_1 = Tabla_hsg$exp2\n",
    "x_2= Tabla_hsgP$exp2\n",
    "x_3= Tabla_clgP$exp2\n",
    "y = Tabla_clg$PromMov\n",
    "y_1 = Tabla_hsg$PromMov\n",
    "y_2 = Tabla_hsgP$PromMovP\n",
    "y_3 = Tabla_clgP$PromMov\n",
    "\n",
    "plot(x, y, ylim=c(2,3.2),type = 'l',xlab = \"Years of Potencial Experience\", \n",
    "     ylab=\"Log Wage(or Wage Gap)\", main=\"Figure 10: Comparison between actual and fitted for CLG and HSG\", xlim=c(0,15),col=\"navyblue\" )    \n",
    "lines(x_1, y_1,col=\"black\", type = 'l')\n",
    "lines (x_2,y_2, col= \"darkred\",lty = 2)\n",
    "lines (x_3,y_3, col=\"darkred\", lty = 2)\n",
    "grid(nx = NULL, ny = NULL, lty = 2, col = \"gray\", lwd = 1)\n",
    "axis(side = 1, at=seq(0,15,by=5))\n",
    "legend(x=\"right\",\n",
    "       legend = c(\"Actual CLG\",\"Actual HSG\",\"Fitted\")\n",
    "       ,col = c(\"navyblue\",\"black\",\"darkred\")\n",
    "       ,cex=0.75, x.intersp=1, y.intersp=0.75, text.width = c(3), \n",
    "       lty=c(2,1))"
   ]
  },
  {
   "cell_type": "markdown",
   "metadata": {
    "vscode": {
     "languageId": "r"
    }
   },
   "source": [
    "Now, we will construct a prediction rule for (log) hourly wage **Y**, which depends linearly on job-relevant characteristics **X**:\r\n",
    "\r\n",
    "$$\r\n",
    "Y = \\beta'X + \\epsilon\r\n",
    "$$\r\n",
    "\r\n",
    "Our goals are:\r\n",
    "\r\n",
    "- Predict wages using various characteristics of workers.\r\n",
    "- Assess the predictive performance of a given model using the (adjusted) sample MSE, the (adjusted) sample $R^2$ and the out-of-sample MSE and $R^2$.\r\n",
    "\r\n",
    "Toward answering the latter, we measure the prediction quality of the two models via data splitting:\r\n",
    "\r\n",
    "1. Randomly split the data into one training sample and one testing sample. Here we just use a simple method (stratified splitting is a more sophisticated version of splitting that we might consider).\r\n",
    "2. Use the training sample to estimate the parameters of the Basic Model and the Flexible Model.\r\n",
    "\r\n",
    "Before using the testing sample, we evaluate in-sample fit.\r\n"
   ]
  },
  {
   "cell_type": "code",
   "execution_count": 9,
   "metadata": {},
   "outputs": [
    {
     "name": "stderr",
     "output_type": "stream",
     "text": [
      "Warning message:\n",
      "\"dependencies 'MASS', 'lattice' are not available\"also installing the dependencies 'nlme', 'farver', 'Matrix', 'survival', 'RcppEigen', 'isoband', 'mgcv', 'scales', 'glmnet', 'ggplot2'\n",
      "\n",
      "Warning message:\n",
      "\"unable to access index for repository https://cran.r-project.org/bin/windows/contrib/3.6:\n",
      "  no fue posible abrir la URL 'https://cran.r-project.org/bin/windows/contrib/3.6/PACKAGES'\"Packages which are only available in source form, and may need\n",
      "  compilation of C/C++/Fortran: 'nlme' 'farver' 'Matrix' 'survival'\n",
      "  'RcppEigen' 'isoband' 'mgcv' 'scales' 'glmnet'\n",
      "installing the source packages 'nlme', 'farver', 'Matrix', 'survival', 'RcppEigen', 'isoband', 'mgcv', 'scales', 'glmnet', 'ggplot2', 'hdm'\n",
      "\n",
      "Warning message in install.packages(\"hdm\"):\n",
      "\"installation of package 'nlme' had non-zero exit status\"Warning message in install.packages(\"hdm\"):\n",
      "\"installation of package 'farver' had non-zero exit status\"Warning message in install.packages(\"hdm\"):\n",
      "\"installation of package 'Matrix' had non-zero exit status\"Warning message in install.packages(\"hdm\"):\n",
      "\"installation of package 'RcppEigen' had non-zero exit status\"Warning message in install.packages(\"hdm\"):\n",
      "\"installation of package 'isoband' had non-zero exit status\"Warning message in install.packages(\"hdm\"):\n",
      "\"installation of package 'survival' had non-zero exit status\"Warning message in install.packages(\"hdm\"):\n",
      "\"installation of package 'mgcv' had non-zero exit status\"Warning message in install.packages(\"hdm\"):\n",
      "\"installation of package 'scales' had non-zero exit status\"Warning message in install.packages(\"hdm\"):\n",
      "\"installation of package 'glmnet' had non-zero exit status\"Warning message in install.packages(\"hdm\"):\n",
      "\"installation of package 'ggplot2' had non-zero exit status\"Warning message in install.packages(\"hdm\"):\n",
      "\"installation of package 'hdm' had non-zero exit status\"Warning message:\n",
      "\"dependency 'lattice' is not available\"also installing the dependencies 'Matrix', 'survival', 'RcppEigen'\n",
      "\n",
      "Warning message:\n",
      "\"unable to access index for repository https://cran.r-project.org/bin/windows/contrib/3.6:\n",
      "  no fue posible abrir la URL 'https://cran.r-project.org/bin/windows/contrib/3.6/PACKAGES'\"Packages which are only available in source form, and may need\n",
      "  compilation of C/C++/Fortran: 'Matrix' 'survival' 'RcppEigen'\n",
      "  'glmnet'\n",
      "installing the source packages 'Matrix', 'survival', 'RcppEigen', 'glmnet'\n",
      "\n",
      "Warning message in install.packages(\"glmnet\"):\n",
      "\"installation of package 'Matrix' had non-zero exit status\"Warning message in install.packages(\"glmnet\"):\n",
      "\"installation of package 'RcppEigen' had non-zero exit status\"Warning message in install.packages(\"glmnet\"):\n",
      "\"installation of package 'survival' had non-zero exit status\"Warning message in install.packages(\"glmnet\"):\n",
      "\"installation of package 'glmnet' had non-zero exit status\"Warning message:\n",
      "\"unable to access index for repository https://cran.r-project.org/bin/windows/contrib/3.6:\n",
      "  no fue posible abrir la URL 'https://cran.r-project.org/bin/windows/contrib/3.6/PACKAGES'\"installing the source package 'knitr'\n",
      "\n"
     ]
    },
    {
     "ename": "ERROR",
     "evalue": "Error in library(hdm): there is no package called 'hdm'\n",
     "output_type": "error",
     "traceback": [
      "Error in library(hdm): there is no package called 'hdm'\nTraceback:\n",
      "1. library(hdm)"
     ]
    }
   ],
   "source": [
    "# Install packages\n",
    "install.packages(\"hdm\")\n",
    "install.packages(\"glmnet\")\n",
    "install.packages(\"knitr\")\n",
    "\n",
    "\n",
    "# Load libraries\n",
    "library(hdm)\n",
    "library(xtable)\n",
    "library(glmnet)\n",
    "library(knitr)\n",
    "library(ggplot2)\n",
    "# Load the data\n",
    "data <- read.csv(../../data/wage2015_subsample_inference.csv)\n",
    "\n",
    "# Define alpha values\n",
    "alphas <- seq(0.1, 0.5, length.out = 5)\n",
    "\n",
    "# Split data into training and test sets\n",
    "n <- length(log(data$wage))\n",
    "\n",
    "set.seed(1)\n",
    "\n",
    "random <- sample(1:n, floor(n*4/5))\n",
    "train <- data[random,]\n",
    "test <- data[-random,]\n",
    "\n"
   ]
  },
  {
   "cell_type": "code",
   "execution_count": null,
   "metadata": {},
   "outputs": [],
   "source": [
    "# Basic model using OLS\n",
    "# 1. basic model\n",
    "basic <- lwage~ (sex + exp1 + shs + hsg + scl + clg + mw + so + we + C(occ2) + C(ind2))\n",
    "regbasic <- lm(basic, data=train) #\n",
    "cat(\"Number of regressors in the basic model:\", length(regbasic$coef), '\\n') # number of regressors in the Basic Model\n",
    "\n",
    "# Flexible model using OLS\n",
    "flex <- lwage ~ sex + shs + hsg + scl + clg + mw + so + we + C(occ2) + C(ind2) + (exp1 + exp2 + exp3 + exp4) * (shs + hsg + scl + clg + C(occ2) + C(ind2) + mw + so + we)\n",
    "regflex <- lm(flex, data=train)\n",
    "cat(\"Number of regressors in the flexible model:\", length(regflex$coef)) # number of regressors in the Flexible Model\n",
    "\n"
   ]
  },
  {
   "cell_type": "code",
   "execution_count": null,
   "metadata": {},
   "outputs": [],
   "source": [
    "# Flexible model using Lasso, in-sample fit\n",
    "train_flex <- model.matrix(flex, train) # all regressors\n",
    "\n",
    "# Initialize the dataframe to store the results\n",
    "results <- data.frame(alpha = numeric(), mse = numeric(), lambda_min = numeric(), nzero = integer())\n",
    "\n",
    "for (alpha in alphas) {\n",
    "  fit.lasso.cv <- cv.glmnet(as.matrix(train_flex), train$lwage, family = \"gaussian\", alpha = alpha, nfolds = 5)\n",
    "  yhat.lasso.cv <- predict(fit.lasso.cv, newx = as.matrix(train_flex), s = \"lambda.min\") # in-sample fit\n",
    "  \n",
    "  # Calculate MSE\n",
    "  mse <- mean((train$lwage - yhat.lasso.cv) ^ 2)\n",
    "  \n",
    "  # Save the results\n",
    "  results <- rbind(results, data.frame(alpha = alpha, mse = mse, lambda_min = fit.lasso.cv$lambda.min, nzero = length(coef(fit.lasso.cv, s = \"lambda.min\"))))\n",
    "}\n",
    "\n",
    "# Sort the results by MSE\n",
    "results <- results[order(results$mse), ]\n",
    "\n"
   ]
  },
  {
   "cell_type": "code",
   "execution_count": null,
   "metadata": {},
   "outputs": [],
   "source": [
    "# Display the results as a table and plot\n",
    "\n",
    "kable(results, format = \"latex\", caption = \"Resultados de la Validación de Lasso\")\n",
    "\n",
    "ggplot(results, aes(x = alpha, y = mse)) +\n",
    "  geom_line() +\n",
    "  geom_point() +\n",
    "  labs(title = \"Cross-validated MSE for each Alpha\", x = \"Alpha\", y = \"MSE\") +\n",
    "  theme_minimal()\n",
    "\n",
    "# Chosen alpha\n",
    "best_alpha <- results[1, \"alpha\"]\n",
    "\n"
   ]
  },
  {
   "cell_type": "markdown",
   "metadata": {},
   "source": [
    "### Data Splitting: Out-of-sample performance\r\n",
    "\r\n",
    "Now that we have seen in-sample fit, we evaluate our models on the out-of-sample performance:\r\n",
    "\r\n",
    "1. Use the testing sample for evaluation. Predict the **wage** of every observation in the testing sample based on the estimated parameters in the training sample.\r\n",
    "2. Calculate the Mean Squared Prediction Error (**MSE<sub>test</sub>**) based on the testing sample for both prediction models.\r\n",
    "\n"
   ]
  },
  {
   "cell_type": "code",
   "execution_count": null,
   "metadata": {},
   "outputs": [],
   "source": [
    "# basic model\n",
    "options(warn=-1) # ignore warnings\n",
    "regbasic <- lm(basic, data=train)\n",
    "\n",
    "# calculating the out-of-sample MSE\n",
    "yhat.bas <- predict(regbasic, newdata=test)\n",
    "y.test <- test$lwage\n",
    "mean.train = mean(train$lwage)\n",
    "MSE.test1 <- sum((y.test - yhat.bas) ^ 2) / length(y.test)\n",
    "R2.test1 <- 1 - MSE.test1 / mean((y.test - mean.train) ^ 2)\n",
    "\n",
    "cat(\"Test MSE for the basic model: \", MSE.test1, \" \")\n",
    "cat(\"Test R2 for the basic model: \", R2.test1)\n",
    "\n"
   ]
  },
  {
   "cell_type": "code",
   "execution_count": null,
   "metadata": {},
   "outputs": [],
   "source": [
    "# flexible model\n",
    "options(warn=-1) # ignore warnings\n",
    "regflex <- lm(flex, data=train)\n",
    "\n",
    "# calculating the out-of-sample MSE\n",
    "yhat.flex <- predict(regflex, newdata=test)\n",
    "y.test <- test$lwage\n",
    "mean.train = mean(train$lwage)\n",
    "MSE.test2 <- sum((y.test - yhat.flex) ^ 2) / length(y.test)\n",
    "R2.test2 <- 1 - MSE.test2 / mean((y.test - mean.train) ^ 2)\n",
    "\n",
    "cat(\"Test MSE for the flexible model: \", MSE.test2, \" \")\n",
    "cat(\"Test R2 for the flexible model: \", R2.test2)\n",
    "\n"
   ]
  },
  {
   "cell_type": "code",
   "execution_count": null,
   "metadata": {},
   "outputs": [],
   "source": [
    "# Flexible model using Lasso\n",
    "# model matrix should be formed before train/test as some levels dropped\n",
    "flex_data = model.matrix(flex, data)\n",
    "train_flex <- flex_data[random,]\n",
    "test_flex <- flex_data[-random,]\n",
    "\n",
    "fit.lasso.cv  <- cv.glmnet(train_flex, train$lwage, family=\"gaussian\", alpha=best_alpha, nfolds=5)\n",
    "yhat.lasso.cv  <- predict(fit.lasso.cv, newx = test_flex, s = \"lambda.min\")\n",
    "\n",
    "# calculating the out-of-sample MSE\n",
    "MSE.lasso <- sum((y.test - yhat.lasso.cv) ^ 2) / length(y.test)\n",
    "R2.lasso <- 1 - MSE.lasso / mean((y.test - mean(train$lwage)) ^ 2)\n",
    "\n",
    "cat(\"Test MSE for the lasso on flexible model: \", MSE.lasso, \" \")\n",
    "cat(\"Test R2 for the lasso flexible model: \", R2.lasso)\n",
    "\n"
   ]
  },
  {
   "cell_type": "code",
   "execution_count": null,
   "metadata": {},
   "outputs": [],
   "source": [
    "# Output the comparison table\n",
    "table2 <- matrix(0, 3, 2)\n",
    "table2[1, 1]   <- MSE.test1\n",
    "table2[2, 1]   <- MSE.test2\n",
    "table2[3, 1]   <- MSE.lasso\n",
    "table2[1, 2]   <- R2.test1\n",
    "table2[2, 2]   <- R2.test2\n",
    "table2[3, 2]   <- R2.lasso\n",
    "\n",
    "rownames(table2) <- c(\"basic reg\", \"flexible reg\", \"lasso regression\")\n",
    "colnames(table2) <- c(\"$MSE_{test}$\", \"$R^2_{test}$\")\n",
    "tab2 <- xtable(table2, digits = 3)\n",
    "tab2\n",
    "\n",
    "print(tab2, type = \"latex\")\n"
   ]
  },
  {
   "cell_type": "markdown",
   "metadata": {},
   "source": [
    "# **1.Frisch-Waugh-Lovell (FWL) Theorem Proof**\n",
    "\n",
    "Given a linear regression model, we aim to demonstrate the FWL theorem using the following elements:\n",
    "\n",
    "- **$y$**: dependent variable vector ($n \\times 1$)\n",
    "- **$D$**: matrix of independent variables of interest ($n \\times k_1$)\n",
    "- **$\\beta_1$**: coefficient vector for $D$ ($k_1 \\times 1$)\n",
    "- **$W$**: matrix of control variables ($n \\times k_2$)\n",
    "- **$\\beta_2$**: coefficient vector for $W$ ($k_2 \\times 1$)\n",
    "- **$u$**: error term vector ($n \\times 1$)\n",
    "\n",
    "The model is represented as:\n",
    "\n",
    "$$ y = D\\beta_1 + W\\beta_2 + u$$\n",
    "\n",
    "---\n",
    "\n",
    "## **Objective**\n",
    "\n",
    "To prove that $\\Psi = \\beta_1$ can be accurately estimated through the regression $e_y = e_D \\Psi + \\varepsilon$, employing the FWL theorem.\n",
    "\n",
    "---\n",
    "\n",
    "## **Proof**\n",
    "\n",
    "### **Step 1: Control for Variables in $W$**\n",
    "\n",
    "First, we calculate the residuals after controlling for $W$:\n",
    "\n",
    "- **Regress $D$ on $W$:** Aim to determine the component of $D$ that is orthogonal to $W$. This is achieved by calculating the residuals $e_D$, using the projection matrix:\n",
    "  \n",
    "  $$M_W = I - W(W'W)^{-1}W'$$\n",
    "  \n",
    "  Thus, the residuals for $D$ are:\n",
    "  \n",
    "  $$e_D = M_W D$$ \n",
    "\n",
    "- **Regress $y$ on $W$:** Similarly, find the component of $y$ not explained by $W$:\n",
    "  \n",
    "  $$e_y = M_W y$$\n",
    "\n",
    "### **Step 2: Estimate $\\Psi$**\n",
    "\n",
    "With the residuals obtained, we proceed to estimate $\\Psi$:\n",
    "\n",
    "- **Regress $e_y$ on $e_D$ by OLS:** \n",
    "\n",
    "  $$ e_y = e_D \\Psi + z $$\n",
    "  \n",
    "  Solving for $\\Psi$, we get:\n",
    "  \n",
    "  $$ \\hat{\\Psi} = (e_D'e_D)^{-1}e_D'e_y $$\n",
    "  \n",
    "  Substituting the expressions for residuals into $\\hat{\\Psi}$ yields:\n",
    "  \n",
    "  $$ \\hat{\\Psi} = (D'M_W'M_W'D)^{-1}D'M_W'M_Wy $$\n",
    "  \n",
    "  Which simplifies to:\n",
    "  \n",
    "  $$ \\hat{\\Psi} = (D'M_WD)^{-1}D'M_Wy $$\n",
    "\n",
    "And this proof that $\\Psi = \\beta_1$.\n",
    "\n",
    "\n",
    "\n",
    "\n",
    "\n",
    "\n",
    "\n",
    "# **2.Conditional Expectation Function Minimizes Expected Squared Error Proof**\n",
    "\n",
    "## **Problem Statement**\n",
    "\n",
    "Given a random variable $Y$ and a conditioning variable $X$, we consider a relationship of the form:\n",
    "$$ Y = m(X) + \\epsilon $$\n",
    "where:\n",
    "- $m(X) = E[Y | X]$ is the Conditional Expectation Function (CEF) of $Y$ given $X$.\n",
    "- $\\epsilon$ is the error term, representing the deviation of $Y$ from its conditional mean.\n",
    "\n",
    "## **Objective**\n",
    "\n",
    "Our goal is to prove that the function that minimizes the expected squared error:\n",
    "$$ m(X) = \\text{arg}\\min_{g(X)} E[(Y - g(X))^2] $$\n",
    "\n",
    "is indeed:\n",
    "$$ E[(Y - g(X))^2] = E[\\epsilon^2] $$\n",
    "\n",
    "## **Proof**\n",
    "\n",
    "### **Step 1: Expanding the Expected Squared Error**\n",
    "\n",
    "We start by expanding the expected squared difference as follows:\n",
    "$$ E[(Y - g(X))^2] = E[(Y - E[Y|X] + E[Y|X] - g(X))^2] $$\n",
    "\n",
    "By applying the expansion for the square of a sum $(a + b)^2 = a^2 + b^2 + 2ab$, where $a = Y - E[Y|X]$ and $b = E[Y|X] - g(X)$, we obtain:\n",
    "$$ E[(Y - g(X))^2] = E[(Y - E[Y|X])^2] + E[(E[Y|X] - g(X))^2] + 2E[(Y - E[Y|X])(E[Y|X] - g(X))] $$\n",
    "\n",
    "### **Step 2: Simplifying Using the Law of Iterated Expectations**\n",
    "\n",
    "Applying the Law of Iterated Expectations to the mixed term:\n",
    "$$ 2E[(Y - E[Y|X])(E[Y|X] - g(X))] = 0 $$\n",
    "\n",
    "This follows because the expectation of $Y - E[Y|X]$ is zero by definition of the error term $\\epsilon$ (i.e., $Y - E[Y|X] = \\epsilon$ and $E[\\epsilon] = 0$), and thus the cross-term disappears.\n",
    "\n",
    "### **Step 3: Final Reduction**\n",
    "\n",
    "After removing the cross-term, we are left with:\n",
    "$$ E[(Y - g(X))^2] = E[(Y - E[Y|X])^2] + E[(E[Y|X] - g(X))^2] $$\n",
    "\n",
    "Since the second term $E[(E[Y|X] - g(X))^2]$ is always non-negative, it follows that:\n",
    "$$ E[(Y - g(X))^2] \\geq E[(Y - E[Y|X])^2] $$\n",
    "\n",
    "### **Conclusion**\n",
    "\n",
    "The expected squared error is minimized when $g(X) = E[Y|X]$, demonstrating that the Conditional Expectation Function (CEF) $m(X)$ minimizes the expected squared error:\n",
    "$$ m(X) = \\text{arg}\\min_{g(X)} E[(Y - g(X))^2] $$\n",
    "This conclusively proves that the CEF is the function that minimizes the expected squared error between the predicted values and the actual values of $Y$.\n"
   ]
  },
  {
   "cell_type": "code",
   "execution_count": null,
   "metadata": {},
   "outputs": [],
   "source": []
  }
 ],
 "metadata": {
  "kernelspec": {
   "display_name": "R",
   "language": "R",
   "name": "ir"
  },
  "language_info": {
   "codemirror_mode": "r",
   "file_extension": ".r",
   "mimetype": "text/x-r-source",
   "name": "R",
   "pygments_lexer": "r",
   "version": "3.6.1"
  },
  "papermill": {
   "default_parameters": {},
   "duration": 53.035585,
   "end_time": "2021-02-21T17:18:37.837719",
   "environment_variables": {},
   "exception": null,
   "input_path": "__notebook__.ipynb",
   "output_path": "__notebook__.ipynb",
   "parameters": {},
   "start_time": "2021-02-21T17:17:44.802134",
   "version": "2.2.2"
  }
 },
 "nbformat": 4,
 "nbformat_minor": 4
}
