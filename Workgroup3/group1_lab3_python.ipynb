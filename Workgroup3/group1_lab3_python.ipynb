{
 "cells": [
  {
   "cell_type": "markdown",
   "id": "d3825258-18f0-44c6-b57d-e04325378321",
   "metadata": {},
   "source": [
    "# Proving Neyman Orthogonality "
   ]
  },
  {
   "cell_type": "markdown",
   "id": "fe7c0bb0-5cbc-4e16-8d4d-b32f15309500",
   "metadata": {},
   "source": [
    "We start with the standard linear model formulation:\n",
    "\n",
    "$$\n",
    "Y = \\alpha D + \\beta' W + \\epsilon\n",
    "$$\n",
    "\n",
    "Where:\n",
    "- $\\alpha$ is the coefficient of interest linked to the treatment variable $D$.\n",
    "- $\\beta$ is a vector of coefficients associated with the control variables $W$.\n",
    "- $\\epsilon$ is the error term.\n",
    "\n",
    "The residuals from Lasso regressions:\n",
    "- For the outcome $Y$ on controls $W$, let the estimate be $\\gamma_{YW}'$.\n",
    "- For the treatment $D$ on controls $W$, let the estimate be $\\gamma_{DW}'$.\n",
    "\n",
    "The residuals are defined as:\n",
    "$$\n",
    "\\tilde{Y} = Y - \\gamma_{YW}'W\n",
    "$$\n",
    "$$\n",
    "\\tilde{D} = D - \\gamma_{DW}'W\n",
    "$$\n",
    "\n",
    "We define the true parameter vector:\n",
    "$$\n",
    "\\eta^0 = (\\gamma_{DW}', \\gamma_{YW}')'\n",
    "$$\n",
    "\n",
    "Since $\\alpha$ is a function of $\\eta$, where $\\eta = (\\eta_1', \\eta_2')'$, we aim to show that $\\alpha$ is insensitive to local perturbations around $\\eta^0$:\n",
    "$$\n",
    "D = \\frac{\\partial \\alpha(\\eta^0)}{\\partial \\eta} = 0\n",
    "$$\n",
    "\n",
    "### Proposed Model\n",
    "\n",
    "We assume the model:\n",
    "$$\n",
    "\\tilde{Y} = a \\tilde{D} + \\mu\n",
    "$$\n",
    "Where $\\alpha = \\arg\\min_{a \\in \\mathbb{R}} E[(\\tilde{Y} - a \\tilde{D})^2]$. $\\alpha$ is the true value as it minimizes the expected square residuals.\n",
    "\n",
    "The moment condition for the model is:\n",
    "$$\n",
    "M(a, \\eta) = E[(\\tilde{Y}(\\eta_1) - a \\tilde{D}(\\eta_2)) \\tilde{D}(\\eta_2)]\n",
    "$$\n",
    "Where:\n",
    "$$\n",
    "\\tilde{Y}(\\eta_1) = Y - \\eta_1'W\n",
    "$$\n",
    "$$\n",
    "\\tilde{D}(\\eta_2) = D - \\eta_2'W\n",
    "$$\n",
    "\n",
    "At true values $\\eta = \\eta^0$:\n",
    "$$\n",
    "\\tilde{Y} = Y - \\gamma_{YW}'W\n",
    "$$\n",
    "$$\n",
    "\\tilde{D} = D - \\gamma_{DW}'W\n",
    "$$\n",
    "\n",
    "### Application of the Implicit Function Theorem\n",
    "\n",
    "To derive $a$ with respect to $\\eta$:\n",
    "$$\n",
    "\\frac{\\partial a}{\\partial \\eta} = -\\partial_a M(\\alpha, \\eta^0)^{-1} \\partial_\\eta M(\\alpha, \\eta^0)\n",
    "$$\n",
    "To demonstrate $\\frac{\\partial \\alpha(\\eta^0)}{\\partial \\eta} = 0$, we need $\\partial_\\eta M(\\alpha, \\eta^0)$ to be zero since $\\partial_a M(\\alpha, \\eta^0)$ cannot be zero.\n",
    "\n",
    "### Derivatives Calculation\n",
    "\n",
    "For the first component:\n",
    "$$\n",
    "\\frac{\\partial M(\\alpha, \\eta^0)}{\\partial \\eta_1} = E\\left[\\frac{\\partial \\tilde{Y}(\\eta_1)}{\\partial \\eta_1} \\tilde{D}\\right]\n",
    "$$\n",
    "Given that $\\tilde{Y} = Y - \\eta_1'W$:\n",
    "$$\n",
    "\\frac{\\partial \\tilde{Y}}{\\partial \\eta_1} = -W\n",
    "$$\n",
    "Thus:\n",
    "$$\n",
    "\\frac{\\partial M(\\alpha, \\eta^0)}{\\partial \\eta_1} = E[-W \\tilde{D}] = 0\n",
    "$$\n",
    "\n",
    "For the second component:\n",
    "$$\n",
    "\\frac{\\partial M(\\alpha, \\eta^0)}{\\partial \\eta_2} = E\\left[(-a \\frac{\\partial \\tilde{D}(\\eta_2)}{\\partial \\eta_2})\\tilde{D} + \\frac{\\partial \\tilde{D}(\\eta_2)}{\\partial \\eta_2}(\\tilde{Y} - a\\tilde{D})\\right]\n",
    "$$\n",
    "Since $\\tilde{D} = D - \\eta_2'W$:\n",
    "$$\n",
    "\\frac{\\partial \\tilde{D}}{\\partial \\eta_2} = -W\n",
    "$$\n",
    "Resulting in:\n",
    "$$\n",
    "\\frac{\\partial M(\\alpha, \\eta^0)}{\\partial \\eta_2} = -E[W\\tilde{Y}] + 2E(\\alpha W\\tilde{D}) = 0\n",
    "$$\n",
    "\n",
    "This confirms that $\\frac{\\partial M}{\\partial \\eta_1} = 0$ and $\\frac{\\partial M}{\\partial \\eta_2} = 0$. Therefore, $\\frac{\\partial \\alpha(\\eta^0)}{\\partial \\eta} = 0$ is proven.\n"
   ]
  },
  {
   "cell_type": "markdown",
   "id": "7708ce90",
   "metadata": {},
   "source": [
    "# Simulation Design"
   ]
  },
  {
   "cell_type": "code",
   "execution_count": 1,
   "id": "f712b79c",
   "metadata": {},
   "outputs": [
    {
     "name": "stdout",
     "output_type": "stream",
     "text": [
      "Requirement already satisfied: multiprocess in c:\\users\\victor\\anaconda3\\lib\\site-packages (0.70.16)\n",
      "Requirement already satisfied: dill>=0.3.8 in c:\\users\\victor\\anaconda3\\lib\\site-packages (from multiprocess) (0.3.8)\n",
      "Requirement already satisfied: pyreadr in c:\\users\\victor\\anaconda3\\lib\\site-packages (0.5.0)\n",
      "Requirement already satisfied: pandas>=1.2.0 in c:\\users\\victor\\anaconda3\\lib\\site-packages (from pyreadr) (2.1.4)\n",
      "Requirement already satisfied: numpy<2,>=1.23.2 in c:\\users\\victor\\anaconda3\\lib\\site-packages (from pandas>=1.2.0->pyreadr) (1.26.4)\n",
      "Requirement already satisfied: python-dateutil>=2.8.2 in c:\\users\\victor\\anaconda3\\lib\\site-packages (from pandas>=1.2.0->pyreadr) (2.8.2)\n",
      "Requirement already satisfied: pytz>=2020.1 in c:\\users\\victor\\anaconda3\\lib\\site-packages (from pandas>=1.2.0->pyreadr) (2023.3.post1)\n",
      "Requirement already satisfied: tzdata>=2022.1 in c:\\users\\victor\\anaconda3\\lib\\site-packages (from pandas>=1.2.0->pyreadr) (2023.3)\n",
      "Requirement already satisfied: six>=1.5 in c:\\users\\victor\\anaconda3\\lib\\site-packages (from python-dateutil>=2.8.2->pandas>=1.2.0->pyreadr) (1.16.0)\n"
     ]
    },
    {
     "name": "stderr",
     "output_type": "stream",
     "text": [
      "fatal: destination path 'hdmpy' already exists and is not an empty directory.\n"
     ]
    }
   ],
   "source": [
    "!pip install multiprocess\n",
    "!pip install pyreadr\n",
    "!git clone https://github.com/maxhuppertz/hdmpy.git"
   ]
  },
  {
   "cell_type": "code",
   "execution_count": 2,
   "id": "0d9ae868",
   "metadata": {},
   "outputs": [],
   "source": [
    "import sys\n",
    "sys.path.insert(1, \"./hdmpy\")\n",
    "import hdmpy as hdm"
   ]
  },
  {
   "cell_type": "code",
   "execution_count": 3,
   "id": "0541f8fa",
   "metadata": {},
   "outputs": [],
   "source": [
    "import numpy as np\n",
    "import random\n",
    "import statsmodels.api as sm\n",
    "import matplotlib.pyplot as plt\n",
    "import numpy as np\n",
    "from matplotlib import colors"
   ]
  },
  {
   "cell_type": "markdown",
   "id": "feb92992",
   "metadata": {},
   "source": [
    "# Simulation Design 1"
   ]
  },
  {
   "cell_type": "code",
   "execution_count": 4,
   "id": "ec982168",
   "metadata": {},
   "outputs": [],
   "source": [
    "# Set seed\n",
    "np.random.seed(0)\n",
    "B1 = 100\n",
    "Naive = np.zeros( B1 )\n",
    "Orthogonal = np.zeros( B1 )"
   ]
  },
  {
   "cell_type": "code",
   "execution_count": 7,
   "id": "3d1d657b",
   "metadata": {
    "scrolled": true
   },
   "outputs": [],
   "source": [
    "for i in range( 0, B1 ):\n",
    "    n = 1000\n",
    "    p = 100\n",
    "    beta = ( 1 / (np.arange( 1, p + 1 ) ** 2 ) ).reshape( p , 1 )\n",
    "    gamma = ( 1 / (np.arange( 1, p + 1 ) ** 2 ) ).reshape( p , 1 )\n",
    "\n",
    "    mean = 0\n",
    "    sd = 1\n",
    "    X = np.random.normal( mean , sd, n * p ).reshape( n, p )\n",
    "\n",
    "    D = ( X @ gamma ) + np.random.normal( mean , sd, n ).reshape( n, 1 )/4 # We reshape because in r when we sum a vecto with a matrix it sum by column\n",
    "    \n",
    "    # DGP \n",
    "    Y = 10*D + ( X @ beta ) + np.random.normal( mean , sd, n ).reshape( n, 1 )\n",
    "\n",
    "    # single selection method\n",
    "    r_lasso_estimation = hdm.rlasso( np.concatenate( ( D , X ) , axis  =  1 ) , Y , post = True ) # Regress main equation by lasso\n",
    "\n",
    "    coef_array = r_lasso_estimation.est[ 'coefficients' ].iloc[ 2:, :].to_numpy()    # Get \"X\" coefficients \n",
    "\n",
    "    SX_IDs = np.where( coef_array != 0 )[0]\n",
    "\n",
    "    # In case all X coefficients are zero, then regress Y on D\n",
    "    if sum(SX_IDs) == 0 : \n",
    "        Naive[ i ] = sm.OLS( Y , sm.add_constant(D) ).fit().summary2().tables[1].round(3).iloc[ 1, 0 ] \n",
    "\n",
    "    # Otherwise, then regress Y on X and D (but only in the selected coefficients)\n",
    "    elif sum( SX_IDs ) > 0 :\n",
    "        X_D = np.concatenate( ( D, X[:, SX_IDs ] ) , axis = 1 )\n",
    "        Naive[ i ] = sm.OLS( Y , sm.add_constant( X_D ) ).fit().summary2().tables[1].round(3).iloc[ 1, 0]\n",
    "\n",
    "    # In both cases we save D coefficient\n",
    "        \n",
    "    # Regress residuals. \n",
    "    resY = hdm.rlasso( X , Y , post = False ).est[ 'residuals' ]\n",
    "    resD = hdm.rlasso( X , D , post = False ).est[ 'residuals' ]\n",
    "    Orthogonal[ i ] = sm.OLS( resY , sm.add_constant( resD ) ).fit().summary2().tables[1].round(3).iloc[ 1, 0]"
   ]
  },
  {
   "cell_type": "code",
   "execution_count": 8,
   "id": "ba56372b",
   "metadata": {},
   "outputs": [],
   "source": [
    "Orto_breaks = [-1.2, -1, -0.8, -0.6, -0.4, -0.2, 0, 0.2, 0.4, 0.6, 0.8, 1, 1.2, 1.4, 1.6, 1.8, 2]\n",
    "Naive_breaks = [-0.6, -0.4, -0.2, 0, 0.2, 0.4, 0.6, 0.8, 1, 1.2]"
   ]
  },
  {
   "cell_type": "code",
   "execution_count": 10,
   "id": "b0c8bafb",
   "metadata": {},
   "outputs": [
    {
     "data": {
      "text/plain": [
       "Text(0.5, 0, 'Naive')"
      ]
     },
     "execution_count": 10,
     "metadata": {},
     "output_type": "execute_result"
    },
    {
     "data": {
      "image/png": "[encoded data removed]",
      "text/plain": [
       "<Figure size 640x480 with 2 Axes>"
      ]
     },
     "metadata": {},
     "output_type": "display_data"
    }
   ],
   "source": [
    "fig, axs = plt.subplots(1, 2, sharex= True, tight_layout=True)\n",
    "\n",
    "# We can set the number of bins with the `bins` kwarg\n",
    "axs[0].hist( Orthogonal - 10 , range = (-2, 2), density = True , bins = Orto_breaks, color ='blue')\n",
    "axs[1].hist( Naive - 10, range = (-2, 2), density = True , bins = Naive_breaks, color = 'red' )\n",
    "\n",
    "axs[0].title.set_text('Orthogonal, 100 trials')\n",
    "axs[1].title.set_text('Naive 100 trials', )\n",
    "\n",
    "axs[0].set_xlabel( 'Orhtogonal' )\n",
    "axs[1].set_xlabel( 'Naive' )\n"
   ]
  },
  {
   "cell_type": "markdown",
   "id": "82542edd",
   "metadata": {},
   "source": [
    "# Simulation Design 2"
   ]
  },
  {
   "cell_type": "code",
   "execution_count": 11,
   "id": "006084c7",
   "metadata": {},
   "outputs": [],
   "source": [
    "# Set seed\n",
    "np.random.seed(0)\n",
    "B2=1000\n",
    "Naive = np.zeros( B2 )\n",
    "Orthogonal = np.zeros( B2 )"
   ]
  },
  {
   "cell_type": "code",
   "execution_count": 13,
   "id": "1459fedb",
   "metadata": {},
   "outputs": [],
   "source": [
    "for i in range( 0, B2 ):\n",
    "    n = 1000\n",
    "    p = 100\n",
    "    beta = ( 1 / (np.arange( 1, p + 1 ) ** 2 ) ).reshape( p , 1 )\n",
    "    gamma = ( 1 / (np.arange( 1, p + 1 ) ** 2 ) ).reshape( p , 1 )\n",
    "\n",
    "    mean = 0\n",
    "    sd = 1\n",
    "    X = np.random.normal( mean , sd, n * p ).reshape( n, p )\n",
    "\n",
    "    D = ( X @ gamma ) + np.random.normal( mean , sd, n ).reshape( n, 1 )/4 # We reshape because in r when we sum a vecto with a matrix it sum by column\n",
    "    Y = 10*D + ( X @ beta ) + np.random.normal( mean , sd, n ).reshape( n, 1 )\n",
    "\n",
    "    # single selectin method\n",
    "    r_lasso_estimation = hdm.rlasso( np.concatenate( ( D , X ) , axis  =  1 ) , Y , post = True )\n",
    "\n",
    "    coef_array = r_lasso_estimation.est[ 'coefficients' ].iloc[ 2:, :].to_numpy()\n",
    "\n",
    "    SX_IDs = np.where( coef_array != 0 )[0]\n",
    "\n",
    "    if sum(SX_IDs) == 0 : \n",
    "        Naive[ 0 ] = sm.OLS( Y , sm.add_constant(D) ).fit().summary2().tables[1].round(3).iloc[ 1, 0 ]\n",
    "\n",
    "    elif sum( SX_IDs ) > 0 :\n",
    "        X_D = np.concatenate( ( D, X[:, SX_IDs ] ) , axis = 1 )\n",
    "        Naive[ i ] = sm.OLS( Y , sm.add_constant( X_D ) ).fit().summary2().tables[1].round(3).iloc[ 1, 0]\n",
    "\n",
    "\n",
    "    resY = hdm.rlasso( X , Y , post = True ).est[ 'residuals' ]\n",
    "    resD = hdm.rlasso( X , D , post = True ).est[ 'residuals' ]\n",
    "    Orthogonal[ i ] = sm.OLS( resY , sm.add_constant( resD ) ).fit().summary2().tables[1].round(3).iloc[ 1, 0]"
   ]
  },
  {
   "cell_type": "code",
   "execution_count": 14,
   "id": "26ba86d4",
   "metadata": {},
   "outputs": [
    {
     "data": {
      "text/plain": [
       "Text(0.5, 0, 'Naive')"
      ]
     },
     "execution_count": 14,
     "metadata": {},
     "output_type": "execute_result"
    },
    {
     "data": {
      "image/png": "[encoded data removed]",
      "text/plain": [
       "<Figure size 640x480 with 2 Axes>"
      ]
     },
     "metadata": {},
     "output_type": "display_data"
    }
   ],
   "source": [
    "fig, axs = plt.subplots(1, 2, sharex= True, tight_layout=True)\n",
    "\n",
    "# We can set the number of bins with the `bins` kwarg\n",
    "axs[0].hist( Orthogonal - 10 , range = (-2, 2), density = True , bins = Orto_breaks, color ='blue')\n",
    "axs[1].hist( Naive - 10, range = (-2, 2), density = True , bins = Naive_breaks,  color ='red' )\n",
    "\n",
    "axs[0].title.set_text('Orthogonal 1000 trials')\n",
    "axs[1].title.set_text('Naive 1000 trials')\n",
    "\n",
    "axs[0].set_xlabel( 'Orhtogonal' )\n",
    "axs[1].set_xlabel( 'Naive' )\n"
   ]
  },
  {
   "cell_type": "markdown",
   "id": "a2a33a27",
   "metadata": {},
   "source": [
    "# Simulation Design 3"
   ]
  },
  {
   "cell_type": "code",
   "execution_count": 16,
   "id": "c9e78411",
   "metadata": {},
   "outputs": [],
   "source": [
    "# Set seed\n",
    "np.random.seed(0)\n",
    "B3=10000\n",
    "Naive = np.zeros( B3 )\n",
    "Orthogonal = np.zeros( B3 )"
   ]
  },
  {
   "cell_type": "code",
   "execution_count": 17,
   "id": "7b0ec835",
   "metadata": {},
   "outputs": [],
   "source": [
    "for i in range( 0, B3 ):\n",
    "    n = 1000\n",
    "    p = 100\n",
    "    beta = ( 1 / (np.arange( 1, p + 1 ) ** 2 ) ).reshape( p , 1 )\n",
    "    gamma = ( 1 / (np.arange( 1, p + 1 ) ** 2 ) ).reshape( p , 1 )\n",
    "\n",
    "    mean = 0\n",
    "    sd = 1\n",
    "    X = np.random.normal( mean , sd, n * p ).reshape( n, p )\n",
    "\n",
    "    D = ( X @ gamma ) + np.random.normal( mean , sd, n ).reshape( n, 1 )/4 # We reshape because in r when we sum a vecto with a matrix it sum by column\n",
    "    Y = 10*D + ( X @ beta ) + np.random.normal( mean , sd, n ).reshape( n, 1 )\n",
    "\n",
    "    # single selectin method\n",
    "    r_lasso_estimation = hdm.rlasso( np.concatenate( ( D , X ) , axis  =  1 ) , Y , post = True )\n",
    "\n",
    "    coef_array = r_lasso_estimation.est[ 'coefficients' ].iloc[ 2:, :].to_numpy()\n",
    "\n",
    "    SX_IDs = np.where( coef_array != 0 )[0]\n",
    "\n",
    "    if sum(SX_IDs) == 0 : \n",
    "        Naive[ 0 ] = sm.OLS( Y , sm.add_constant(D) ).fit().summary2().tables[1].round(3).iloc[ 1, 0 ]\n",
    "\n",
    "    elif sum( SX_IDs ) > 0 :\n",
    "        X_D = np.concatenate( ( D, X[:, SX_IDs ] ) , axis = 1 )\n",
    "        Naive[ i ] = sm.OLS( Y , sm.add_constant( X_D ) ).fit().summary2().tables[1].round(3).iloc[ 1, 0]\n",
    "\n",
    "\n",
    "    resY = hdm.rlasso( X , Y , post = True ).est[ 'residuals' ]\n",
    "    resD = hdm.rlasso( X , D , post = True ).est[ 'residuals' ]\n",
    "    Orthogonal[ i ] = sm.OLS( resY , sm.add_constant( resD ) ).fit().summary2().tables[1].round(3).iloc[ 1, 0]"
   ]
  },
  {
   "cell_type": "code",
   "execution_count": 18,
   "id": "70d48c1e",
   "metadata": {},
   "outputs": [
    {
     "data": {
      "text/plain": [
       "Text(0.5, 0, 'Naive')"
      ]
     },
     "execution_count": 18,
     "metadata": {},
     "output_type": "execute_result"
    },
    {
     "data": {
      "image/png": "[encoded data removed]",
      "text/plain": [
       "<Figure size 640x480 with 2 Axes>"
      ]
     },
     "metadata": {},
     "output_type": "display_data"
    }
   ],
   "source": [
    "fig, axs = plt.subplots(1, 2, sharex= True, tight_layout=True)\n",
    "\n",
    "# We can set the number of bins with the `bins` kwarg\n",
    "axs[0].hist( Orthogonal - 10 , range = (-2, 2), density = True , bins = Orto_breaks, color ='blue' )\n",
    "axs[1].hist( Naive - 10, range = (-2, 2), density = True , bins = Naive_breaks, color = 'red' )\n",
    "\n",
    "axs[0].title.set_text('Orthogonal 10000 trials')\n",
    "axs[1].title.set_text('Naive 10000 trias')\n",
    "\n",
    "axs[0].set_xlabel( 'Orhtogonal' )\n",
    "axs[1].set_xlabel( 'Naive' )\n"
   ]
  },
  {
   "cell_type": "markdown",
   "id": "65c138be",
   "metadata": {},
   "source": [
    "# Interpretation"
   ]
  },
  {
   "cell_type": "markdown",
   "id": "cf223b13",
   "metadata": {},
   "source": [
    "The distribution of the histograms is different because they are grouped at various points. When B, what is the number of trials, is higher, the distribution is bigger. Also, the orthogonal should be centered in zero and the Naive should be centered in numbers higher than zero. The last one is biased to the right."
   ]
  },
  {
   "cell_type": "markdown",
   "id": "9248613c",
   "metadata": {},
   "source": [
    "The econometric explanation is based on the approach to data modeling. For the orthogonal distribution, it is assumed that the features (variables) are orthogonal to each other, meaning that they are not correlated. When the errors are orthogonal to each other, it means that they are not correlated and that there is no systematic bias in the relationship between the dependent variable and the dependent variables. This is desirable because it implies that the regression model effectively captures the relationship between variables without additional bias. Zero-centering of the distribution can arise due to the way the model is specified, such as including an intercept or by standardizing variables. On the other hand, for the Naïve distribution, the bias to the right may arise from the nature of the data and the way the conditional probabilities of the variables are modeled. This could be related to the distribution of errors in a regression model. If errors have an asymmetric distribution, such as a right-weighted (positively biased) tail distribution, this can affect how relationships between variables are modeled.\n"
   ]
  },
  {
   "cell_type": "markdown",
   "id": "cc4978bb",
   "metadata": {},
   "source": [
    "# Parallel computing"
   ]
  },
  {
   "cell_type": "markdown",
   "id": "d9d5b664",
   "metadata": {},
   "source": [
    "Using parallel computing, the running time is lower. The multiprocessing module allows you to create multiple child processes, each of which can execute code independently. These processes can take advantage of the multiple CPU cores available on your machine, resulting in workload distribution and, in many cases, a significant reduction in execution time..\n",
    "For example (B=100) "
   ]
  },
  {
   "cell_type": "markdown",
   "id": "3e206555",
   "metadata": {},
   "source": [
    "Without using parallel computing, for the simulation design 1, the running time is 5 minutes"
   ]
  },
  {
   "cell_type": "code",
   "execution_count": 4,
   "id": "8a4c1d33",
   "metadata": {},
   "outputs": [],
   "source": [
    "import multiprocessing\n",
    "import time"
   ]
  },
  {
   "cell_type": "code",
   "execution_count": 2,
   "id": "c3297eed",
   "metadata": {},
   "outputs": [
    {
     "name": "stdout",
     "output_type": "stream",
     "text": [
      "8\n"
     ]
    }
   ],
   "source": [
    "from multiprocessing import cpu_count\n",
    "print(cpu_count())"
   ]
  },
  {
   "cell_type": "code",
   "execution_count": 19,
   "id": "b29888ad",
   "metadata": {},
   "outputs": [
    {
     "name": "stdout",
     "output_type": "stream",
     "text": [
      "With Parallel computing, the running time is  4.026202299981378 minutes\n"
     ]
    }
   ],
   "source": [
    "def sleep(sleep_sec=0.5):\n",
    "    print(f'Sleeping for {sleep_sec} seconds')\n",
    "    time.sleep(sleep_sec)\n",
    "    print('Finished sleeping')\n",
    "\n",
    "if __name__ == \"__main__\":\n",
    "    start_time = time.perf_counter()\n",
    "    processes = []\n",
    "\n",
    "    # Creates 100 processes then starts them\n",
    "    for i in range(100):\n",
    "        p = multiprocessing.Process(target=sleep, args=(1.0,))\n",
    "        p.start()\n",
    "        processes.append(p)\n",
    "\n",
    "    # Joins all the processes\n",
    "    for p in processes:\n",
    "        p.join()\n",
    "\n",
    "    finish_time = time.perf_counter()\n",
    "    tiempo=finish_time-start_time\n",
    "\n",
    "    print(\"With Parallel computing, the running time is \", tiempo, \"minutes\")"
   ]
  },
  {
   "cell_type": "markdown",
   "id": "0a874df0-127a-4dac-b4da-7d3a85b52d57",
   "metadata": {},
   "source": [
    "# Double Lasso - Using School data"
   ]
  },
  {
   "cell_type": "code",
   "execution_count": 99,
   "id": "c8d2872a-2d4c-42ca-a447-bbf6ee9a99ea",
   "metadata": {
    "scrolled": true
   },
   "outputs": [
    {
     "data": {
      "text/html": [
       "<div>\n",
       "<style scoped>\n",
       "    .dataframe tbody tr th:only-of-type {\n",
       "        vertical-align: middle;\n",
       "    }\n",
       "\n",
       "    .dataframe tbody tr th {\n",
       "        vertical-align: top;\n",
       "    }\n",
       "\n",
       "    .dataframe thead th {\n",
       "        text-align: right;\n",
       "    }\n",
       "</style>\n",
       "<table border=\"1\" class=\"dataframe\">\n",
       "  <thead>\n",
       "    <tr style=\"text-align: right;\">\n",
       "      <th></th>\n",
       "      <th>outcome_test_score</th>\n",
       "      <th>treatment</th>\n",
       "      <th>school</th>\n",
       "      <th>is_female</th>\n",
       "      <th>mother_attended_secondary_school</th>\n",
       "      <th>father_attened_secondary_school</th>\n",
       "      <th>failed_at_least_one_school_year</th>\n",
       "      <th>family_receives_cash_transfer</th>\n",
       "      <th>has_computer_with_internet_at_home</th>\n",
       "      <th>is_unemployed</th>\n",
       "      <th>has_some_form_of_income</th>\n",
       "      <th>saves_money_for_future_purchases</th>\n",
       "      <th>intention_to_save_index</th>\n",
       "      <th>makes_list_of_expenses_every_month</th>\n",
       "      <th>negotiates_prices_or_payment_methods</th>\n",
       "      <th>financial_autonomy_index</th>\n",
       "    </tr>\n",
       "  </thead>\n",
       "  <tbody>\n",
       "    <tr>\n",
       "      <th>2</th>\n",
       "      <td>56.671661</td>\n",
       "      <td>1</td>\n",
       "      <td>35002914</td>\n",
       "      <td>1.0</td>\n",
       "      <td>1.0</td>\n",
       "      <td>1.0</td>\n",
       "      <td>0.0</td>\n",
       "      <td>0.0</td>\n",
       "      <td>0.0</td>\n",
       "      <td>1.0</td>\n",
       "      <td>0.0</td>\n",
       "      <td>0.0</td>\n",
       "      <td>48.0</td>\n",
       "      <td>0.0</td>\n",
       "      <td>1.0</td>\n",
       "      <td>56.0</td>\n",
       "    </tr>\n",
       "    <tr>\n",
       "      <th>3</th>\n",
       "      <td>29.079376</td>\n",
       "      <td>0</td>\n",
       "      <td>35908915</td>\n",
       "      <td>1.0</td>\n",
       "      <td>0.0</td>\n",
       "      <td>0.0</td>\n",
       "      <td>0.0</td>\n",
       "      <td>0.0</td>\n",
       "      <td>0.0</td>\n",
       "      <td>0.0</td>\n",
       "      <td>0.0</td>\n",
       "      <td>0.0</td>\n",
       "      <td>42.0</td>\n",
       "      <td>0.0</td>\n",
       "      <td>0.0</td>\n",
       "      <td>27.0</td>\n",
       "    </tr>\n",
       "    <tr>\n",
       "      <th>4</th>\n",
       "      <td>49.563534</td>\n",
       "      <td>1</td>\n",
       "      <td>33047324</td>\n",
       "      <td>1.0</td>\n",
       "      <td>0.0</td>\n",
       "      <td>0.0</td>\n",
       "      <td>0.0</td>\n",
       "      <td>0.0</td>\n",
       "      <td>1.0</td>\n",
       "      <td>0.0</td>\n",
       "      <td>1.0</td>\n",
       "      <td>0.0</td>\n",
       "      <td>50.0</td>\n",
       "      <td>0.0</td>\n",
       "      <td>1.0</td>\n",
       "      <td>31.0</td>\n",
       "    </tr>\n",
       "    <tr>\n",
       "      <th>5</th>\n",
       "      <td>43.099434</td>\n",
       "      <td>0</td>\n",
       "      <td>53012542</td>\n",
       "      <td>1.0</td>\n",
       "      <td>0.0</td>\n",
       "      <td>0.0</td>\n",
       "      <td>0.0</td>\n",
       "      <td>1.0</td>\n",
       "      <td>1.0</td>\n",
       "      <td>0.0</td>\n",
       "      <td>1.0</td>\n",
       "      <td>0.0</td>\n",
       "      <td>93.0</td>\n",
       "      <td>0.0</td>\n",
       "      <td>1.0</td>\n",
       "      <td>77.0</td>\n",
       "    </tr>\n",
       "    <tr>\n",
       "      <th>6</th>\n",
       "      <td>71.329597</td>\n",
       "      <td>0</td>\n",
       "      <td>53006984</td>\n",
       "      <td>1.0</td>\n",
       "      <td>1.0</td>\n",
       "      <td>0.0</td>\n",
       "      <td>0.0</td>\n",
       "      <td>0.0</td>\n",
       "      <td>1.0</td>\n",
       "      <td>1.0</td>\n",
       "      <td>1.0</td>\n",
       "      <td>0.0</td>\n",
       "      <td>52.0</td>\n",
       "      <td>0.0</td>\n",
       "      <td>1.0</td>\n",
       "      <td>43.0</td>\n",
       "    </tr>\n",
       "  </tbody>\n",
       "</table>\n",
       "</div>"
      ],
      "text/plain": [
       "   outcome_test_score  treatment    school  is_female  \\\n",
       "2           56.671661          1  35002914        1.0   \n",
       "3           29.079376          0  35908915        1.0   \n",
       "4           49.563534          1  33047324        1.0   \n",
       "5           43.099434          0  53012542        1.0   \n",
       "6           71.329597          0  53006984        1.0   \n",
       "\n",
       "   mother_attended_secondary_school  father_attened_secondary_school  \\\n",
       "2                               1.0                              1.0   \n",
       "3                               0.0                              0.0   \n",
       "4                               0.0                              0.0   \n",
       "5                               0.0                              0.0   \n",
       "6                               1.0                              0.0   \n",
       "\n",
       "   failed_at_least_one_school_year  family_receives_cash_transfer  \\\n",
       "2                              0.0                            0.0   \n",
       "3                              0.0                            0.0   \n",
       "4                              0.0                            0.0   \n",
       "5                              0.0                            1.0   \n",
       "6                              0.0                            0.0   \n",
       "\n",
       "   has_computer_with_internet_at_home  is_unemployed  has_some_form_of_income  \\\n",
       "2                                 0.0            1.0                      0.0   \n",
       "3                                 0.0            0.0                      0.0   \n",
       "4                                 1.0            0.0                      1.0   \n",
       "5                                 1.0            0.0                      1.0   \n",
       "6                                 1.0            1.0                      1.0   \n",
       "\n",
       "   saves_money_for_future_purchases  intention_to_save_index  \\\n",
       "2                               0.0                     48.0   \n",
       "3                               0.0                     42.0   \n",
       "4                               0.0                     50.0   \n",
       "5                               0.0                     93.0   \n",
       "6                               0.0                     52.0   \n",
       "\n",
       "   makes_list_of_expenses_every_month  negotiates_prices_or_payment_methods  \\\n",
       "2                                 0.0                                   1.0   \n",
       "3                                 0.0                                   0.0   \n",
       "4                                 0.0                                   1.0   \n",
       "5                                 0.0                                   1.0   \n",
       "6                                 0.0                                   1.0   \n",
       "\n",
       "   financial_autonomy_index  \n",
       "2                      56.0  \n",
       "3                      27.0  \n",
       "4                      31.0  \n",
       "5                      77.0  \n",
       "6                      43.0  "
      ]
     },
     "execution_count": 99,
     "metadata": {},
     "output_type": "execute_result"
    }
   ],
   "source": [
    "import numpy as np\n",
    "import pandas as pd\n",
    "import matplotlib.pyplot as plt\n",
    "import statsmodels.api as sm\n",
    "import statsmodels.formula.api as smf\n",
    "from sklearn import linear_model as lm\n",
    "from statsmodels.api import OLS, add_constant\n",
    "from statsmodels.iolib.summary2 import summary_col\n",
    "from sklearn.model_selection import train_test_split\n",
    "from sklearn.preprocessing import StandardScaler\n",
    "from sklearn.linear_model import LassoCV\n",
    "from sklearn.linear_model import Lasso\n",
    "\n",
    "# Load the data\n",
    "url = \"https://raw.githubusercontent.com/gsbDBI/ExperimentData/97a11199ba559f01c7b3803a1493ffa08631732e/School/bruhn2016.csv\"\n",
    "db = pd.read_csv(url)\n",
    "db = db.dropna(subset=['outcome.test.score', 'school', 'failed.at.least.one.school.year', 'is.female', 'treatment'])\n",
    "db.columns = [col.replace('.', '_') for col in db.columns]\n",
    "# Read the data\n",
    "db.head()"
   ]
  },
  {
   "cell_type": "markdown",
   "id": "dcd0dfaf-6093-4831-8bd7-b10405bb818e",
   "metadata": {},
   "source": [
    "$y= \\alphaD + \\beta'W + \\epsilon$\n",
    "$y_hat=y-X'W$; $D_hat=D-X_{n1.1}W$\n",
    "and\n",
    "$\\alpha=argmin_{aeR}E[y_hat-aD_hat]'= E[D_hat^2]^-1*E[D_hat_y]$\n",
    "you can get the next expression (Use the Implicit Theorem Fucntion)\n"
   ]
  },
  {
   "cell_type": "code",
   "execution_count": 66,
   "id": "ec5fb8de-3e57-4ae6-8204-9069d2587d7e",
   "metadata": {},
   "outputs": [
    {
     "data": {
      "text/plain": [
       "Index(['outcome_test_score', 'treatment', 'school', 'is_female',\n",
       "       'mother_attended_secondary_school', 'father_attened_secondary_school',\n",
       "       'failed_at_least_one_school_year', 'family_receives_cash_transfer',\n",
       "       'has_computer_with_internet_at_home', 'is_unemployed',\n",
       "       'has_some_form_of_income', 'saves_money_for_future_purchases',\n",
       "       'intention_to_save_index', 'makes_list_of_expenses_every_month',\n",
       "       'negotiates_prices_or_payment_methods', 'financial_autonomy_index'],\n",
       "      dtype='object')"
      ]
     },
     "execution_count": 66,
     "metadata": {},
     "output_type": "execute_result"
    }
   ],
   "source": [
    "# A look at the variables\n",
    "db.columns"
   ]
  },
  {
   "cell_type": "code",
   "execution_count": 23,
   "id": "a93d1351-9b37-4190-bf05-cdc1f4c7e2cd",
   "metadata": {},
   "outputs": [],
   "source": [
    "# Define outcome variable and control variables\n",
    "outcome = 'financial_proficiency_score'"
   ]
  },
  {
   "cell_type": "markdown",
   "id": "da70ac06-068c-45f1-87b5-957847aac3ab",
   "metadata": {},
   "source": [
    "## OLS"
   ]
  },
  {
   "cell_type": "code",
   "execution_count": 18,
   "id": "91dff5fb-5e06-48fb-9e00-a0ad9afe874d",
   "metadata": {},
   "outputs": [],
   "source": [
    "modelo1a = 'outcome_test_score ~ treatment'\n",
    "modelo1b = 'outcome_test_score ~ treatment + school'\n",
    "modelo1c = 'outcome_test_score ~ treatment + school + failed_at_least_one_school_year + is_female'\n"
   ]
  },
  {
   "cell_type": "code",
   "execution_count": 97,
   "id": "5141a3ac-68f1-460b-b0da-23dea83d5901",
   "metadata": {},
   "outputs": [],
   "source": [
    "# Models\n",
    "ols_model_1a = smf.ols(formula=modelo1a, data=db).fit()\n",
    "ols_model_1b = smf.ols(formula=modelo1b, data=db).fit()\n",
    "ols_model_1c = smf.ols(formula=modelo1c, data=db).fit()\n",
    "table_1_pd = pd.DataFrame({\n",
    "    'Coefficient': [coef],\n",
    "    'Std. Error': [std_error],\n",
    "    'Conf. Interval Lower': [conf_int[0]],\n",
    "    'Conf. Interval Upper': [conf_int[1]]\n",
    "})\n",
    "table_1_pd.index = ['OLS']"
   ]
  },
  {
   "cell_type": "code",
   "execution_count": 44,
   "id": "f0ddba9d-fe76-441f-913e-2d726dc67cda",
   "metadata": {},
   "outputs": [
    {
     "name": "stdout",
     "output_type": "stream",
     "text": [
      "                            OLS Regression Results                            \n",
      "==============================================================================\n",
      "Dep. Variable:     outcome_test_score   R-squared:                       0.022\n",
      "Model:                            OLS   Adj. R-squared:                  0.022\n",
      "Method:                 Least Squares   F-statistic:                     350.1\n",
      "Date:                Tue, 14 May 2024   Prob (F-statistic):           2.96e-77\n",
      "Time:                        16:15:02   Log-Likelihood:                -62963.\n",
      "No. Observations:               15365   AIC:                         1.259e+05\n",
      "Df Residuals:                   15363   BIC:                         1.259e+05\n",
      "Df Model:                           1                                         \n",
      "Covariance Type:            nonrobust                                         \n",
      "==============================================================================\n",
      "                 coef    std err          t      P>|t|      [0.025      0.975]\n",
      "------------------------------------------------------------------------------\n",
      "Intercept     56.4976      0.168    335.830      0.000      56.168      56.827\n",
      "treatment      4.3995      0.235     18.710      0.000       3.939       4.860\n",
      "==============================================================================\n",
      "Omnibus:                      628.142   Durbin-Watson:                   1.941\n",
      "Prob(Omnibus):                  0.000   Jarque-Bera (JB):              269.379\n",
      "Skew:                           0.024   Prob(JB):                     3.20e-59\n",
      "Kurtosis:                       2.353   Cond. No.                         2.65\n",
      "==============================================================================\n",
      "\n",
      "Notes:\n",
      "[1] Standard Errors assume that the covariance matrix of the errors is correctly specified.\n",
      "                            OLS Regression Results                            \n",
      "==============================================================================\n",
      "Dep. Variable:     outcome_test_score   R-squared:                       0.022\n",
      "Model:                            OLS   Adj. R-squared:                  0.022\n",
      "Method:                 Least Squares   F-statistic:                     175.1\n",
      "Date:                Tue, 14 May 2024   Prob (F-statistic):           6.65e-76\n",
      "Time:                        16:15:02   Log-Likelihood:                -62963.\n",
      "No. Observations:               15365   AIC:                         1.259e+05\n",
      "Df Residuals:                   15362   BIC:                         1.260e+05\n",
      "Df Model:                           2                                         \n",
      "Covariance Type:            nonrobust                                         \n",
      "==============================================================================\n",
      "                 coef    std err          t      P>|t|      [0.025      0.975]\n",
      "------------------------------------------------------------------------------\n",
      "Intercept     56.3532      0.514    109.585      0.000      55.345      57.361\n",
      "treatment      4.3984      0.235     18.703      0.000       3.937       4.859\n",
      "school      4.472e-09    1.5e-08      0.297      0.766    -2.5e-08     3.4e-08\n",
      "==============================================================================\n",
      "Omnibus:                      627.557   Durbin-Watson:                   1.941\n",
      "Prob(Omnibus):                  0.000   Jarque-Bera (JB):              269.195\n",
      "Skew:                           0.024   Prob(JB):                     3.51e-59\n",
      "Kurtosis:                       2.353   Cond. No.                     1.47e+08\n",
      "==============================================================================\n",
      "\n",
      "Notes:\n",
      "[1] Standard Errors assume that the covariance matrix of the errors is correctly specified.\n",
      "[2] The condition number is large, 1.47e+08. This might indicate that there are\n",
      "strong multicollinearity or other numerical problems.\n",
      "                            OLS Regression Results                            \n",
      "==============================================================================\n",
      "Dep. Variable:     outcome_test_score   R-squared:                       0.084\n",
      "Model:                            OLS   Adj. R-squared:                  0.083\n",
      "Method:                 Least Squares   F-statistic:                     350.2\n",
      "Date:                Tue, 14 May 2024   Prob (F-statistic):          5.18e-289\n",
      "Time:                        16:15:02   Log-Likelihood:                -62465.\n",
      "No. Observations:               15365   AIC:                         1.249e+05\n",
      "Df Residuals:                   15360   BIC:                         1.250e+05\n",
      "Df Model:                           4                                         \n",
      "Covariance Type:            nonrobust                                         \n",
      "===================================================================================================\n",
      "                                      coef    std err          t      P>|t|      [0.025      0.975]\n",
      "---------------------------------------------------------------------------------------------------\n",
      "Intercept                          56.9773      0.523    108.981      0.000      55.952      58.002\n",
      "treatment                           4.4800      0.228     19.664      0.000       4.033       4.927\n",
      "school                          -1.493e-09   1.46e-08     -0.102      0.918   -3.01e-08    2.71e-08\n",
      "failed_at_least_one_school_year    -7.1463      0.252    -28.308      0.000      -7.641      -6.651\n",
      "is_female                           2.8459      0.230     12.364      0.000       2.395       3.297\n",
      "==============================================================================\n",
      "Omnibus:                      334.901   Durbin-Watson:                   1.968\n",
      "Prob(Omnibus):                  0.000   Jarque-Bera (JB):              176.190\n",
      "Skew:                           0.014   Prob(JB):                     5.51e-39\n",
      "Kurtosis:                       2.476   Cond. No.                     1.56e+08\n",
      "==============================================================================\n",
      "\n",
      "Notes:\n",
      "[1] Standard Errors assume that the covariance matrix of the errors is correctly specified.\n",
      "[2] The condition number is large, 1.56e+08. This might indicate that there are\n",
      "strong multicollinearity or other numerical problems.\n"
     ]
    }
   ],
   "source": [
    "#Summary\n",
    "print(ols_model_1a.summary())\n",
    "print(ols_model_1b.summary())\n",
    "print(ols_model_1c.summary())\n"
   ]
  },
  {
   "cell_type": "markdown",
   "id": "a0cf0f87-fc0d-4bad-be7f-414214a31c5f",
   "metadata": {},
   "source": [
    "## Double LASSO using cross Validation "
   ]
  },
  {
   "cell_type": "code",
   "execution_count": 45,
   "id": "9d2bbecb-065c-4735-a6ee-f942c18d4970",
   "metadata": {},
   "outputs": [],
   "source": [
    "# Create main variables\n",
    "Y = db['outcome_test_score']\n",
    "W = db[['school', 'failed_at_least_one_school_year','is_female']]\n",
    "D = db['treatment']"
   ]
  },
  {
   "cell_type": "code",
   "execution_count": 78,
   "id": "92c92257-f190-4d2e-8747-f6de14d3263f",
   "metadata": {},
   "outputs": [],
   "source": [
    "#  Run the Lasso regressions of Y on W and D on W\n",
    "lasso_Y_W = LassoCV(cv=10).fit(W, Y)\n",
    "lasso_D_W = LassoCV(cv=10).fit(W, D)"
   ]
  },
  {
   "cell_type": "code",
   "execution_count": 104,
   "id": "6004e0f2-1933-48af-98a0-8ab7dbaf03f5",
   "metadata": {},
   "outputs": [
    {
     "data": {
      "text/plain": [
       "(2        0.485619\n",
       " 3       -0.515259\n",
       " 4        0.487513\n",
       " 5       -0.531828\n",
       " 6       -0.531822\n",
       "            ...   \n",
       " 17293   -0.514415\n",
       " 17294    0.485610\n",
       " 17295   -0.514384\n",
       " 17296   -0.512456\n",
       " 17297   -0.531823\n",
       " Name: treatment, Length: 15365, dtype: float64,\n",
       " 2        -3.958683\n",
       " 3       -31.554811\n",
       " 4       -11.058516\n",
       " 5       -17.607299\n",
       " 6        10.622888\n",
       "            ...    \n",
       " 17293    -0.327691\n",
       " 17294   -11.140557\n",
       " 17295    -4.173041\n",
       " 17296    -0.921294\n",
       " 17297    -3.191106\n",
       " Name: outcome_test_score, Length: 15365, dtype: float64)"
      ]
     },
     "execution_count": 104,
     "metadata": {},
     "output_type": "execute_result"
    }
   ],
   "source": [
    "# Obtain the resulting residuals\n",
    "W_D_residuals = D - lasso_D_W.predict(W)\n",
    "W_Y_residuals = Y - lasso_Y_W.predict(W)\n",
    "W_D_residuals,W_Y_residuals"
   ]
  },
  {
   "cell_type": "markdown",
   "id": "6bde790a-92b8-44ad-a4ed-f6df688bc0fe",
   "metadata": {},
   "source": [
    "We run the least squares of $Y$ on $D$ to obtain the estimator $\\alpha$"
   ]
  },
  {
   "cell_type": "code",
   "execution_count": 105,
   "id": "dcbbca96-7661-4a34-8d04-e1efb9e14cac",
   "metadata": {},
   "outputs": [
    {
     "name": "stdout",
     "output_type": "stream",
     "text": [
      "          Coefficient  Std. Error  Conf. Interval Lower  Conf. Interval Upper\n",
      "LASSO_CV     4.470528    0.228846              4.021963              4.919093\n"
     ]
    }
   ],
   "source": [
    "ols_model = OLS(W_Y_residuals, W_D_residuals).fit()\n",
    "coef = ols_model.params['treatment']\n",
    "conf_int = ols_model.conf_int().loc['treatment']\n",
    "std_error = ols_model.bse['treatment']\n",
    "\n",
    "# Create dataframe to view the results\n",
    "table_2_pd = pd.DataFrame({\n",
    "    'Coefficient': [coef],\n",
    "    'Std. Error': [std_error],\n",
    "    'Conf. Interval Lower': [conf_int[0]],\n",
    "    'Conf. Interval Upper': [conf_int[1]]\n",
    "})\n",
    "table_2_pd.index = [ \"LASSO_CV\" ]\n",
    "# Results\n",
    "print(table_2_pd)\n"
   ]
  },
  {
   "cell_type": "markdown",
   "id": "db6a1121-45ca-47fd-ac65-04fa82d8c6c1",
   "metadata": {},
   "source": [
    "## Double Lasso using theorical Lambda"
   ]
  },
  {
   "cell_type": "code",
   "execution_count": 102,
   "id": "1a61f15e-1aaa-495b-93e7-8e05d4ed14ce",
   "metadata": {},
   "outputs": [
    {
     "name": "stdout",
     "output_type": "stream",
     "text": [
      "                                 OLS Regression Results                                \n",
      "=======================================================================================\n",
      "Dep. Variable:     outcome_test_score   R-squared (uncentered):                   0.024\n",
      "Model:                            OLS   Adj. R-squared (uncentered):              0.024\n",
      "Method:                 Least Squares   F-statistic:                              381.6\n",
      "Date:                Tue, 14 May 2024   Prob (F-statistic):                    5.75e-84\n",
      "Time:                        19:13:43   Log-Likelihood:                         -62544.\n",
      "No. Observations:               15365   AIC:                                  1.251e+05\n",
      "Df Residuals:                   15364   BIC:                                  1.251e+05\n",
      "Df Model:                           1                                                  \n",
      "Covariance Type:            nonrobust                                                  \n",
      "==============================================================================\n",
      "                 coef    std err          t      P>|t|      [0.025      0.975]\n",
      "------------------------------------------------------------------------------\n",
      "treatment      4.4705      0.229     19.535      0.000       4.022       4.919\n",
      "==============================================================================\n",
      "Omnibus:                      467.376   Durbin-Watson:                   1.958\n",
      "Prob(Omnibus):                  0.000   Jarque-Bera (JB):              221.753\n",
      "Skew:                           0.016   Prob(JB):                     7.03e-49\n",
      "Kurtosis:                       2.412   Cond. No.                         1.00\n",
      "==============================================================================\n",
      "\n",
      "Notes:\n",
      "[1] R² is computed without centering (uncentered) since the model does not contain a constant.\n",
      "[2] Standard Errors assume that the covariance matrix of the errors is correctly specified.\n",
      "              Coefficient  Std. Error  Conf. Interval Lower  \\\n",
      "LASSO_lambda     4.398477    0.228846              4.021963   \n",
      "\n",
      "              Conf. Interval Upper  \n",
      "LASSO_lambda              4.919093  \n"
     ]
    }
   ],
   "source": [
    "from sklearn.linear_model import Lasso\n",
    "\n",
    "# Set a theorical lambda\n",
    "theorical_lambda = 0.5\n",
    "\n",
    "# Run the Lasso regressions of Y on W and D on W, then calculate the residuals\n",
    "lasso_Y_W = Lasso(alpha=theorical_lambda).fit(W, Y)\n",
    "W_Y_residuals = Y - lasso_Y_W.predict(W)\n",
    "\n",
    "lasso_D_W = Lasso(alpha=theorical_lambda).fit(W, D)\n",
    "W_D_residuals = D - lasso_D_W.predict(W)\n",
    "\n",
    "# OLS\n",
    "ols_model = OLS(W_Y_residuals, W_D_residuals).fit()\n",
    "print(ols_model.summary())\n",
    "oef = ols_model.params['treatment']\n",
    "conf_int = ols_model.conf_int().loc['treatment']\n",
    "std_error = ols_model.bse['treatment']\n",
    "\n",
    "# Create dataframe to view the results\n",
    "table_3_pd = pd.DataFrame({\n",
    "    'Coefficient': [coef],\n",
    "    'Std. Error': [std_error],\n",
    "    'Conf. Interval Lower': [conf_int[0]],\n",
    "    'Conf. Interval Upper': [conf_int[1]]\n",
    "})\n",
    "table_3_pd.index = [ \"LASSO_lambda\" ]\n",
    "# Results\n",
    "print(table_3_pd)\n"
   ]
  },
  {
   "cell_type": "markdown",
   "id": "6a70039b-da9b-45b3-ae1b-cdd242e71cd3",
   "metadata": {},
   "source": [
    "## Double Lasso using partialling out "
   ]
  },
  {
   "cell_type": "code",
   "execution_count": 60,
   "id": "c4dd24aa-11b9-4e12-a374-535539a729dd",
   "metadata": {},
   "outputs": [
    {
     "name": "stdout",
     "output_type": "stream",
     "text": [
      "Requirement already satisfied: multiprocess in c:\\users\\josue\\anaconda3\\lib\\site-packages (0.70.16)\n",
      "Requirement already satisfied: dill>=0.3.8 in c:\\users\\josue\\anaconda3\\lib\\site-packages (from multiprocess) (0.3.8)\n",
      "Requirement already satisfied: pyreadr in c:\\users\\josue\\anaconda3\\lib\\site-packages (0.5.0)\n",
      "Requirement already satisfied: pandas>=1.2.0 in c:\\users\\josue\\anaconda3\\lib\\site-packages (from pyreadr) (2.1.4)\n",
      "Requirement already satisfied: numpy<2,>=1.23.2 in c:\\users\\josue\\anaconda3\\lib\\site-packages (from pandas>=1.2.0->pyreadr) (1.26.4)\n",
      "Requirement already satisfied: python-dateutil>=2.8.2 in c:\\users\\josue\\anaconda3\\lib\\site-packages (from pandas>=1.2.0->pyreadr) (2.8.2)\n",
      "Requirement already satisfied: pytz>=2020.1 in c:\\users\\josue\\anaconda3\\lib\\site-packages (from pandas>=1.2.0->pyreadr) (2023.3.post1)\n",
      "Requirement already satisfied: tzdata>=2022.1 in c:\\users\\josue\\anaconda3\\lib\\site-packages (from pandas>=1.2.0->pyreadr) (2023.3)\n",
      "Requirement already satisfied: six>=1.5 in c:\\users\\josue\\anaconda3\\lib\\site-packages (from python-dateutil>=2.8.2->pandas>=1.2.0->pyreadr) (1.16.0)\n"
     ]
    },
    {
     "name": "stderr",
     "output_type": "stream",
     "text": [
      "fatal: destination path 'hdmpy' already exists and is not an empty directory.\n"
     ]
    }
   ],
   "source": [
    "!pip install multiprocess\n",
    "!pip install pyreadr\n",
    "!git clone https://github.com/maxhuppertz/hdmpy.git "
   ]
  },
  {
   "cell_type": "code",
   "execution_count": 61,
   "id": "5d163bb1-97b8-4e01-8fcc-971d0644f933",
   "metadata": {},
   "outputs": [],
   "source": [
    "import sys\n",
    "sys.path.insert(1, \"./hdmpy\")\n",
    "import hdmpy"
   ]
  },
  {
   "cell_type": "code",
   "execution_count": 67,
   "id": "5887a803-7c90-44f4-9617-71e2078e0439",
   "metadata": {},
   "outputs": [],
   "source": [
    "Y = db['outcome_test_score']\n",
    "W = db[['school', 'failed_at_least_one_school_year','is_female']]\n",
    "D = db['treatment']"
   ]
  },
  {
   "cell_type": "code",
   "execution_count": 68,
   "id": "af098aed-6393-48c9-adf2-d9e0b6635e82",
   "metadata": {},
   "outputs": [
    {
     "data": {
      "text/plain": [
       "{'alpha': 4.4746885,\n",
       " 'se': array([0.22785877]),\n",
       " 't': array([19.63799141]),\n",
       " 'pval': array([7.32381184e-86]),\n",
       " 'coefficients': 4.4746885,\n",
       " 'coefficient': 4.4746885,\n",
       " 'coefficients_reg':                      0\n",
       " (Intercept)  59.124372\n",
       " x0            0.000000\n",
       " x1           -7.024509\n",
       " x2            2.958220,\n",
       " 'selection_index': array([[False],\n",
       "        [ True],\n",
       "        [ True]]),\n",
       " 'residuals': {'epsilon': array([[ -7.5951276 ],\n",
       "         [-30.71272423],\n",
       "         [-14.70325519],\n",
       "         ...,\n",
       "         [ -3.33478691],\n",
       "         [ -0.09147789],\n",
       "         [ -2.27649452]]),\n",
       "  'v': array([[ 0.48812234],\n",
       "         [-0.51187766],\n",
       "         [ 0.48812234],\n",
       "         ...,\n",
       "         [-0.51187766],\n",
       "         [-0.51187766],\n",
       "         [-0.51187766]], dtype=float32)},\n",
       " 'samplesize': 15365}"
      ]
     },
     "execution_count": 68,
     "metadata": {},
     "output_type": "execute_result"
    }
   ],
   "source": [
    "lasso_direct = hdmpy.rlassoEffect(x=W, y=Y, d=D, method=\"partialling out\")  # put as argument method=\"partialling out\"\n",
    "lasso_direct"
   ]
  },
  {
   "cell_type": "code",
   "execution_count": 69,
   "id": "02bd870f-97f5-45b3-95a9-2e8e5e6b6ab8",
   "metadata": {},
   "outputs": [
    {
     "data": {
      "text/plain": [
       "4.4746885"
      ]
     },
     "execution_count": 69,
     "metadata": {},
     "output_type": "execute_result"
    }
   ],
   "source": [
    "lasso_direct['alpha']"
   ]
  },
  {
   "cell_type": "code",
   "execution_count": 72,
   "id": "696228e3-9d02-4973-9fe6-7f590bf0a2bc",
   "metadata": {},
   "outputs": [],
   "source": [
    "est_lasso_hdm = lasso_direct['alpha']\n",
    "std_lasso_hdm = lasso_direct[\"se\"]\n",
    "lower_ci_lasso_hdm = est_lasso - 1.96*std_lasso\n",
    "upper_ci_lasso_hdm = est_lasso + 1.96*std_lasso"
   ]
  },
  {
   "cell_type": "code",
   "execution_count": 95,
   "id": "11ebae2c-37f6-4e0a-aa9e-670beee3e4fe",
   "metadata": {},
   "outputs": [
    {
     "name": "stderr",
     "output_type": "stream",
     "text": [
      "C:\\Users\\Josue\\AppData\\Local\\Temp\\ipykernel_33952\\2652607470.py:4: DeprecationWarning: Conversion of an array with ndim > 0 to a scalar is deprecated, and will error in future. Ensure you extract a single element from your array before performing this operation. (Deprecated NumPy 1.25.)\n",
      "  table_4[0,1] = std_lasso_hdm\n"
     ]
    },
    {
     "data": {
      "text/html": [
       "<div>\n",
       "<style scoped>\n",
       "    .dataframe tbody tr th:only-of-type {\n",
       "        vertical-align: middle;\n",
       "    }\n",
       "\n",
       "    .dataframe tbody tr th {\n",
       "        vertical-align: top;\n",
       "    }\n",
       "\n",
       "    .dataframe thead th {\n",
       "        text-align: right;\n",
       "    }\n",
       "</style>\n",
       "<table border=\"1\" class=\"dataframe\">\n",
       "  <thead>\n",
       "    <tr style=\"text-align: right;\">\n",
       "      <th></th>\n",
       "      <th>Coefficient</th>\n",
       "      <th>Std. Error</th>\n",
       "      <th>Conf. Interval Lower</th>\n",
       "      <th>Conf. Interval Upper</th>\n",
       "    </tr>\n",
       "  </thead>\n",
       "  <tbody>\n",
       "    <tr>\n",
       "      <th>LASSO_direct</th>\n",
       "      <td>4.474689</td>\n",
       "      <td>0.227859</td>\n",
       "      <td>4.02199</td>\n",
       "      <td>4.919066</td>\n",
       "    </tr>\n",
       "  </tbody>\n",
       "</table>\n",
       "</div>"
      ],
      "text/plain": [
       "              Coefficient  Std. Error  Conf. Interval Lower  \\\n",
       "LASSO_direct     4.474689    0.227859               4.02199   \n",
       "\n",
       "              Conf. Interval Upper  \n",
       "LASSO_direct              4.919066  "
      ]
     },
     "execution_count": 95,
     "metadata": {},
     "output_type": "execute_result"
    }
   ],
   "source": [
    "table_4 = np.zeros( (1, 4) )\n",
    "\n",
    "table_4[0,0] = est_lasso_hdm   \n",
    "table_4[0,1] = std_lasso_hdm    \n",
    "table_4[0,2] = lower_ci_lasso_hdm \n",
    "table_4[0,3] = upper_ci_lasso_hdm     \n",
    "\n",
    "\n",
    "table_4_pd = pd.DataFrame( table_4, columns = [ \"Coefficient\",\"Std. Error\", \"Conf. Interval Lower\", \"Conf. Interval Upper\"  ]) \n",
    "table_4_pd.index = [ \"LASSO_direct\" ]\n",
    "table_4_pd"
   ]
  },
  {
   "cell_type": "code",
   "execution_count": 106,
   "id": "2c77a916-a384-453a-948a-bd6a083b8fb9",
   "metadata": {},
   "outputs": [
    {
     "name": "stdout",
     "output_type": "stream",
     "text": [
      "              Coefficient  Std. Error  Conf. Interval Lower  \\\n",
      "OLS              4.398477    0.235161              3.937533   \n",
      "LASSO_CV         4.470528    0.228846              4.021963   \n",
      "LASSO_lambda     4.398477    0.228846              4.021963   \n",
      "LASSO_direct     4.474689    0.227859              4.021990   \n",
      "\n",
      "              Conf. Interval Upper  \n",
      "OLS                       4.859421  \n",
      "LASSO_CV                  4.919093  \n",
      "LASSO_lambda              4.919093  \n",
      "LASSO_direct              4.919066  \n"
     ]
    }
   ],
   "source": [
    "#Show all the previous results\n",
    "combined_pd = pd.concat([table_1_pd,table_2_pd,table_3_pd, table_4_pd])\n",
    "print(combined_pd)"
   ]
  },
  {
   "cell_type": "code",
   "execution_count": 110,
   "id": "81efd4c2-c01b-436d-8054-3b0f700b477c",
   "metadata": {},
   "outputs": [
    {
     "data": {
      "image/png": "[encoded data removed]",
      "text/plain": [
       "<Figure size 1200x800 with 1 Axes>"
      ]
     },
     "metadata": {},
     "output_type": "display_data"
    }
   ],
   "source": [
    "fig, ax = plt.subplots(figsize=(12, 8))\n",
    "\n",
    "#Define the colors\n",
    "colors = ['blue', 'green', 'red', 'purple']\n",
    "\n",
    "# Plot coefficients and intervals\n",
    "for i, method in enumerate(combined_pd.index):\n",
    "    ax.errorbar(\n",
    "        method, \n",
    "        combined_pd.loc[method, 'Coefficient'], \n",
    "        yerr=[[combined_pd.loc[method, 'Coefficient'] - combined_pd.loc[method, 'Conf. Interval Lower']], \n",
    "              [combined_pd.loc[method, 'Conf. Interval Upper'] - combined_pd.loc[method, 'Coefficient']]], \n",
    "        fmt='o', \n",
    "        color=colors[i], \n",
    "        capsize=5, \n",
    "        capthick=2, \n",
    "        elinewidth=2,\n",
    "        label=method\n",
    "    )\n",
    "    ax.text(method, combined_pd.loc[method, 'Coefficient'], \n",
    "            f'{combined_pd.loc[method, \"Coefficient\"]:.2f}', \n",
    "            ha='center', \n",
    "            va='bottom', \n",
    "            fontsize=10, \n",
    "            color=colors[i])\n",
    "\n",
    "# Add labels\n",
    "ax.set_xlabel('Method', fontsize=14)\n",
    "ax.set_ylabel('Coefficient Estimate', fontsize=14)\n",
    "ax.set_title('Coefficient Estimates and Confidence Intervals', fontsize=16)\n",
    "ax.axhline(0, color='black', linewidth=0.8, linestyle='--')\n",
    "\n",
    "# Show the plot\n",
    "plt.xticks(rotation=45, fontsize=12)\n",
    "plt.yticks(fontsize=12)\n",
    "plt.legend()\n",
    "plt.tight_layout()\n",
    "plt.show()"
   ]
  },
  {
   "cell_type": "code",
   "execution_count": null,
   "id": "c5ff10c5-cbcd-4941-9bfa-7a1dbca44a06",
   "metadata": {},
   "outputs": [],
   "source": []
  }
 ],
 "metadata": {
  "kernelspec": {
   "display_name": "Python 3 (ipykernel)",
   "language": "python",
   "name": "python3"
  },
  "language_info": {
   "codemirror_mode": {
    "name": "ipython",
    "version": 3
   },
   "file_extension": ".py",
   "mimetype": "text/x-python",
   "name": "python",
   "nbconvert_exporter": "python",
   "pygments_lexer": "ipython3",
   "version": "3.11.7"
  }
 },
 "nbformat": 4,
 "nbformat_minor": 5
}
