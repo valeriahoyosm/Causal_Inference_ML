{
 "cells": [
  {
   "cell_type": "markdown",
   "id": "89b41a4e",
   "metadata": {},
   "source": [
    "## WORKGROUP 5 "
   ]
  },
  {
   "cell_type": "markdown",
   "id": "418a322e",
   "metadata": {},
   "source": [
    "Integrantes: \n",
    "- Valeria Hoyos Macedo\n",
    "- Josué Eduardo Maguiña Mezaz\n",
    "- Alvaro Alexander Yllu Socualaya\n",
    "- Maria pamela Cubas Albujar"
   ]
  },
  {
   "cell_type": "markdown",
   "id": "c7178bad-3f9b-44b6-8db1-2d5ed70096e1",
   "metadata": {},
   "source": [
    "# Replication and Data analysis - Julia"
   ]
  },
  {
   "cell_type": "code",
   "execution_count": 1,
   "id": "e6576213-7163-4e27-8a14-492bd4b01c3b",
   "metadata": {},
   "outputs": [],
   "source": [
    "using Pkg\n",
    "#Pkg.add(\"CSV\")\n",
    "#Pkg.add(\"DataFrames\")\n",
    "#Pkg.add(\"Plots\")"
   ]
  },
  {
   "cell_type": "markdown",
   "id": "dc515002-88ee-40b7-a951-4362d8410bca",
   "metadata": {},
   "source": [
    "## 1. Descriptives"
   ]
  },
  {
   "cell_type": "markdown",
   "id": "c3087699-f54f-4371-b047-b36dd20db3d7",
   "metadata": {},
   "source": [
    "Show tables to describe your main variables. Try to split your analysis between the treated and control groups. You can use a balance table."
   ]
  },
  {
   "cell_type": "code",
   "execution_count": 2,
   "id": "5802eb4b-52b1-4d0a-8bdc-c1fc43591244",
   "metadata": {},
   "outputs": [
    {
     "data": {
      "text/html": [
       "<div><div style = \"float: left;\"><span>1739×15 DataFrame</span></div><div style = \"float: right;\"><span style = \"font-style: italic;\">1714 rows omitted</span></div><div style = \"clear: both;\"></div></div><div class = \"data-frame\" style = \"overflow-x: scroll;\"><table class = \"data-frame\" style = \"margin-bottom: 6px;\"><thead><tr class = \"header\"><th class = \"rowNumber\" style = \"font-weight: bold; text-align: right;\">Row</th><th style = \"text-align: left;\">y</th><th style = \"text-align: left;\">w</th><th style = \"text-align: left;\">gender_female</th><th style = \"text-align: left;\">gender_male</th><th style = \"text-align: left;\">gender_transgender</th><th style = \"text-align: left;\">ethnicgrp_asian</th><th style = \"text-align: left;\">ethnicgrp_black</th><th style = \"text-align: left;\">ethnicgrp_mixed_multiple</th><th style = \"text-align: left;\">ethnicgrp_other</th><th style = \"text-align: left;\">ethnicgrp_white</th><th style = \"text-align: left;\">partners1</th><th style = \"text-align: left;\">postlaunch</th><th style = \"text-align: left;\">msm</th><th style = \"text-align: left;\">age</th><th style = \"text-align: left;\">imd_decile</th></tr><tr class = \"subheader headerLastRow\"><th class = \"rowNumber\" style = \"font-weight: bold; text-align: right;\"></th><th title = \"Int64\" style = \"text-align: left;\">Int64</th><th title = \"Int64\" style = \"text-align: left;\">Int64</th><th title = \"Int64\" style = \"text-align: left;\">Int64</th><th title = \"Int64\" style = \"text-align: left;\">Int64</th><th title = \"Int64\" style = \"text-align: left;\">Int64</th><th title = \"Int64\" style = \"text-align: left;\">Int64</th><th title = \"Int64\" style = \"text-align: left;\">Int64</th><th title = \"Int64\" style = \"text-align: left;\">Int64</th><th title = \"Int64\" style = \"text-align: left;\">Int64</th><th title = \"Int64\" style = \"text-align: left;\">Int64</th><th title = \"Int64\" style = \"text-align: left;\">Int64</th><th title = \"Int64\" style = \"text-align: left;\">Int64</th><th title = \"Int64\" style = \"text-align: left;\">Int64</th><th title = \"Int64\" style = \"text-align: left;\">Int64</th><th title = \"Int64\" style = \"text-align: left;\">Int64</th></tr></thead><tbody><tr><td class = \"rowNumber\" style = \"font-weight: bold; text-align: right;\">1</td><td style = \"text-align: right;\">1</td><td style = \"text-align: right;\">1</td><td style = \"text-align: right;\">0</td><td style = \"text-align: right;\">1</td><td style = \"text-align: right;\">0</td><td style = \"text-align: right;\">0</td><td style = \"text-align: right;\">0</td><td style = \"text-align: right;\">1</td><td style = \"text-align: right;\">0</td><td style = \"text-align: right;\">0</td><td style = \"text-align: right;\">0</td><td style = \"text-align: right;\">1</td><td style = \"text-align: right;\">0</td><td style = \"text-align: right;\">27</td><td style = \"text-align: right;\">5</td></tr><tr><td class = \"rowNumber\" style = \"font-weight: bold; text-align: right;\">2</td><td style = \"text-align: right;\">0</td><td style = \"text-align: right;\">0</td><td style = \"text-align: right;\">0</td><td style = \"text-align: right;\">1</td><td style = \"text-align: right;\">0</td><td style = \"text-align: right;\">0</td><td style = \"text-align: right;\">0</td><td style = \"text-align: right;\">0</td><td style = \"text-align: right;\">0</td><td style = \"text-align: right;\">1</td><td style = \"text-align: right;\">0</td><td style = \"text-align: right;\">0</td><td style = \"text-align: right;\">0</td><td style = \"text-align: right;\">19</td><td style = \"text-align: right;\">6</td></tr><tr><td class = \"rowNumber\" style = \"font-weight: bold; text-align: right;\">3</td><td style = \"text-align: right;\">0</td><td style = \"text-align: right;\">1</td><td style = \"text-align: right;\">0</td><td style = \"text-align: right;\">1</td><td style = \"text-align: right;\">0</td><td style = \"text-align: right;\">0</td><td style = \"text-align: right;\">1</td><td style = \"text-align: right;\">0</td><td style = \"text-align: right;\">0</td><td style = \"text-align: right;\">0</td><td style = \"text-align: right;\">0</td><td style = \"text-align: right;\">1</td><td style = \"text-align: right;\">0</td><td style = \"text-align: right;\">26</td><td style = \"text-align: right;\">4</td></tr><tr><td class = \"rowNumber\" style = \"font-weight: bold; text-align: right;\">4</td><td style = \"text-align: right;\">0</td><td style = \"text-align: right;\">0</td><td style = \"text-align: right;\">1</td><td style = \"text-align: right;\">0</td><td style = \"text-align: right;\">0</td><td style = \"text-align: right;\">0</td><td style = \"text-align: right;\">0</td><td style = \"text-align: right;\">0</td><td style = \"text-align: right;\">0</td><td style = \"text-align: right;\">1</td><td style = \"text-align: right;\">1</td><td style = \"text-align: right;\">0</td><td style = \"text-align: right;\">0</td><td style = \"text-align: right;\">20</td><td style = \"text-align: right;\">2</td></tr><tr><td class = \"rowNumber\" style = \"font-weight: bold; text-align: right;\">5</td><td style = \"text-align: right;\">1</td><td style = \"text-align: right;\">1</td><td style = \"text-align: right;\">1</td><td style = \"text-align: right;\">0</td><td style = \"text-align: right;\">0</td><td style = \"text-align: right;\">1</td><td style = \"text-align: right;\">0</td><td style = \"text-align: right;\">0</td><td style = \"text-align: right;\">0</td><td style = \"text-align: right;\">0</td><td style = \"text-align: right;\">0</td><td style = \"text-align: right;\">1</td><td style = \"text-align: right;\">0</td><td style = \"text-align: right;\">24</td><td style = \"text-align: right;\">3</td></tr><tr><td class = \"rowNumber\" style = \"font-weight: bold; text-align: right;\">6</td><td style = \"text-align: right;\">1</td><td style = \"text-align: right;\">1</td><td style = \"text-align: right;\">0</td><td style = \"text-align: right;\">1</td><td style = \"text-align: right;\">0</td><td style = \"text-align: right;\">0</td><td style = \"text-align: right;\">0</td><td style = \"text-align: right;\">0</td><td style = \"text-align: right;\">0</td><td style = \"text-align: right;\">1</td><td style = \"text-align: right;\">0</td><td style = \"text-align: right;\">1</td><td style = \"text-align: right;\">0</td><td style = \"text-align: right;\">24</td><td style = \"text-align: right;\">2</td></tr><tr><td class = \"rowNumber\" style = \"font-weight: bold; text-align: right;\">7</td><td style = \"text-align: right;\">1</td><td style = \"text-align: right;\">1</td><td style = \"text-align: right;\">1</td><td style = \"text-align: right;\">0</td><td style = \"text-align: right;\">0</td><td style = \"text-align: right;\">0</td><td style = \"text-align: right;\">0</td><td style = \"text-align: right;\">0</td><td style = \"text-align: right;\">0</td><td style = \"text-align: right;\">1</td><td style = \"text-align: right;\">0</td><td style = \"text-align: right;\">0</td><td style = \"text-align: right;\">0</td><td style = \"text-align: right;\">24</td><td style = \"text-align: right;\">4</td></tr><tr><td class = \"rowNumber\" style = \"font-weight: bold; text-align: right;\">8</td><td style = \"text-align: right;\">0</td><td style = \"text-align: right;\">0</td><td style = \"text-align: right;\">0</td><td style = \"text-align: right;\">1</td><td style = \"text-align: right;\">0</td><td style = \"text-align: right;\">0</td><td style = \"text-align: right;\">1</td><td style = \"text-align: right;\">0</td><td style = \"text-align: right;\">0</td><td style = \"text-align: right;\">0</td><td style = \"text-align: right;\">0</td><td style = \"text-align: right;\">1</td><td style = \"text-align: right;\">0</td><td style = \"text-align: right;\">21</td><td style = \"text-align: right;\">2</td></tr><tr><td class = \"rowNumber\" style = \"font-weight: bold; text-align: right;\">9</td><td style = \"text-align: right;\">0</td><td style = \"text-align: right;\">1</td><td style = \"text-align: right;\">0</td><td style = \"text-align: right;\">1</td><td style = \"text-align: right;\">0</td><td style = \"text-align: right;\">0</td><td style = \"text-align: right;\">0</td><td style = \"text-align: right;\">0</td><td style = \"text-align: right;\">0</td><td style = \"text-align: right;\">1</td><td style = \"text-align: right;\">1</td><td style = \"text-align: right;\">0</td><td style = \"text-align: right;\">0</td><td style = \"text-align: right;\">27</td><td style = \"text-align: right;\">2</td></tr><tr><td class = \"rowNumber\" style = \"font-weight: bold; text-align: right;\">10</td><td style = \"text-align: right;\">1</td><td style = \"text-align: right;\">1</td><td style = \"text-align: right;\">1</td><td style = \"text-align: right;\">0</td><td style = \"text-align: right;\">0</td><td style = \"text-align: right;\">0</td><td style = \"text-align: right;\">1</td><td style = \"text-align: right;\">0</td><td style = \"text-align: right;\">0</td><td style = \"text-align: right;\">0</td><td style = \"text-align: right;\">0</td><td style = \"text-align: right;\">0</td><td style = \"text-align: right;\">0</td><td style = \"text-align: right;\">21</td><td style = \"text-align: right;\">6</td></tr><tr><td class = \"rowNumber\" style = \"font-weight: bold; text-align: right;\">11</td><td style = \"text-align: right;\">0</td><td style = \"text-align: right;\">0</td><td style = \"text-align: right;\">0</td><td style = \"text-align: right;\">1</td><td style = \"text-align: right;\">0</td><td style = \"text-align: right;\">0</td><td style = \"text-align: right;\">0</td><td style = \"text-align: right;\">0</td><td style = \"text-align: right;\">0</td><td style = \"text-align: right;\">1</td><td style = \"text-align: right;\">0</td><td style = \"text-align: right;\">1</td><td style = \"text-align: right;\">1</td><td style = \"text-align: right;\">28</td><td style = \"text-align: right;\">3</td></tr><tr><td class = \"rowNumber\" style = \"font-weight: bold; text-align: right;\">12</td><td style = \"text-align: right;\">1</td><td style = \"text-align: right;\">0</td><td style = \"text-align: right;\">1</td><td style = \"text-align: right;\">0</td><td style = \"text-align: right;\">0</td><td style = \"text-align: right;\">0</td><td style = \"text-align: right;\">0</td><td style = \"text-align: right;\">0</td><td style = \"text-align: right;\">0</td><td style = \"text-align: right;\">1</td><td style = \"text-align: right;\">0</td><td style = \"text-align: right;\">1</td><td style = \"text-align: right;\">0</td><td style = \"text-align: right;\">24</td><td style = \"text-align: right;\">2</td></tr><tr><td class = \"rowNumber\" style = \"font-weight: bold; text-align: right;\">13</td><td style = \"text-align: right;\">0</td><td style = \"text-align: right;\">1</td><td style = \"text-align: right;\">0</td><td style = \"text-align: right;\">1</td><td style = \"text-align: right;\">0</td><td style = \"text-align: right;\">0</td><td style = \"text-align: right;\">0</td><td style = \"text-align: right;\">0</td><td style = \"text-align: right;\">0</td><td style = \"text-align: right;\">1</td><td style = \"text-align: right;\">0</td><td style = \"text-align: right;\">0</td><td style = \"text-align: right;\">1</td><td style = \"text-align: right;\">18</td><td style = \"text-align: right;\">4</td></tr><tr><td style = \"text-align: right;\">&vellip;</td><td style = \"text-align: right;\">&vellip;</td><td style = \"text-align: right;\">&vellip;</td><td style = \"text-align: right;\">&vellip;</td><td style = \"text-align: right;\">&vellip;</td><td style = \"text-align: right;\">&vellip;</td><td style = \"text-align: right;\">&vellip;</td><td style = \"text-align: right;\">&vellip;</td><td style = \"text-align: right;\">&vellip;</td><td style = \"text-align: right;\">&vellip;</td><td style = \"text-align: right;\">&vellip;</td><td style = \"text-align: right;\">&vellip;</td><td style = \"text-align: right;\">&vellip;</td><td style = \"text-align: right;\">&vellip;</td><td style = \"text-align: right;\">&vellip;</td><td style = \"text-align: right;\">&vellip;</td></tr><tr><td class = \"rowNumber\" style = \"font-weight: bold; text-align: right;\">1728</td><td style = \"text-align: right;\">0</td><td style = \"text-align: right;\">0</td><td style = \"text-align: right;\">1</td><td style = \"text-align: right;\">0</td><td style = \"text-align: right;\">0</td><td style = \"text-align: right;\">0</td><td style = \"text-align: right;\">0</td><td style = \"text-align: right;\">0</td><td style = \"text-align: right;\">0</td><td style = \"text-align: right;\">1</td><td style = \"text-align: right;\">0</td><td style = \"text-align: right;\">1</td><td style = \"text-align: right;\">0</td><td style = \"text-align: right;\">29</td><td style = \"text-align: right;\">8</td></tr><tr><td class = \"rowNumber\" style = \"font-weight: bold; text-align: right;\">1729</td><td style = \"text-align: right;\">0</td><td style = \"text-align: right;\">0</td><td style = \"text-align: right;\">0</td><td style = \"text-align: right;\">1</td><td style = \"text-align: right;\">0</td><td style = \"text-align: right;\">0</td><td style = \"text-align: right;\">0</td><td style = \"text-align: right;\">0</td><td style = \"text-align: right;\">0</td><td style = \"text-align: right;\">1</td><td style = \"text-align: right;\">0</td><td style = \"text-align: right;\">1</td><td style = \"text-align: right;\">1</td><td style = \"text-align: right;\">25</td><td style = \"text-align: right;\">2</td></tr><tr><td class = \"rowNumber\" style = \"font-weight: bold; text-align: right;\">1730</td><td style = \"text-align: right;\">0</td><td style = \"text-align: right;\">0</td><td style = \"text-align: right;\">1</td><td style = \"text-align: right;\">0</td><td style = \"text-align: right;\">0</td><td style = \"text-align: right;\">0</td><td style = \"text-align: right;\">0</td><td style = \"text-align: right;\">0</td><td style = \"text-align: right;\">0</td><td style = \"text-align: right;\">1</td><td style = \"text-align: right;\">0</td><td style = \"text-align: right;\">0</td><td style = \"text-align: right;\">0</td><td style = \"text-align: right;\">27</td><td style = \"text-align: right;\">1</td></tr><tr><td class = \"rowNumber\" style = \"font-weight: bold; text-align: right;\">1731</td><td style = \"text-align: right;\">0</td><td style = \"text-align: right;\">0</td><td style = \"text-align: right;\">1</td><td style = \"text-align: right;\">0</td><td style = \"text-align: right;\">0</td><td style = \"text-align: right;\">0</td><td style = \"text-align: right;\">0</td><td style = \"text-align: right;\">1</td><td style = \"text-align: right;\">0</td><td style = \"text-align: right;\">0</td><td style = \"text-align: right;\">0</td><td style = \"text-align: right;\">0</td><td style = \"text-align: right;\">0</td><td style = \"text-align: right;\">19</td><td style = \"text-align: right;\">6</td></tr><tr><td class = \"rowNumber\" style = \"font-weight: bold; text-align: right;\">1732</td><td style = \"text-align: right;\">1</td><td style = \"text-align: right;\">0</td><td style = \"text-align: right;\">1</td><td style = \"text-align: right;\">0</td><td style = \"text-align: right;\">0</td><td style = \"text-align: right;\">0</td><td style = \"text-align: right;\">0</td><td style = \"text-align: right;\">0</td><td style = \"text-align: right;\">0</td><td style = \"text-align: right;\">1</td><td style = \"text-align: right;\">0</td><td style = \"text-align: right;\">0</td><td style = \"text-align: right;\">0</td><td style = \"text-align: right;\">20</td><td style = \"text-align: right;\">3</td></tr><tr><td class = \"rowNumber\" style = \"font-weight: bold; text-align: right;\">1733</td><td style = \"text-align: right;\">1</td><td style = \"text-align: right;\">1</td><td style = \"text-align: right;\">1</td><td style = \"text-align: right;\">0</td><td style = \"text-align: right;\">0</td><td style = \"text-align: right;\">0</td><td style = \"text-align: right;\">0</td><td style = \"text-align: right;\">1</td><td style = \"text-align: right;\">0</td><td style = \"text-align: right;\">0</td><td style = \"text-align: right;\">1</td><td style = \"text-align: right;\">1</td><td style = \"text-align: right;\">0</td><td style = \"text-align: right;\">26</td><td style = \"text-align: right;\">3</td></tr><tr><td class = \"rowNumber\" style = \"font-weight: bold; text-align: right;\">1734</td><td style = \"text-align: right;\">1</td><td style = \"text-align: right;\">0</td><td style = \"text-align: right;\">0</td><td style = \"text-align: right;\">1</td><td style = \"text-align: right;\">0</td><td style = \"text-align: right;\">0</td><td style = \"text-align: right;\">1</td><td style = \"text-align: right;\">0</td><td style = \"text-align: right;\">0</td><td style = \"text-align: right;\">0</td><td style = \"text-align: right;\">1</td><td style = \"text-align: right;\">0</td><td style = \"text-align: right;\">0</td><td style = \"text-align: right;\">26</td><td style = \"text-align: right;\">3</td></tr><tr><td class = \"rowNumber\" style = \"font-weight: bold; text-align: right;\">1735</td><td style = \"text-align: right;\">0</td><td style = \"text-align: right;\">0</td><td style = \"text-align: right;\">0</td><td style = \"text-align: right;\">1</td><td style = \"text-align: right;\">0</td><td style = \"text-align: right;\">0</td><td style = \"text-align: right;\">0</td><td style = \"text-align: right;\">0</td><td style = \"text-align: right;\">0</td><td style = \"text-align: right;\">1</td><td style = \"text-align: right;\">0</td><td style = \"text-align: right;\">0</td><td style = \"text-align: right;\">0</td><td style = \"text-align: right;\">24</td><td style = \"text-align: right;\">8</td></tr><tr><td class = \"rowNumber\" style = \"font-weight: bold; text-align: right;\">1736</td><td style = \"text-align: right;\">1</td><td style = \"text-align: right;\">1</td><td style = \"text-align: right;\">1</td><td style = \"text-align: right;\">0</td><td style = \"text-align: right;\">0</td><td style = \"text-align: right;\">0</td><td style = \"text-align: right;\">1</td><td style = \"text-align: right;\">0</td><td style = \"text-align: right;\">0</td><td style = \"text-align: right;\">0</td><td style = \"text-align: right;\">1</td><td style = \"text-align: right;\">1</td><td style = \"text-align: right;\">0</td><td style = \"text-align: right;\">29</td><td style = \"text-align: right;\">1</td></tr><tr><td class = \"rowNumber\" style = \"font-weight: bold; text-align: right;\">1737</td><td style = \"text-align: right;\">1</td><td style = \"text-align: right;\">1</td><td style = \"text-align: right;\">1</td><td style = \"text-align: right;\">0</td><td style = \"text-align: right;\">0</td><td style = \"text-align: right;\">0</td><td style = \"text-align: right;\">0</td><td style = \"text-align: right;\">0</td><td style = \"text-align: right;\">0</td><td style = \"text-align: right;\">1</td><td style = \"text-align: right;\">0</td><td style = \"text-align: right;\">1</td><td style = \"text-align: right;\">0</td><td style = \"text-align: right;\">27</td><td style = \"text-align: right;\">4</td></tr><tr><td class = \"rowNumber\" style = \"font-weight: bold; text-align: right;\">1738</td><td style = \"text-align: right;\">0</td><td style = \"text-align: right;\">1</td><td style = \"text-align: right;\">1</td><td style = \"text-align: right;\">0</td><td style = \"text-align: right;\">0</td><td style = \"text-align: right;\">0</td><td style = \"text-align: right;\">0</td><td style = \"text-align: right;\">0</td><td style = \"text-align: right;\">0</td><td style = \"text-align: right;\">1</td><td style = \"text-align: right;\">1</td><td style = \"text-align: right;\">1</td><td style = \"text-align: right;\">0</td><td style = \"text-align: right;\">25</td><td style = \"text-align: right;\">4</td></tr><tr><td class = \"rowNumber\" style = \"font-weight: bold; text-align: right;\">1739</td><td style = \"text-align: right;\">0</td><td style = \"text-align: right;\">1</td><td style = \"text-align: right;\">1</td><td style = \"text-align: right;\">0</td><td style = \"text-align: right;\">0</td><td style = \"text-align: right;\">0</td><td style = \"text-align: right;\">0</td><td style = \"text-align: right;\">0</td><td style = \"text-align: right;\">0</td><td style = \"text-align: right;\">1</td><td style = \"text-align: right;\">0</td><td style = \"text-align: right;\">1</td><td style = \"text-align: right;\">0</td><td style = \"text-align: right;\">25</td><td style = \"text-align: right;\">4</td></tr></tbody></table></div>"
      ],
      "text/latex": [
       "\\begin{tabular}{r|cccccccc}\n",
       "\t& y & w & gender\\_female & gender\\_male & gender\\_transgender & ethnicgrp\\_asian & ethnicgrp\\_black & \\\\\n",
       "\t\\hline\n",
       "\t& Int64 & Int64 & Int64 & Int64 & Int64 & Int64 & Int64 & \\\\\n",
       "\t\\hline\n",
       "\t1 & 1 & 1 & 0 & 1 & 0 & 0 & 0 & $\\dots$ \\\\\n",
       "\t2 & 0 & 0 & 0 & 1 & 0 & 0 & 0 & $\\dots$ \\\\\n",
       "\t3 & 0 & 1 & 0 & 1 & 0 & 0 & 1 & $\\dots$ \\\\\n",
       "\t4 & 0 & 0 & 1 & 0 & 0 & 0 & 0 & $\\dots$ \\\\\n",
       "\t5 & 1 & 1 & 1 & 0 & 0 & 1 & 0 & $\\dots$ \\\\\n",
       "\t6 & 1 & 1 & 0 & 1 & 0 & 0 & 0 & $\\dots$ \\\\\n",
       "\t7 & 1 & 1 & 1 & 0 & 0 & 0 & 0 & $\\dots$ \\\\\n",
       "\t8 & 0 & 0 & 0 & 1 & 0 & 0 & 1 & $\\dots$ \\\\\n",
       "\t9 & 0 & 1 & 0 & 1 & 0 & 0 & 0 & $\\dots$ \\\\\n",
       "\t10 & 1 & 1 & 1 & 0 & 0 & 0 & 1 & $\\dots$ \\\\\n",
       "\t11 & 0 & 0 & 0 & 1 & 0 & 0 & 0 & $\\dots$ \\\\\n",
       "\t12 & 1 & 0 & 1 & 0 & 0 & 0 & 0 & $\\dots$ \\\\\n",
       "\t13 & 0 & 1 & 0 & 1 & 0 & 0 & 0 & $\\dots$ \\\\\n",
       "\t14 & 0 & 1 & 0 & 1 & 0 & 0 & 0 & $\\dots$ \\\\\n",
       "\t15 & 0 & 1 & 0 & 1 & 0 & 0 & 0 & $\\dots$ \\\\\n",
       "\t16 & 0 & 1 & 1 & 0 & 0 & 0 & 0 & $\\dots$ \\\\\n",
       "\t17 & 0 & 1 & 1 & 0 & 0 & 0 & 1 & $\\dots$ \\\\\n",
       "\t18 & 1 & 1 & 1 & 0 & 0 & 0 & 0 & $\\dots$ \\\\\n",
       "\t19 & 1 & 0 & 0 & 1 & 0 & 0 & 0 & $\\dots$ \\\\\n",
       "\t20 & 1 & 0 & 0 & 1 & 0 & 1 & 0 & $\\dots$ \\\\\n",
       "\t21 & 0 & 0 & 1 & 0 & 0 & 0 & 0 & $\\dots$ \\\\\n",
       "\t22 & 0 & 0 & 1 & 0 & 0 & 0 & 0 & $\\dots$ \\\\\n",
       "\t23 & 0 & 0 & 0 & 1 & 0 & 0 & 0 & $\\dots$ \\\\\n",
       "\t24 & 1 & 1 & 1 & 0 & 0 & 0 & 0 & $\\dots$ \\\\\n",
       "\t25 & 0 & 1 & 0 & 1 & 0 & 0 & 0 & $\\dots$ \\\\\n",
       "\t26 & 1 & 1 & 0 & 1 & 0 & 0 & 0 & $\\dots$ \\\\\n",
       "\t27 & 0 & 0 & 1 & 0 & 0 & 0 & 0 & $\\dots$ \\\\\n",
       "\t28 & 0 & 0 & 0 & 1 & 0 & 0 & 0 & $\\dots$ \\\\\n",
       "\t29 & 0 & 0 & 1 & 0 & 0 & 0 & 0 & $\\dots$ \\\\\n",
       "\t30 & 1 & 1 & 1 & 0 & 0 & 0 & 0 & $\\dots$ \\\\\n",
       "\t$\\dots$ & $\\dots$ & $\\dots$ & $\\dots$ & $\\dots$ & $\\dots$ & $\\dots$ & $\\dots$ &  \\\\\n",
       "\\end{tabular}\n"
      ],
      "text/plain": [
       "\u001b[1m1739×15 DataFrame\u001b[0m\n",
       "\u001b[1m  Row \u001b[0m│\u001b[1m y     \u001b[0m\u001b[1m w     \u001b[0m\u001b[1m gender_female \u001b[0m\u001b[1m gender_male \u001b[0m\u001b[1m gender_transgender \u001b[0m\u001b[1m ethnicgr\u001b[0m ⋯\n",
       "      │\u001b[90m Int64 \u001b[0m\u001b[90m Int64 \u001b[0m\u001b[90m Int64         \u001b[0m\u001b[90m Int64       \u001b[0m\u001b[90m Int64              \u001b[0m\u001b[90m Int64   \u001b[0m ⋯\n",
       "──────┼─────────────────────────────────────────────────────────────────────────\n",
       "    1 │     1      1              0            1                   0           ⋯\n",
       "    2 │     0      0              0            1                   0\n",
       "    3 │     0      1              0            1                   0\n",
       "    4 │     0      0              1            0                   0\n",
       "    5 │     1      1              1            0                   0           ⋯\n",
       "    6 │     1      1              0            1                   0\n",
       "    7 │     1      1              1            0                   0\n",
       "    8 │     0      0              0            1                   0\n",
       "    9 │     0      1              0            1                   0           ⋯\n",
       "   10 │     1      1              1            0                   0\n",
       "   11 │     0      0              0            1                   0\n",
       "  ⋮   │   ⋮      ⋮          ⋮             ⋮               ⋮                  ⋮ ⋱\n",
       " 1730 │     0      0              1            0                   0\n",
       " 1731 │     0      0              1            0                   0           ⋯\n",
       " 1732 │     1      0              1            0                   0\n",
       " 1733 │     1      1              1            0                   0\n",
       " 1734 │     1      0              0            1                   0\n",
       " 1735 │     0      0              0            1                   0           ⋯\n",
       " 1736 │     1      1              1            0                   0\n",
       " 1737 │     1      1              1            0                   0\n",
       " 1738 │     0      1              1            0                   0\n",
       " 1739 │     0      1              1            0                   0           ⋯\n",
       "\u001b[36m                                                10 columns and 1718 rows omitted\u001b[0m"
      ]
     },
     "execution_count": 2,
     "metadata": {},
     "output_type": "execute_result"
    }
   ],
   "source": [
    "using CSV\n",
    "using DataFrames\n",
    "using StatsModels\n",
    "\n",
    "df = CSV.read(\"C:/Users/pamelacubas/Downloads/processed_esti.csv\", DataFrame)\n"
   ]
  },
  {
   "cell_type": "code",
   "execution_count": 3,
   "id": "45b779bd-1f2d-4204-b1bb-efd09d69b940",
   "metadata": {},
   "outputs": [
    {
     "ename": "LoadError",
     "evalue": "ArgumentError: syntax df[column] is not supported use df[!, column] instead",
     "output_type": "error",
     "traceback": [
      "ArgumentError: syntax df[column] is not supported use df[!, column] instead",
      "",
      "Stacktrace:",
      " [1] getindex(::DataFrame, ::Symbol)",
      "   @ DataFrames C:\\Users\\Frank\\.julia\\packages\\DataFrames\\58MUJ\\src\\abstractdataframe\\abstractdataframe.jl:2480",
      " [2] top-level scope",
      "   @ In[3]:4"
     ]
    }
   ],
   "source": [
    "# Create the control data\n",
    "Control_antes = [:age, :gender_female, :ethnicgrp_black]\n",
    "# Filter \n",
    "Control = df[!,[:w] .== 0, Control_antes]\n",
    "\n",
    "println(control)"
   ]
  },
  {
   "cell_type": "code",
   "execution_count": 4,
   "id": "3393a26a",
   "metadata": {},
   "outputs": [
    {
     "ename": "LoadError",
     "evalue": "ArgumentError: syntax df[column] is not supported use df[!, column] instead",
     "output_type": "error",
     "traceback": [
      "ArgumentError: syntax df[column] is not supported use df[!, column] instead",
      "",
      "Stacktrace:",
      " [1] getindex(::DataFrame, ::Symbol)",
      "   @ DataFrames C:\\Users\\Frank\\.julia\\packages\\DataFrames\\58MUJ\\src\\abstractdataframe\\abstractdataframe.jl:2480",
      " [2] top-level scope",
      "   @ In[4]:4"
     ]
    }
   ],
   "source": [
    "# Create the treatment data\n",
    "Tratamiento_antes = [:age, :gender_female, :ethnicgrp_black]\n",
    "# Filter \n",
    "Tratamiento = df[!,[:w] .== 1, Tratamiento_antes ]\n",
    "\n",
    "println(control)"
   ]
  },
  {
   "cell_type": "code",
   "execution_count": 5,
   "id": "20fa957f-1942-4734-a20e-eb05b83b9de4",
   "metadata": {},
   "outputs": [
    {
     "ename": "LoadError",
     "evalue": "UndefVarError: `Control` not defined",
     "output_type": "error",
     "traceback": [
      "UndefVarError: `Control` not defined",
      "",
      "Stacktrace:",
      " [1] top-level scope",
      "   @ In[5]:4"
     ]
    }
   ],
   "source": [
    "using DataFrames\n",
    "\n",
    "# Crear dataframes con los datos de control y tratamiento\n",
    "df_control = DataFrame(Control)\n",
    "df_tratamiento = DataFrame(Tratamiento)\n",
    "\n",
    "# Calcular el número de observaciones, la media y la desviación estándar\n",
    "num_obs_control = nrow(df_control)\n",
    "num_obs_tratamiento = nrow(df_tratamiento)\n",
    "mean_control = mean(skipmissing.(eachcol(df_control)), dims=1)\n",
    "mean_tratamiento = mean(skipmissing.(eachcol(df_tratamiento)), dims=1)\n",
    "dsv_control = std(skipmissing.(eachcol(df_control)), dims=1)\n",
    "dsv_tratamiento = std(skipmissing.(eachcol(df_tratamiento)), dims=1)\n",
    "diferencia = mean_tratamiento - mean_control\n",
    "\n",
    "# Crear un DataFrame con los resultados\n",
    "tabla_diferencias = DataFrame(\n",
    "    n_Control = num_obs_control,\n",
    "    mean_Control = mean_control,\n",
    "    sd_Control = dsv_control,\n",
    "    n_Tratamiento = num_obs_tratamiento,\n",
    "    mean_Tratamiento = mean_tratamiento,\n",
    "    sd_Tratamiento = dsv_tratamiento,\n",
    "    Diff = diferencia\n",
    ")\n",
    "\n",
    "# Mostrar la tabla\n",
    "show(tabla_diferencias, allcols=true)\n"
   ]
  },
  {
   "cell_type": "markdown",
   "id": "31d8a469-4d54-4e38-a36a-79c38c397243",
   "metadata": {},
   "source": [
    "Show graphs that help to describe your variables. Try to split your analysis between the treated and control groups."
   ]
  },
  {
   "cell_type": "code",
   "execution_count": 6,
   "id": "34a512ff-3820-4165-b8e7-d8ebf100b311",
   "metadata": {},
   "outputs": [
    {
     "data": {
      "text/plain": [
       "12-element Vector{String}:\n",
       " \"age\"\n",
       " \"gender_female\"\n",
       " \"gender_male\"\n",
       " \"ethnicgrp_black\"\n",
       " \"gender_transgender\"\n",
       " \"ethnicgrp_asian\"\n",
       " \"ethnicgrp_mixed_multiple\"\n",
       " \"ethnicgrp_other\"\n",
       " \"ethnicgrp_white\"\n",
       " \"partners1\"\n",
       " \"postlaunch\"\n",
       " \"msm\""
      ]
     },
     "execution_count": 6,
     "metadata": {},
     "output_type": "execute_result"
    }
   ],
   "source": [
    "columns = [\"age\", \"gender_female\", \"gender_male\", \"ethnicgrp_black\", \"gender_transgender\", \"ethnicgrp_asian\", \"ethnicgrp_mixed_multiple\", \"ethnicgrp_other\", \"ethnicgrp_white\", \"partners1\", \"postlaunch\", \"msm\"]"
   ]
  },
  {
   "cell_type": "code",
   "execution_count": 7,
   "id": "a6789c67-2141-4f8b-ac32-27abe7d3abc3",
   "metadata": {},
   "outputs": [
    {
     "ename": "LoadError",
     "evalue": "LoadError: UndefVarError: `@df` not defined\nin expression starting at In[7]:6",
     "output_type": "error",
     "traceback": [
      "LoadError: UndefVarError: `@df` not defined\nin expression starting at In[7]:6",
      ""
     ]
    }
   ],
   "source": [
    "# Histograms\n",
    "using DataFrames\n",
    "using Plots\n",
    "\n",
    "# Create an histogram for 'age'\n",
    "@df df histogram(:age, bins=20, xlabel=\"age\", ylabel=\"Frequency\", title=\"Histogram of Age\")"
   ]
  },
  {
   "cell_type": "code",
   "execution_count": 8,
   "id": "3d6ddbc0-86f5-4871-a46c-e2a62cfcba15",
   "metadata": {},
   "outputs": [
    {
     "ename": "LoadError",
     "evalue": "MethodError: no method matching names(::Vector{String})\n\n\u001b[0mClosest candidates are:\n\u001b[0m  names(\u001b[91m::DataFrames.Index\u001b[39m)\n\u001b[0m\u001b[90m   @\u001b[39m \u001b[35mDataFrames\u001b[39m \u001b[90mC:\\Users\\Frank\\.julia\\packages\\DataFrames\\58MUJ\\src\\other\\\u001b[39m\u001b[90m\u001b[4mindex.jl:34\u001b[24m\u001b[39m\n\u001b[0m  names(\u001b[91m::Module\u001b[39m; all, imported)\n\u001b[0m\u001b[90m   @\u001b[39m \u001b[90mBase\u001b[39m \u001b[90m\u001b[4mreflection.jl:89\u001b[24m\u001b[39m\n\u001b[0m  names(\u001b[91m::DataFrameRow\u001b[39m, \u001b[91m::Colon\u001b[39m)\n\u001b[0m\u001b[90m   @\u001b[39m \u001b[35mDataFrames\u001b[39m \u001b[90mC:\\Users\\Frank\\.julia\\packages\\DataFrames\\58MUJ\\src\\dataframerow\\\u001b[39m\u001b[90m\u001b[4mdataframerow.jl:267\u001b[24m\u001b[39m\n\u001b[0m  ...\n",
     "output_type": "error",
     "traceback": [
      "MethodError: no method matching names(::Vector{String})\n\n\u001b[0mClosest candidates are:\n\u001b[0m  names(\u001b[91m::DataFrames.Index\u001b[39m)\n\u001b[0m\u001b[90m   @\u001b[39m \u001b[35mDataFrames\u001b[39m \u001b[90mC:\\Users\\Frank\\.julia\\packages\\DataFrames\\58MUJ\\src\\other\\\u001b[39m\u001b[90m\u001b[4mindex.jl:34\u001b[24m\u001b[39m\n\u001b[0m  names(\u001b[91m::Module\u001b[39m; all, imported)\n\u001b[0m\u001b[90m   @\u001b[39m \u001b[90mBase\u001b[39m \u001b[90m\u001b[4mreflection.jl:89\u001b[24m\u001b[39m\n\u001b[0m  names(\u001b[91m::DataFrameRow\u001b[39m, \u001b[91m::Colon\u001b[39m)\n\u001b[0m\u001b[90m   @\u001b[39m \u001b[35mDataFrames\u001b[39m \u001b[90mC:\\Users\\Frank\\.julia\\packages\\DataFrames\\58MUJ\\src\\dataframerow\\\u001b[39m\u001b[90m\u001b[4mdataframerow.jl:267\u001b[24m\u001b[39m\n\u001b[0m  ...\n",
      "",
      "Stacktrace:",
      " [1] top-level scope",
      "   @ .\\In[8]:6"
     ]
    }
   ],
   "source": [
    "# Plots\n",
    "using Plots\n",
    "using DataFrames\n",
    "\n",
    "# Plot bar plots for each variable split by treatment\n",
    "for col in names(columns)\n",
    "    plt = bar(df[!, col], xlabel=col, ylabel=\"Frequency\", title=\"Bar Plot of $col\", legend=false)\n",
    "    display(plt)\n",
    "end"
   ]
  },
  {
   "cell_type": "code",
   "execution_count": 9,
   "id": "706dcdf7-e7bf-4162-9444-dae76df33033",
   "metadata": {},
   "outputs": [
    {
     "ename": "LoadError",
     "evalue": "TypeError: in keyword argument renamecols, expected Function, got a value of type Bool",
     "output_type": "error",
     "traceback": [
      "TypeError: in keyword argument renamecols, expected Function, got a value of type Bool",
      "",
      "Stacktrace:",
      " [1] stacked_bar_plot(df::DataFrame, col::String)",
      "   @ Main .\\In[9]:8",
      " [2] top-level scope",
      "   @ .\\In[9]:15"
     ]
    }
   ],
   "source": [
    "#Stacked bar plot\n",
    "using DataFrames\n",
    "using Plots\n",
    "\n",
    "# Function to create a stacked bar plot\n",
    "function stacked_bar_plot(df, col)\n",
    "    counts = combine(groupby(df, [:w, Symbol(col)]), nrow => :count)\n",
    "    counts_wide = unstack(counts, :w, :count, renamecols=false)\n",
    "    plt = bar(counts_wide, xlabel=\"Treatment\", ylabel=\"Count\", title=\"Stacked Bar Plot of $col by Treatment\", stacked=true, legend=:topright, figsize=(800, 500))\n",
    "    display(plt)\n",
    "end\n",
    "\n",
    "# Plot stacked bar plots for each dummy variable\n",
    "for col in names(df)\n",
    "    stacked_bar_plot(df, col)\n",
    "end"
   ]
  },
  {
   "cell_type": "markdown",
   "id": "05942ede-fb7f-47ff-bc83-6b2ae4ab383d",
   "metadata": {},
   "source": [
    "## 2. Linear Regression analysis"
   ]
  },
  {
   "cell_type": "markdown",
   "id": "01b6f2fc-18f1-458c-b81f-75df00fd2433",
   "metadata": {},
   "source": [
    "Run the next regression Y ~ T . Please show a clear table output and interpret the results"
   ]
  },
  {
   "cell_type": "code",
   "execution_count": 10,
   "id": "c9caff53-ae86-4737-b429-1cf7098483be",
   "metadata": {},
   "outputs": [
    {
     "ename": "LoadError",
     "evalue": "MethodError: no method matching lm(::FormulaTerm{Term, Term})\n\n\u001b[0mClosest candidates are:\n\u001b[0m  lm(::Any, \u001b[91m::Any\u001b[39m; ...)\n\u001b[0m\u001b[90m   @\u001b[39m \u001b[32mGLM\u001b[39m \u001b[90mC:\\Users\\Frank\\.julia\\packages\\GLM\\6ycOV\\src\\\u001b[39m\u001b[90m\u001b[4mlm.jl:157\u001b[24m\u001b[39m\n\u001b[0m  lm(::Any, \u001b[91m::Any\u001b[39m, \u001b[91m::Union{Nothing, Bool}\u001b[39m; kwargs...)\n\u001b[0m\u001b[90m   @\u001b[39m \u001b[32mGLM\u001b[39m \u001b[90mC:\\Users\\Frank\\.julia\\packages\\GLM\\6ycOV\\src\\\u001b[39m\u001b[90m\u001b[4mlm.jl:157\u001b[24m\u001b[39m\n",
     "output_type": "error",
     "traceback": [
      "MethodError: no method matching lm(::FormulaTerm{Term, Term})\n\n\u001b[0mClosest candidates are:\n\u001b[0m  lm(::Any, \u001b[91m::Any\u001b[39m; ...)\n\u001b[0m\u001b[90m   @\u001b[39m \u001b[32mGLM\u001b[39m \u001b[90mC:\\Users\\Frank\\.julia\\packages\\GLM\\6ycOV\\src\\\u001b[39m\u001b[90m\u001b[4mlm.jl:157\u001b[24m\u001b[39m\n\u001b[0m  lm(::Any, \u001b[91m::Any\u001b[39m, \u001b[91m::Union{Nothing, Bool}\u001b[39m; kwargs...)\n\u001b[0m\u001b[90m   @\u001b[39m \u001b[32mGLM\u001b[39m \u001b[90mC:\\Users\\Frank\\.julia\\packages\\GLM\\6ycOV\\src\\\u001b[39m\u001b[90m\u001b[4mlm.jl:157\u001b[24m\u001b[39m\n",
      "",
      "Stacktrace:",
      " [1] top-level scope",
      "   @ In[10]:8"
     ]
    }
   ],
   "source": [
    "using GLM\n",
    "using DataFrames\n",
    "\n",
    "# Define the formula\n",
    "formula = @formula(y ~ w)\n",
    "\n",
    "# Run  Y ~ W\n",
    "model = lm(formula), df)\n",
    "\n",
    "# Show results\n",
    "println(model)"
   ]
  },
  {
   "cell_type": "markdown",
   "id": "c096a0e3-160c-45da-9cbc-b31587674095",
   "metadata": {},
   "source": [
    "Interpretation: There is a significant (p<0.05) and positive effect of the treatment on the outcome. The probability that Y is equal to 1 increases by 26.52 percentage points when w=1, compared to w=0. However, there is omitted variable bias because only outocme was regressed with treatment."
   ]
  },
  {
   "cell_type": "markdown",
   "id": "49a440ef-f1aa-462a-8d91-846ea3a9c2af",
   "metadata": {},
   "source": [
    "Run the regression Y ~ T + X (any variables of your preference). Please show a clear table output and interpret the results."
   ]
  },
  {
   "cell_type": "code",
   "execution_count": 11,
   "id": "29d5c5d8-2b7c-41e9-9dda-aa01a30212e4",
   "metadata": {},
   "outputs": [
    {
     "name": "stdout",
     "output_type": "stream",
     "text": [
      "StatsModels.TableRegressionModel{LinearModel{GLM.LmResp{Vector{Float64}}, GLM.DensePredChol{Float64, LinearAlgebra.CholeskyPivoted{Float64, Matrix{Float64}, Vector{Int64}}}}, Matrix{Float64}}\n",
      "\n",
      "y ~ 1 + w + age + gender_female + gender_male + ethnicgrp_black + gender_transgender + msm\n",
      "\n",
      "Coefficients:\n",
      "─────────────────────────────────────────────────────────────────────────────────────────\n",
      "                         Coef.    Std. Error       t  Pr(>|t|)    Lower 95%     Upper 95%\n",
      "─────────────────────────────────────────────────────────────────────────────────────────\n",
      "(Intercept)          0.207827     0.236435      0.88    0.3795   -0.255901     0.671555\n",
      "w                    0.261294     0.0218158    11.98    <1e-31    0.218506     0.304082\n",
      "age                  0.0164858    0.00309154    5.33    <1e-06    0.0104223    0.0225494\n",
      "gender_female       -0.335738     0.227438     -1.48    0.1401   -0.78182      0.110343\n",
      "gender_male         -0.424825     0.227945     -1.86    0.0625   -0.871902     0.0222513\n",
      "ethnicgrp_black     -0.0663626    0.0389306    -1.70    0.0884   -0.142718     0.00999325\n",
      "gender_transgender   0.0        NaN           NaN       NaN     NaN          NaN\n",
      "msm                  0.0176986    0.0366692     0.48    0.6294   -0.0542221    0.0896192\n",
      "─────────────────────────────────────────────────────────────────────────────────────────\n"
     ]
    }
   ],
   "source": [
    "using DataFrames\n",
    "using GLM\n",
    "\n",
    "# Define the formula\n",
    "formula = @formula(y ~ w + age + gender_female + gender_male + ethnicgrp_black + gender_transgender + msm)\n",
    "\n",
    "# Run Y ~ W + X\n",
    "model = lm(formula, df)\n",
    "\n",
    "# Show results\n",
    "println(model)"
   ]
  },
  {
   "cell_type": "markdown",
   "id": "71b9afb7-fd55-4662-b7c6-28e51f3e6c0c",
   "metadata": {},
   "source": [
    "Interpretation: There is a significant (p<0.05) and positive effect of the treatment on the outcome. The probability that Y is equal to 1 increases by 26.11 percentage points when w=1, compared to w=0. Likewise, the other variables that were significant are age and male with a significance level of 0.05"
   ]
  },
  {
   "cell_type": "markdown",
   "id": "8fafd1ea-1c6c-40fe-b487-51c76f20b28b",
   "metadata": {},
   "source": [
    "Use the Double Lasso Method to estimate Y ~ T + X. Please show a clear table output and interpret the results."
   ]
  },
  {
   "cell_type": "code",
   "execution_count": 12,
   "id": "84537020-ba7e-40d2-9e2d-a92967c5a422",
   "metadata": {},
   "outputs": [
    {
     "ename": "LoadError",
     "evalue": "MethodError: no method matching getindex(::DataFrame, ::Vector{Symbol})\n\n\u001b[0mClosest candidates are:\n\u001b[0m  getindex(::DataFrame, ::AbstractVector, \u001b[91m::Union{AbstractString, Signed, Symbol, Unsigned}\u001b[39m)\n\u001b[0m\u001b[90m   @\u001b[39m \u001b[35mDataFrames\u001b[39m \u001b[90mC:\\Users\\Frank\\.julia\\packages\\DataFrames\\58MUJ\\src\\dataframe\\\u001b[39m\u001b[90m\u001b[4mdataframe.jl:530\u001b[24m\u001b[39m\n\u001b[0m  getindex(::DataFrame, ::AbstractVector{T}, \u001b[91m::Colon\u001b[39m) where T\n\u001b[0m\u001b[90m   @\u001b[39m \u001b[35mDataFrames\u001b[39m \u001b[90mC:\\Users\\Frank\\.julia\\packages\\DataFrames\\58MUJ\\src\\dataframe\\\u001b[39m\u001b[90m\u001b[4mdataframe.jl:605\u001b[24m\u001b[39m\n\u001b[0m  getindex(::DataFrame, ::AbstractVector{T}, \u001b[91m::Union{Colon, Regex, All, Between, Cols, InvertedIndex, AbstractVector}\u001b[39m) where T\n\u001b[0m\u001b[90m   @\u001b[39m \u001b[35mDataFrames\u001b[39m \u001b[90mC:\\Users\\Frank\\.julia\\packages\\DataFrames\\58MUJ\\src\\dataframe\\\u001b[39m\u001b[90m\u001b[4mdataframe.jl:579\u001b[24m\u001b[39m\n\u001b[0m  ...\n",
     "output_type": "error",
     "traceback": [
      "MethodError: no method matching getindex(::DataFrame, ::Vector{Symbol})\n\n\u001b[0mClosest candidates are:\n\u001b[0m  getindex(::DataFrame, ::AbstractVector, \u001b[91m::Union{AbstractString, Signed, Symbol, Unsigned}\u001b[39m)\n\u001b[0m\u001b[90m   @\u001b[39m \u001b[35mDataFrames\u001b[39m \u001b[90mC:\\Users\\Frank\\.julia\\packages\\DataFrames\\58MUJ\\src\\dataframe\\\u001b[39m\u001b[90m\u001b[4mdataframe.jl:530\u001b[24m\u001b[39m\n\u001b[0m  getindex(::DataFrame, ::AbstractVector{T}, \u001b[91m::Colon\u001b[39m) where T\n\u001b[0m\u001b[90m   @\u001b[39m \u001b[35mDataFrames\u001b[39m \u001b[90mC:\\Users\\Frank\\.julia\\packages\\DataFrames\\58MUJ\\src\\dataframe\\\u001b[39m\u001b[90m\u001b[4mdataframe.jl:605\u001b[24m\u001b[39m\n\u001b[0m  getindex(::DataFrame, ::AbstractVector{T}, \u001b[91m::Union{Colon, Regex, All, Between, Cols, InvertedIndex, AbstractVector}\u001b[39m) where T\n\u001b[0m\u001b[90m   @\u001b[39m \u001b[35mDataFrames\u001b[39m \u001b[90mC:\\Users\\Frank\\.julia\\packages\\DataFrames\\58MUJ\\src\\dataframe\\\u001b[39m\u001b[90m\u001b[4mdataframe.jl:579\u001b[24m\u001b[39m\n\u001b[0m  ...\n",
      "",
      "Stacktrace:",
      " [1] top-level scope",
      "   @ In[12]:5"
     ]
    }
   ],
   "source": [
    "using DataFrames\n",
    "using GLMNet\n",
    "\n",
    "# Definir la matriz de diseño X y el vector de respuesta W\n",
    "X = convert(Matrix, df[[:age, :gender_female, :gender_male, :ethnicgrp_black, :gender_transgender, :msm]])\n",
    "T = df[!, :w]\n",
    "\n",
    "# Ajustar el modelo Lasso para seleccionar covariables\n",
    "lasso = fit(LassoCV, X, T, glmnet_kw=Dict(:nfolds => 5))\n",
    "\n",
    "# Obtener las covariables seleccionadas por Lasso\n",
    "selected_covariates = names(df)[lasso.beta .!= 0]\n",
    "\n",
    "# Ajustar un modelo de regresión con Lasso\n",
    "lasso_Y = fit(WeightedLasso, X[:, selected_covariates], df.y, sample_weights(T), alpha=lasso.alpha)\n",
    "\n",
    "# Imprimir los coeficientes\n",
    "coefficients = DataFrame(Feature = selected_covariates, Coefficient = lasso_Y.beta)\n",
    "println(coefficients)\n",
    "\n",
    "# Calcular el efecto del tratamiento\n",
    "treatment_effect = lasso_Y.beta[1]\n",
    "println(\"Treatment Effect: \", treatment_effect)"
   ]
  },
  {
   "cell_type": "markdown",
   "id": "15ff9527-ecb5-47df-8484-d470c0f0d925",
   "metadata": {},
   "source": [
    "The probability that Y is equal to 1 increases by 21.87 percentage points when w=1, compared to w=0. "
   ]
  },
  {
   "cell_type": "markdown",
   "id": "38d5fa4f-e2e9-41b4-aad6-2c158a0c3093",
   "metadata": {},
   "source": [
    "Show All the coefficients from T in a figure and compare. You should have three coefficients from the three coefficients above."
   ]
  },
  {
   "cell_type": "markdown",
   "id": "e4cb8f25-b1fc-4553-8167-8e1724017a48",
   "metadata": {},
   "source": [
    "## 3. DML analysis"
   ]
  },
  {
   "cell_type": "code",
   "execution_count": 1,
   "id": "67874727-e054-479d-8b58-c3dd84d7c636",
   "metadata": {},
   "outputs": [
    {
     "name": "stderr",
     "output_type": "stream",
     "text": [
      "\u001b[32m\u001b[1m   Resolving\u001b[22m\u001b[39m package versions...\n",
      "\u001b[32m\u001b[1m  No Changes\u001b[22m\u001b[39m to `C:\\Users\\Alvaro\\.julia\\environments\\v1.11\\Project.toml`\n",
      "\u001b[32m\u001b[1m  No Changes\u001b[22m\u001b[39m to `C:\\Users\\Alvaro\\.julia\\environments\\v1.11\\Manifest.toml`\n",
      "\u001b[92m\u001b[1mPrecompiling\u001b[22m\u001b[39m project...\n",
      "   5270.0 ms\u001b[32m  ✓ \u001b[39m\u001b[90mLearnBase\u001b[39m\n",
      "   3606.1 ms\u001b[32m  ✓ \u001b[39m\u001b[90mLatinHypercubeSampling\u001b[39m\n",
      "   4808.4 ms\u001b[32m  ✓ \u001b[39m\u001b[90mScientificTypes\u001b[39m\n",
      "   5948.7 ms\u001b[32m  ✓ \u001b[39m\u001b[90mFixedEffects\u001b[39m\n",
      "   1053.3 ms\u001b[32m  ✓ \u001b[39m\u001b[90mMLLabelUtils\u001b[39m\n",
      "   1861.2 ms\u001b[32m  ✓ \u001b[39m\u001b[90mCategoricalDistributions\u001b[39m\n",
      "   1285.6 ms\u001b[32m  ✓ \u001b[39m\u001b[90mMLDataPattern\u001b[39m\n",
      "   2834.3 ms\u001b[32m  ✓ \u001b[39mGLMNet\n",
      "   3145.3 ms\u001b[32m  ✓ \u001b[39mLasso\n",
      "   3187.2 ms\u001b[32m  ✓ \u001b[39mMLDataUtils\n",
      "   3472.3 ms\u001b[32m  ✓ \u001b[39mHDMjl\n",
      "  14697.9 ms\u001b[32m  ✓ \u001b[39m\u001b[90mVcov\u001b[39m\n",
      "   9070.1 ms\u001b[32m  ✓ \u001b[39m\u001b[90mMLJModels\u001b[39m\n",
      "   9749.6 ms\u001b[32m  ✓ \u001b[39m\u001b[90mMLJBase\u001b[39m\n",
      "   1730.8 ms\u001b[32m  ✓ \u001b[39m\u001b[90mMLJEnsembles\u001b[39m\n",
      "   1916.2 ms\u001b[32m  ✓ \u001b[39m\u001b[90mMLJTuning\u001b[39m\n",
      "   2343.8 ms\u001b[32m  ✓ \u001b[39m\u001b[90mMLJFlow\u001b[39m\n",
      "   2474.2 ms\u001b[32m  ✓ \u001b[39m\u001b[90mMLJIteration\u001b[39m\n",
      "   2992.7 ms\u001b[32m  ✓ \u001b[39mMLJ\n",
      "  15832.1 ms\u001b[32m  ✓ \u001b[39mFixedEffectModels\n",
      "  20 dependencies successfully precompiled in 51 seconds. 456 already precompiled.\n",
      "\u001b[32m\u001b[1m   Resolving\u001b[22m\u001b[39m package versions...\n",
      "\u001b[32m\u001b[1m  No Changes\u001b[22m\u001b[39m to `C:\\Users\\Alvaro\\.julia\\environments\\v1.11\\Project.toml`\n",
      "\u001b[32m\u001b[1m  No Changes\u001b[22m\u001b[39m to `C:\\Users\\Alvaro\\.julia\\environments\\v1.11\\Manifest.toml`\n",
      "\u001b[32m\u001b[1m   Resolving\u001b[22m\u001b[39m package versions...\n",
      "\u001b[32m\u001b[1m  No Changes\u001b[22m\u001b[39m to `C:\\Users\\Alvaro\\.julia\\environments\\v1.11\\Project.toml`\n",
      "\u001b[32m\u001b[1m  No Changes\u001b[22m\u001b[39m to `C:\\Users\\Alvaro\\.julia\\environments\\v1.11\\Manifest.toml`\n",
      "\u001b[32m\u001b[1m   Resolving\u001b[22m\u001b[39m package versions...\n",
      "\u001b[32m\u001b[1m  No Changes\u001b[22m\u001b[39m to `C:\\Users\\Alvaro\\.julia\\environments\\v1.11\\Project.toml`\n",
      "\u001b[32m\u001b[1m  No Changes\u001b[22m\u001b[39m to `C:\\Users\\Alvaro\\.julia\\environments\\v1.11\\Manifest.toml`\n",
      "\u001b[32m\u001b[1m   Resolving\u001b[22m\u001b[39m package versions...\n",
      "\u001b[32m\u001b[1m  No Changes\u001b[22m\u001b[39m to `C:\\Users\\Alvaro\\.julia\\environments\\v1.11\\Project.toml`\n",
      "\u001b[32m\u001b[1m  No Changes\u001b[22m\u001b[39m to `C:\\Users\\Alvaro\\.julia\\environments\\v1.11\\Manifest.toml`\n",
      "\u001b[32m\u001b[1m   Resolving\u001b[22m\u001b[39m package versions...\n",
      "\u001b[32m\u001b[1m  No Changes\u001b[22m\u001b[39m to `C:\\Users\\Alvaro\\.julia\\environments\\v1.11\\Project.toml`\n",
      "\u001b[32m\u001b[1m  No Changes\u001b[22m\u001b[39m to `C:\\Users\\Alvaro\\.julia\\environments\\v1.11\\Manifest.toml`\n",
      "\u001b[32m\u001b[1m   Resolving\u001b[22m\u001b[39m package versions...\n",
      "\u001b[32m\u001b[1m  No Changes\u001b[22m\u001b[39m to `C:\\Users\\Alvaro\\.julia\\environments\\v1.11\\Project.toml`\n",
      "\u001b[32m\u001b[1m  No Changes\u001b[22m\u001b[39m to `C:\\Users\\Alvaro\\.julia\\environments\\v1.11\\Manifest.toml`\n",
      "\u001b[32m\u001b[1m   Resolving\u001b[22m\u001b[39m package versions...\n",
      "\u001b[32m\u001b[1m  No Changes\u001b[22m\u001b[39m to `C:\\Users\\Alvaro\\.julia\\environments\\v1.11\\Project.toml`\n",
      "\u001b[32m\u001b[1m  No Changes\u001b[22m\u001b[39m to `C:\\Users\\Alvaro\\.julia\\environments\\v1.11\\Manifest.toml`\n",
      "\u001b[32m\u001b[1m   Resolving\u001b[22m\u001b[39m package versions...\n",
      "\u001b[32m\u001b[1m  No Changes\u001b[22m\u001b[39m to `C:\\Users\\Alvaro\\.julia\\environments\\v1.11\\Project.toml`\n",
      "\u001b[32m\u001b[1m  No Changes\u001b[22m\u001b[39m to `C:\\Users\\Alvaro\\.julia\\environments\\v1.11\\Manifest.toml`\n",
      "\u001b[32m\u001b[1m   Resolving\u001b[22m\u001b[39m package versions...\n",
      "\u001b[32m\u001b[1m  No Changes\u001b[22m\u001b[39m to `C:\\Users\\Alvaro\\.julia\\environments\\v1.11\\Project.toml`\n",
      "\u001b[32m\u001b[1m  No Changes\u001b[22m\u001b[39m to `C:\\Users\\Alvaro\\.julia\\environments\\v1.11\\Manifest.toml`\n",
      "\u001b[32m\u001b[1m   Resolving\u001b[22m\u001b[39m package versions...\n",
      "\u001b[32m\u001b[1m  No Changes\u001b[22m\u001b[39m to `C:\\Users\\Alvaro\\.julia\\environments\\v1.11\\Project.toml`\n",
      "\u001b[32m\u001b[1m  No Changes\u001b[22m\u001b[39m to `C:\\Users\\Alvaro\\.julia\\environments\\v1.11\\Manifest.toml`\n",
      "\u001b[32m\u001b[1m   Resolving\u001b[22m\u001b[39m package versions...\n",
      "\u001b[32m\u001b[1m  No Changes\u001b[22m\u001b[39m to `C:\\Users\\Alvaro\\.julia\\environments\\v1.11\\Project.toml`\n",
      "\u001b[32m\u001b[1m  No Changes\u001b[22m\u001b[39m to `C:\\Users\\Alvaro\\.julia\\environments\\v1.11\\Manifest.toml`\n",
      "\u001b[32m\u001b[1m   Resolving\u001b[22m\u001b[39m package versions...\n",
      "\u001b[32m\u001b[1m  No Changes\u001b[22m\u001b[39m to `C:\\Users\\Alvaro\\.julia\\environments\\v1.11\\Project.toml`\n",
      "\u001b[32m\u001b[1m  No Changes\u001b[22m\u001b[39m to `C:\\Users\\Alvaro\\.julia\\environments\\v1.11\\Manifest.toml`\n",
      "\u001b[32m\u001b[1m   Resolving\u001b[22m\u001b[39m package versions...\n",
      "\u001b[32m\u001b[1m  No Changes\u001b[22m\u001b[39m to `C:\\Users\\Alvaro\\.julia\\environments\\v1.11\\Project.toml`\n",
      "\u001b[32m\u001b[1m  No Changes\u001b[22m\u001b[39m to `C:\\Users\\Alvaro\\.julia\\environments\\v1.11\\Manifest.toml`\n",
      "\u001b[32m\u001b[1m   Resolving\u001b[22m\u001b[39m package versions...\n",
      "\u001b[32m\u001b[1m    Updating\u001b[22m\u001b[39m `C:\\Users\\Alvaro\\.julia\\environments\\v1.11\\Project.toml`\n",
      "\u001b[33m⌅\u001b[39m \u001b[90m[2913bbd2] \u001b[39m\u001b[92m+ StatsBase v0.33.21\u001b[39m\n",
      "\u001b[32m\u001b[1m  No Changes\u001b[22m\u001b[39m to `C:\\Users\\Alvaro\\.julia\\environments\\v1.11\\Manifest.toml`\n"
     ]
    }
   ],
   "source": [
    "using Pkg\n",
    "Pkg.add(\"CSV\"), using CSV\n",
    "Pkg.add(\"DataFrames\"), using DataFrames\n",
    "Pkg.add(\"StatsModels\"), using StatsModels\n",
    "Pkg.add(\"GLM\"), using GLM\n",
    "Pkg.add(\"Random\"), using Random\n",
    "Pkg.add(\"MLDataUtils\"), using MLDataUtils\n",
    "Pkg.add(\"MLBase\"), using MLBase\n",
    "Pkg.add(\"FixedEffectModels\"), using FixedEffectModels\n",
    "Pkg.add(\"Lasso\"), using Lasso\n",
    "Pkg.add(\"MLJ\"), using MLJ\n",
    "Pkg.add(\"DecisionTree\"), using DecisionTree\n",
    "Pkg.add(\"RData\"), using RData\n",
    "Pkg.add(\"GLMNet\"), using GLMNet\n",
    "Pkg.add(\"PrettyTables\"), using PrettyTables\n",
    "Pkg.add(\"StatsBase\")"
   ]
  },
  {
   "cell_type": "code",
   "execution_count": 17,
   "id": "ba6a2382-78f2-4112-9211-f7c229768166",
   "metadata": {},
   "outputs": [],
   "source": [
    "using Pkg, CSV, DataFrames, StatsModels, GLM, Random, RData, MLDataUtils, MLBase, FixedEffectModels, Lasso, MLJ, DecisionTree, GLMNet, PrettyTables\n",
    "path = \"processed_esti.csv\"\n",
    "df = CSV.read(path, DataFrame)\n",
    "#Setting the variablse we are going to use, which are mostly treatment and the other variables.\n",
    "df[:, :age] = categorical(df[:, :age]);\n",
    "df[:, :imd_decile] = categorical(df[:, :imd_decile]);\n",
    "describe(df)\n",
    "\n",
    "using StatsBase, StatsModels\n",
    "# We define the `poly` function as provided by the documentation of the `StatsModels` package:\n",
    "\n",
    "# syntax: best practice to define a _new_ function\n",
    "poly(x, n) = x^n\n",
    "\n",
    "# type of model where syntax applies: here this applies to any model type\n",
    "const POLY_CONTEXT = Any\n",
    "\n",
    "# struct for behavior\n",
    "struct PolyTerm{T,D} <: AbstractTerm\n",
    "    term::T\n",
    "    deg::D\n",
    "end\n",
    "\n",
    "Base.show(io::IO, p::PolyTerm) = print(io, \"poly($(p.term), $(p.deg))\")\n",
    "\n",
    "# for `poly` use at run-time (outside @formula), return a schema-less PolyTerm\n",
    "poly(t::Symbol, d::Int) = PolyTerm(term(t), term(d))\n",
    "\n",
    "# for `poly` use inside @formula: create a schemaless PolyTerm and apply_schema\n",
    "function StatsModels.apply_schema(t::FunctionTerm{typeof(poly)},\n",
    "                                  sch::StatsModels.Schema,\n",
    "                                  Mod::Type{<:POLY_CONTEXT})\n",
    "    apply_schema(PolyTerm(t.args...), sch, Mod)\n",
    "end\n",
    "\n",
    "# apply_schema to internal Terms and check for proper types\n",
    "function StatsModels.apply_schema(t::PolyTerm,\n",
    "                                  sch::StatsModels.Schema,\n",
    "                                  Mod::Type{<:POLY_CONTEXT})\n",
    "    term = apply_schema(t.term, sch, Mod)\n",
    "    isa(term, ContinuousTerm) ||\n",
    "        throw(ArgumentError(\"PolyTerm only works with continuous terms (got $term)\"))\n",
    "    isa(t.deg, ConstantTerm) ||\n",
    "        throw(ArgumentError(\"PolyTerm degree must be a number (got $t.deg)\"))\n",
    "    PolyTerm(term, t.deg.n)\n",
    "end\n",
    "\n",
    "function StatsModels.modelcols(p::PolyTerm, d::NamedTuple)\n",
    "    col = modelcols(p.term, d)\n",
    "    reduce(hcat, [col.^n for n in 1:p.deg])\n",
    "end\n",
    "\n",
    "# the basic terms contained within a PolyTerm (for schema extraction)\n",
    "StatsModels.terms(p::PolyTerm) = terms(p.term)\n",
    "# names variables from the data that a PolyTerm relies on\n",
    "StatsModels.termvars(p::PolyTerm) = StatsModels.termvars(p.term)\n",
    "# number of columns in the matrix this term produces\n",
    "StatsModels.width(p::PolyTerm) = p.deg\n",
    "\n",
    "StatsBase.coefnames(p::PolyTerm) = coefnames(p.term) .* \"^\" .* string.(1:p.deg)\n",
    "\n",
    "# output\n"
   ]
  },
  {
   "cell_type": "code",
   "execution_count": 18,
   "id": "9a31f908-2723-468b-8414-8caf28673378",
   "metadata": {},
   "outputs": [
    {
     "data": {
      "text/html": [
       "<div><div style = \"float: left;\"><span>11×7 DataFrame</span></div><div style = \"clear: both;\"></div></div><div class = \"data-frame\" style = \"overflow-x: scroll;\"><table class = \"data-frame\" style = \"margin-bottom: 6px;\"><thead><tr class = \"header\"><th class = \"rowNumber\" style = \"font-weight: bold; text-align: right;\">Row</th><th style = \"text-align: left;\">variable</th><th style = \"text-align: left;\">mean</th><th style = \"text-align: left;\">min</th><th style = \"text-align: left;\">median</th><th style = \"text-align: left;\">max</th><th style = \"text-align: left;\">nmissing</th><th style = \"text-align: left;\">eltype</th></tr><tr class = \"subheader headerLastRow\"><th class = \"rowNumber\" style = \"font-weight: bold; text-align: right;\"></th><th title = \"Symbol\" style = \"text-align: left;\">Symbol</th><th title = \"Float64\" style = \"text-align: left;\">Float64</th><th title = \"Int64\" style = \"text-align: left;\">Int64</th><th title = \"Float64\" style = \"text-align: left;\">Float64</th><th title = \"Int64\" style = \"text-align: left;\">Int64</th><th title = \"Int64\" style = \"text-align: left;\">Int64</th><th title = \"DataType\" style = \"text-align: left;\">DataType</th></tr></thead><tbody><tr><td class = \"rowNumber\" style = \"font-weight: bold; text-align: right;\">1</td><td style = \"text-align: left;\">gender_female</td><td style = \"text-align: right;\">0.584244</td><td style = \"text-align: right;\">0</td><td style = \"text-align: right;\">1.0</td><td style = \"text-align: right;\">1</td><td style = \"text-align: right;\">0</td><td style = \"text-align: left;\">Int64</td></tr><tr><td class = \"rowNumber\" style = \"font-weight: bold; text-align: right;\">2</td><td style = \"text-align: left;\">gender_transgender</td><td style = \"text-align: right;\">0.00230017</td><td style = \"text-align: right;\">0</td><td style = \"text-align: right;\">0.0</td><td style = \"text-align: right;\">1</td><td style = \"text-align: right;\">0</td><td style = \"text-align: left;\">Int64</td></tr><tr><td class = \"rowNumber\" style = \"font-weight: bold; text-align: right;\">3</td><td style = \"text-align: left;\">ethnicgrp_asian</td><td style = \"text-align: right;\">0.0638298</td><td style = \"text-align: right;\">0</td><td style = \"text-align: right;\">0.0</td><td style = \"text-align: right;\">1</td><td style = \"text-align: right;\">0</td><td style = \"text-align: left;\">Int64</td></tr><tr><td class = \"rowNumber\" style = \"font-weight: bold; text-align: right;\">4</td><td style = \"text-align: left;\">ethnicgrp_black</td><td style = \"text-align: right;\">0.0862565</td><td style = \"text-align: right;\">0</td><td style = \"text-align: right;\">0.0</td><td style = \"text-align: right;\">1</td><td style = \"text-align: right;\">0</td><td style = \"text-align: left;\">Int64</td></tr><tr><td class = \"rowNumber\" style = \"font-weight: bold; text-align: right;\">5</td><td style = \"text-align: left;\">ethnicgrp_mixed_multiple</td><td style = \"text-align: right;\">0.0885566</td><td style = \"text-align: right;\">0</td><td style = \"text-align: right;\">0.0</td><td style = \"text-align: right;\">1</td><td style = \"text-align: right;\">0</td><td style = \"text-align: left;\">Int64</td></tr><tr><td class = \"rowNumber\" style = \"font-weight: bold; text-align: right;\">6</td><td style = \"text-align: left;\">ethnicgrp_other</td><td style = \"text-align: right;\">0.013226</td><td style = \"text-align: right;\">0</td><td style = \"text-align: right;\">0.0</td><td style = \"text-align: right;\">1</td><td style = \"text-align: right;\">0</td><td style = \"text-align: left;\">Int64</td></tr><tr><td class = \"rowNumber\" style = \"font-weight: bold; text-align: right;\">7</td><td style = \"text-align: left;\">partners1</td><td style = \"text-align: right;\">0.296722</td><td style = \"text-align: right;\">0</td><td style = \"text-align: right;\">0.0</td><td style = \"text-align: right;\">1</td><td style = \"text-align: right;\">0</td><td style = \"text-align: left;\">Int64</td></tr><tr><td class = \"rowNumber\" style = \"font-weight: bold; text-align: right;\">8</td><td style = \"text-align: left;\">postlaunch</td><td style = \"text-align: right;\">0.516964</td><td style = \"text-align: right;\">0</td><td style = \"text-align: right;\">1.0</td><td style = \"text-align: right;\">1</td><td style = \"text-align: right;\">0</td><td style = \"text-align: left;\">Int64</td></tr><tr><td class = \"rowNumber\" style = \"font-weight: bold; text-align: right;\">9</td><td style = \"text-align: left;\">msm</td><td style = \"text-align: right;\">0.130535</td><td style = \"text-align: right;\">0</td><td style = \"text-align: right;\">0.0</td><td style = \"text-align: right;\">1</td><td style = \"text-align: right;\">0</td><td style = \"text-align: left;\">Int64</td></tr><tr><td class = \"rowNumber\" style = \"font-weight: bold; text-align: right;\">10</td><td style = \"text-align: left;\">age</td><td style = \"text-align: right;\">23.1064</td><td style = \"text-align: right;\">16</td><td style = \"text-align: right;\">23.0</td><td style = \"text-align: right;\">30</td><td style = \"text-align: right;\">0</td><td style = \"text-align: left;\">Int64</td></tr><tr><td class = \"rowNumber\" style = \"font-weight: bold; text-align: right;\">11</td><td style = \"text-align: left;\">imd_decile</td><td style = \"text-align: right;\">3.47154</td><td style = \"text-align: right;\">1</td><td style = \"text-align: right;\">3.0</td><td style = \"text-align: right;\">9</td><td style = \"text-align: right;\">0</td><td style = \"text-align: left;\">Int64</td></tr></tbody></table></div>"
      ],
      "text/latex": [
       "\\begin{tabular}{r|ccccccc}\n",
       "\t& variable & mean & min & median & max & nmissing & eltype\\\\\n",
       "\t\\hline\n",
       "\t& Symbol & Float64 & Int64 & Float64 & Int64 & Int64 & DataType\\\\\n",
       "\t\\hline\n",
       "\t1 & gender\\_female & 0.584244 & 0 & 1.0 & 1 & 0 & Int64 \\\\\n",
       "\t2 & gender\\_transgender & 0.00230017 & 0 & 0.0 & 1 & 0 & Int64 \\\\\n",
       "\t3 & ethnicgrp\\_asian & 0.0638298 & 0 & 0.0 & 1 & 0 & Int64 \\\\\n",
       "\t4 & ethnicgrp\\_black & 0.0862565 & 0 & 0.0 & 1 & 0 & Int64 \\\\\n",
       "\t5 & ethnicgrp\\_mixed\\_multiple & 0.0885566 & 0 & 0.0 & 1 & 0 & Int64 \\\\\n",
       "\t6 & ethnicgrp\\_other & 0.013226 & 0 & 0.0 & 1 & 0 & Int64 \\\\\n",
       "\t7 & partners1 & 0.296722 & 0 & 0.0 & 1 & 0 & Int64 \\\\\n",
       "\t8 & postlaunch & 0.516964 & 0 & 1.0 & 1 & 0 & Int64 \\\\\n",
       "\t9 & msm & 0.130535 & 0 & 0.0 & 1 & 0 & Int64 \\\\\n",
       "\t10 & age & 23.1064 & 16 & 23.0 & 30 & 0 & Int64 \\\\\n",
       "\t11 & imd\\_decile & 3.47154 & 1 & 3.0 & 9 & 0 & Int64 \\\\\n",
       "\\end{tabular}\n"
      ],
      "text/plain": [
       "\u001b[1m11×7 DataFrame\u001b[0m\n",
       "\u001b[1m Row \u001b[0m│\u001b[1m variable                 \u001b[0m\u001b[1m mean        \u001b[0m\u001b[1m min   \u001b[0m\u001b[1m median  \u001b[0m\u001b[1m max   \u001b[0m\u001b[1m nmissing \u001b[0m\u001b[1m\u001b[0m ⋯\n",
       "     │\u001b[90m Symbol                   \u001b[0m\u001b[90m Float64     \u001b[0m\u001b[90m Int64 \u001b[0m\u001b[90m Float64 \u001b[0m\u001b[90m Int64 \u001b[0m\u001b[90m Int64    \u001b[0m\u001b[90m\u001b[0m ⋯\n",
       "─────┼──────────────────────────────────────────────────────────────────────────\n",
       "   1 │ gender_female              0.584244        0      1.0      1         0  ⋯\n",
       "   2 │ gender_transgender         0.00230017      0      0.0      1         0\n",
       "   3 │ ethnicgrp_asian            0.0638298       0      0.0      1         0\n",
       "   4 │ ethnicgrp_black            0.0862565       0      0.0      1         0\n",
       "   5 │ ethnicgrp_mixed_multiple   0.0885566       0      0.0      1         0  ⋯\n",
       "   6 │ ethnicgrp_other            0.013226        0      0.0      1         0\n",
       "   7 │ partners1                  0.296722        0      0.0      1         0\n",
       "   8 │ postlaunch                 0.516964        0      1.0      1         0\n",
       "   9 │ msm                        0.130535        0      0.0      1         0  ⋯\n",
       "  10 │ age                       23.1064         16     23.0     30         0\n",
       "  11 │ imd_decile                 3.47154         1      3.0      9         0\n",
       "\u001b[36m                                                                1 column omitted\u001b[0m"
      ]
     },
     "execution_count": 18,
     "metadata": {},
     "output_type": "execute_result"
    }
   ],
   "source": [
    "describe(X)"
   ]
  },
  {
   "cell_type": "code",
   "execution_count": 20,
   "id": "88fa1ebc-f9b2-4bdd-b1dd-d9a502862eee",
   "metadata": {},
   "outputs": [
    {
     "data": {
      "text/plain": [
       "11"
      ]
     },
     "execution_count": 20,
     "metadata": {},
     "output_type": "execute_result"
    }
   ],
   "source": [
    "#Constructing the Data\n",
    "formula_flex = @formula(y ~ w + gender_female + gender_transgender + ethnicgrp_asian + ethnicgrp_black + ethnicgrp_mixed_multiple + ethnicgrp_other + partners1 + postlaunch + msm + age + imd_decile);\n",
    "formula_flex = apply_schema(formula_flex, StatsModels.schema(df));\n",
    "_, df = modelcols(formula_flex, df)\n",
    "df = DataFrame(df, coefnames(formula_flex)[2])\n"
   ]
  },
  {
   "cell_type": "code",
   "execution_count": null,
   "id": "0882a127-d7f3-4d7a-a860-9fa335cfa78e",
   "metadata": {},
   "outputs": [],
   "source": [
    "LassoCVRegressor = @load LassoCVRegressor pkg=MLJScikitLearnInterface\n",
    "modely = Standardizer() |> LassoCVRegressor(max_iter=10000)\n",
    "modeld = Standardizer() |> LassoCVRegressor(max_iter=10000)\n",
    "modelz = Standardizer() |> LassoCVRegressor(max_iter=10000);"
   ]
  }
 ],
 "metadata": {
  "kernelspec": {
   "display_name": "Julia 1.11.0-alpha2",
   "language": "julia",
   "name": "julia-1.11"
  },
  "language_info": {
   "file_extension": ".jl",
   "mimetype": "application/julia",
   "name": "julia",
   "version": "1.11.0"
  }
 },
 "nbformat": 4,
 "nbformat_minor": 5
}
