{
  "cells": [
    {
      "cell_type": "markdown",
      "id": "6c621104",
      "metadata": {
        "id": "6c621104"
      },
      "source": [
        "## WORKGROUP 5\n"
      ]
    },
    {
      "cell_type": "markdown",
      "id": "33f7907d",
      "metadata": {
        "id": "33f7907d"
      },
      "source": [
        "Integrantes:\n",
        "- Valeria Hoyos Macedo\n",
        "- Josué Eduardo Maguiña Mezaz\n",
        "- Alvaro Alexander Yllu Socualaya\n",
        "- Maria pamela Cubas Albujar"
      ]
    },
    {
      "cell_type": "code",
      "execution_count": null,
      "id": "8777442f-e1f8-4c49-9adf-f8b568246bce",
      "metadata": {
        "id": "8777442f-e1f8-4c49-9adf-f8b568246bce",
        "outputId": "b3218670-b342-4c81-8c4f-a9b802aea36b",
        "vscode": {
          "languageId": "r"
        }
      },
      "outputs": [
        {
          "name": "stderr",
          "output_type": "stream",
          "text": [
            "\u001b[1mRows: \u001b[22m\u001b[34m1739\u001b[39m \u001b[1mColumns: \u001b[22m\u001b[34m15\u001b[39m\n",
            "\u001b[36m──\u001b[39m \u001b[1mColumn specification\u001b[22m \u001b[36m────────────────────────────────────────────────────────\u001b[39m\n",
            "\u001b[1mDelimiter:\u001b[22m \",\"\n",
            "\u001b[32mdbl\u001b[39m (15): y, w, gender_female, gender_male, gender_transgender, ethnicgrp_as...\n",
            "\n",
            "\u001b[36mℹ\u001b[39m Use `spec()` to retrieve the full column specification for this data.\n",
            "\u001b[36mℹ\u001b[39m Specify the column types or set `show_col_types = FALSE` to quiet this message.\n"
          ]
        }
      ],
      "source": [
        "datos <- read_csv(\"C:/Users/vn.hoyosm/Documents/processed_esti.csv\")\n"
      ]
    },
    {
      "cell_type": "code",
      "execution_count": null,
      "id": "b356d673-e7a4-4fe7-b846-a922c9e4fc98",
      "metadata": {
        "id": "b356d673-e7a4-4fe7-b846-a922c9e4fc98",
        "outputId": "d288af4a-7e44-4118-a216-6f42d8730864",
        "vscode": {
          "languageId": "r"
        }
      },
      "outputs": [
        {
          "data": {
            "text/html": [
              "<table class=\"dataframe\">\n",
              "<caption>A tibble: 6 × 15</caption>\n",
              "<thead>\n",
              "\t<tr><th scope=col>y</th><th scope=col>w</th><th scope=col>gender_female</th><th scope=col>gender_male</th><th scope=col>gender_transgender</th><th scope=col>ethnicgrp_asian</th><th scope=col>ethnicgrp_black</th><th scope=col>ethnicgrp_mixed_multiple</th><th scope=col>ethnicgrp_other</th><th scope=col>ethnicgrp_white</th><th scope=col>partners1</th><th scope=col>postlaunch</th><th scope=col>msm</th><th scope=col>age</th><th scope=col>imd_decile</th></tr>\n",
              "\t<tr><th scope=col>&lt;dbl&gt;</th><th scope=col>&lt;dbl&gt;</th><th scope=col>&lt;dbl&gt;</th><th scope=col>&lt;dbl&gt;</th><th scope=col>&lt;dbl&gt;</th><th scope=col>&lt;dbl&gt;</th><th scope=col>&lt;dbl&gt;</th><th scope=col>&lt;dbl&gt;</th><th scope=col>&lt;dbl&gt;</th><th scope=col>&lt;dbl&gt;</th><th scope=col>&lt;dbl&gt;</th><th scope=col>&lt;dbl&gt;</th><th scope=col>&lt;dbl&gt;</th><th scope=col>&lt;dbl&gt;</th><th scope=col>&lt;dbl&gt;</th></tr>\n",
              "</thead>\n",
              "<tbody>\n",
              "\t<tr><td>1</td><td>1</td><td>0</td><td>1</td><td>0</td><td>0</td><td>0</td><td>1</td><td>0</td><td>0</td><td>0</td><td>1</td><td>0</td><td>27</td><td>5</td></tr>\n",
              "\t<tr><td>0</td><td>0</td><td>0</td><td>1</td><td>0</td><td>0</td><td>0</td><td>0</td><td>0</td><td>1</td><td>0</td><td>0</td><td>0</td><td>19</td><td>6</td></tr>\n",
              "\t<tr><td>0</td><td>1</td><td>0</td><td>1</td><td>0</td><td>0</td><td>1</td><td>0</td><td>0</td><td>0</td><td>0</td><td>1</td><td>0</td><td>26</td><td>4</td></tr>\n",
              "\t<tr><td>0</td><td>0</td><td>1</td><td>0</td><td>0</td><td>0</td><td>0</td><td>0</td><td>0</td><td>1</td><td>1</td><td>0</td><td>0</td><td>20</td><td>2</td></tr>\n",
              "\t<tr><td>1</td><td>1</td><td>1</td><td>0</td><td>0</td><td>1</td><td>0</td><td>0</td><td>0</td><td>0</td><td>0</td><td>1</td><td>0</td><td>24</td><td>3</td></tr>\n",
              "\t<tr><td>1</td><td>1</td><td>0</td><td>1</td><td>0</td><td>0</td><td>0</td><td>0</td><td>0</td><td>1</td><td>0</td><td>1</td><td>0</td><td>24</td><td>2</td></tr>\n",
              "</tbody>\n",
              "</table>\n"
            ],
            "text/latex": [
              "A tibble: 6 × 15\n",
              "\\begin{tabular}{lllllllllllllll}\n",
              " y & w & gender\\_female & gender\\_male & gender\\_transgender & ethnicgrp\\_asian & ethnicgrp\\_black & ethnicgrp\\_mixed\\_multiple & ethnicgrp\\_other & ethnicgrp\\_white & partners1 & postlaunch & msm & age & imd\\_decile\\\\\n",
              " <dbl> & <dbl> & <dbl> & <dbl> & <dbl> & <dbl> & <dbl> & <dbl> & <dbl> & <dbl> & <dbl> & <dbl> & <dbl> & <dbl> & <dbl>\\\\\n",
              "\\hline\n",
              "\t 1 & 1 & 0 & 1 & 0 & 0 & 0 & 1 & 0 & 0 & 0 & 1 & 0 & 27 & 5\\\\\n",
              "\t 0 & 0 & 0 & 1 & 0 & 0 & 0 & 0 & 0 & 1 & 0 & 0 & 0 & 19 & 6\\\\\n",
              "\t 0 & 1 & 0 & 1 & 0 & 0 & 1 & 0 & 0 & 0 & 0 & 1 & 0 & 26 & 4\\\\\n",
              "\t 0 & 0 & 1 & 0 & 0 & 0 & 0 & 0 & 0 & 1 & 1 & 0 & 0 & 20 & 2\\\\\n",
              "\t 1 & 1 & 1 & 0 & 0 & 1 & 0 & 0 & 0 & 0 & 0 & 1 & 0 & 24 & 3\\\\\n",
              "\t 1 & 1 & 0 & 1 & 0 & 0 & 0 & 0 & 0 & 1 & 0 & 1 & 0 & 24 & 2\\\\\n",
              "\\end{tabular}\n"
            ],
            "text/markdown": [
              "\n",
              "A tibble: 6 × 15\n",
              "\n",
              "| y &lt;dbl&gt; | w &lt;dbl&gt; | gender_female &lt;dbl&gt; | gender_male &lt;dbl&gt; | gender_transgender &lt;dbl&gt; | ethnicgrp_asian &lt;dbl&gt; | ethnicgrp_black &lt;dbl&gt; | ethnicgrp_mixed_multiple &lt;dbl&gt; | ethnicgrp_other &lt;dbl&gt; | ethnicgrp_white &lt;dbl&gt; | partners1 &lt;dbl&gt; | postlaunch &lt;dbl&gt; | msm &lt;dbl&gt; | age &lt;dbl&gt; | imd_decile &lt;dbl&gt; |\n",
              "|---|---|---|---|---|---|---|---|---|---|---|---|---|---|---|\n",
              "| 1 | 1 | 0 | 1 | 0 | 0 | 0 | 1 | 0 | 0 | 0 | 1 | 0 | 27 | 5 |\n",
              "| 0 | 0 | 0 | 1 | 0 | 0 | 0 | 0 | 0 | 1 | 0 | 0 | 0 | 19 | 6 |\n",
              "| 0 | 1 | 0 | 1 | 0 | 0 | 1 | 0 | 0 | 0 | 0 | 1 | 0 | 26 | 4 |\n",
              "| 0 | 0 | 1 | 0 | 0 | 0 | 0 | 0 | 0 | 1 | 1 | 0 | 0 | 20 | 2 |\n",
              "| 1 | 1 | 1 | 0 | 0 | 1 | 0 | 0 | 0 | 0 | 0 | 1 | 0 | 24 | 3 |\n",
              "| 1 | 1 | 0 | 1 | 0 | 0 | 0 | 0 | 0 | 1 | 0 | 1 | 0 | 24 | 2 |\n",
              "\n"
            ],
            "text/plain": [
              "  y w gender_female gender_male gender_transgender ethnicgrp_asian\n",
              "1 1 1 0             1           0                  0              \n",
              "2 0 0 0             1           0                  0              \n",
              "3 0 1 0             1           0                  0              \n",
              "4 0 0 1             0           0                  0              \n",
              "5 1 1 1             0           0                  1              \n",
              "6 1 1 0             1           0                  0              \n",
              "  ethnicgrp_black ethnicgrp_mixed_multiple ethnicgrp_other ethnicgrp_white\n",
              "1 0               1                        0               0              \n",
              "2 0               0                        0               1              \n",
              "3 1               0                        0               0              \n",
              "4 0               0                        0               1              \n",
              "5 0               0                        0               0              \n",
              "6 0               0                        0               1              \n",
              "  partners1 postlaunch msm age imd_decile\n",
              "1 0         1          0   27  5         \n",
              "2 0         0          0   19  6         \n",
              "3 0         1          0   26  4         \n",
              "4 1         0          0   20  2         \n",
              "5 0         1          0   24  3         \n",
              "6 0         1          0   24  2         "
            ]
          },
          "metadata": {},
          "output_type": "display_data"
        }
      ],
      "source": [
        "head(datos)"
      ]
    },
    {
      "cell_type": "code",
      "execution_count": null,
      "id": "98fafb07-3cd1-43c6-9cbd-ea6e298c3239",
      "metadata": {
        "id": "98fafb07-3cd1-43c6-9cbd-ea6e298c3239",
        "vscode": {
          "languageId": "r"
        }
      },
      "outputs": [],
      "source": [
        "library(dplyr)\n",
        "library(broom)\n",
        "library(kableExtra)"
      ]
    },
    {
      "cell_type": "code",
      "execution_count": null,
      "id": "d90f91fa-09bc-4fcc-9b29-11fc0e52e8b6",
      "metadata": {
        "id": "d90f91fa-09bc-4fcc-9b29-11fc0e52e8b6",
        "outputId": "015e32e4-0d9d-40bf-f005-34fbc1218b25",
        "vscode": {
          "languageId": "r"
        }
      },
      "outputs": [
        {
          "name": "stdout",
          "output_type": "stream",
          "text": [
            "[1] \"Table 1: Descriptive Statistics and Balance\"\n",
            "\u001b[90m# A tibble: 12 × 6\u001b[39m\n",
            "   variable         Control_mean Control_sd Treatment_mean Treatment_sd     Diff\n",
            "   \u001b[3m\u001b[90m<fct>\u001b[39m\u001b[23m                   \u001b[3m\u001b[90m<dbl>\u001b[39m\u001b[23m      \u001b[3m\u001b[90m<dbl>\u001b[39m\u001b[23m          \u001b[3m\u001b[90m<dbl>\u001b[39m\u001b[23m        \u001b[3m\u001b[90m<dbl>\u001b[39m\u001b[23m    \u001b[3m\u001b[90m<dbl>\u001b[39m\u001b[23m\n",
            "\u001b[90m 1\u001b[39m age                  23.0         3.59         23.2           3.54    0.111  \n",
            "\u001b[90m 2\u001b[39m gender_female         0.581       0.494         0.587         0.493   0.006\u001b[4m7\u001b[24m\u001b[4m2\u001b[24m\n",
            "\u001b[90m 3\u001b[39m gender_male           0.418       0.494         0.409         0.492  -\u001b[31m0\u001b[39m\u001b[31m.\u001b[39m\u001b[31m00\u001b[39m\u001b[31m8\u001b[4m7\u001b[24m\u001b[4m6\u001b[24m\u001b[39m\n",
            "\u001b[90m 4\u001b[39m gender_transgen…      0.001\u001b[4m2\u001b[24m\u001b[4m2\u001b[24m     0.035\u001b[4m0\u001b[24m        0.003\u001b[4m2\u001b[24m\u001b[4m6\u001b[24m       0.057\u001b[4m0\u001b[24m  0.002\u001b[4m0\u001b[24m\u001b[4m3\u001b[24m\n",
            "\u001b[90m 5\u001b[39m ethnicgrp_asian       0.055\u001b[4m0\u001b[24m      0.228         0.071\u001b[4m7\u001b[24m        0.258   0.016\u001b[4m6\u001b[24m \n",
            "\u001b[90m 6\u001b[39m ethnicgrp_black       0.092\u001b[4m9\u001b[24m      0.290         0.080\u001b[4m3\u001b[24m        0.272  -\u001b[31m0\u001b[39m\u001b[31m.\u001b[39m\u001b[31m0\u001b[39m\u001b[31m12\u001b[4m6\u001b[24m\u001b[39m \n",
            "\u001b[90m 7\u001b[39m ethnicgrp_mixed…      0.092\u001b[4m9\u001b[24m      0.290         0.084\u001b[4m7\u001b[24m        0.279  -\u001b[31m0\u001b[39m\u001b[31m.\u001b[39m\u001b[31m00\u001b[39m\u001b[31m8\u001b[4m2\u001b[24m\u001b[4m2\u001b[24m\u001b[39m\n",
            "\u001b[90m 8\u001b[39m ethnicgrp_other       0.017\u001b[4m1\u001b[24m      0.130         0.009\u001b[4m7\u001b[24m\u001b[4m7\u001b[24m       0.098\u001b[4m4\u001b[24m -\u001b[31m0\u001b[39m\u001b[31m.\u001b[39m\u001b[31m00\u001b[39m\u001b[31m7\u001b[4m3\u001b[24m\u001b[4m4\u001b[24m\u001b[39m\n",
            "\u001b[90m 9\u001b[39m ethnicgrp_white       0.742       0.438         0.754         0.431   0.011\u001b[4m5\u001b[24m \n",
            "\u001b[90m10\u001b[39m partners1             0.292       0.455         0.301         0.459   0.008\u001b[4m5\u001b[24m\u001b[4m8\u001b[24m\n",
            "\u001b[90m11\u001b[39m msm                   0.138       0.345         0.124         0.330  -\u001b[31m0\u001b[39m\u001b[31m.\u001b[39m\u001b[31m0\u001b[39m\u001b[31m14\u001b[4m4\u001b[24m\u001b[39m \n",
            "\u001b[90m12\u001b[39m imd_decile            3.48        1.49          3.46          1.47   -\u001b[31m0\u001b[39m\u001b[31m.\u001b[39m\u001b[31m0\u001b[39m\u001b[31m23\u001b[4m7\u001b[24m\u001b[39m \n"
          ]
        }
      ],
      "source": [
        "# Definir las variables de interés\n",
        "variables <- c(\"age\", \"gender_female\", \"gender_male\", \"gender_transgender\",\n",
        "               \"ethnicgrp_asian\", \"ethnicgrp_black\", \"ethnicgrp_mixed_multiple\",\n",
        "               \"ethnicgrp_other\", \"ethnicgrp_white\", \"partners1\", \"msm\", \"imd_decile\")\n",
        "\n",
        "# Lista para almacenar las estadísticas descriptivas\n",
        "stats_list <- list()\n",
        "\n",
        "# Calcular estadísticas descriptivas para cada variable\n",
        "for (var in variables) {\n",
        "  stats <- datos %>%\n",
        "    group_by(w) %>%\n",
        "    summarise(\n",
        "      n = n(),\n",
        "      mean = mean(.data[[var]], na.rm = TRUE),\n",
        "      sd = sd(.data[[var]], na.rm = TRUE)\n",
        "    ) %>%\n",
        "    mutate(variable = var)\n",
        "\n",
        "  stats_list[[var]] <- stats\n",
        "}\n",
        "\n",
        "# Convertir la lista de estadísticas a un data frame\n",
        "stats_df <- bind_rows(stats_list)\n",
        "\n",
        "# Reorganizar stats_df para tener una variable por fila y por w en columnas\n",
        "reshaped_stats <- stats_df %>%\n",
        "  pivot_wider(\n",
        "    id_cols = variable,\n",
        "    names_from = w,\n",
        "    values_from = c(mean, sd)\n",
        "  ) %>%\n",
        "  mutate(\n",
        "    variable = factor(variable, levels = variables)\n",
        "  ) %>%\n",
        "  arrange(variable)\n",
        "\n",
        "# Calcular las diferencias y organizar la tabla final\n",
        "tabla_final <- reshaped_stats %>%\n",
        "  mutate(\n",
        "    Control_mean = mean_0,\n",
        "    Treatment_mean = mean_1,\n",
        "    Control_sd = sd_0,\n",
        "    Treatment_sd = sd_1,\n",
        "    Diff = mean_1 - mean_0\n",
        "  ) %>%\n",
        "  select(variable, Control_mean, Control_sd, Treatment_mean, Treatment_sd, Diff)\n",
        "\n",
        "# Imprimir la tabla final\n",
        "print(\"Table 1: Descriptive Statistics and Balance\")\n",
        "print(tabla_final)\n"
      ]
    },
    {
      "cell_type": "code",
      "execution_count": null,
      "id": "0850fbde-3fde-4cff-b8fe-a932343c8364",
      "metadata": {
        "id": "0850fbde-3fde-4cff-b8fe-a932343c8364",
        "outputId": "f7d951f8-ff31-4edf-b90c-28dadbda657d",
        "vscode": {
          "languageId": "r"
        }
      },
      "outputs": [
        {
          "data": {
            "image/png": "[encoded data removed]",
            "text/plain": [
              "plot without title"
            ]
          },
          "metadata": {
            "image/png": {
              "height": 420,
              "width": 420
            }
          },
          "output_type": "display_data"
        },
        {
          "data": {
            "image/png": "[encoded data removed]",
            "text/plain": [
              "plot without title"
            ]
          },
          "metadata": {
            "image/png": {
              "height": 420,
              "width": 420
            }
          },
          "output_type": "display_data"
        },
        {
          "data": {
            "image/png": "[encoded data removed]",
            "text/plain": [
              "plot without title"
            ]
          },
          "metadata": {
            "image/png": {
              "height": 420,
              "width": 420
            }
          },
          "output_type": "display_data"
        }
      ],
      "source": [
        "library(ggplot2)\n",
        "\n",
        "# Variables categóricas de interés\n",
        "categorical_vars <- c(\"gender_female\", \"ethnicgrp_asian\", \"ethnicgrp_black\")\n",
        "colores <- c(\"steelblue\", \"gray\")\n",
        "\n",
        "# Función para crear gráfico de barras\n",
        "create_bar_plot <- function(data, var) {\n",
        "  ggplot(data, aes(x = factor(get(var)), fill = factor(w))) +\n",
        "      geom_bar(position = \"dodge\", stat = \"count\") +\n",
        "      scale_fill_manual(values = colores) +\n",
        "      theme_light() +\n",
        "    labs(x = var, y = \"Count\", fill = \"Group\") +\n",
        "    ggtitle(paste(\"Distribution of\", var)) +\n",
        "    theme_minimal()\n",
        "}\n",
        "\n",
        "# Crear y mostrar gráficos de barras para cada variable categórica\n",
        "for (var in categorical_vars) {\n",
        "  plot <- create_bar_plot(datos, var)\n",
        "  print(plot)\n",
        "}\n"
      ]
    },
    {
      "cell_type": "code",
      "execution_count": null,
      "id": "cb597310-d376-4794-8932-0fabc74b72ab",
      "metadata": {
        "id": "cb597310-d376-4794-8932-0fabc74b72ab",
        "outputId": "159a2076-903f-473e-9291-dafb3aa73280",
        "vscode": {
          "languageId": "r"
        }
      },
      "outputs": [
        {
          "data": {
            "image/png": "[encoded data removed]",
            "text/plain": [
              "plot without title"
            ]
          },
          "metadata": {
            "image/png": {
              "height": 420,
              "width": 420
            }
          },
          "output_type": "display_data"
        }
      ],
      "source": [
        "# Crear el histograma de la variable 'age' por grupo (w)\n",
        "ggplot(datos, aes(x = age, fill = factor(w))) +\n",
        "  geom_histogram(position = \"dodge\", binwidth = 1, color = \"black\", alpha = 0.7) +\n",
        "  scale_fill_manual(values = c(\"steelblue\", \"gray\"),\n",
        "                    name = \"Group\",\n",
        "                    labels = c(\"Control\", \"Treatment\")) +\n",
        "  labs(title = \"Histogram of Age by Group\",\n",
        "       x = \"Age\",\n",
        "       y = \"Frequency\") +\n",
        "  theme_minimal()\n"
      ]
    },
    {
      "cell_type": "code",
      "execution_count": null,
      "id": "771f6300-a7a0-4f7c-9724-0297290aaac7",
      "metadata": {
        "id": "771f6300-a7a0-4f7c-9724-0297290aaac7",
        "outputId": "a66193eb-5339-42ba-b809-fdf655180957",
        "vscode": {
          "languageId": "r"
        }
      },
      "outputs": [
        {
          "data": {
            "text/plain": [
              "\n",
              "Call:\n",
              "lm(formula = y ~ w, data = datos)\n",
              "\n",
              "Residuals:\n",
              "    Min      1Q  Median      3Q     Max \n",
              "-0.4767 -0.4767 -0.2115  0.5233  0.7885 \n",
              "\n",
              "Coefficients:\n",
              "            Estimate Std. Error t value Pr(>|t|)    \n",
              "(Intercept)  0.21149    0.01605   13.17   <2e-16 ***\n",
              "w            0.26516    0.02206   12.02   <2e-16 ***\n",
              "---\n",
              "Signif. codes:  0 '***' 0.001 '**' 0.01 '*' 0.05 '.' 0.1 ' ' 1\n",
              "\n",
              "Residual standard error: 0.4591 on 1737 degrees of freedom\n",
              "Multiple R-squared:  0.0768,\tAdjusted R-squared:  0.07627 \n",
              "F-statistic: 144.5 on 1 and 1737 DF,  p-value: < 2.2e-16\n"
            ]
          },
          "metadata": {},
          "output_type": "display_data"
        }
      ],
      "source": [
        "# Realizar la regresión lineal\n",
        "model <- lm(y ~ w, data = datos)\n",
        "nocontrol.est <- summary(model)$coef[\"w\",1]\n",
        "CI1upper <-confint(model)[2,2]\n",
        "CI1low <-confint(model)[2,1]\n",
        "\n",
        "summary(model)"
      ]
    },
    {
      "cell_type": "markdown",
      "id": "ef9e284a-154e-4b4d-9f10-dba5f275205e",
      "metadata": {
        "id": "ef9e284a-154e-4b4d-9f10-dba5f275205e"
      },
      "source": [
        "Interpretation: There is a significant (p<0.05) and positive effect of the treatment on the outcome. The probability that Y is equal to 1 increases by 26.52 percentage points when w=1, compared to w=0. However, there is omitted variable bias because only outocme was regressed with treatment"
      ]
    },
    {
      "cell_type": "code",
      "execution_count": null,
      "id": "01744e5b-4f3a-4906-ae71-a0e5a7875bc9",
      "metadata": {
        "id": "01744e5b-4f3a-4906-ae71-a0e5a7875bc9",
        "outputId": "4de98975-0390-428d-e537-6f57670fd71d",
        "vscode": {
          "languageId": "r"
        }
      },
      "outputs": [
        {
          "data": {
            "text/plain": [
              "\n",
              "Call:\n",
              "lm(formula = formula, data = datos)\n",
              "\n",
              "Residuals:\n",
              "    Min      1Q  Median      3Q     Max \n",
              "-0.6280 -0.3638 -0.1853  0.4874  0.9203 \n",
              "\n",
              "Coefficients:\n",
              "                    Estimate Std. Error t value Pr(>|t|)    \n",
              "(Intercept)        -0.216998   0.075399  -2.878 0.004051 ** \n",
              "w                   0.261294   0.021816  11.977  < 2e-16 ***\n",
              "age                 0.016486   0.003092   5.333  1.1e-07 ***\n",
              "gender_female       0.089087   0.024942   3.572 0.000364 ***\n",
              "ethnicgrp_black    -0.066363   0.038931  -1.705 0.088441 .  \n",
              "gender_transgender  0.424825   0.227945   1.864 0.062530 .  \n",
              "msm                 0.017699   0.036669   0.483 0.629402    \n",
              "---\n",
              "Signif. codes:  0 '***' 0.001 '**' 0.01 '*' 0.05 '.' 0.1 ' ' 1\n",
              "\n",
              "Residual standard error: 0.4537 on 1732 degrees of freedom\n",
              "Multiple R-squared:  0.1012,\tAdjusted R-squared:  0.09807 \n",
              "F-statistic:  32.5 on 6 and 1732 DF,  p-value: < 2.2e-16\n"
            ]
          },
          "metadata": {},
          "output_type": "display_data"
        }
      ],
      "source": [
        "formula <- y ~ w + age + gender_female  + ethnicgrp_black + gender_transgender + msm\n",
        "model <- lm(formula, data = datos)\n",
        "control.est <- summary(model)$coef[2,1]\n",
        "CI2upper <-confint(model)[2,2]\n",
        "CI2low <-confint(model)[2,1]\n",
        "summary(model)"
      ]
    },
    {
      "cell_type": "markdown",
      "id": "38c01e74-776b-41e3-a751-80b181a8dd03",
      "metadata": {
        "id": "38c01e74-776b-41e3-a751-80b181a8dd03"
      },
      "source": [
        "Interpretation: There is a significant (p<0.01) and positive effect of the treatment on the outcome. The probability that Y is equal to 1 increases by 26.13 percentage points when w=1, compared to w=0. Likewise, the other variables that were significant are age and female with a significance level of 0.01."
      ]
    },
    {
      "cell_type": "markdown",
      "id": "715bfe2a-8723-4702-8e6c-a248ccadb3a2",
      "metadata": {
        "id": "715bfe2a-8723-4702-8e6c-a248ccadb3a2"
      },
      "source": [
        "Use the Double Lasso Method to estimate Y ~ T + X. Please show a clear table output and interpret the results.\n"
      ]
    },
    {
      "cell_type": "code",
      "execution_count": null,
      "id": "850ba8fc-7656-42ff-9daa-01fb0787e44c",
      "metadata": {
        "id": "850ba8fc-7656-42ff-9daa-01fb0787e44c",
        "outputId": "da8e30a6-7445-4642-b2ef-6cc90dfdb342",
        "vscode": {
          "languageId": "r"
        }
      },
      "outputs": [
        {
          "data": {
            "text/plain": [
              "\n",
              "Call:\n",
              "lm(formula = model_formula, data = datos)\n",
              "\n",
              "Residuals:\n",
              "    Min      1Q  Median      3Q     Max \n",
              "-0.4767 -0.4767 -0.2115  0.5233  0.7885 \n",
              "\n",
              "Coefficients:\n",
              "            Estimate Std. Error t value Pr(>|t|)    \n",
              "(Intercept)  0.21149    0.01605   13.17   <2e-16 ***\n",
              "w            0.26516    0.02206   12.02   <2e-16 ***\n",
              "---\n",
              "Signif. codes:  0 '***' 0.001 '**' 0.01 '*' 0.05 '.' 0.1 ' ' 1\n",
              "\n",
              "Residual standard error: 0.4591 on 1737 degrees of freedom\n",
              "Multiple R-squared:  0.0768,\tAdjusted R-squared:  0.07627 \n",
              "F-statistic: 144.5 on 1 and 1737 DF,  p-value: < 2.2e-16\n"
            ]
          },
          "metadata": {},
          "output_type": "display_data"
        }
      ],
      "source": [
        "# Cargar las librerías necesarias\n",
        "library(glmnet)\n",
        "\n",
        "# Definir las variables\n",
        "T <- datos$w\n",
        "Y <- datos$y\n",
        "X <- model.matrix(formula, data = datos)[,-1]\n",
        "\n",
        "# Ajustar el modelo Lasso con validación cruzada\n",
        "cv.lasso <- cv.glmnet(as.matrix(X), T, alpha = 1)\n",
        "\n",
        "# Obtener los coeficientes del modelo Lasso\n",
        "lasso_coefs <- coef(cv.lasso, s = \"lambda.min\")\n",
        "\n",
        "# Seleccionar las covariables no nulas\n",
        "selected_covariates <- rownames(lasso_coefs)[lasso_coefs[, 1] != 0]\n",
        "selected_covariates <- selected_covariates[selected_covariates != \"(Intercept)\"]\n",
        "\n",
        "# Comprobar si hay covariables seleccionadas\n",
        "if (length(selected_covariates) > 0) {\n",
        "  # Crear la fórmula del modelo\n",
        "  model_formula <- as.formula(paste(\"y ~\", paste(selected_covariates, collapse = \" + \")))\n",
        "} else {\n",
        "  # Si no hay covariables seleccionadas, usar solo el intercepto\n",
        "  model_formula <- as.formula(\"y ~ 1\")\n",
        "}\n",
        "\n",
        "# Ajustar el modelo lineal\n",
        "modelo1 <- lm(model_formula, data = datos)\n",
        "lasso.est <- summary(modelo1)$coef[2,1]\n",
        "CI3upper <-confint(modelo1)[2,2]\n",
        "CI3low <-confint(modelo1)[2,1]\n",
        "\n",
        "# Mostrar el resumen del modelo\n",
        "summary(modelo1)\n"
      ]
    },
    {
      "cell_type": "code",
      "execution_count": null,
      "id": "6ba3e2bd-d187-4677-91ef-95e93bef6518",
      "metadata": {
        "id": "6ba3e2bd-d187-4677-91ef-95e93bef6518",
        "outputId": "1cb12efc-9c43-4ad9-d4b1-9bb0c8f73410",
        "vscode": {
          "languageId": "r"
        }
      },
      "outputs": [
        {
          "data": {
            "image/png": "[encoded data removed]",
            "text/plain": [
              "plot without title"
            ]
          },
          "metadata": {
            "image/png": {
              "height": 420,
              "width": 420
            }
          },
          "output_type": "display_data"
        }
      ],
      "source": [
        "CIdf <- data.frame(x = c('No Control','With Control','Lasso'),\n",
        "                         y = c(nocontrol.est,control.est, lasso.est),\n",
        "                         lower = c(CI1low,CI2low,CI3low),\n",
        "                         upper = c(CI1upper,CI2upper, CI3upper))\n",
        "ggplot(CIdf, aes(x, y)) +\n",
        "  geom_point(color = \"darkred\") +  # Puntos rojos\n",
        "  geom_errorbar(aes(ymin = lower, ymax = upper), color = \"navyblue\") +  # Borde de los intervalos de error azules\n",
        "  ggtitle(\"Figure 2: Coef\") +\n",
        "  theme_light()"
      ]
    },
    {
      "cell_type": "code",
      "execution_count": 1,
      "id": "1d931998-cf0c-47d1-a386-eda22630d431",
      "metadata": {
        "colab": {
          "base_uri": "https://localhost:8080/"
        },
        "id": "1d931998-cf0c-47d1-a386-eda22630d431",
        "outputId": "d8c277ea-53a0-4ed1-8c20-71defc242ff3",
        "vscode": {
          "languageId": "r"
        }
      },
      "outputs": [
        {
          "name": "stderr",
          "output_type": "stream",
          "text": [
            "Installing package into ‘/usr/local/lib/R/site-library’\n",
            "(as ‘lib’ is unspecified)\n",
            "\n",
            "Installing package into ‘/usr/local/lib/R/site-library’\n",
            "(as ‘lib’ is unspecified)\n",
            "\n",
            "Installing package into ‘/usr/local/lib/R/site-library’\n",
            "(as ‘lib’ is unspecified)\n",
            "\n",
            "also installing the dependencies ‘iterators’, ‘foreach’, ‘shape’, ‘Rcpp’, ‘RcppEigen’\n",
            "\n",
            "\n",
            "Installing package into ‘/usr/local/lib/R/site-library’\n",
            "(as ‘lib’ is unspecified)\n",
            "\n",
            "also installing the dependencies ‘checkmate’, ‘Formula’\n",
            "\n",
            "\n",
            "Installing package into ‘/usr/local/lib/R/site-library’\n",
            "(as ‘lib’ is unspecified)\n",
            "\n",
            "also installing the dependency ‘zoo’\n",
            "\n",
            "\n",
            "Installing package into ‘/usr/local/lib/R/site-library’\n",
            "(as ‘lib’ is unspecified)\n",
            "\n",
            "Installing package into ‘/usr/local/lib/R/site-library’\n",
            "(as ‘lib’ is unspecified)\n",
            "\n",
            "Installing package into ‘/usr/local/lib/R/site-library’\n",
            "(as ‘lib’ is unspecified)\n",
            "\n",
            "\n",
            "Attaching package: ‘dplyr’\n",
            "\n",
            "\n",
            "The following objects are masked from ‘package:stats’:\n",
            "\n",
            "    filter, lag\n",
            "\n",
            "\n",
            "The following objects are masked from ‘package:base’:\n",
            "\n",
            "    intersect, setdiff, setequal, union\n",
            "\n",
            "\n",
            "Installing package into ‘/usr/local/lib/R/site-library’\n",
            "(as ‘lib’ is unspecified)\n",
            "\n",
            "randomForest 4.7-1.1\n",
            "\n",
            "Type rfNews() to see new features/changes/bug fixes.\n",
            "\n",
            "\n",
            "Attaching package: ‘randomForest’\n",
            "\n",
            "\n",
            "The following object is masked from ‘package:dplyr’:\n",
            "\n",
            "    combine\n",
            "\n",
            "\n",
            "Loading required package: Matrix\n",
            "\n",
            "Loaded glmnet 4.1-8\n",
            "\n"
          ]
        }
      ],
      "source": [
        "# Import relevant packages\n",
        "install.packages(\"xtable\")\n",
        "install.packages(\"randomForest\")\n",
        "install.packages(\"glmnet\")\n",
        "install.packages(\"hdm\")\n",
        "install.packages(\"sandwich\")\n",
        "install.packages(\"sandwich\")\n",
        "install.packages(\"rpart\")\n",
        "install.packages(\"gbm\")\n",
        "\n",
        "library(xtable)\n",
        "library(dplyr)\n",
        "install.packages(\"gbm\")\n",
        "library(rpart)\n",
        "library(randomForest)\n",
        "library(hdm)\n",
        "library(glmnet)\n",
        "library(sandwich)\n",
        "set.seed(123)\n"
      ]
    },
    {
      "cell_type": "markdown",
      "id": "cf726aee-6f05-472f-bd85-b48a2e861fc2",
      "metadata": {
        "id": "cf726aee-6f05-472f-bd85-b48a2e861fc2"
      },
      "source": [
        "# 3.Non-Linear Methods DML"
      ]
    },
    {
      "cell_type": "code",
      "execution_count": 20,
      "id": "137ba3c1-2011-49ad-8799-86b22672decd",
      "metadata": {
        "colab": {
          "base_uri": "https://localhost:8080/",
          "height": 323
        },
        "id": "137ba3c1-2011-49ad-8799-86b22672decd",
        "outputId": "a698e8fe-427a-460a-a112-168d797941c5",
        "vscode": {
          "languageId": "r"
        }
      },
      "outputs": [
        {
          "data": {
            "text/html": [
              "<table class=\"dataframe\">\n",
              "<caption>A data.frame: 6 × 16</caption>\n",
              "<thead>\n",
              "\t<tr><th></th><th scope=col>y</th><th scope=col>w</th><th scope=col>gender_female</th><th scope=col>gender_male</th><th scope=col>gender_transgender</th><th scope=col>ethnicgrp_asian</th><th scope=col>ethnicgrp_black</th><th scope=col>ethnicgrp_mixed_multiple</th><th scope=col>ethnicgrp_other</th><th scope=col>ethnicgrp_white</th><th scope=col>partners1</th><th scope=col>postlaunch</th><th scope=col>msm</th><th scope=col>age</th><th scope=col>imd_decile</th><th scope=col>pendiente</th></tr>\n",
              "\t<tr><th></th><th scope=col>&lt;int&gt;</th><th scope=col>&lt;int&gt;</th><th scope=col>&lt;int&gt;</th><th scope=col>&lt;int&gt;</th><th scope=col>&lt;int&gt;</th><th scope=col>&lt;int&gt;</th><th scope=col>&lt;int&gt;</th><th scope=col>&lt;int&gt;</th><th scope=col>&lt;int&gt;</th><th scope=col>&lt;int&gt;</th><th scope=col>&lt;int&gt;</th><th scope=col>&lt;int&gt;</th><th scope=col>&lt;int&gt;</th><th scope=col>&lt;int&gt;</th><th scope=col>&lt;int&gt;</th><th scope=col>&lt;dbl&gt;</th></tr>\n",
              "</thead>\n",
              "<tbody>\n",
              "\t<tr><th scope=row>1</th><td>1</td><td>1</td><td>0</td><td>1</td><td>0</td><td>0</td><td>0</td><td>1</td><td>0</td><td>0</td><td>0</td><td>1</td><td>0</td><td>27</td><td>5</td><td>1</td></tr>\n",
              "\t<tr><th scope=row>2</th><td>0</td><td>0</td><td>0</td><td>1</td><td>0</td><td>0</td><td>0</td><td>0</td><td>0</td><td>1</td><td>0</td><td>0</td><td>0</td><td>19</td><td>6</td><td>1</td></tr>\n",
              "\t<tr><th scope=row>3</th><td>0</td><td>1</td><td>0</td><td>1</td><td>0</td><td>0</td><td>1</td><td>0</td><td>0</td><td>0</td><td>0</td><td>1</td><td>0</td><td>26</td><td>4</td><td>1</td></tr>\n",
              "\t<tr><th scope=row>4</th><td>0</td><td>0</td><td>1</td><td>0</td><td>0</td><td>0</td><td>0</td><td>0</td><td>0</td><td>1</td><td>1</td><td>0</td><td>0</td><td>20</td><td>2</td><td>1</td></tr>\n",
              "\t<tr><th scope=row>5</th><td>1</td><td>1</td><td>1</td><td>0</td><td>0</td><td>1</td><td>0</td><td>0</td><td>0</td><td>0</td><td>0</td><td>1</td><td>0</td><td>24</td><td>3</td><td>1</td></tr>\n",
              "\t<tr><th scope=row>6</th><td>1</td><td>1</td><td>0</td><td>1</td><td>0</td><td>0</td><td>0</td><td>0</td><td>0</td><td>1</td><td>0</td><td>1</td><td>0</td><td>24</td><td>2</td><td>1</td></tr>\n",
              "</tbody>\n",
              "</table>\n"
            ],
            "text/latex": [
              "A data.frame: 6 × 16\n",
              "\\begin{tabular}{r|llllllllllllllll}\n",
              "  & y & w & gender\\_female & gender\\_male & gender\\_transgender & ethnicgrp\\_asian & ethnicgrp\\_black & ethnicgrp\\_mixed\\_multiple & ethnicgrp\\_other & ethnicgrp\\_white & partners1 & postlaunch & msm & age & imd\\_decile & pendiente\\\\\n",
              "  & <int> & <int> & <int> & <int> & <int> & <int> & <int> & <int> & <int> & <int> & <int> & <int> & <int> & <int> & <int> & <dbl>\\\\\n",
              "\\hline\n",
              "\t1 & 1 & 1 & 0 & 1 & 0 & 0 & 0 & 1 & 0 & 0 & 0 & 1 & 0 & 27 & 5 & 1\\\\\n",
              "\t2 & 0 & 0 & 0 & 1 & 0 & 0 & 0 & 0 & 0 & 1 & 0 & 0 & 0 & 19 & 6 & 1\\\\\n",
              "\t3 & 0 & 1 & 0 & 1 & 0 & 0 & 1 & 0 & 0 & 0 & 0 & 1 & 0 & 26 & 4 & 1\\\\\n",
              "\t4 & 0 & 0 & 1 & 0 & 0 & 0 & 0 & 0 & 0 & 1 & 1 & 0 & 0 & 20 & 2 & 1\\\\\n",
              "\t5 & 1 & 1 & 1 & 0 & 0 & 1 & 0 & 0 & 0 & 0 & 0 & 1 & 0 & 24 & 3 & 1\\\\\n",
              "\t6 & 1 & 1 & 0 & 1 & 0 & 0 & 0 & 0 & 0 & 1 & 0 & 1 & 0 & 24 & 2 & 1\\\\\n",
              "\\end{tabular}\n"
            ],
            "text/markdown": [
              "\n",
              "A data.frame: 6 × 16\n",
              "\n",
              "| <!--/--> | y &lt;int&gt; | w &lt;int&gt; | gender_female &lt;int&gt; | gender_male &lt;int&gt; | gender_transgender &lt;int&gt; | ethnicgrp_asian &lt;int&gt; | ethnicgrp_black &lt;int&gt; | ethnicgrp_mixed_multiple &lt;int&gt; | ethnicgrp_other &lt;int&gt; | ethnicgrp_white &lt;int&gt; | partners1 &lt;int&gt; | postlaunch &lt;int&gt; | msm &lt;int&gt; | age &lt;int&gt; | imd_decile &lt;int&gt; | pendiente &lt;dbl&gt; |\n",
              "|---|---|---|---|---|---|---|---|---|---|---|---|---|---|---|---|---|\n",
              "| 1 | 1 | 1 | 0 | 1 | 0 | 0 | 0 | 1 | 0 | 0 | 0 | 1 | 0 | 27 | 5 | 1 |\n",
              "| 2 | 0 | 0 | 0 | 1 | 0 | 0 | 0 | 0 | 0 | 1 | 0 | 0 | 0 | 19 | 6 | 1 |\n",
              "| 3 | 0 | 1 | 0 | 1 | 0 | 0 | 1 | 0 | 0 | 0 | 0 | 1 | 0 | 26 | 4 | 1 |\n",
              "| 4 | 0 | 0 | 1 | 0 | 0 | 0 | 0 | 0 | 0 | 1 | 1 | 0 | 0 | 20 | 2 | 1 |\n",
              "| 5 | 1 | 1 | 1 | 0 | 0 | 1 | 0 | 0 | 0 | 0 | 0 | 1 | 0 | 24 | 3 | 1 |\n",
              "| 6 | 1 | 1 | 0 | 1 | 0 | 0 | 0 | 0 | 0 | 1 | 0 | 1 | 0 | 24 | 2 | 1 |\n",
              "\n"
            ],
            "text/plain": [
              "  y w gender_female gender_male gender_transgender ethnicgrp_asian\n",
              "1 1 1 0             1           0                  0              \n",
              "2 0 0 0             1           0                  0              \n",
              "3 0 1 0             1           0                  0              \n",
              "4 0 0 1             0           0                  0              \n",
              "5 1 1 1             0           0                  1              \n",
              "6 1 1 0             1           0                  0              \n",
              "  ethnicgrp_black ethnicgrp_mixed_multiple ethnicgrp_other ethnicgrp_white\n",
              "1 0               1                        0               0              \n",
              "2 0               0                        0               1              \n",
              "3 1               0                        0               0              \n",
              "4 0               0                        0               1              \n",
              "5 0               0                        0               0              \n",
              "6 0               0                        0               1              \n",
              "  partners1 postlaunch msm age imd_decile pendiente\n",
              "1 0         1          0   27  5          1        \n",
              "2 0         0          0   19  6          1        \n",
              "3 0         1          0   26  4          1        \n",
              "4 1         0          0   20  2          1        \n",
              "5 0         1          0   24  3          1        \n",
              "6 0         1          0   24  2          1        "
            ]
          },
          "metadata": {},
          "output_type": "display_data"
        },
        {
          "data": {
            "text/html": [
              "<style>\n",
              ".list-inline {list-style: none; margin:0; padding: 0}\n",
              ".list-inline>li {display: inline-block}\n",
              ".list-inline>li:not(:last-child)::after {content: \"\\00b7\"; padding: 0 .5ex}\n",
              "</style>\n",
              "<ol class=list-inline><li>1739</li><li>16</li></ol>\n"
            ],
            "text/latex": [
              "\\begin{enumerate*}\n",
              "\\item 1739\n",
              "\\item 16\n",
              "\\end{enumerate*}\n"
            ],
            "text/markdown": [
              "1. 1739\n",
              "2. 16\n",
              "\n",
              "\n"
            ],
            "text/plain": [
              "[1] 1739   16"
            ]
          },
          "metadata": {},
          "output_type": "display_data"
        }
      ],
      "source": [
        "data <- read.csv(\"https://github.com/gsbDBI/ExperimentData/raw/97a11199ba559f01c7b3803a1493ffa08631732e/eSTI/processed_data/processed_esti.csv\")\n",
        "data$pendiente <- rep(1, nrow(data))\n",
        "head(data)\n",
        "dim(data)"
      ]
    },
    {
      "cell_type": "code",
      "execution_count": 12,
      "id": "33c3d3c1-a02b-4e46-8c13-7a3b80fbdcb4",
      "metadata": {
        "id": "33c3d3c1-a02b-4e46-8c13-7a3b80fbdcb4",
        "vscode": {
          "languageId": "r"
        }
      },
      "outputs": [],
      "source": [
        "DML2.for.PLM <- function(x, d, y, dreg, yreg, nfold=10) {\n",
        "  nobs <- nrow(x) #number of observations\n",
        "  foldid <- rep.int(1:nfold,times = ceiling(nobs/nfold))[sample.int(nobs)] #define folds indices\n",
        "  I <- split(1:nobs, foldid)  #split observation indices into folds\n",
        "  ytil <- dtil <- rep(NA, nobs)\n",
        "  cat(\"fold: \")\n",
        "  for(b in 1:length(I)){\n",
        "    dfit <- dreg(x[-I[[b]],], d[-I[[b]]]) #take a fold out\n",
        "    yfit <- yreg(x[-I[[b]],], y[-I[[b]]]) # take a foldt out\n",
        "    dhat <- predict(dfit, x[I[[b]],]) #predict the left-out fold\n",
        "    yhat <- predict(yfit, x[I[[b]],]) #predict the left-out fold\n",
        "    dtil[I[[b]]] <- (d[I[[b]]] - dhat) #record residual for the left-out fold\n",
        "    ytil[I[[b]]] <- (y[I[[b]]] - yhat) #record residial for the left-out fold\n",
        "    cat(b,\" \")\n",
        "        }\n",
        "  rfit <- lm(ytil ~ dtil)    #estimate the main parameter by regressing one residual on the other\n",
        "  coef.est <- coef(rfit)[2]  #extract coefficient\n",
        "  se <- sqrt(vcovHC(rfit)[2,2]) #record robust standard error\n",
        "  cat(sprintf(\"\\ncoef (se) = %g (%g)\\n\", coef.est , se))  #printing output\n",
        "  return( list(coef.est =coef.est , se=se, dtil=dtil, ytil=ytil) ) #save output and residuals\n",
        "}\n"
      ]
    },
    {
      "cell_type": "code",
      "execution_count": 13,
      "id": "AbZ8ca6uMZDg",
      "metadata": {
        "id": "AbZ8ca6uMZDg",
        "vscode": {
          "languageId": "r"
        }
      },
      "outputs": [],
      "source": [
        "DML2.version2 <- function(x, d, y, dreg, yreg, nfold=10) {\n",
        "  nobs <- nrow(x) #number of observations\n",
        "  foldid <- rep.int(1:nfold,times = ceiling(nobs/nfold))[sample.int(nobs)] #define folds indices\n",
        "  I <- split(1:nobs, foldid)  #split observation indices into folds\n",
        "  ytil <- dtil <- rep(NA, nobs)\n",
        "  cat(\"fold: \")\n",
        "  for(b in 1:length(I)){\n",
        "    dfit <- dreg(x[-I[[b]],], d[-I[[b]]]) #take a fold out\n",
        "    yfit <- yreg(x[-I[[b]],], y[-I[[b]]]) # take a foldt out\n",
        "    dhat <- predict(dfit, as.data.frame(x[I[[b]],])) #predict the left-out fold\n",
        "    yhat <- predict(yfit, as.data.frame(x[I[[b]],])) #predict the left-out fold\n",
        "    dtil[I[[b]]] <- (d[I[[b]]] - dhat) #record residual for the left-out fold\n",
        "    ytil[I[[b]]] <- (y[I[[b]]] - yhat) #record residial for the left-out fold\n",
        "    cat(b,\" \")\n",
        "        }\n",
        "  rfit <- lm(ytil ~ dtil)    #estimate the main parameter by regressing one residual on the other\n",
        "  coef.est <- coef(rfit)[2]  #extract coefficient\n",
        "  se <- sqrt(vcovHC(rfit)[2,2]) #record robust standard error\n",
        "  cat(sprintf(\"\\ncoef (se) = %g (%g)\\n\", coef.est , se))  #printing output\n",
        "  return( list(coef.est =coef.est , se=se, dtil=dtil, ytil=ytil) ) #save output and residuals\n",
        "}\n"
      ]
    },
    {
      "cell_type": "code",
      "execution_count": 8,
      "id": "793b4672-4b54-4ff7-9197-0769842e220f",
      "metadata": {
        "id": "793b4672-4b54-4ff7-9197-0769842e220f",
        "vscode": {
          "languageId": "r"
        }
      },
      "outputs": [],
      "source": [
        "y <- as.matrix(data['y'])\n",
        "d <- as.matrix(data['w'])\n",
        "x <- as.matrix(data[, !(names(data) %in% c('y', 'w'))])"
      ]
    },
    {
      "cell_type": "markdown",
      "id": "c0a59182-ed84-41cc-9ac6-8020890ce3b5",
      "metadata": {
        "id": "c0a59182-ed84-41cc-9ac6-8020890ce3b5"
      },
      "source": [
        "# We now run through DML using as first stage models:\n",
        "\n",
        "- Robust Lasso\n",
        "- Regression Trees\n",
        "- Boosting Trees\n",
        "- Regression Forest"
      ]
    },
    {
      "cell_type": "markdown",
      "id": "c3cb9125-f841-4e12-afe1-67735219f701",
      "metadata": {
        "id": "c3cb9125-f841-4e12-afe1-67735219f701"
      },
      "source": [
        "## 3.1 DML with RLasso:"
      ]
    },
    {
      "cell_type": "code",
      "execution_count": 22,
      "id": "6b31bd6c-9282-4089-a210-63783cc55576",
      "metadata": {
        "colab": {
          "base_uri": "https://localhost:8080/"
        },
        "id": "6b31bd6c-9282-4089-a210-63783cc55576",
        "outputId": "7e1f24ac-9b85-43cb-e8a4-593fb675ed5b",
        "scrolled": true,
        "vscode": {
          "languageId": "r"
        }
      },
      "outputs": [
        {
          "name": "stdout",
          "output_type": "stream",
          "text": [
            "\n",
            "DML with Lasso \n",
            "fold: 1  2  3  4  5  6  7  8  9  10  \n",
            "coef (se) = 0.258965 (0.021632)\n"
          ]
        }
      ],
      "source": [
        "cat(sprintf(\"\\nDML with Lasso \\n\"))\n",
        "dreg <- function(x,d){ rlasso(x,d, post=FALSE) }\n",
        "yreg <- function(x,y){ rlasso(x,y, post=FALSE) }\n",
        "DML2_rlasso = DML2.for.PLM(x, d, y, dreg, yreg, nfold=10)"
      ]
    },
    {
      "cell_type": "markdown",
      "id": "d8a220b4-b40f-4603-8196-28018a0747d2",
      "metadata": {
        "id": "d8a220b4-b40f-4603-8196-28018a0747d2"
      },
      "source": [
        "## 3.2 DML with Regresion Trees:"
      ]
    },
    {
      "cell_type": "code",
      "execution_count": 23,
      "id": "e4361049-389e-4a05-a519-9fd68f95f980",
      "metadata": {
        "colab": {
          "base_uri": "https://localhost:8080/"
        },
        "id": "e4361049-389e-4a05-a519-9fd68f95f980",
        "outputId": "40489761-7335-4cec-8374-9dda27c2022d",
        "vscode": {
          "languageId": "r"
        }
      },
      "outputs": [
        {
          "name": "stdout",
          "output_type": "stream",
          "text": [
            "\n",
            "DML with Regression Tree \n",
            "fold: 1  2  3  4  5  6  7  8  9  10  \n",
            "coef (se) = 0.219189 (0.0215206)\n"
          ]
        }
      ],
      "source": [
        "cat(sprintf(\"\\nDML with Regression Tree \\n\"))\n",
        "dreg <- function(x, d) { rpart(d ~ ., data = as.data.frame(cbind(d, x)), control = rpart.control(cp = 0.001, minsplit = 5))}\n",
        "yreg <- function(x, y) { rpart(y ~ ., data = as.data.frame(cbind(y, x)), control = rpart.control(cp = 0.001, minsplit = 5))}\n",
        "DML2_tree = DML2.version2(x, d, y, dreg, yreg, nfold=10)"
      ]
    },
    {
      "cell_type": "markdown",
      "id": "31ff9d58-e074-4105-850c-3a56e0c694b3",
      "metadata": {
        "id": "31ff9d58-e074-4105-850c-3a56e0c694b3"
      },
      "source": [
        "## 3.3 DML with Boosting Trees:"
      ]
    },
    {
      "cell_type": "code",
      "execution_count": 26,
      "id": "459b4f1f-7a4a-43af-8e0b-3c5ef9456b9d",
      "metadata": {
        "colab": {
          "base_uri": "https://localhost:8080/"
        },
        "id": "459b4f1f-7a4a-43af-8e0b-3c5ef9456b9d",
        "outputId": "d589eaaa-2922-4bf1-e0b4-113dc6c2e269",
        "vscode": {
          "languageId": "r"
        }
      },
      "outputs": [
        {
          "name": "stdout",
          "output_type": "stream",
          "text": [
            "\n",
            "DML with Boosting Tree \n",
            "fold: Distribution not specified, assuming bernoulli ...\n",
            "Distribution not specified, assuming bernoulli ...\n"
          ]
        },
        {
          "name": "stderr",
          "output_type": "stream",
          "text": [
            "Using 96 trees...\n",
            "\n",
            "\n",
            "Using 100 trees...\n",
            "\n",
            "\n"
          ]
        },
        {
          "name": "stdout",
          "output_type": "stream",
          "text": [
            "1  Distribution not specified, assuming bernoulli ...\n",
            "Distribution not specified, assuming bernoulli ...\n"
          ]
        },
        {
          "name": "stderr",
          "output_type": "stream",
          "text": [
            "Using 96 trees...\n",
            "\n",
            "\n",
            "Using 100 trees...\n",
            "\n",
            "\n"
          ]
        },
        {
          "name": "stdout",
          "output_type": "stream",
          "text": [
            "2  Distribution not specified, assuming bernoulli ...\n",
            "Distribution not specified, assuming bernoulli ...\n"
          ]
        },
        {
          "name": "stderr",
          "output_type": "stream",
          "text": [
            "Using 69 trees...\n",
            "\n",
            "\n",
            "Using 100 trees...\n",
            "\n",
            "\n"
          ]
        },
        {
          "name": "stdout",
          "output_type": "stream",
          "text": [
            "3  Distribution not specified, assuming bernoulli ...\n",
            "Distribution not specified, assuming bernoulli ...\n"
          ]
        },
        {
          "name": "stderr",
          "output_type": "stream",
          "text": [
            "Using 82 trees...\n",
            "\n",
            "\n",
            "Using 100 trees...\n",
            "\n",
            "\n"
          ]
        },
        {
          "name": "stdout",
          "output_type": "stream",
          "text": [
            "4  Distribution not specified, assuming bernoulli ...\n",
            "Distribution not specified, assuming bernoulli ...\n"
          ]
        },
        {
          "name": "stderr",
          "output_type": "stream",
          "text": [
            "Using 68 trees...\n",
            "\n",
            "\n",
            "Using 100 trees...\n",
            "\n",
            "\n"
          ]
        },
        {
          "name": "stdout",
          "output_type": "stream",
          "text": [
            "5  Distribution not specified, assuming bernoulli ...\n",
            "Distribution not specified, assuming bernoulli ...\n"
          ]
        },
        {
          "name": "stderr",
          "output_type": "stream",
          "text": [
            "Using 73 trees...\n",
            "\n",
            "\n",
            "Using 100 trees...\n",
            "\n",
            "\n"
          ]
        },
        {
          "name": "stdout",
          "output_type": "stream",
          "text": [
            "6  Distribution not specified, assuming bernoulli ...\n",
            "Distribution not specified, assuming bernoulli ...\n"
          ]
        },
        {
          "name": "stderr",
          "output_type": "stream",
          "text": [
            "Using 80 trees...\n",
            "\n",
            "\n",
            "Using 100 trees...\n",
            "\n",
            "\n"
          ]
        },
        {
          "name": "stdout",
          "output_type": "stream",
          "text": [
            "7  Distribution not specified, assuming bernoulli ...\n",
            "Distribution not specified, assuming bernoulli ...\n"
          ]
        },
        {
          "name": "stderr",
          "output_type": "stream",
          "text": [
            "Using 26 trees...\n",
            "\n",
            "\n",
            "Using 100 trees...\n",
            "\n",
            "\n"
          ]
        },
        {
          "name": "stdout",
          "output_type": "stream",
          "text": [
            "8  Distribution not specified, assuming bernoulli ...\n",
            "Distribution not specified, assuming bernoulli ...\n"
          ]
        },
        {
          "name": "stderr",
          "output_type": "stream",
          "text": [
            "Using 71 trees...\n",
            "\n",
            "\n",
            "Using 99 trees...\n",
            "\n",
            "\n"
          ]
        },
        {
          "name": "stdout",
          "output_type": "stream",
          "text": [
            "9  Distribution not specified, assuming bernoulli ...\n",
            "Distribution not specified, assuming bernoulli ...\n"
          ]
        },
        {
          "name": "stderr",
          "output_type": "stream",
          "text": [
            "Using 81 trees...\n",
            "\n",
            "\n",
            "Using 100 trees...\n",
            "\n",
            "\n"
          ]
        },
        {
          "name": "stdout",
          "output_type": "stream",
          "text": [
            "10  \n",
            "coef (se) = 0.254267 (0.0221887)\n"
          ]
        }
      ],
      "source": [
        "cat(sprintf(\"\\nDML with Boosting Tree \\n\"))\n",
        "dreg <- function(x, d) { gbm::gbm(d ~ ., data = as.data.frame(cbind(d, x)), n.trees=100, interaction.depth=3, shrinkage=0.01, cv.folds=5) }\n",
        "yreg <- function(x, y) { gbm::gbm(y ~ ., data = as.data.frame(cbind(y, x)), n.trees=100, interaction.depth=3, shrinkage=0.01, cv.folds=5) }\n",
        "DML2_boost = DML2.version2(x, d, y, dreg, yreg, nfold=10)"
      ]
    },
    {
      "cell_type": "markdown",
      "id": "b05d5dc9-7bb2-409f-98b3-fe5419f7a20c",
      "metadata": {
        "id": "b05d5dc9-7bb2-409f-98b3-fe5419f7a20c"
      },
      "source": [
        "## 3.4 DML with Regression Forest:"
      ]
    },
    {
      "cell_type": "code",
      "execution_count": 27,
      "id": "e2364564-fa23-439a-a4b1-4c9cbdc16906",
      "metadata": {
        "colab": {
          "base_uri": "https://localhost:8080/"
        },
        "id": "e2364564-fa23-439a-a4b1-4c9cbdc16906",
        "outputId": "70bb4909-e843-4e1d-bef3-882076081f4a",
        "vscode": {
          "languageId": "r"
        }
      },
      "outputs": [
        {
          "name": "stdout",
          "output_type": "stream",
          "text": [
            "\n",
            "DML with Random Forest \n",
            "fold: "
          ]
        },
        {
          "name": "stderr",
          "output_type": "stream",
          "text": [
            "Warning message in randomForest.default(x, d):\n",
            "“The response has five or fewer unique values.  Are you sure you want to do regression?”\n",
            "Warning message in randomForest.default(x, y):\n",
            "“The response has five or fewer unique values.  Are you sure you want to do regression?”\n"
          ]
        },
        {
          "name": "stdout",
          "output_type": "stream",
          "text": [
            "1  "
          ]
        },
        {
          "name": "stderr",
          "output_type": "stream",
          "text": [
            "Warning message in randomForest.default(x, d):\n",
            "“The response has five or fewer unique values.  Are you sure you want to do regression?”\n",
            "Warning message in randomForest.default(x, y):\n",
            "“The response has five or fewer unique values.  Are you sure you want to do regression?”\n"
          ]
        },
        {
          "name": "stdout",
          "output_type": "stream",
          "text": [
            "2  "
          ]
        },
        {
          "name": "stderr",
          "output_type": "stream",
          "text": [
            "Warning message in randomForest.default(x, d):\n",
            "“The response has five or fewer unique values.  Are you sure you want to do regression?”\n",
            "Warning message in randomForest.default(x, y):\n",
            "“The response has five or fewer unique values.  Are you sure you want to do regression?”\n"
          ]
        },
        {
          "name": "stdout",
          "output_type": "stream",
          "text": [
            "3  "
          ]
        },
        {
          "name": "stderr",
          "output_type": "stream",
          "text": [
            "Warning message in randomForest.default(x, d):\n",
            "“The response has five or fewer unique values.  Are you sure you want to do regression?”\n",
            "Warning message in randomForest.default(x, y):\n",
            "“The response has five or fewer unique values.  Are you sure you want to do regression?”\n"
          ]
        },
        {
          "name": "stdout",
          "output_type": "stream",
          "text": [
            "4  "
          ]
        },
        {
          "name": "stderr",
          "output_type": "stream",
          "text": [
            "Warning message in randomForest.default(x, d):\n",
            "“The response has five or fewer unique values.  Are you sure you want to do regression?”\n",
            "Warning message in randomForest.default(x, y):\n",
            "“The response has five or fewer unique values.  Are you sure you want to do regression?”\n"
          ]
        },
        {
          "name": "stdout",
          "output_type": "stream",
          "text": [
            "5  "
          ]
        },
        {
          "name": "stderr",
          "output_type": "stream",
          "text": [
            "Warning message in randomForest.default(x, d):\n",
            "“The response has five or fewer unique values.  Are you sure you want to do regression?”\n",
            "Warning message in randomForest.default(x, y):\n",
            "“The response has five or fewer unique values.  Are you sure you want to do regression?”\n"
          ]
        },
        {
          "name": "stdout",
          "output_type": "stream",
          "text": [
            "6  "
          ]
        },
        {
          "name": "stderr",
          "output_type": "stream",
          "text": [
            "Warning message in randomForest.default(x, d):\n",
            "“The response has five or fewer unique values.  Are you sure you want to do regression?”\n",
            "Warning message in randomForest.default(x, y):\n",
            "“The response has five or fewer unique values.  Are you sure you want to do regression?”\n"
          ]
        },
        {
          "name": "stdout",
          "output_type": "stream",
          "text": [
            "7  "
          ]
        },
        {
          "name": "stderr",
          "output_type": "stream",
          "text": [
            "Warning message in randomForest.default(x, d):\n",
            "“The response has five or fewer unique values.  Are you sure you want to do regression?”\n",
            "Warning message in randomForest.default(x, y):\n",
            "“The response has five or fewer unique values.  Are you sure you want to do regression?”\n"
          ]
        },
        {
          "name": "stdout",
          "output_type": "stream",
          "text": [
            "8  "
          ]
        },
        {
          "name": "stderr",
          "output_type": "stream",
          "text": [
            "Warning message in randomForest.default(x, d):\n",
            "“The response has five or fewer unique values.  Are you sure you want to do regression?”\n",
            "Warning message in randomForest.default(x, y):\n",
            "“The response has five or fewer unique values.  Are you sure you want to do regression?”\n"
          ]
        },
        {
          "name": "stdout",
          "output_type": "stream",
          "text": [
            "9  "
          ]
        },
        {
          "name": "stderr",
          "output_type": "stream",
          "text": [
            "Warning message in randomForest.default(x, d):\n",
            "“The response has five or fewer unique values.  Are you sure you want to do regression?”\n",
            "Warning message in randomForest.default(x, y):\n",
            "“The response has five or fewer unique values.  Are you sure you want to do regression?”\n"
          ]
        },
        {
          "name": "stdout",
          "output_type": "stream",
          "text": [
            "10  \n",
            "coef (se) = 0.245396 (0.0213869)\n"
          ]
        }
      ],
      "source": [
        "cat(sprintf(\"\\nDML with Random Forest \\n\"))\n",
        "dreg <- function(x,d){ randomForest(x, d) }\n",
        "yreg <- function(x,y){ randomForest(x, y) }\n",
        "DML2_rf = DML2.for.PLM(x, d, y, dreg, yreg, nfold=10)"
      ]
    },
    {
      "cell_type": "markdown",
      "id": "6915e4bf-2e01-426d-aa06-67c27646836c",
      "metadata": {
        "id": "6915e4bf-2e01-426d-aa06-67c27646836c"
      },
      "source": [
        "## 3.5 Table and plot with all the results:"
      ]
    },
    {
      "cell_type": "code",
      "execution_count": 28,
      "id": "3-Z25t9zbHvT",
      "metadata": {
        "id": "3-Z25t9zbHvT",
        "vscode": {
          "languageId": "r"
        }
      },
      "outputs": [],
      "source": [
        "prRes_D <- c(mean(DML2_rlasso$dtil^2), mean(DML2_tree$dtil^2), mean(DML2_boost$dtil^2), mean(DML2_rf$dtil^2))\n",
        "prRes_Y <- c(mean(DML2_rlasso$ytil^2), mean(DML2_tree$ytil^2), mean(DML2_boost$ytil^2), mean(DML2_rf$ytil^2))\n",
        "\n",
        "prRes <- rbind(sqrt(prRes_D), sqrt(prRes_Y))\n",
        "rownames(prRes) <- c(\"RMSE D\", \"RMSE Y\")\n",
        "colnames(prRes) <- c(\"Robust Lasso\", \"Regression Trees\", \"Boosting Trees\", \"Regression Forest\")"
      ]
    },
    {
      "cell_type": "code",
      "execution_count": 29,
      "id": "bd172f39-5184-400f-a10e-6817b5aba531",
      "metadata": {
        "id": "bd172f39-5184-400f-a10e-6817b5aba531",
        "vscode": {
          "languageId": "r"
        }
      },
      "outputs": [],
      "source": [
        "table <- matrix(0, 4, 4)\n",
        "table[1, 1] <- DML2_rlasso$coef.est\n",
        "table[2, 1] <- DML2_tree$coef.est\n",
        "table[3, 1] <- DML2_boost$coef.est\n",
        "table[4, 1] <- DML2_rf$coef.est\n",
        "\n",
        "table[1, 2] <- DML2_rlasso$se\n",
        "table[2, 2] <- DML2_tree$se\n",
        "table[3, 2] <- DML2_boost$se\n",
        "table[4, 2] <- DML2_rf$se\n",
        "\n",
        "table[1, 3] <- prRes[2, 1]\n",
        "table[2, 3] <- prRes[2, 2]\n",
        "table[3, 3] <- prRes[2, 3]\n",
        "table[4, 3] <- prRes[2, 4]\n",
        "\n",
        "table[1, 4] <- prRes[1, 1]\n",
        "table[2, 4] <- prRes[1, 2]\n",
        "table[3, 4] <- prRes[1, 3]\n",
        "table[4, 4] <- prRes[1, 4]\n",
        "\n",
        "colnames(table) <- c(\"Estimate\", \"Standard Error\", \"RMSE Y\", \"RMSE D\")\n",
        "rownames(table) <- c(\"Robust Lasso\", \"Regression Trees\", \"Boosting Trees\", \"Regression Forest\")"
      ]
    },
    {
      "cell_type": "code",
      "execution_count": 30,
      "id": "8c1c6c20-3501-4aae-a31f-f74789835297",
      "metadata": {
        "colab": {
          "base_uri": "https://localhost:8080/"
        },
        "id": "8c1c6c20-3501-4aae-a31f-f74789835297",
        "outputId": "475b9eba-df25-4f8f-fd1a-391244fe31ec",
        "vscode": {
          "languageId": "r"
        }
      },
      "outputs": [
        {
          "name": "stdout",
          "output_type": "stream",
          "text": [
            "                  Estimate Standard Error RMSE Y RMSE D\n",
            "Robust Lasso        0.2590        0.02163 0.4711 0.4985\n",
            "Regression Trees    0.2192        0.02152 0.5207 0.5657\n",
            "Boosting Trees      0.2543        0.02219 1.0852 0.6523\n",
            "Regression Forest   0.2454        0.02139 0.4704 0.5066\n"
          ]
        }
      ],
      "source": [
        "print(table, digit=4)"
      ]
    },
    {
      "cell_type": "code",
      "execution_count": null,
      "id": "7f6d7c29",
      "metadata": {
        "vscode": {
          "languageId": "r"
        }
      },
      "outputs": [
        {
          "name": "stderr",
          "output_type": "stream",
          "text": [
            "Installing package into ‘/usr/local/lib/R/site-library’\n",
            "(as ‘lib’ is unspecified)\n",
            "\n",
            "\n",
            "Attaching package: ‘ggplot2’\n",
            "\n",
            "\n",
            "The following object is masked from ‘package:randomForest’:\n",
            "\n",
            "    margin\n",
            "\n",
            "\n"
          ]
        }
      ],
      "source": [
        "install.packages(\"ggplot2\")\n",
        "library(\"ggplot2\")"
      ]
    },
    {
      "cell_type": "code",
      "execution_count": null,
      "id": "e4803641",
      "metadata": {
        "vscode": {
          "languageId": "r"
        }
      },
      "outputs": [
        {
          "data": {
            "image/png": "[encoded data removed]",
            "text/plain": [
              "plot without title"
            ]
          },
          "metadata": {},
          "output_type": "display_data"
        }
      ],
      "source": [
        "# Create a data frame with the estimates, standard errors, and labels\n",
        "df <- data.frame(\n",
        "  label = rownames(table),\n",
        "  estimate = table[, 1],\n",
        "  lower = table[, 1] - table[, 2],\n",
        "  upper = table[, 1] + table[, 2]\n",
        ")\n",
        "\n",
        "# Create the plot\n",
        "ggplot(df, aes(x = label, y = estimate)) +\n",
        "  geom_point() +\n",
        "  geom_errorbar(aes(ymin = lower, ymax = upper), width = 0.2) +\n",
        "  labs(x = \"\", y = \"Estimate\", title = \"Estimates and Confidence Intervals\")\n"
      ]
    },
    {
      "cell_type": "markdown",
      "id": "55d5572b-edb0-4809-9275-833ee2a0a911",
      "metadata": {
        "id": "55d5572b-edb0-4809-9275-833ee2a0a911"
      },
      "source": [
        "## 3.6 What is the method we will choose?"
      ]
    },
    {
      "cell_type": "markdown",
      "id": "ca7c6a84-a181-4b81-b7be-bc9db426f19d",
      "metadata": {
        "id": "ca7c6a84-a181-4b81-b7be-bc9db426f19d"
      },
      "source": [
        "It seems that the best method for predicting D is the Robust Lasso, and the best method for predicting Y is the Regression Forest because they have the smallest RMSE."
      ]
    }
  ],
  "metadata": {
    "colab": {
      "provenance": []
    },
    "kernelspec": {
      "display_name": "R",
      "name": "ir"
    },
    "language_info": {
      "name": "R"
    }
  },
  "nbformat": 4,
  "nbformat_minor": 5
}
