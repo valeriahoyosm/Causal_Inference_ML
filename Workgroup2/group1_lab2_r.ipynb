{
 "cells": [
  {
   "cell_type": "code",
   "execution_count": 5,
   "metadata": {
    "vscode": {
     "languageId": "r"
    }
   },
   "outputs": [
    {
     "name": "stderr",
     "output_type": "stream",
     "text": [
      "Installing package into 'C:/Users/vn.hoyosm/AppData/Local/R/win-library/4.3'\n",
      "(as 'lib' is unspecified)\n",
      "\n"
     ]
    },
    {
     "name": "stdout",
     "output_type": "stream",
     "text": [
      "package 'igraph' successfully unpacked and MD5 sums checked\n",
      "\n",
      "The downloaded binary packages are in\n",
      "\tC:\\Users\\vn.hoyosm\\AppData\\Local\\Temp\\Rtmp8sXfMD\\downloaded_packages\n"
     ]
    }
   ],
   "source": [
    "#install.packages(\"lmtest\")\n",
    "#install.packages(\"sandwich\")\n",
    "#install.packages(\"ggplot2\")\n",
    "#install.packages(\"dplyr\")\n",
    "#install.packages(\"hdm\")\n",
    "#install.packages(\"dagitty\")\n",
    "#install.packages(\"ggdag\")\n",
    "install.packages(\"igraph\")"
   ]
  },
  {
   "cell_type": "markdown",
   "metadata": {},
   "source": [
    "# Multicollinearity\n",
    "\n",
    "## Introduction\n",
    "**Multicollinearity** occurs when one or more predictor variables in a multiple regression model are highly correlated. This can significantly affect the accuracy of the coefficient estimates within the model.\n",
    "\n",
    "## Mathematical Explanation\n",
    "\n",
    "Consider the linear regression model:\n",
    "$ Y = \\beta_0 + \\beta_1X_1 + \\beta_2X_2 + \\ldots + \\beta_kX_k + \\epsilon $\n",
    "\n",
    "\n",
    "where:\n",
    "- $Y$ is the dependent variable\n",
    "- $X_1, X_2, \\ldots, X_k$ are the independent variables\n",
    "- $\\epsilon$ is the error term.\n",
    "\n",
    "### Normal Equation\n",
    "The coefficients $\\beta$ are estimated using the equation:\n",
    "$ \\beta = (\\mathbf{X}´\\mathbf{X})^{-1}\\mathbf{X}´\\mathbf{Y} $\n",
    "\n",
    "To find $\\beta$, the matrix $\\mathbf{X}´\\mathbf{X}$ must be invertible. However, multicollinearity can make this matrix nearly singular or singular.\n",
    "\n",
    "\n",
    "### Why $\\mathbf{X}´\\mathbf{X}$ Becomes Non-invertible\n",
    "- **Singular Matrix**: If $\\mathbf{X}´\\mathbf{X}$ is singular, it implies that its determinant is zero due to perfect or high multicollinearity.\n",
    "- **Linear Dependence**: This happens when one or more independent variables are linear combinations of others.\n",
    "\n",
    "\n",
    "Matrix Representation\n",
    "\n",
    "Assume $X_2 = cX_1$, then:\n",
    "$ \\mathbf{X} = \\begin{bmatrix} 1 & X_1 & X_2 \\\\ 1 & X_1 & cX_1 \\\\ \\vdots & \\vdots & \\vdots \\\\ 1 & X_1 & cX_1 \\end{bmatrix} $\n",
    "\n",
    "\n",
    "### Covariance Matrix ($\\mathbf{X}´\\mathbf{X}$)\n",
    "$ \\mathbf{X}´\\mathbf{X} = \\begin{bmatrix} n & \\sum X_1 & c\\sum X_1 \\\\ \\sum X_1 & \\sum X_1^2 & c\\sum X_1^2 \\\\ c\\sum X_1 & c\\sum X_1^2 & c^2\\sum X_1^2 \\end{bmatrix} $\n",
    "\n",
    "\n",
    "Here, the columns of $\\mathbf{X}´\\mathbf{X}$ are linear combinations of each other, which results in:\n",
    "$ \\text{det}(\\mathbf{X}´\\mathbf{X}) = 0 $\n",
    "indicating that the matrix is not invertible due to multicollinearity.\n",
    "\n",
    "###Example\n",
    "\n",
    "**-Economic indicators** Predicting country's economic growth using both consumer spending and consumer income as predictors might lead to multicollinearity because these two are highly correlated; higher income generally leads to higher spending. Including both in the same regression model can cause issues in accurately estimating the impact of each predictor on economic growth.\n",
    "\n",
    "**-Real Estate Pricing** In real estate, the size of a house and the number of rooms often exhibit multicollinearity. Both these variables tend to increase together; a larger house typically has more rooms. If both variables are used as predictors in a regression model to predict house prices, their high correlation can distort the individual effect of each variable on the pricing, making it difficult to assess which feature (size or number of rooms) truly impacts the house price.\n",
    "\n",
    "\n",
    "\n",
    "\n"
   ]
  },
  {
   "cell_type": "markdown",
   "metadata": {},
   "source": [
    "### Testing for invertibility\n",
    "\n",
    "\n"
   ]
  },
  {
   "cell_type": "code",
   "execution_count": 6,
   "metadata": {
    "vscode": {
     "languageId": "r"
    }
   },
   "outputs": [
    {
     "ename": "ERROR",
     "evalue": "Error in solve.default(A): sistema es computacionalmente singular: número de condición recíproco = 3.54137e-18\n",
     "output_type": "error",
     "traceback": [
      "Error in solve.default(A): sistema es computacionalmente singular: número de condición recíproco = 3.54137e-18\nTraceback:\n",
      "1. solve(A)",
      "2. solve.default(A)"
     ]
    }
   ],
   "source": [
    "# seed for reproducibility\n",
    "set.seed(3)\n",
    "\n",
    "A <- matrix(rnorm(100),ncol = 10)\n",
    "\n",
    "#set last column is as a linear combination of last 3 columns\n",
    "A[,10] = A[,1] * 2 + A[,8] * 3 + A[,9]\n",
    "\n",
    "\n",
    "\n",
    "B<-solve(A)\n",
    "B"
   ]
  },
  {
   "cell_type": "markdown",
   "metadata": {},
   "source": [
    "Since we create a vector as the linear combination of 3 other vectors, the multicolinearity problem occurs, which prevents us from inverting the matrix."
   ]
  },
  {
   "cell_type": "markdown",
   "metadata": {
    "papermill": {
     "duration": 0.013538,
     "end_time": "2021-02-20T13:42:41.189745",
     "exception": false,
     "start_time": "2021-02-20T13:42:41.176207",
     "status": "completed"
    },
    "tags": []
   },
   "source": [
    "# Analyzing RCT data with Precision Adjustment"
   ]
  },
  {
   "cell_type": "code",
   "execution_count": 7,
   "metadata": {
    "execution": {
     "iopub.execute_input": "2021-02-20T13:42:41.267823Z",
     "iopub.status.busy": "2021-02-20T13:42:41.265606Z",
     "iopub.status.idle": "2021-02-20T13:42:41.503621Z",
     "shell.execute_reply": "2021-02-20T13:42:41.502578Z"
    },
    "papermill": {
     "duration": 0.279482,
     "end_time": "2021-02-20T13:42:41.503829",
     "exception": false,
     "start_time": "2021-02-20T13:42:41.224347",
     "status": "completed"
    },
    "tags": [],
    "vscode": {
     "languageId": "r"
    }
   },
   "outputs": [],
   "source": [
    "## loading the data\n",
    "Penn <- as.data.frame(read.table(\"../../../data/penn_jae.dat\", header=T ))\n",
    "n <- dim(Penn)[1]\n",
    "p_1 <- dim(Penn)[2]\n",
    "Penn<- subset(Penn, tg==2 | tg==0)\n",
    "attach(Penn)"
   ]
  },
  {
   "cell_type": "code",
   "execution_count": 8,
   "metadata": {
    "execution": {
     "iopub.execute_input": "2021-02-20T13:42:41.560613Z",
     "iopub.status.busy": "2021-02-20T13:42:41.531063Z",
     "iopub.status.idle": "2021-02-20T13:42:41.580817Z",
     "shell.execute_reply": "2021-02-20T13:42:41.579312Z"
    },
    "papermill": {
     "duration": 0.065266,
     "end_time": "2021-02-20T13:42:41.580972",
     "exception": false,
     "start_time": "2021-02-20T13:42:41.515706",
     "status": "completed"
    },
    "tags": [],
    "vscode": {
     "languageId": "r"
    }
   },
   "outputs": [
    {
     "data": {
      "text/plain": [
       "   Mode   FALSE    TRUE \n",
       "logical    3354    2428 "
      ]
     },
     "metadata": {},
     "output_type": "display_data"
    }
   ],
   "source": [
    "T2 <- (tg==2)\n",
    "summary(T2)"
   ]
  },
  {
   "cell_type": "code",
   "execution_count": 9,
   "metadata": {
    "execution": {
     "iopub.execute_input": "2021-02-20T13:42:41.611073Z",
     "iopub.status.busy": "2021-02-20T13:42:41.609253Z",
     "iopub.status.idle": "2021-02-20T13:42:41.646504Z",
     "shell.execute_reply": "2021-02-20T13:42:41.645094Z"
    },
    "papermill": {
     "duration": 0.053285,
     "end_time": "2021-02-20T13:42:41.646704",
     "exception": false,
     "start_time": "2021-02-20T13:42:41.593419",
     "status": "completed"
    },
    "tags": [],
    "vscode": {
     "languageId": "r"
    }
   },
   "outputs": [
    {
     "data": {
      "text/html": [
       "<table class=\"dataframe\">\n",
       "<caption>A data.frame: 6 × 23</caption>\n",
       "<thead>\n",
       "\t<tr><th></th><th scope=col>abdt</th><th scope=col>tg</th><th scope=col>inuidur1</th><th scope=col>inuidur2</th><th scope=col>female</th><th scope=col>black</th><th scope=col>hispanic</th><th scope=col>othrace</th><th scope=col>dep</th><th scope=col>q1</th><th scope=col>⋯</th><th scope=col>q5</th><th scope=col>q6</th><th scope=col>recall</th><th scope=col>agelt35</th><th scope=col>agegt54</th><th scope=col>durable</th><th scope=col>nondurable</th><th scope=col>lusd</th><th scope=col>husd</th><th scope=col>muld</th></tr>\n",
       "\t<tr><th></th><th scope=col>&lt;int&gt;</th><th scope=col>&lt;int&gt;</th><th scope=col>&lt;int&gt;</th><th scope=col>&lt;int&gt;</th><th scope=col>&lt;int&gt;</th><th scope=col>&lt;int&gt;</th><th scope=col>&lt;int&gt;</th><th scope=col>&lt;int&gt;</th><th scope=col>&lt;int&gt;</th><th scope=col>&lt;int&gt;</th><th scope=col>⋯</th><th scope=col>&lt;int&gt;</th><th scope=col>&lt;int&gt;</th><th scope=col>&lt;int&gt;</th><th scope=col>&lt;int&gt;</th><th scope=col>&lt;int&gt;</th><th scope=col>&lt;int&gt;</th><th scope=col>&lt;int&gt;</th><th scope=col>&lt;int&gt;</th><th scope=col>&lt;int&gt;</th><th scope=col>&lt;int&gt;</th></tr>\n",
       "</thead>\n",
       "<tbody>\n",
       "\t<tr><th scope=row>1</th><td>10824</td><td>0</td><td>18</td><td>18</td><td>0</td><td>0</td><td>0</td><td>0</td><td>2</td><td>0</td><td>⋯</td><td>1</td><td>0</td><td>0</td><td>0</td><td>0</td><td>0</td><td>0</td><td>0</td><td>1</td><td>0</td></tr>\n",
       "\t<tr><th scope=row>2</th><td>10635</td><td>2</td><td> 7</td><td> 3</td><td>0</td><td>0</td><td>0</td><td>0</td><td>0</td><td>0</td><td>⋯</td><td>0</td><td>0</td><td>0</td><td>1</td><td>0</td><td>0</td><td>0</td><td>1</td><td>0</td><td>0</td></tr>\n",
       "\t<tr><th scope=row>4</th><td>10824</td><td>0</td><td> 1</td><td> 1</td><td>0</td><td>0</td><td>0</td><td>0</td><td>0</td><td>0</td><td>⋯</td><td>1</td><td>0</td><td>0</td><td>0</td><td>0</td><td>0</td><td>0</td><td>1</td><td>0</td><td>0</td></tr>\n",
       "\t<tr><th scope=row>5</th><td>10747</td><td>0</td><td>27</td><td>27</td><td>0</td><td>0</td><td>0</td><td>0</td><td>0</td><td>0</td><td>⋯</td><td>0</td><td>0</td><td>0</td><td>0</td><td>0</td><td>0</td><td>0</td><td>1</td><td>0</td><td>0</td></tr>\n",
       "\t<tr><th scope=row>10</th><td>10754</td><td>2</td><td>20</td><td>20</td><td>1</td><td>0</td><td>0</td><td>0</td><td>0</td><td>0</td><td>⋯</td><td>0</td><td>0</td><td>0</td><td>0</td><td>0</td><td>0</td><td>0</td><td>0</td><td>0</td><td>1</td></tr>\n",
       "\t<tr><th scope=row>13</th><td>10831</td><td>0</td><td>27</td><td>27</td><td>0</td><td>0</td><td>0</td><td>0</td><td>1</td><td>0</td><td>⋯</td><td>1</td><td>0</td><td>0</td><td>0</td><td>1</td><td>1</td><td>0</td><td>1</td><td>0</td><td>0</td></tr>\n",
       "</tbody>\n",
       "</table>\n"
      ],
      "text/latex": [
       "A data.frame: 6 × 23\n",
       "\\begin{tabular}{r|lllllllllllllllllllll}\n",
       "  & abdt & tg & inuidur1 & inuidur2 & female & black & hispanic & othrace & dep & q1 & ⋯ & q5 & q6 & recall & agelt35 & agegt54 & durable & nondurable & lusd & husd & muld\\\\\n",
       "  & <int> & <int> & <int> & <int> & <int> & <int> & <int> & <int> & <int> & <int> & ⋯ & <int> & <int> & <int> & <int> & <int> & <int> & <int> & <int> & <int> & <int>\\\\\n",
       "\\hline\n",
       "\t1 & 10824 & 0 & 18 & 18 & 0 & 0 & 0 & 0 & 2 & 0 & ⋯ & 1 & 0 & 0 & 0 & 0 & 0 & 0 & 0 & 1 & 0\\\\\n",
       "\t2 & 10635 & 2 &  7 &  3 & 0 & 0 & 0 & 0 & 0 & 0 & ⋯ & 0 & 0 & 0 & 1 & 0 & 0 & 0 & 1 & 0 & 0\\\\\n",
       "\t4 & 10824 & 0 &  1 &  1 & 0 & 0 & 0 & 0 & 0 & 0 & ⋯ & 1 & 0 & 0 & 0 & 0 & 0 & 0 & 1 & 0 & 0\\\\\n",
       "\t5 & 10747 & 0 & 27 & 27 & 0 & 0 & 0 & 0 & 0 & 0 & ⋯ & 0 & 0 & 0 & 0 & 0 & 0 & 0 & 1 & 0 & 0\\\\\n",
       "\t10 & 10754 & 2 & 20 & 20 & 1 & 0 & 0 & 0 & 0 & 0 & ⋯ & 0 & 0 & 0 & 0 & 0 & 0 & 0 & 0 & 0 & 1\\\\\n",
       "\t13 & 10831 & 0 & 27 & 27 & 0 & 0 & 0 & 0 & 1 & 0 & ⋯ & 1 & 0 & 0 & 0 & 1 & 1 & 0 & 1 & 0 & 0\\\\\n",
       "\\end{tabular}\n"
      ],
      "text/markdown": [
       "\n",
       "A data.frame: 6 × 23\n",
       "\n",
       "| <!--/--> | abdt &lt;int&gt; | tg &lt;int&gt; | inuidur1 &lt;int&gt; | inuidur2 &lt;int&gt; | female &lt;int&gt; | black &lt;int&gt; | hispanic &lt;int&gt; | othrace &lt;int&gt; | dep &lt;int&gt; | q1 &lt;int&gt; | ⋯ ⋯ | q5 &lt;int&gt; | q6 &lt;int&gt; | recall &lt;int&gt; | agelt35 &lt;int&gt; | agegt54 &lt;int&gt; | durable &lt;int&gt; | nondurable &lt;int&gt; | lusd &lt;int&gt; | husd &lt;int&gt; | muld &lt;int&gt; |\n",
       "|---|---|---|---|---|---|---|---|---|---|---|---|---|---|---|---|---|---|---|---|---|---|\n",
       "| 1 | 10824 | 0 | 18 | 18 | 0 | 0 | 0 | 0 | 2 | 0 | ⋯ | 1 | 0 | 0 | 0 | 0 | 0 | 0 | 0 | 1 | 0 |\n",
       "| 2 | 10635 | 2 |  7 |  3 | 0 | 0 | 0 | 0 | 0 | 0 | ⋯ | 0 | 0 | 0 | 1 | 0 | 0 | 0 | 1 | 0 | 0 |\n",
       "| 4 | 10824 | 0 |  1 |  1 | 0 | 0 | 0 | 0 | 0 | 0 | ⋯ | 1 | 0 | 0 | 0 | 0 | 0 | 0 | 1 | 0 | 0 |\n",
       "| 5 | 10747 | 0 | 27 | 27 | 0 | 0 | 0 | 0 | 0 | 0 | ⋯ | 0 | 0 | 0 | 0 | 0 | 0 | 0 | 1 | 0 | 0 |\n",
       "| 10 | 10754 | 2 | 20 | 20 | 1 | 0 | 0 | 0 | 0 | 0 | ⋯ | 0 | 0 | 0 | 0 | 0 | 0 | 0 | 0 | 0 | 1 |\n",
       "| 13 | 10831 | 0 | 27 | 27 | 0 | 0 | 0 | 0 | 1 | 0 | ⋯ | 1 | 0 | 0 | 0 | 1 | 1 | 0 | 1 | 0 | 0 |\n",
       "\n"
      ],
      "text/plain": [
       "   abdt  tg inuidur1 inuidur2 female black hispanic othrace dep q1 ⋯ q5 q6\n",
       "1  10824 0  18       18       0      0     0        0       2   0  ⋯ 1  0 \n",
       "2  10635 2   7        3       0      0     0        0       0   0  ⋯ 0  0 \n",
       "4  10824 0   1        1       0      0     0        0       0   0  ⋯ 1  0 \n",
       "5  10747 0  27       27       0      0     0        0       0   0  ⋯ 0  0 \n",
       "10 10754 2  20       20       1      0     0        0       0   0  ⋯ 0  0 \n",
       "13 10831 0  27       27       0      0     0        0       1   0  ⋯ 1  0 \n",
       "   recall agelt35 agegt54 durable nondurable lusd husd muld\n",
       "1  0      0       0       0       0          0    1    0   \n",
       "2  0      1       0       0       0          1    0    0   \n",
       "4  0      0       0       0       0          1    0    0   \n",
       "5  0      0       0       0       0          1    0    0   \n",
       "10 0      0       0       0       0          0    0    1   \n",
       "13 0      0       1       1       0          1    0    0   "
      ]
     },
     "metadata": {},
     "output_type": "display_data"
    }
   ],
   "source": [
    "head(Penn)"
   ]
  },
  {
   "cell_type": "code",
   "execution_count": 10,
   "metadata": {
    "vscode": {
     "languageId": "r"
    }
   },
   "outputs": [],
   "source": [
    "#summarize variables \n",
    "#summary(Penn)"
   ]
  },
  {
   "cell_type": "markdown",
   "metadata": {},
   "source": [
    "* #### **Histogram of the variable inuidur1 for treatment and control groups**\n"
   ]
  },
  {
   "cell_type": "code",
   "execution_count": 11,
   "metadata": {
    "vscode": {
     "languageId": "r"
    }
   },
   "outputs": [
    {
     "data": {
      "image/png": "[encoded data removed]",
      "text/plain": [
       "plot without title"
      ]
     },
     "metadata": {
      "image/png": {
       "height": 420,
       "width": 420
      }
     },
     "output_type": "display_data"
    }
   ],
   "source": [
    "library(ggplot2)\n",
    "controles <- ggplot(subset(Penn, tg==0), aes(inuidur1))  +\n",
    "geom_histogram( binwidth = 3, fill = \"steelblue\", alpha = 0.6) +\n",
    "ggtitle(\"Figure 1: inuidur1 control\") +  \n",
    "theme_light()\n",
    "print(controles)    \n",
    "\n"
   ]
  },
  {
   "cell_type": "code",
   "execution_count": 12,
   "metadata": {
    "vscode": {
     "languageId": "r"
    }
   },
   "outputs": [
    {
     "data": {
      "image/png": "[encoded data removed]",
      "text/plain": [
       "plot without title"
      ]
     },
     "metadata": {
      "image/png": {
       "height": 420,
       "width": 420
      }
     },
     "output_type": "display_data"
    }
   ],
   "source": [
    "tratados <- ggplot(subset(Penn, tg==2), aes(inuidur1))  +\n",
    "geom_histogram( binwidth = 3, fill = \"MediumOrchid\", alpha = 0.5) +\n",
    "ggtitle(\"Figure 1: inuidur1 Tratados\") +  \n",
    "theme_light()\n",
    "print(tratados)  "
   ]
  },
  {
   "cell_type": "markdown",
   "metadata": {
    "papermill": {
     "duration": 0.012846,
     "end_time": "2021-02-20T13:42:41.672662",
     "exception": false,
     "start_time": "2021-02-20T13:42:41.659816",
     "status": "completed"
    },
    "tags": []
   },
   "source": [
    "### Model \n",
    "To evaluate the impact of the treatments on unemployment duration, we consider the linear regression model:\n",
    "\n",
    "$$\n",
    "Y =  D \\beta_1 + W'\\beta_2 + \\varepsilon, \\quad E \\varepsilon (D,W')' = 0,\n",
    "$$\n",
    "\n",
    "where $Y$ is  the  log of duration of unemployment, $D$ is a treatment  indicators,  and $W$ is a set of controls including age group dummies, gender, race, number of dependents, quarter of the experiment, location within the state, existence of recall expectations, and type of occupation.   Here $\\beta_1$ is the ATE, if the RCT assumptions hold rigorously.\n",
    "\n",
    "\n",
    "We also consider interactive regression model:\n",
    "\n",
    "$$\n",
    "Y =  D \\alpha_1 + D W' \\alpha_2 + W'\\beta_2 + \\varepsilon, \\quad E \\varepsilon (D,W', DW')' = 0,\n",
    "$$\n",
    "where $W$'s are demeaned (apart from the intercept), so that $\\alpha_1$ is the ATE, if the RCT assumptions hold rigorously."
   ]
  },
  {
   "cell_type": "markdown",
   "metadata": {
    "papermill": {
     "duration": 0.012728,
     "end_time": "2021-02-20T13:42:41.724182",
     "exception": false,
     "start_time": "2021-02-20T13:42:41.711454",
     "status": "completed"
    },
    "tags": []
   },
   "source": [
    "### Analysis\n",
    "\n",
    "We consider \n",
    "\n",
    "*  classical 2-sample approach, no adjustment (CL)\n",
    "*  classical linear regression adjustment (CRA)\n",
    "*  interactive regression adjusment (IRA)\n",
    "\n",
    "and carry out robust inference using the *estimatr* R packages. "
   ]
  },
  {
   "cell_type": "code",
   "execution_count": 13,
   "metadata": {
    "vscode": {
     "languageId": "r"
    }
   },
   "outputs": [
    {
     "name": "stderr",
     "output_type": "stream",
     "text": [
      "Loading required package: zoo\n",
      "\n",
      "\n",
      "Attaching package: 'zoo'\n",
      "\n",
      "\n",
      "The following objects are masked from 'package:base':\n",
      "\n",
      "    as.Date, as.Date.numeric\n",
      "\n",
      "\n"
     ]
    }
   ],
   "source": [
    "library(lmtest)\n",
    "library(sandwich)"
   ]
  },
  {
   "cell_type": "code",
   "execution_count": 14,
   "metadata": {
    "execution": {
     "iopub.execute_input": "2021-02-20T13:42:41.808584Z",
     "iopub.status.busy": "2021-02-20T13:42:41.806963Z",
     "iopub.status.idle": "2021-02-20T13:42:42.217752Z",
     "shell.execute_reply": "2021-02-20T13:42:42.215514Z"
    },
    "papermill": {
     "duration": 0.428084,
     "end_time": "2021-02-20T13:42:42.217973",
     "exception": false,
     "start_time": "2021-02-20T13:42:41.789889",
     "status": "completed"
    },
    "scrolled": true,
    "tags": [],
    "vscode": {
     "languageId": "r"
    }
   },
   "outputs": [
    {
     "data": {
      "text/plain": [
       "\n",
       "t test of coefficients:\n",
       "\n",
       "                       Estimate Std. Error t value  Pr(>|t|)    \n",
       "(Intercept)           0.5171342  0.1568823  3.2963 0.0009856 ***\n",
       "female                0.0056240  0.1324597  0.0425 0.9661352    \n",
       "black                -0.0307771  0.0847262 -0.3633 0.7164293    \n",
       "othrace              -0.4278818  0.3005502 -1.4237 0.1545993    \n",
       "factor(dep)1          0.1576567  0.1851798  0.8514 0.3945992    \n",
       "factor(dep)2         -0.1927958  0.1508926 -1.2777 0.2014067    \n",
       "q2                   -0.1092161  0.1583768 -0.6896 0.4904762    \n",
       "q3                   -0.1075663  0.1579864 -0.6809 0.4959890    \n",
       "q4                   -0.0621302  0.1581168 -0.3929 0.6943797    \n",
       "q5                   -0.0498684  0.1575034 -0.3166 0.7515450    \n",
       "q6                   -0.2176336  0.1558290 -1.3966 0.1625831    \n",
       "agelt35              -0.0643464  0.1326376 -0.4851 0.6276032    \n",
       "agegt54               0.0259251  0.2395371  0.1082 0.9138171    \n",
       "durable              -0.1256397  0.1763853 -0.7123 0.4763064    \n",
       "lusd                  0.0860694  0.0690513  1.2465 0.2126486    \n",
       "husd                 -0.0181543  0.0761231 -0.2385 0.8115132    \n",
       "female:black          0.0026783  0.0438397  0.0611 0.9512880    \n",
       "female:othrace        0.1015133  0.2062044  0.4923 0.6225301    \n",
       "female:factor(dep)1  -0.0178540  0.0448463 -0.3981 0.6905601    \n",
       "female:factor(dep)2   0.0219424  0.0397124  0.5525 0.5806048    \n",
       "female:q2            -0.0994751  0.1321625 -0.7527 0.4516778    \n",
       "female:q3            -0.0143909  0.1318197 -0.1092 0.9130705    \n",
       "female:q4            -0.0166871  0.1315462 -0.1269 0.8990607    \n",
       "female:q5            -0.0586323  0.1310954 -0.4472 0.6547126    \n",
       "female:q6             0.0549625  0.1396608  0.3935 0.6939334    \n",
       "female:agelt35        0.0333185  0.0295704  1.1268 0.2598944    \n",
       "female:agegt54       -0.0109911  0.0500743 -0.2195 0.8262722    \n",
       "female:durable       -0.0585915  0.0437316 -1.3398 0.1803639    \n",
       "female:lusd           0.0051154  0.0333352  0.1535 0.8780465    \n",
       "female:husd           0.0186705  0.0367009  0.5087 0.6109674    \n",
       "black:factor(dep)1   -0.0138871  0.0675124 -0.2057 0.8370347    \n",
       "black:factor(dep)2   -0.0230275  0.0622780 -0.3698 0.7115795    \n",
       "black:q2              0.1310560  0.0910134  1.4400 0.1499327    \n",
       "black:q3              0.0356778  0.0875644  0.4074 0.6836956    \n",
       "black:q4             -0.1094835  0.0892166 -1.2272 0.2198114    \n",
       "black:q5             -0.0107546  0.0866019 -0.1242 0.9011738    \n",
       "black:agelt35         0.0295378  0.0448494  0.6586 0.5101795    \n",
       "black:agegt54        -0.0574814  0.0820450 -0.7006 0.4835761    \n",
       "black:durable        -0.0122293  0.0694472 -0.1761 0.8602255    \n",
       "black:lusd            0.0105912  0.0551036  0.1922 0.8475884    \n",
       "black:husd            0.1309267  0.1808848  0.7238 0.4692108    \n",
       "othrace:factor(dep)1  0.5856787  0.2226353  2.6307 0.0085448 ** \n",
       "othrace:factor(dep)2 -0.1436491  0.3315486 -0.4333 0.6648372    \n",
       "othrace:q2           -0.4009126  0.3451284 -1.1616 0.2454333    \n",
       "othrace:q3            0.6008526  0.2361499  2.5444 0.0109738 *  \n",
       "othrace:q4            0.2964049  0.2870002  1.0328 0.3017560    \n",
       "othrace:q5            0.2727293  0.1923161  1.4181 0.1562076    \n",
       "othrace:agelt35       0.0077601  0.2082436  0.0373 0.9702755    \n",
       "othrace:agegt54       0.2411511  0.3193219  0.7552 0.4501618    \n",
       "othrace:durable      -0.1463647  0.2138674 -0.6844 0.4937685    \n",
       "othrace:lusd          0.0924759  0.2070878  0.4466 0.6552140    \n",
       "othrace:husd         -0.8586692  0.3178289 -2.7017 0.0069197 ** \n",
       "factor(dep)1:q2      -0.0778714  0.1856444 -0.4195 0.6748920    \n",
       "factor(dep)2:q2       0.1434300  0.1499260  0.9567 0.3387736    \n",
       "factor(dep)1:q3      -0.1493913  0.1848276 -0.8083 0.4189669    \n",
       "factor(dep)2:q3       0.1686729  0.1499105  1.1252 0.2605697    \n",
       "factor(dep)1:q4      -0.1594688  0.1838128 -0.8676 0.3856714    \n",
       "factor(dep)2:q4       0.1210031  0.1503997  0.8045 0.4211168    \n",
       "factor(dep)1:q5      -0.1176792  0.1832795 -0.6421 0.5208502    \n",
       "factor(dep)2:q5       0.1389782  0.1487634  0.9342 0.3502285    \n",
       "factor(dep)1:q6      -0.1531103  0.1949430 -0.7854 0.4322458    \n",
       "factor(dep)2:q6       0.1619139  0.1593360  1.0162 0.3095874    \n",
       "factor(dep)1:agelt35 -0.0036069  0.0467653 -0.0771 0.9385253    \n",
       "factor(dep)2:agelt35  0.0615367  0.0371449  1.6567 0.0976424 .  \n",
       "factor(dep)1:agegt54 -0.0883148  0.0649947 -1.3588 0.1742643    \n",
       "factor(dep)2:agegt54 -0.0784522  0.1509474 -0.5197 0.6032706    \n",
       "factor(dep)1:durable  0.0088069  0.0577750  0.1524 0.8788500    \n",
       "factor(dep)2:durable -0.0923628  0.0509130 -1.8141 0.0697103 .  \n",
       "factor(dep)1:lusd     0.0358529  0.0504978  0.7100 0.4777404    \n",
       "factor(dep)2:lusd     0.0706587  0.0459827  1.5366 0.1244382    \n",
       "factor(dep)1:husd    -0.0180593  0.0542162 -0.3331 0.7390723    \n",
       "factor(dep)2:husd     0.0065759  0.0476358  0.1380 0.8902087    \n",
       "q2:agelt35            0.0305875  0.1325911  0.2307 0.8175636    \n",
       "q2:agegt54            0.0590330  0.2393334  0.2467 0.8051835    \n",
       "q2:durable            0.1371323  0.1750979  0.7832 0.4335568    \n",
       "q2:lusd              -0.0530912  0.0720069 -0.7373 0.4609656    \n",
       "q2:husd               0.0859891  0.0776931  1.1068 0.2684364    \n",
       "q3:agelt35            0.0303266  0.1323929  0.2291 0.8188267    \n",
       "q3:agegt54            0.0250950  0.2378238  0.1055 0.9159676    \n",
       "q3:durable            0.1904666  0.1749626  1.0886 0.2763706    \n",
       "q3:lusd              -0.0706455  0.0705820 -1.0009 0.3169179    \n",
       "q3:husd               0.0444347  0.0773385  0.5745 0.5656194    \n",
       "q4:agelt35            0.0722676  0.1322839  0.5463 0.5848765    \n",
       "q4:agegt54           -0.0192713  0.2369080 -0.0813 0.9351705    \n",
       "q4:durable            0.1228723  0.1757888  0.6990 0.4845949    \n",
       "q4:lusd              -0.1132011  0.0712124 -1.5896 0.1119751    \n",
       "q4:husd               0.0103329  0.0772952  0.1337 0.8936596    \n",
       "q5:agelt35            0.0464703  0.1315468  0.3533 0.7239064    \n",
       "q5:agegt54           -0.1165307  0.2361590 -0.4934 0.6217196    \n",
       "q5:durable            0.1024633  0.1734395  0.5908 0.5546963    \n",
       "q5:lusd              -0.0357169  0.0702997 -0.5081 0.6114269    \n",
       "q5:husd               0.0269861  0.0756590  0.3567 0.7213443    \n",
       "q6:agelt35            0.1099339  0.1397160  0.7868 0.4314094    \n",
       "q6:agegt54           -0.0173502  0.2478564 -0.0700 0.9441953    \n",
       "q6:durable            0.2161095  0.1833399  1.1787 0.2385522    \n",
       "agelt35:durable       0.0323100  0.0403347  0.8010 0.4231383    \n",
       "agelt35:lusd         -0.0091978  0.0346701 -0.2653 0.7907913    \n",
       "agelt35:husd         -0.0249924  0.0389720 -0.6413 0.5213594    \n",
       "agegt54:durable      -0.0154688  0.0654590 -0.2363 0.8131985    \n",
       "agegt54:lusd          0.0286866  0.0569181  0.5040 0.6142822    \n",
       "agegt54:husd         -0.0423210  0.0610019 -0.6938 0.4878572    \n",
       "durable:lusd         -0.0385741  0.0428073 -0.9011 0.3675670    \n",
       "durable:husd          0.0093281  0.0525225  0.1776 0.8590417    \n",
       "---\n",
       "Signif. codes:  0 '***' 0.001 '**' 0.01 '*' 0.05 '.' 0.1 ' ' 1\n"
      ]
     },
     "metadata": {},
     "output_type": "display_data"
    }
   ],
   "source": [
    "# Variable T2  is random\n",
    "m <- lm(T2~(female+black+othrace+factor(dep)+q2+q3+q4+q5+q6+agelt35+agegt54+durable+lusd+husd)^2)\n",
    "\n",
    "coeftest(m, vcov = vcovHC(m, type=\"HC1\"))"
   ]
  },
  {
   "cell_type": "code",
   "execution_count": 15,
   "metadata": {
    "vscode": {
     "languageId": "r"
    }
   },
   "outputs": [],
   "source": [
    "# get same dataframe\n",
    "\n",
    "X <- as.data.frame( model.matrix(m) )\n",
    "\n",
    "no_col <- attributes(m$coefficients)$names[is.na(m$coefficients)]\n",
    "\n",
    "X1  <- X[, -which(names( X ) %in% no_col ) ]\n",
    "\n",
    "save( X1, file = \"../../../data/m_reg.RData\")"
   ]
  },
  {
   "cell_type": "markdown",
   "metadata": {
    "papermill": {
     "duration": 0.021046,
     "end_time": "2021-02-20T13:42:42.315674",
     "exception": false,
     "start_time": "2021-02-20T13:42:42.294628",
     "status": "completed"
    },
    "tags": []
   },
   "source": [
    "### Model specifications\n",
    "##### 1.1 No adjustment"
   ]
  },
  {
   "cell_type": "code",
   "execution_count": 16,
   "metadata": {
    "execution": {
     "iopub.execute_input": "2021-02-20T13:42:42.351202Z",
     "iopub.status.busy": "2021-02-20T13:42:42.350620Z",
     "iopub.status.idle": "2021-02-20T13:42:42.680257Z",
     "shell.execute_reply": "2021-02-20T13:42:42.677739Z"
    },
    "papermill": {
     "duration": 0.350081,
     "end_time": "2021-02-20T13:42:42.680497",
     "exception": false,
     "start_time": "2021-02-20T13:42:42.330416",
     "status": "completed"
    },
    "tags": [],
    "vscode": {
     "languageId": "r"
    }
   },
   "outputs": [
    {
     "name": "stdout",
     "output_type": "stream",
     "text": [
      "\n",
      "t test of coefficients:\n",
      "\n",
      "             Estimate Std. Error t value Pr(>|t|)    \n",
      "(Intercept)  2.056830   0.020954 98.1580  < 2e-16 ***\n",
      "T2TRUE      -0.078825   0.032509 -2.4247  0.01535 *  \n",
      "---\n",
      "Signif. codes:  0 '***' 0.001 '**' 0.01 '*' 0.05 '.' 0.1 ' ' 1\n",
      "\n"
     ]
    }
   ],
   "source": [
    "# no adjustment (2-sample approach)\n",
    "formula_cl <- log(inuidur1)~T2\n",
    "\n",
    "# Omitted dummies: q1, nondurable, muld\n",
    "ols.cl_reg <- lm(formula_cl)\n",
    "\n",
    "ols.cl = coeftest(ols.cl_reg, vcov = vcovHC(ols.cl_reg, type=\"HC1\"))\n",
    "print(ols.cl)"
   ]
  },
  {
   "cell_type": "markdown",
   "metadata": {},
   "source": [
    "##### 1.2 Classical linear regression adjustmen"
   ]
  },
  {
   "cell_type": "code",
   "execution_count": 17,
   "metadata": {
    "vscode": {
     "languageId": "r"
    }
   },
   "outputs": [
    {
     "name": "stdout",
     "output_type": "stream",
     "text": [
      "\n",
      "t test of coefficients:\n",
      "\n",
      "                       Estimate Std. Error t value  Pr(>|t|)    \n",
      "(Intercept)           2.4471832  0.3580899  6.8340 9.123e-12 ***\n",
      "T2TRUE               -0.0712066  0.0320440 -2.2222 0.0263124 *  \n",
      "female               -0.9428048  0.2827961 -3.3339 0.0008620 ***\n",
      "black                -0.6654258  0.2430567 -2.7377 0.0062056 ** \n",
      "othrace              -1.5494550  0.7312071 -2.1190 0.0341306 *  \n",
      "factor(dep)1          0.2798498  0.3783316  0.7397 0.4595160    \n",
      "factor(dep)2          0.1678164  0.3678718  0.4562 0.6482768    \n",
      "q2                    0.0271228  0.3606226  0.0752 0.9400495    \n",
      "q3                   -0.3542370  0.3601780 -0.9835 0.3254005    \n",
      "q4                   -0.3380244  0.3606994 -0.9371 0.3487284    \n",
      "q5                   -0.1777168  0.3598757 -0.4938 0.6214465    \n",
      "q6                   -0.4456044  0.3612792 -1.2334 0.2174749    \n",
      "agelt35              -0.3264815  0.3108711 -1.0502 0.2936639    \n",
      "agegt54              -0.1551504  0.4796700 -0.3235 0.7463646    \n",
      "durable              -1.0151542  0.4449002 -2.2818 0.0225405 *  \n",
      "lusd                 -0.1193717  0.1744506 -0.6843 0.4938310    \n",
      "husd                  0.0702968  0.1877772  0.3744 0.7081482    \n",
      "female:black         -0.2840034  0.1181815 -2.4031 0.0162880 *  \n",
      "female:othrace        0.4211653  0.4881117  0.8628 0.3882586    \n",
      "female:factor(dep)1  -0.0852110  0.1097575 -0.7764 0.4375706    \n",
      "female:factor(dep)2   0.0191663  0.0960257  0.1996 0.8418042    \n",
      "female:q2             0.7579484  0.2816463  2.6911 0.0071418 ** \n",
      "female:q3             1.1132040  0.2804776  3.9690 7.308e-05 ***\n",
      "female:q4             1.0476270  0.2803218  3.7372 0.0001879 ***\n",
      "female:q5             0.9391723  0.2797468  3.3572 0.0007925 ***\n",
      "female:q6             1.0943376  0.3051864  3.5858 0.0003389 ***\n",
      "female:agelt35        0.0897041  0.0717530  1.2502 0.2112858    \n",
      "female:agegt54        0.1052300  0.1192511  0.8824 0.3775848    \n",
      "female:durable        0.1479312  0.1045882  1.4144 0.1572946    \n",
      "female:lusd           0.1040466  0.0803795  1.2944 0.1955654    \n",
      "female:husd           0.0405424  0.0871027  0.4655 0.6416233    \n",
      "black:factor(dep)1    0.2550534  0.1776949  1.4353 0.1512441    \n",
      "black:factor(dep)2   -0.0026687  0.1685717 -0.0158 0.9873694    \n",
      "black:q2              0.1578965  0.2541864  0.6212 0.5345037    \n",
      "black:q3              0.3136968  0.2421894  1.2953 0.1952852    \n",
      "black:q4              0.4070568  0.2531613  1.6079 0.1079138    \n",
      "black:q5              0.4779693  0.2423807  1.9720 0.0486606 *  \n",
      "black:agelt35        -0.0327885  0.1199314 -0.2734 0.7845605    \n",
      "black:agegt54         0.2404150  0.2150911  1.1177 0.2637272    \n",
      "black:durable         0.1604680  0.1818229  0.8826 0.3775165    \n",
      "black:lusd            0.0976747  0.1397249  0.6991 0.4845494    \n",
      "black:husd            0.5226586  0.4705587  1.1107 0.2667363    \n",
      "othrace:factor(dep)1  1.1661534  0.5688725  2.0499 0.0404163 *  \n",
      "othrace:factor(dep)2 -0.7687279  0.6882470 -1.1169 0.2640689    \n",
      "othrace:q2            1.5108063  0.7553314  2.0002 0.0455273 *  \n",
      "othrace:q3            0.2915823  0.4010420  0.7271 0.4672180    \n",
      "othrace:q4            0.9422587  0.5216038  1.8065 0.0708987 .  \n",
      "othrace:q5            0.9633463  0.4508887  2.1366 0.0326772 *  \n",
      "othrace:agelt35      -0.1902437  0.5742114 -0.3313 0.7404203    \n",
      "othrace:agegt54      -1.5319860  0.7774149 -1.9706 0.0488163 *  \n",
      "othrace:durable       1.9037227  0.2984229  6.3793 1.920e-10 ***\n",
      "othrace:lusd         -0.1288020  0.3847564 -0.3348 0.7378166    \n",
      "othrace:husd          0.6131158  0.6322611  0.9697 0.3322277    \n",
      "factor(dep)1:q2      -0.0578297  0.3766295 -0.1535 0.8779737    \n",
      "factor(dep)2:q2      -0.0868354  0.3663258 -0.2370 0.8126310    \n",
      "factor(dep)1:q3      -0.1448244  0.3766926 -0.3845 0.7006496    \n",
      "factor(dep)2:q3      -0.0664361  0.3661251 -0.1815 0.8560150    \n",
      "factor(dep)1:q4      -0.2322822  0.3758156 -0.6181 0.5365507    \n",
      "factor(dep)2:q4      -0.0189174  0.3664236 -0.0516 0.9588277    \n",
      "factor(dep)1:q5      -0.1366847  0.3745611 -0.3649 0.7151851    \n",
      "factor(dep)2:q5      -0.3474112  0.3658274 -0.9497 0.3423260    \n",
      "factor(dep)1:q6      -0.0754430  0.4237563 -0.1780 0.8587026    \n",
      "factor(dep)2:q6       0.1670275  0.3862462  0.4324 0.6654396    \n",
      "factor(dep)1:agelt35  0.0295559  0.1110959  0.2660 0.7902184    \n",
      "factor(dep)2:agelt35  0.0604359  0.0884161  0.6835 0.4942940    \n",
      "factor(dep)1:agegt54 -0.0653782  0.1579819 -0.4138 0.6790114    \n",
      "factor(dep)2:agegt54  0.2389402  0.3502460  0.6822 0.4951360    \n",
      "factor(dep)1:durable  0.2490245  0.1390534  1.7909 0.0733699 .  \n",
      "factor(dep)2:durable  0.1155334  0.1210212  0.9547 0.3397934    \n",
      "factor(dep)1:lusd    -0.1891318  0.1198463 -1.5781 0.1145937    \n",
      "factor(dep)2:lusd     0.0099694  0.1080574  0.0923 0.9264947    \n",
      "factor(dep)1:husd     0.0210466  0.1300914  0.1618 0.8714822    \n",
      "factor(dep)2:husd     0.0643927  0.1120225  0.5748 0.5654361    \n",
      "q2:agelt35            0.1074960  0.3106163  0.3461 0.7293005    \n",
      "q2:agegt54            0.2089269  0.4790236  0.4362 0.6627433    \n",
      "q2:durable            0.4369419  0.4446247  0.9827 0.3257868    \n",
      "q2:lusd              -0.0452343  0.1775655 -0.2547 0.7989278    \n",
      "q2:husd              -0.2223717  0.1866781 -1.1912 0.2336234    \n",
      "q3:agelt35            0.1804517  0.3105857  0.5810 0.5612606    \n",
      "q3:agegt54            0.5556566  0.4753225  1.1690 0.2424487    \n",
      "q3:durable            0.8395937  0.4443589  1.8894 0.0588825 .  \n",
      "q3:lusd              -0.0159614  0.1750847 -0.0912 0.9273658    \n",
      "q3:husd              -0.1130923  0.1853528 -0.6101 0.5417894    \n",
      "q4:agelt35            0.1182933  0.3104549  0.3810 0.7031937    \n",
      "q4:agegt54            0.3742015  0.4730138  0.7911 0.4289183    \n",
      "q4:durable            0.7433954  0.4469877  1.6631 0.0963430 .  \n",
      "q4:lusd              -0.0222100  0.1777450 -0.1250 0.9005644    \n",
      "q4:husd              -0.1847688  0.1860619 -0.9931 0.3207276    \n",
      "q5:agelt35           -0.0347993  0.3094880 -0.1124 0.9104773    \n",
      "q5:agegt54            0.2173394  0.4741739  0.4584 0.6467158    \n",
      "q5:durable            0.8553983  0.4436236  1.9282 0.0538791 .  \n",
      "q5:lusd              -0.1842941  0.1767158 -1.0429 0.2970464    \n",
      "q5:husd              -0.2741579  0.1844937 -1.4860 0.1373343    \n",
      "q6:agelt35            0.1822011  0.3330819  0.5470 0.5843893    \n",
      "q6:agegt54            0.6639470  0.5038773  1.3177 0.1876654    \n",
      "q6:durable            1.1466872  0.4656818  2.4624 0.0138312 *  \n",
      "agelt35:durable       0.0130415  0.0974530  0.1338 0.8935470    \n",
      "agelt35:lusd         -0.0561347  0.0826337 -0.6793 0.4969628    \n",
      "agelt35:husd          0.0174718  0.0917544  0.1904 0.8489878    \n",
      "agegt54:durable      -0.0133916  0.1551439 -0.0863 0.9312172    \n",
      "agegt54:lusd         -0.0236037  0.1297822 -0.1819 0.8556901    \n",
      "agegt54:husd         -0.2739141  0.1437349 -1.9057 0.0567409 .  \n",
      "durable:lusd          0.2916144  0.1033609  2.8213 0.0047992 ** \n",
      "durable:husd          0.3027337  0.1242434  2.4366 0.0148558 *  \n",
      "---\n",
      "Signif. codes:  0 '***' 0.001 '**' 0.01 '*' 0.05 '.' 0.1 ' ' 1\n",
      "\n"
     ]
    }
   ],
   "source": [
    "# adding controls\n",
    "formula_cra <- log(inuidur1)~T2+ (female+black+othrace+factor(dep)+q2+q3+q4+q5+q6+agelt35+agegt54+durable+lusd+husd)^2\n",
    "# Omitted dummies: q1, nondurable, muld\n",
    "ols.cra_reg <- lm(formula_cra)\n",
    "ols.cra = coeftest(ols.cra_reg, vcov = vcovHC(ols.cra_reg, type=\"HC1\"))\n",
    "print(ols.cra)"
   ]
  },
  {
   "cell_type": "code",
   "execution_count": 18,
   "metadata": {
    "vscode": {
     "languageId": "r"
    }
   },
   "outputs": [],
   "source": [
    "# interactive regression model variables \n",
    "X <- model.matrix(~(female+black+othrace+factor(dep)+q2+q3+q4+q5+q6+agelt35+agegt54+durable+lusd+husd)^2)[,-1] #without intercept"
   ]
  },
  {
   "cell_type": "markdown",
   "metadata": {
    "papermill": {
     "duration": 0.02768,
     "end_time": "2021-02-20T13:42:42.735966",
     "exception": false,
     "start_time": "2021-02-20T13:42:42.708286",
     "status": "completed"
    },
    "tags": []
   },
   "source": [
    "The interactive specificaiton corresponds to the approach introduced in Lin (2013)."
   ]
  },
  {
   "cell_type": "markdown",
   "metadata": {},
   "source": [
    "##### 1.3 Interactive regression adjustment (IRA)"
   ]
  },
  {
   "cell_type": "code",
   "execution_count": 19,
   "metadata": {
    "execution": {
     "iopub.execute_input": "2021-02-20T13:42:42.787957Z",
     "iopub.status.busy": "2021-02-20T13:42:42.787434Z",
     "iopub.status.idle": "2021-02-20T13:42:43.662431Z",
     "shell.execute_reply": "2021-02-20T13:42:43.659030Z"
    },
    "papermill": {
     "duration": 0.898452,
     "end_time": "2021-02-20T13:42:43.662684",
     "exception": false,
     "start_time": "2021-02-20T13:42:42.764232",
     "status": "completed"
    },
    "tags": [],
    "vscode": {
     "languageId": "r"
    }
   },
   "outputs": [
    {
     "name": "stdout",
     "output_type": "stream",
     "text": [
      "\n",
      "t test of coefficients:\n",
      "\n",
      "                               Estimate Std. Error t value  Pr(>|t|)    \n",
      "(Intercept)                   2.0556976  0.0207138 99.2430 < 2.2e-16 ***\n",
      "T2TRUE                       -0.0699044  0.0320764 -2.1793 0.0293503 *  \n",
      "Xfemale                      -0.6662823  0.4080234 -1.6330 0.1025357    \n",
      "Xblack                       -0.8634862  0.2969435 -2.9079 0.0036528 ** \n",
      "Xothrace                     -3.8176881  0.9366193 -4.0760 4.645e-05 ***\n",
      "Xfactor(dep)1                 0.0359264  0.6476816  0.0555 0.9557666    \n",
      "Xfactor(dep)2                 0.2117556  0.4512231  0.4693 0.6388790    \n",
      "Xq2                          -0.2546436  0.4553391 -0.5592 0.5760207    \n",
      "Xq3                          -0.6212326  0.4549639 -1.3655 0.1721653    \n",
      "Xq4                          -0.4799269  0.4561206 -1.0522 0.2927566    \n",
      "Xq5                          -0.3718675  0.4538882 -0.8193 0.4126542    \n",
      "Xq6                          -0.6770474  0.4521499 -1.4974 0.1343469    \n",
      "Xagelt35                     -0.6777054  0.4093673 -1.6555 0.0978805 .  \n",
      "Xagegt54                     -0.3041092  0.7006092 -0.4341 0.6642588    \n",
      "Xdurable                     -0.8380082  0.5963489 -1.4052 0.1600082    \n",
      "Xlusd                        -0.0994890  0.2279257 -0.4365 0.6624926    \n",
      "Xhusd                        -0.0626419  0.2349114 -0.2667 0.7897393    \n",
      "Xfemale:black                -0.2154799  0.1505114 -1.4317 0.1522994    \n",
      "Xfemale:othrace               0.5994387  0.5625667  1.0655 0.2866767    \n",
      "Xfemale:factor(dep)1         -0.1734245  0.1418828 -1.2223 0.2216430    \n",
      "Xfemale:factor(dep)2          0.2166417  0.1263365  1.7148 0.0864376 .  \n",
      "Xfemale:q2                    0.3918886  0.4066775  0.9636 0.3352708    \n",
      "Xfemale:q3                    0.6850391  0.4063439  1.6859 0.0918786 .  \n",
      "Xfemale:q4                    0.7213679  0.4061508  1.7761 0.0757695 .  \n",
      "Xfemale:q5                    0.5657763  0.4047829  1.3977 0.1622504    \n",
      "Xfemale:q6                    0.9081697  0.4304200  2.1100 0.0349061 *  \n",
      "Xfemale:agelt35               0.1700754  0.0950652  1.7890 0.0736628 .  \n",
      "Xfemale:agegt54               0.2357510  0.1601252  1.4723 0.1409985    \n",
      "Xfemale:durable               0.0974132  0.1376173  0.7079 0.4790645    \n",
      "Xfemale:lusd                  0.0720077  0.1065205  0.6760 0.4990695    \n",
      "Xfemale:husd                  0.0609671  0.1164456  0.5236 0.6006003    \n",
      "Xblack:factor(dep)1           0.1090114  0.2284814  0.4771 0.6333006    \n",
      "Xblack:factor(dep)2          -0.2006964  0.2284549 -0.8785 0.3797132    \n",
      "Xblack:q2                     0.4266974  0.3206741  1.3306 0.1833664    \n",
      "Xblack:q3                     0.3299448  0.3029904  1.0890 0.2762180    \n",
      "Xblack:q4                     0.5443145  0.3105213  1.7529 0.0796731 .  \n",
      "Xblack:q5                     0.6596567  0.3000532  2.1985 0.0279568 *  \n",
      "Xblack:agelt35                0.0829816  0.1583380  0.5241 0.6002448    \n",
      "Xblack:agegt54                0.4229716  0.2547482  1.6604 0.0968999 .  \n",
      "Xblack:durable                0.4681489  0.2274260  2.0585 0.0395917 *  \n",
      "Xblack:lusd                   0.3086087  0.1843460  1.6741 0.0941723 .  \n",
      "Xblack:husd                   0.5498228  0.6596114  0.8336 0.4045671    \n",
      "Xothrace:factor(dep)1         2.5201927  1.8549913  1.3586 0.1743280    \n",
      "Xothrace:factor(dep)2         1.1888567  0.5731618  2.0742 0.0381058 *  \n",
      "Xothrace:q2                   2.0825791  0.6083699  3.4232 0.0006233 ***\n",
      "Xothrace:q3                   0.9373310  0.6602083  1.4198 0.1557363    \n",
      "Xothrace:q4                   3.8597060  0.8805067  4.3835 1.189e-05 ***\n",
      "Xothrace:q5                   0.9711789  0.5525530  1.7576 0.0788668 .  \n",
      "Xothrace:agelt35              2.2479921  0.9154188  2.4557 0.0140914 *  \n",
      "Xothrace:agegt54             -4.1489603  0.4818685 -8.6102 < 2.2e-16 ***\n",
      "Xothrace:durable              1.7505609  0.3704944  4.7249 2.358e-06 ***\n",
      "Xothrace:lusd                -0.6944472  0.4952271 -1.4023 0.1608872    \n",
      "Xothrace:husd                 4.7889261  0.8179777  5.8546 5.054e-09 ***\n",
      "Xfactor(dep)1:q2              0.2338980  0.6415478  0.3646 0.7154358    \n",
      "Xfactor(dep)2:q2             -0.2176777  0.4481681 -0.4857 0.6271950    \n",
      "Xfactor(dep)1:q3              0.1543408  0.6437163  0.2398 0.8105211    \n",
      "Xfactor(dep)2:q3             -0.2544863  0.4501910 -0.5653 0.5719025    \n",
      "Xfactor(dep)1:q4             -0.0239012  0.6423016 -0.0372 0.9703174    \n",
      "Xfactor(dep)2:q4             -0.1619010  0.4510902 -0.3589 0.7196756    \n",
      "Xfactor(dep)1:q5              0.1395606  0.6382824  0.2187 0.8269306    \n",
      "Xfactor(dep)2:q5             -0.5626408  0.4488622 -1.2535 0.2100829    \n",
      "Xfactor(dep)1:q6              0.4833394  0.6803127  0.7105 0.4774445    \n",
      "Xfactor(dep)2:q6             -0.0048033  0.4773043 -0.0101 0.9919711    \n",
      "Xfactor(dep)1:agelt35         0.0507982  0.1492874  0.3403 0.7336654    \n",
      "Xfactor(dep)2:agelt35         0.1192418  0.1162344  1.0259 0.3049958    \n",
      "Xfactor(dep)1:agegt54         0.0366384  0.2054287  0.1784 0.8584540    \n",
      "Xfactor(dep)2:agegt54         0.2231138  0.4207401  0.5303 0.5959327    \n",
      "Xfactor(dep)1:durable         0.3397110  0.1841554  1.8447 0.0651345 .  \n",
      "Xfactor(dep)2:durable         0.1146589  0.1531899  0.7485 0.4542048    \n",
      "Xfactor(dep)1:lusd           -0.2603558  0.1618053 -1.6091 0.1076579    \n",
      "Xfactor(dep)2:lusd            0.1150924  0.1398792  0.8228 0.4106577    \n",
      "Xfactor(dep)1:husd           -0.0427975  0.1657611 -0.2582 0.7962714    \n",
      "Xfactor(dep)2:husd            0.0180150  0.1511058  0.1192 0.9051045    \n",
      "Xq2:agelt35                   0.5007384  0.4096962  1.2222 0.2216766    \n",
      "Xq2:agegt54                   0.4321562  0.6979014  0.6192 0.5357951    \n",
      "Xq2:durable                   0.2615077  0.5932161  0.4408 0.6593528    \n",
      "Xq2:lusd                     -0.0675213  0.2308924 -0.2924 0.7699640    \n",
      "Xq2:husd                     -0.1818392  0.2336888 -0.7781 0.4365280    \n",
      "Xq3:agelt35                   0.5137183  0.4098065  1.2536 0.2100534    \n",
      "Xq3:agegt54                   0.7245598  0.6955337  1.0417 0.2975811    \n",
      "Xq3:durable                   0.7223769  0.5918087  1.2206 0.2222794    \n",
      "Xq3:lusd                     -0.0013615  0.2301270 -0.0059 0.9952798    \n",
      "Xq3:husd                      0.0989285  0.2316105  0.4271 0.6692989    \n",
      "Xq4:agelt35                   0.4048006  0.4097478  0.9879 0.3232316    \n",
      "Xq4:agegt54                   0.2469008  0.6936661  0.3559 0.7219019    \n",
      "Xq4:durable                   0.5937668  0.5979290  0.9930 0.3207340    \n",
      "Xq4:lusd                     -0.1685841  0.2323628 -0.7255 0.4681629    \n",
      "Xq4:husd                     -0.1450618  0.2348279 -0.6177 0.5367741    \n",
      "Xq5:agelt35                   0.2160041  0.4081014  0.5293 0.5966252    \n",
      "Xq5:agegt54                   0.0996302  0.6916342  0.1441 0.8854658    \n",
      "Xq5:durable                   0.8536110  0.5903036  1.4461 0.1482182    \n",
      "Xq5:lusd                     -0.2592947  0.2340000 -1.1081 0.2678676    \n",
      "Xq5:husd                     -0.1735647  0.2316012 -0.7494 0.4536405    \n",
      "Xq6:agelt35                   0.3823616  0.4342403  0.8805 0.3786101    \n",
      "Xq6:agegt54                   0.8362035  0.7277854  1.1490 0.2506177    \n",
      "Xq6:durable                   1.0289246  0.6182369  1.6643 0.0961109 .  \n",
      "Xagelt35:durable             -0.0026919  0.1255663 -0.0214 0.9828970    \n",
      "Xagelt35:lusd                -0.0573760  0.1093093 -0.5249 0.5996765    \n",
      "Xagelt35:husd                 0.0545333  0.1255950  0.4342 0.6641603    \n",
      "Xagegt54:durable             -0.1239369  0.2073592 -0.5977 0.5500699    \n",
      "Xagegt54:lusd                 0.0912453  0.1756844  0.5194 0.6035228    \n",
      "Xagegt54:husd                -0.3145573  0.1892620 -1.6620 0.0965649 .  \n",
      "Xdurable:lusd                 0.2633733  0.1377873  1.9114 0.0559982 .  \n",
      "Xdurable:husd                 0.3137941  0.1581735  1.9839 0.0473203 *  \n",
      "T2TRUE:Xfemale               -0.6597505  0.5498974 -1.1998 0.2302796    \n",
      "T2TRUE:Xblack                 0.4525570  0.5103188  0.8868 0.3752182    \n",
      "T2TRUE:Xothrace               2.2114703  1.1019213  2.0069 0.0448061 *  \n",
      "T2TRUE:Xfactor(dep)1          0.7636025  0.7854484  0.9722 0.3309998    \n",
      "T2TRUE:Xfactor(dep)2         -0.0511656  0.7787378 -0.0657 0.9476164    \n",
      "T2TRUE:Xq2                    0.8969455  0.7369231  1.2171 0.2235988    \n",
      "T2TRUE:Xq3                    0.8962389  0.7356679  1.2183 0.2231746    \n",
      "T2TRUE:Xq4                    0.5889998  0.7360986  0.8002 0.4236497    \n",
      "T2TRUE:Xq5                    0.7173442  0.7348525  0.9762 0.3290204    \n",
      "T2TRUE:Xq6                    0.7812489  0.7433947  1.0509 0.2933405    \n",
      "T2TRUE:Xagelt35               1.1233199  0.6374193  1.7623 0.0780744 .  \n",
      "T2TRUE:Xagegt54               0.4142771  0.8713838  0.4754 0.6345031    \n",
      "T2TRUE:Xdurable               0.0698550  0.8506225  0.0821 0.9345525    \n",
      "T2TRUE:Xlusd                 -0.0864022  0.3607507 -0.2395 0.8107216    \n",
      "T2TRUE:Xhusd                  0.2845565  0.3988946  0.7134 0.4756512    \n",
      "T2TRUE:Xfemale:black         -0.2036471  0.2434209 -0.8366 0.4028505    \n",
      "T2TRUE:Xfemale:othrace       -0.9119496  0.5800698 -1.5721 0.1159753    \n",
      "T2TRUE:Xfemale:factor(dep)1   0.1813213  0.2195306  0.8260 0.4088676    \n",
      "T2TRUE:Xfemale:factor(dep)2  -0.4690337  0.1987659 -2.3597 0.0183225 *  \n",
      "T2TRUE:Xfemale:q2             0.8485381  0.5490759  1.5454 0.1223079    \n",
      "T2TRUE:Xfemale:q3             1.0429018  0.5461093  1.9097 0.0562238 .  \n",
      "T2TRUE:Xfemale:q4             0.7824923  0.5455513  1.4343 0.1515385    \n",
      "T2TRUE:Xfemale:q5             0.8993802  0.5448366  1.6507 0.0988492 .  \n",
      "T2TRUE:Xfemale:q6             0.4085802  0.6037867  0.6767 0.4986267    \n",
      "T2TRUE:Xfemale:agelt35       -0.1861481  0.1458569 -1.2762 0.2019247    \n",
      "T2TRUE:Xfemale:agegt54       -0.3821490  0.2443204 -1.5641 0.1178436    \n",
      "T2TRUE:Xfemale:durable        0.1103768  0.2146252  0.5143 0.6070787    \n",
      "T2TRUE:Xfemale:lusd           0.1060964  0.1631061  0.6505 0.5154122    \n",
      "T2TRUE:Xfemale:husd          -0.0426056  0.1785080 -0.2387 0.8113657    \n",
      "T2TRUE:Xblack:factor(dep)1    0.3636326  0.3503546  1.0379 0.2993622    \n",
      "T2TRUE:Xblack:factor(dep)2    0.4284152  0.3383550  1.2662 0.2055049    \n",
      "T2TRUE:Xblack:q2             -0.5878223  0.5288254 -1.1116 0.2663743    \n",
      "T2TRUE:Xblack:q3             -0.0624725  0.5099293 -0.1225 0.9024978    \n",
      "T2TRUE:Xblack:q4             -0.4010428  0.5365391 -0.7475 0.4548159    \n",
      "T2TRUE:Xblack:q5             -0.4358990  0.5091812 -0.8561 0.3919912    \n",
      "T2TRUE:Xblack:agelt35        -0.2159315  0.2417908 -0.8931 0.3718684    \n",
      "T2TRUE:Xblack:agegt54        -0.2617225  0.4866710 -0.5378 0.5907496    \n",
      "T2TRUE:Xblack:durable        -0.8365016  0.3504939 -2.3866 0.0170364 *  \n",
      "T2TRUE:Xblack:lusd           -0.4264666  0.2797101 -1.5247 0.1273972    \n",
      "T2TRUE:Xblack:husd           -0.1958402  0.8911158 -0.2198 0.8260586    \n",
      "T2TRUE:Xothrace:factor(dep)1  0.4788267  1.8947966  0.2527 0.8005046    \n",
      "T2TRUE:Xothrace:factor(dep)2 -4.4513573  0.7816787 -5.6946 1.300e-08 ***\n",
      "T2TRUE:Xothrace:q3           -0.7826362  0.9146199 -0.8557 0.3922029    \n",
      "T2TRUE:Xothrace:q4           -2.4173200  1.1442098 -2.1127 0.0346747 *  \n",
      "T2TRUE:Xothrace:q5            0.7621242  0.7958190  0.9577 0.3382757    \n",
      "T2TRUE:Xothrace:agelt35      -3.8313400  0.9536672 -4.0175 5.960e-05 ***\n",
      "T2TRUE:Xothrace:durable       1.5658689  0.4621869  3.3880 0.0007090 ***\n",
      "T2TRUE:Xothrace:lusd          2.0930436  0.5135607  4.0756 4.654e-05 ***\n",
      "T2TRUE:Xfactor(dep)1:q2      -0.8317599  0.7784232 -1.0685 0.2853327    \n",
      "T2TRUE:Xfactor(dep)2:q2       0.2248592  0.7780400  0.2890 0.7725866    \n",
      "T2TRUE:Xfactor(dep)1:q3      -0.8572816  0.7801263 -1.0989 0.2718587    \n",
      "T2TRUE:Xfactor(dep)2:q3       0.3587274  0.7752186  0.4627 0.6435662    \n",
      "T2TRUE:Xfactor(dep)1:q4      -0.6286109  0.7764648 -0.8096 0.4182158    \n",
      "T2TRUE:Xfactor(dep)2:q4       0.2390021  0.7743617  0.3086 0.7576038    \n",
      "T2TRUE:Xfactor(dep)1:q5      -0.8384601  0.7751714 -1.0816 0.2794571    \n",
      "T2TRUE:Xfactor(dep)2:q5       0.4285344  0.7744398  0.5533 0.5800476    \n",
      "T2TRUE:Xfactor(dep)1:q6      -1.5381912  0.8933469 -1.7218 0.0851558 .  \n",
      "T2TRUE:Xfactor(dep)2:q6       0.2846591  0.8180721  0.3480 0.7278808    \n",
      "T2TRUE:Xfactor(dep)1:agelt35 -0.0778347  0.2244666 -0.3468 0.7287894    \n",
      "T2TRUE:Xfactor(dep)2:agelt35 -0.1017136  0.1803295 -0.5640 0.5727475    \n",
      "T2TRUE:Xfactor(dep)1:agegt54 -0.2824587  0.3235870 -0.8729 0.3827557    \n",
      "T2TRUE:Xfactor(dep)2:agegt54  0.3793047  0.5714519  0.6638 0.5068738    \n",
      "T2TRUE:Xfactor(dep)1:durable -0.2185591  0.2804612 -0.7793 0.4358451    \n",
      "T2TRUE:Xfactor(dep)2:durable -0.0950789  0.2599196 -0.3658 0.7145274    \n",
      "T2TRUE:Xfactor(dep)1:lusd     0.2161153  0.2432651  0.8884 0.3743671    \n",
      "T2TRUE:Xfactor(dep)2:lusd    -0.2070793  0.2219038 -0.9332 0.3507603    \n",
      "T2TRUE:Xfactor(dep)1:husd     0.1232418  0.2679611  0.4599 0.6455885    \n",
      "T2TRUE:Xfactor(dep)2:husd     0.1579798  0.2302758  0.6860 0.4927126    \n",
      "T2TRUE:Xq2:agelt35           -1.2407550  0.6357096 -1.9518 0.0510162 .  \n",
      "T2TRUE:Xq2:agegt54           -0.6019870  0.8705629 -0.6915 0.4892853    \n",
      "T2TRUE:Xq2:durable           -0.0777795  0.8549362 -0.0910 0.9275141    \n",
      "T2TRUE:Xq2:lusd               0.0508269  0.3672375  0.1384 0.8899267    \n",
      "T2TRUE:Xq2:husd              -0.0920285  0.3948698 -0.2331 0.8157231    \n",
      "T2TRUE:Xq3:agelt35           -1.1277892  0.6355092 -1.7746 0.0760147 .  \n",
      "T2TRUE:Xq3:agegt54           -0.5411478  0.8621311 -0.6277 0.5302352    \n",
      "T2TRUE:Xq3:durable           -0.1956176  0.8552255 -0.2287 0.8190854    \n",
      "T2TRUE:Xq3:lusd              -0.0739597  0.3608164 -0.2050 0.8375961    \n",
      "T2TRUE:Xq3:husd              -0.5532059  0.3911619 -1.4143 0.1573404    \n",
      "T2TRUE:Xq4:agelt35           -0.9925752  0.6341814 -1.5651 0.1176096    \n",
      "T2TRUE:Xq4:agegt54            0.2121763  0.8521836  0.2490 0.8033857    \n",
      "T2TRUE:Xq4:durable           -0.1187895  0.8619131 -0.1378 0.8903871    \n",
      "T2TRUE:Xq4:lusd               0.3041551  0.3661447  0.8307 0.4061807    \n",
      "T2TRUE:Xq4:husd              -0.0828034  0.3925595 -0.2109 0.8329480    \n",
      "T2TRUE:Xq5:agelt35           -0.9263119  0.6327188 -1.4640 0.1432453    \n",
      "T2TRUE:Xq5:agegt54            0.2187993  0.8619978  0.2538 0.7996377    \n",
      "T2TRUE:Xq5:durable           -0.4450627  0.8517335 -0.5225 0.6013169    \n",
      "T2TRUE:Xq5:lusd               0.0895975  0.3643448  0.2459 0.8057578    \n",
      "T2TRUE:Xq5:husd              -0.2456140  0.3905347 -0.6289 0.5294291    \n",
      "T2TRUE:Xq6:agelt35           -0.7320475  0.6840109 -1.0702 0.2845631    \n",
      "T2TRUE:Xq6:agegt54           -0.4355109  0.9347111 -0.4659 0.6412830    \n",
      "T2TRUE:Xq6:durable           -0.1469333  0.9049913 -0.1624 0.8710292    \n",
      "T2TRUE:Xagelt35:durable       0.0216203  0.2005310  0.1078 0.9141460    \n",
      "T2TRUE:Xagelt35:lusd          0.0680462  0.1695485  0.4013 0.6881870    \n",
      "T2TRUE:Xagelt35:husd         -0.0587002  0.1856361 -0.3162 0.7518542    \n",
      "T2TRUE:Xagegt54:durable       0.1732194  0.3177062  0.5452 0.5856247    \n",
      "T2TRUE:Xagegt54:lusd         -0.1245325  0.2667627 -0.4668 0.6406406    \n",
      "T2TRUE:Xagegt54:husd          0.2898645  0.2960548  0.9791 0.3275776    \n",
      "T2TRUE:Xdurable:lusd          0.1281108  0.2116361  0.6053 0.5449810    \n",
      "T2TRUE:Xdurable:husd          0.0133109  0.2552493  0.0521 0.9584121    \n",
      "---\n",
      "Signif. codes:  0 '***' 0.001 '**' 0.01 '*' 0.05 '.' 0.1 ' ' 1\n",
      "\n"
     ]
    }
   ],
   "source": [
    "#interactive regression model\n",
    "\n",
    "demean<- function(x){ x - mean(x)}\n",
    "X = apply(X, 2, demean)\n",
    "\n",
    "ols.ira_reg = lm(log(inuidur1) ~ T2*X) \n",
    "ols.ira= coeftest(ols.ira_reg, vcov = vcovHC(ols.ira_reg, type=\"HC1\"))\n",
    "print(ols.ira)"
   ]
  },
  {
   "cell_type": "code",
   "execution_count": 20,
   "metadata": {
    "vscode": {
     "languageId": "r"
    }
   },
   "outputs": [],
   "source": [
    "ols_ira.female <- ols.ira[\"T2TRUE:Xfemale\",1]\n",
    "CI1upper <-confint(ols.ira)[\"T2TRUE:Xfemale\",2]\n",
    "CI1low <-confint(ols.ira)[\"T2TRUE:Xfemale\",1]\n",
    "\n",
    "ols_ira.black <- ols.ira[\"T2TRUE:Xblack\",1]\n",
    "CI2upper <-confint(ols.ira)[\"T2TRUE:Xblack\",2]\n",
    "CI2low <-confint(ols.ira)[\"T2TRUE:Xblack\",1]\n",
    "\n",
    "ols_ira.age <- ols.ira[\"T2TRUE:Xagelt35\",1]\n",
    "CI3upper <-confint(ols.ira)[\"T2TRUE:Xagelt35\",2]\n",
    "CI3low <-confint(ols.ira)[\"T2TRUE:Xagelt35\",1]\n",
    "\n",
    "ols_ira.dep1 <- ols.ira[\"T2TRUE:Xfactor(dep)1\",1]\n",
    "CI4upper <-confint(ols.ira)[\"T2TRUE:Xfactor(dep)1\",2]\n",
    "CI4low <-confint(ols.ira)[\"T2TRUE:Xfactor(dep)1\",1]"
   ]
  },
  {
   "cell_type": "markdown",
   "metadata": {
    "papermill": {
     "duration": 0.030243,
     "end_time": "2021-02-20T13:42:43.724231",
     "exception": false,
     "start_time": "2021-02-20T13:42:43.693988",
     "status": "completed"
    },
    "tags": []
   },
   "source": [
    "##### 1.4 Interactive regression adjustment (IRA) using Lasso"
   ]
  },
  {
   "cell_type": "code",
   "execution_count": 21,
   "metadata": {
    "vscode": {
     "languageId": "r"
    }
   },
   "outputs": [
    {
     "data": {
      "text/html": [
       "<table class=\"dataframe\">\n",
       "<caption>A matrix: 6 × 239 of type dbl</caption>\n",
       "<thead>\n",
       "\t<tr><th></th><th scope=col>T2</th><th scope=col>Xfemale</th><th scope=col>Xblack</th><th scope=col>Xothrace</th><th scope=col>Xfactor(dep)1</th><th scope=col>Xfactor(dep)2</th><th scope=col>Xq2</th><th scope=col>Xq3</th><th scope=col>Xq4</th><th scope=col>Xq5</th><th scope=col>⋯</th><th scope=col>T2:Xagelt35:agegt54</th><th scope=col>T2:Xagelt35:durable</th><th scope=col>T2:Xagelt35:lusd</th><th scope=col>T2:Xagelt35:husd</th><th scope=col>T2:Xagegt54:durable</th><th scope=col>T2:Xagegt54:lusd</th><th scope=col>T2:Xagegt54:husd</th><th scope=col>T2:Xdurable:lusd</th><th scope=col>T2:Xdurable:husd</th><th scope=col>T2:Xlusd:husd</th></tr>\n",
       "</thead>\n",
       "<tbody>\n",
       "\t<tr><th scope=row>1</th><td>-0.4199239</td><td>-0.4007264</td><td>-0.118817</td><td>-0.005188516</td><td>-0.1165687</td><td> 0.839329</td><td>-0.2001038</td><td>-0.2355586</td><td>-0.2232791</td><td> 0.7367693</td><td>⋯</td><td>0</td><td> 0.03086608</td><td> 0.05563156</td><td> 0.05120138</td><td> 0.007916241</td><td> 0.0136537</td><td> 0.01162017</td><td> 0.02309509</td><td> 0.01220118</td><td>0</td></tr>\n",
       "\t<tr><th scope=row>2</th><td> 0.5800761</td><td>-0.4007264</td><td>-0.118817</td><td>-0.005188516</td><td>-0.1165687</td><td>-0.160671</td><td>-0.2001038</td><td> 0.7644414</td><td>-0.2232791</td><td>-0.2632307</td><td>⋯</td><td>0</td><td>-0.04263790</td><td> 0.50322755</td><td>-0.07072875</td><td>-0.010935367</td><td>-0.0188610</td><td>-0.01605192</td><td>-0.03190318</td><td>-0.01685451</td><td>0</td></tr>\n",
       "\t<tr><th scope=row>3</th><td>-0.4199239</td><td>-0.4007264</td><td>-0.118817</td><td>-0.005188516</td><td>-0.1165687</td><td>-0.160671</td><td>-0.2001038</td><td>-0.2355586</td><td>-0.2232791</td><td> 0.7367693</td><td>⋯</td><td>0</td><td> 0.03086608</td><td> 0.05563156</td><td> 0.05120138</td><td> 0.007916241</td><td> 0.0136537</td><td> 0.01162017</td><td> 0.02309509</td><td> 0.01220118</td><td>0</td></tr>\n",
       "\t<tr><th scope=row>4</th><td>-0.4199239</td><td>-0.4007264</td><td>-0.118817</td><td>-0.005188516</td><td>-0.1165687</td><td>-0.160671</td><td>-0.2001038</td><td>-0.2355586</td><td> 0.7767209</td><td>-0.2632307</td><td>⋯</td><td>0</td><td> 0.03086608</td><td> 0.05563156</td><td> 0.05120138</td><td> 0.007916241</td><td> 0.0136537</td><td> 0.01162017</td><td> 0.02309509</td><td> 0.01220118</td><td>0</td></tr>\n",
       "\t<tr><th scope=row>5</th><td> 0.5800761</td><td> 0.5992736</td><td>-0.118817</td><td>-0.005188516</td><td>-0.1165687</td><td>-0.160671</td><td>-0.2001038</td><td>-0.2355586</td><td> 0.7767209</td><td>-0.2632307</td><td>⋯</td><td>0</td><td>-0.04263790</td><td>-0.07684855</td><td>-0.07072875</td><td>-0.010935367</td><td>-0.0188610</td><td>-0.01605192</td><td>-0.03190318</td><td>-0.01685451</td><td>0</td></tr>\n",
       "\t<tr><th scope=row>6</th><td>-0.4199239</td><td>-0.4007264</td><td>-0.118817</td><td>-0.005188516</td><td> 0.8834313</td><td>-0.160671</td><td>-0.2001038</td><td>-0.2355586</td><td>-0.2232791</td><td> 0.7367693</td><td>⋯</td><td>0</td><td> 0.03086608</td><td> 0.05563156</td><td> 0.05120138</td><td>-0.412007661</td><td>-0.4062702</td><td> 0.01162017</td><td>-0.39682881</td><td> 0.01220118</td><td>0</td></tr>\n",
       "</tbody>\n",
       "</table>\n"
      ],
      "text/latex": [
       "A matrix: 6 × 239 of type dbl\n",
       "\\begin{tabular}{r|lllllllllllllllllllll}\n",
       "  & T2 & Xfemale & Xblack & Xothrace & Xfactor(dep)1 & Xfactor(dep)2 & Xq2 & Xq3 & Xq4 & Xq5 & ⋯ & T2:Xagelt35:agegt54 & T2:Xagelt35:durable & T2:Xagelt35:lusd & T2:Xagelt35:husd & T2:Xagegt54:durable & T2:Xagegt54:lusd & T2:Xagegt54:husd & T2:Xdurable:lusd & T2:Xdurable:husd & T2:Xlusd:husd\\\\\n",
       "\\hline\n",
       "\t1 & -0.4199239 & -0.4007264 & -0.118817 & -0.005188516 & -0.1165687 &  0.839329 & -0.2001038 & -0.2355586 & -0.2232791 &  0.7367693 & ⋯ & 0 &  0.03086608 &  0.05563156 &  0.05120138 &  0.007916241 &  0.0136537 &  0.01162017 &  0.02309509 &  0.01220118 & 0\\\\\n",
       "\t2 &  0.5800761 & -0.4007264 & -0.118817 & -0.005188516 & -0.1165687 & -0.160671 & -0.2001038 &  0.7644414 & -0.2232791 & -0.2632307 & ⋯ & 0 & -0.04263790 &  0.50322755 & -0.07072875 & -0.010935367 & -0.0188610 & -0.01605192 & -0.03190318 & -0.01685451 & 0\\\\\n",
       "\t3 & -0.4199239 & -0.4007264 & -0.118817 & -0.005188516 & -0.1165687 & -0.160671 & -0.2001038 & -0.2355586 & -0.2232791 &  0.7367693 & ⋯ & 0 &  0.03086608 &  0.05563156 &  0.05120138 &  0.007916241 &  0.0136537 &  0.01162017 &  0.02309509 &  0.01220118 & 0\\\\\n",
       "\t4 & -0.4199239 & -0.4007264 & -0.118817 & -0.005188516 & -0.1165687 & -0.160671 & -0.2001038 & -0.2355586 &  0.7767209 & -0.2632307 & ⋯ & 0 &  0.03086608 &  0.05563156 &  0.05120138 &  0.007916241 &  0.0136537 &  0.01162017 &  0.02309509 &  0.01220118 & 0\\\\\n",
       "\t5 &  0.5800761 &  0.5992736 & -0.118817 & -0.005188516 & -0.1165687 & -0.160671 & -0.2001038 & -0.2355586 &  0.7767209 & -0.2632307 & ⋯ & 0 & -0.04263790 & -0.07684855 & -0.07072875 & -0.010935367 & -0.0188610 & -0.01605192 & -0.03190318 & -0.01685451 & 0\\\\\n",
       "\t6 & -0.4199239 & -0.4007264 & -0.118817 & -0.005188516 &  0.8834313 & -0.160671 & -0.2001038 & -0.2355586 & -0.2232791 &  0.7367693 & ⋯ & 0 &  0.03086608 &  0.05563156 &  0.05120138 & -0.412007661 & -0.4062702 &  0.01162017 & -0.39682881 &  0.01220118 & 0\\\\\n",
       "\\end{tabular}\n"
      ],
      "text/markdown": [
       "\n",
       "A matrix: 6 × 239 of type dbl\n",
       "\n",
       "| <!--/--> | T2 | Xfemale | Xblack | Xothrace | Xfactor(dep)1 | Xfactor(dep)2 | Xq2 | Xq3 | Xq4 | Xq5 | ⋯ | T2:Xagelt35:agegt54 | T2:Xagelt35:durable | T2:Xagelt35:lusd | T2:Xagelt35:husd | T2:Xagegt54:durable | T2:Xagegt54:lusd | T2:Xagegt54:husd | T2:Xdurable:lusd | T2:Xdurable:husd | T2:Xlusd:husd |\n",
       "|---|---|---|---|---|---|---|---|---|---|---|---|---|---|---|---|---|---|---|---|---|---|\n",
       "| 1 | -0.4199239 | -0.4007264 | -0.118817 | -0.005188516 | -0.1165687 |  0.839329 | -0.2001038 | -0.2355586 | -0.2232791 |  0.7367693 | ⋯ | 0 |  0.03086608 |  0.05563156 |  0.05120138 |  0.007916241 |  0.0136537 |  0.01162017 |  0.02309509 |  0.01220118 | 0 |\n",
       "| 2 |  0.5800761 | -0.4007264 | -0.118817 | -0.005188516 | -0.1165687 | -0.160671 | -0.2001038 |  0.7644414 | -0.2232791 | -0.2632307 | ⋯ | 0 | -0.04263790 |  0.50322755 | -0.07072875 | -0.010935367 | -0.0188610 | -0.01605192 | -0.03190318 | -0.01685451 | 0 |\n",
       "| 3 | -0.4199239 | -0.4007264 | -0.118817 | -0.005188516 | -0.1165687 | -0.160671 | -0.2001038 | -0.2355586 | -0.2232791 |  0.7367693 | ⋯ | 0 |  0.03086608 |  0.05563156 |  0.05120138 |  0.007916241 |  0.0136537 |  0.01162017 |  0.02309509 |  0.01220118 | 0 |\n",
       "| 4 | -0.4199239 | -0.4007264 | -0.118817 | -0.005188516 | -0.1165687 | -0.160671 | -0.2001038 | -0.2355586 |  0.7767209 | -0.2632307 | ⋯ | 0 |  0.03086608 |  0.05563156 |  0.05120138 |  0.007916241 |  0.0136537 |  0.01162017 |  0.02309509 |  0.01220118 | 0 |\n",
       "| 5 |  0.5800761 |  0.5992736 | -0.118817 | -0.005188516 | -0.1165687 | -0.160671 | -0.2001038 | -0.2355586 |  0.7767209 | -0.2632307 | ⋯ | 0 | -0.04263790 | -0.07684855 | -0.07072875 | -0.010935367 | -0.0188610 | -0.01605192 | -0.03190318 | -0.01685451 | 0 |\n",
       "| 6 | -0.4199239 | -0.4007264 | -0.118817 | -0.005188516 |  0.8834313 | -0.160671 | -0.2001038 | -0.2355586 | -0.2232791 |  0.7367693 | ⋯ | 0 |  0.03086608 |  0.05563156 |  0.05120138 | -0.412007661 | -0.4062702 |  0.01162017 | -0.39682881 |  0.01220118 | 0 |\n",
       "\n"
      ],
      "text/plain": [
       "  T2         Xfemale    Xblack    Xothrace     Xfactor(dep)1 Xfactor(dep)2\n",
       "1 -0.4199239 -0.4007264 -0.118817 -0.005188516 -0.1165687     0.839329    \n",
       "2  0.5800761 -0.4007264 -0.118817 -0.005188516 -0.1165687    -0.160671    \n",
       "3 -0.4199239 -0.4007264 -0.118817 -0.005188516 -0.1165687    -0.160671    \n",
       "4 -0.4199239 -0.4007264 -0.118817 -0.005188516 -0.1165687    -0.160671    \n",
       "5  0.5800761  0.5992736 -0.118817 -0.005188516 -0.1165687    -0.160671    \n",
       "6 -0.4199239 -0.4007264 -0.118817 -0.005188516  0.8834313    -0.160671    \n",
       "  Xq2        Xq3        Xq4        Xq5        ⋯ T2:Xagelt35:agegt54\n",
       "1 -0.2001038 -0.2355586 -0.2232791  0.7367693 ⋯ 0                  \n",
       "2 -0.2001038  0.7644414 -0.2232791 -0.2632307 ⋯ 0                  \n",
       "3 -0.2001038 -0.2355586 -0.2232791  0.7367693 ⋯ 0                  \n",
       "4 -0.2001038 -0.2355586  0.7767209 -0.2632307 ⋯ 0                  \n",
       "5 -0.2001038 -0.2355586  0.7767209 -0.2632307 ⋯ 0                  \n",
       "6 -0.2001038 -0.2355586 -0.2232791  0.7367693 ⋯ 0                  \n",
       "  T2:Xagelt35:durable T2:Xagelt35:lusd T2:Xagelt35:husd T2:Xagegt54:durable\n",
       "1  0.03086608          0.05563156       0.05120138       0.007916241       \n",
       "2 -0.04263790          0.50322755      -0.07072875      -0.010935367       \n",
       "3  0.03086608          0.05563156       0.05120138       0.007916241       \n",
       "4  0.03086608          0.05563156       0.05120138       0.007916241       \n",
       "5 -0.04263790         -0.07684855      -0.07072875      -0.010935367       \n",
       "6  0.03086608          0.05563156       0.05120138      -0.412007661       \n",
       "  T2:Xagegt54:lusd T2:Xagegt54:husd T2:Xdurable:lusd T2:Xdurable:husd\n",
       "1  0.0136537        0.01162017       0.02309509       0.01220118     \n",
       "2 -0.0188610       -0.01605192      -0.03190318      -0.01685451     \n",
       "3  0.0136537        0.01162017       0.02309509       0.01220118     \n",
       "4  0.0136537        0.01162017       0.02309509       0.01220118     \n",
       "5 -0.0188610       -0.01605192      -0.03190318      -0.01685451     \n",
       "6 -0.4062702        0.01162017      -0.39682881       0.01220118     \n",
       "  T2:Xlusd:husd\n",
       "1 0            \n",
       "2 0            \n",
       "3 0            \n",
       "4 0            \n",
       "5 0            \n",
       "6 0            "
      ]
     },
     "metadata": {},
     "output_type": "display_data"
    }
   ],
   "source": [
    "T2 = demean(T2)\n",
    "DX = model.matrix(~T2*X)[,-1]\n",
    "head(DX)"
   ]
  },
  {
   "cell_type": "code",
   "execution_count": 22,
   "metadata": {
    "execution": {
     "iopub.execute_input": "2021-02-20T13:42:43.774524Z",
     "iopub.status.busy": "2021-02-20T13:42:43.773643Z",
     "iopub.status.idle": "2021-02-20T13:42:45.044886Z",
     "shell.execute_reply": "2021-02-20T13:42:45.043005Z"
    },
    "papermill": {
     "duration": 1.29547,
     "end_time": "2021-02-20T13:42:45.045172",
     "exception": false,
     "start_time": "2021-02-20T13:42:43.749702",
     "status": "completed"
    },
    "tags": [],
    "vscode": {
     "languageId": "r"
    }
   },
   "outputs": [
    {
     "name": "stdout",
     "output_type": "stream",
     "text": [
      "[1] \"Estimates and significance testing of the effect of target variables\"\n",
      "   Estimate. Std. Error t value Pr(>|t|)  \n",
      "T2  -0.07457    0.03209  -2.324   0.0201 *\n",
      "---\n",
      "Signif. codes:  0 '***' 0.001 '**' 0.01 '*' 0.05 '.' 0.1 ' ' 1\n",
      "\n",
      "\n"
     ]
    }
   ],
   "source": [
    "library(hdm)\n",
    "\n",
    "rlasso.ira = summary(rlassoEffects(DX, log(inuidur1), index = 1))\n",
    "\n",
    "# rlassoEffects ( Partialling out )\n",
    "# index = 1 (T4 treatment )\n",
    "print(rlasso.ira)"
   ]
  },
  {
   "cell_type": "code",
   "execution_count": 23,
   "metadata": {
    "vscode": {
     "languageId": "r"
    }
   },
   "outputs": [],
   "source": [
    "# getting data\n",
    "S = as.data.frame(DX)\n",
    "save( S, file = \"../../../data/rlasso_ira_reg.RData\")"
   ]
  },
  {
   "cell_type": "code",
   "execution_count": 24,
   "metadata": {
    "vscode": {
     "languageId": "r"
    }
   },
   "outputs": [
    {
     "data": {
      "text/html": [
       "<table class=\"dataframe\">\n",
       "<caption>A data.frame: 6 × 239</caption>\n",
       "<thead>\n",
       "\t<tr><th></th><th scope=col>T2</th><th scope=col>Xfemale</th><th scope=col>Xblack</th><th scope=col>Xothrace</th><th scope=col>Xfactor(dep)1</th><th scope=col>Xfactor(dep)2</th><th scope=col>Xq2</th><th scope=col>Xq3</th><th scope=col>Xq4</th><th scope=col>Xq5</th><th scope=col>⋯</th><th scope=col>T2:Xagelt35:agegt54</th><th scope=col>T2:Xagelt35:durable</th><th scope=col>T2:Xagelt35:lusd</th><th scope=col>T2:Xagelt35:husd</th><th scope=col>T2:Xagegt54:durable</th><th scope=col>T2:Xagegt54:lusd</th><th scope=col>T2:Xagegt54:husd</th><th scope=col>T2:Xdurable:lusd</th><th scope=col>T2:Xdurable:husd</th><th scope=col>T2:Xlusd:husd</th></tr>\n",
       "\t<tr><th></th><th scope=col>&lt;dbl&gt;</th><th scope=col>&lt;dbl&gt;</th><th scope=col>&lt;dbl&gt;</th><th scope=col>&lt;dbl&gt;</th><th scope=col>&lt;dbl&gt;</th><th scope=col>&lt;dbl&gt;</th><th scope=col>&lt;dbl&gt;</th><th scope=col>&lt;dbl&gt;</th><th scope=col>&lt;dbl&gt;</th><th scope=col>&lt;dbl&gt;</th><th scope=col>⋯</th><th scope=col>&lt;dbl&gt;</th><th scope=col>&lt;dbl&gt;</th><th scope=col>&lt;dbl&gt;</th><th scope=col>&lt;dbl&gt;</th><th scope=col>&lt;dbl&gt;</th><th scope=col>&lt;dbl&gt;</th><th scope=col>&lt;dbl&gt;</th><th scope=col>&lt;dbl&gt;</th><th scope=col>&lt;dbl&gt;</th><th scope=col>&lt;dbl&gt;</th></tr>\n",
       "</thead>\n",
       "<tbody>\n",
       "\t<tr><th scope=row>1</th><td>-0.4199239</td><td>-0.4007264</td><td>-0.118817</td><td>-0.005188516</td><td>-0.1165687</td><td> 0.839329</td><td>-0.2001038</td><td>-0.2355586</td><td>-0.2232791</td><td> 0.7367693</td><td>⋯</td><td>0</td><td> 0.03086608</td><td> 0.05563156</td><td> 0.05120138</td><td> 0.007916241</td><td> 0.0136537</td><td> 0.01162017</td><td> 0.02309509</td><td> 0.01220118</td><td>0</td></tr>\n",
       "\t<tr><th scope=row>2</th><td> 0.5800761</td><td>-0.4007264</td><td>-0.118817</td><td>-0.005188516</td><td>-0.1165687</td><td>-0.160671</td><td>-0.2001038</td><td> 0.7644414</td><td>-0.2232791</td><td>-0.2632307</td><td>⋯</td><td>0</td><td>-0.04263790</td><td> 0.50322755</td><td>-0.07072875</td><td>-0.010935367</td><td>-0.0188610</td><td>-0.01605192</td><td>-0.03190318</td><td>-0.01685451</td><td>0</td></tr>\n",
       "\t<tr><th scope=row>3</th><td>-0.4199239</td><td>-0.4007264</td><td>-0.118817</td><td>-0.005188516</td><td>-0.1165687</td><td>-0.160671</td><td>-0.2001038</td><td>-0.2355586</td><td>-0.2232791</td><td> 0.7367693</td><td>⋯</td><td>0</td><td> 0.03086608</td><td> 0.05563156</td><td> 0.05120138</td><td> 0.007916241</td><td> 0.0136537</td><td> 0.01162017</td><td> 0.02309509</td><td> 0.01220118</td><td>0</td></tr>\n",
       "\t<tr><th scope=row>4</th><td>-0.4199239</td><td>-0.4007264</td><td>-0.118817</td><td>-0.005188516</td><td>-0.1165687</td><td>-0.160671</td><td>-0.2001038</td><td>-0.2355586</td><td> 0.7767209</td><td>-0.2632307</td><td>⋯</td><td>0</td><td> 0.03086608</td><td> 0.05563156</td><td> 0.05120138</td><td> 0.007916241</td><td> 0.0136537</td><td> 0.01162017</td><td> 0.02309509</td><td> 0.01220118</td><td>0</td></tr>\n",
       "\t<tr><th scope=row>5</th><td> 0.5800761</td><td> 0.5992736</td><td>-0.118817</td><td>-0.005188516</td><td>-0.1165687</td><td>-0.160671</td><td>-0.2001038</td><td>-0.2355586</td><td> 0.7767209</td><td>-0.2632307</td><td>⋯</td><td>0</td><td>-0.04263790</td><td>-0.07684855</td><td>-0.07072875</td><td>-0.010935367</td><td>-0.0188610</td><td>-0.01605192</td><td>-0.03190318</td><td>-0.01685451</td><td>0</td></tr>\n",
       "\t<tr><th scope=row>6</th><td>-0.4199239</td><td>-0.4007264</td><td>-0.118817</td><td>-0.005188516</td><td> 0.8834313</td><td>-0.160671</td><td>-0.2001038</td><td>-0.2355586</td><td>-0.2232791</td><td> 0.7367693</td><td>⋯</td><td>0</td><td> 0.03086608</td><td> 0.05563156</td><td> 0.05120138</td><td>-0.412007661</td><td>-0.4062702</td><td> 0.01162017</td><td>-0.39682881</td><td> 0.01220118</td><td>0</td></tr>\n",
       "</tbody>\n",
       "</table>\n"
      ],
      "text/latex": [
       "A data.frame: 6 × 239\n",
       "\\begin{tabular}{r|lllllllllllllllllllll}\n",
       "  & T2 & Xfemale & Xblack & Xothrace & Xfactor(dep)1 & Xfactor(dep)2 & Xq2 & Xq3 & Xq4 & Xq5 & ⋯ & T2:Xagelt35:agegt54 & T2:Xagelt35:durable & T2:Xagelt35:lusd & T2:Xagelt35:husd & T2:Xagegt54:durable & T2:Xagegt54:lusd & T2:Xagegt54:husd & T2:Xdurable:lusd & T2:Xdurable:husd & T2:Xlusd:husd\\\\\n",
       "  & <dbl> & <dbl> & <dbl> & <dbl> & <dbl> & <dbl> & <dbl> & <dbl> & <dbl> & <dbl> & ⋯ & <dbl> & <dbl> & <dbl> & <dbl> & <dbl> & <dbl> & <dbl> & <dbl> & <dbl> & <dbl>\\\\\n",
       "\\hline\n",
       "\t1 & -0.4199239 & -0.4007264 & -0.118817 & -0.005188516 & -0.1165687 &  0.839329 & -0.2001038 & -0.2355586 & -0.2232791 &  0.7367693 & ⋯ & 0 &  0.03086608 &  0.05563156 &  0.05120138 &  0.007916241 &  0.0136537 &  0.01162017 &  0.02309509 &  0.01220118 & 0\\\\\n",
       "\t2 &  0.5800761 & -0.4007264 & -0.118817 & -0.005188516 & -0.1165687 & -0.160671 & -0.2001038 &  0.7644414 & -0.2232791 & -0.2632307 & ⋯ & 0 & -0.04263790 &  0.50322755 & -0.07072875 & -0.010935367 & -0.0188610 & -0.01605192 & -0.03190318 & -0.01685451 & 0\\\\\n",
       "\t3 & -0.4199239 & -0.4007264 & -0.118817 & -0.005188516 & -0.1165687 & -0.160671 & -0.2001038 & -0.2355586 & -0.2232791 &  0.7367693 & ⋯ & 0 &  0.03086608 &  0.05563156 &  0.05120138 &  0.007916241 &  0.0136537 &  0.01162017 &  0.02309509 &  0.01220118 & 0\\\\\n",
       "\t4 & -0.4199239 & -0.4007264 & -0.118817 & -0.005188516 & -0.1165687 & -0.160671 & -0.2001038 & -0.2355586 &  0.7767209 & -0.2632307 & ⋯ & 0 &  0.03086608 &  0.05563156 &  0.05120138 &  0.007916241 &  0.0136537 &  0.01162017 &  0.02309509 &  0.01220118 & 0\\\\\n",
       "\t5 &  0.5800761 &  0.5992736 & -0.118817 & -0.005188516 & -0.1165687 & -0.160671 & -0.2001038 & -0.2355586 &  0.7767209 & -0.2632307 & ⋯ & 0 & -0.04263790 & -0.07684855 & -0.07072875 & -0.010935367 & -0.0188610 & -0.01605192 & -0.03190318 & -0.01685451 & 0\\\\\n",
       "\t6 & -0.4199239 & -0.4007264 & -0.118817 & -0.005188516 &  0.8834313 & -0.160671 & -0.2001038 & -0.2355586 & -0.2232791 &  0.7367693 & ⋯ & 0 &  0.03086608 &  0.05563156 &  0.05120138 & -0.412007661 & -0.4062702 &  0.01162017 & -0.39682881 &  0.01220118 & 0\\\\\n",
       "\\end{tabular}\n"
      ],
      "text/markdown": [
       "\n",
       "A data.frame: 6 × 239\n",
       "\n",
       "| <!--/--> | T2 &lt;dbl&gt; | Xfemale &lt;dbl&gt; | Xblack &lt;dbl&gt; | Xothrace &lt;dbl&gt; | Xfactor(dep)1 &lt;dbl&gt; | Xfactor(dep)2 &lt;dbl&gt; | Xq2 &lt;dbl&gt; | Xq3 &lt;dbl&gt; | Xq4 &lt;dbl&gt; | Xq5 &lt;dbl&gt; | ⋯ ⋯ | T2:Xagelt35:agegt54 &lt;dbl&gt; | T2:Xagelt35:durable &lt;dbl&gt; | T2:Xagelt35:lusd &lt;dbl&gt; | T2:Xagelt35:husd &lt;dbl&gt; | T2:Xagegt54:durable &lt;dbl&gt; | T2:Xagegt54:lusd &lt;dbl&gt; | T2:Xagegt54:husd &lt;dbl&gt; | T2:Xdurable:lusd &lt;dbl&gt; | T2:Xdurable:husd &lt;dbl&gt; | T2:Xlusd:husd &lt;dbl&gt; |\n",
       "|---|---|---|---|---|---|---|---|---|---|---|---|---|---|---|---|---|---|---|---|---|---|\n",
       "| 1 | -0.4199239 | -0.4007264 | -0.118817 | -0.005188516 | -0.1165687 |  0.839329 | -0.2001038 | -0.2355586 | -0.2232791 |  0.7367693 | ⋯ | 0 |  0.03086608 |  0.05563156 |  0.05120138 |  0.007916241 |  0.0136537 |  0.01162017 |  0.02309509 |  0.01220118 | 0 |\n",
       "| 2 |  0.5800761 | -0.4007264 | -0.118817 | -0.005188516 | -0.1165687 | -0.160671 | -0.2001038 |  0.7644414 | -0.2232791 | -0.2632307 | ⋯ | 0 | -0.04263790 |  0.50322755 | -0.07072875 | -0.010935367 | -0.0188610 | -0.01605192 | -0.03190318 | -0.01685451 | 0 |\n",
       "| 3 | -0.4199239 | -0.4007264 | -0.118817 | -0.005188516 | -0.1165687 | -0.160671 | -0.2001038 | -0.2355586 | -0.2232791 |  0.7367693 | ⋯ | 0 |  0.03086608 |  0.05563156 |  0.05120138 |  0.007916241 |  0.0136537 |  0.01162017 |  0.02309509 |  0.01220118 | 0 |\n",
       "| 4 | -0.4199239 | -0.4007264 | -0.118817 | -0.005188516 | -0.1165687 | -0.160671 | -0.2001038 | -0.2355586 |  0.7767209 | -0.2632307 | ⋯ | 0 |  0.03086608 |  0.05563156 |  0.05120138 |  0.007916241 |  0.0136537 |  0.01162017 |  0.02309509 |  0.01220118 | 0 |\n",
       "| 5 |  0.5800761 |  0.5992736 | -0.118817 | -0.005188516 | -0.1165687 | -0.160671 | -0.2001038 | -0.2355586 |  0.7767209 | -0.2632307 | ⋯ | 0 | -0.04263790 | -0.07684855 | -0.07072875 | -0.010935367 | -0.0188610 | -0.01605192 | -0.03190318 | -0.01685451 | 0 |\n",
       "| 6 | -0.4199239 | -0.4007264 | -0.118817 | -0.005188516 |  0.8834313 | -0.160671 | -0.2001038 | -0.2355586 | -0.2232791 |  0.7367693 | ⋯ | 0 |  0.03086608 |  0.05563156 |  0.05120138 | -0.412007661 | -0.4062702 |  0.01162017 | -0.39682881 |  0.01220118 | 0 |\n",
       "\n"
      ],
      "text/plain": [
       "  T2         Xfemale    Xblack    Xothrace     Xfactor(dep)1 Xfactor(dep)2\n",
       "1 -0.4199239 -0.4007264 -0.118817 -0.005188516 -0.1165687     0.839329    \n",
       "2  0.5800761 -0.4007264 -0.118817 -0.005188516 -0.1165687    -0.160671    \n",
       "3 -0.4199239 -0.4007264 -0.118817 -0.005188516 -0.1165687    -0.160671    \n",
       "4 -0.4199239 -0.4007264 -0.118817 -0.005188516 -0.1165687    -0.160671    \n",
       "5  0.5800761  0.5992736 -0.118817 -0.005188516 -0.1165687    -0.160671    \n",
       "6 -0.4199239 -0.4007264 -0.118817 -0.005188516  0.8834313    -0.160671    \n",
       "  Xq2        Xq3        Xq4        Xq5        ⋯ T2:Xagelt35:agegt54\n",
       "1 -0.2001038 -0.2355586 -0.2232791  0.7367693 ⋯ 0                  \n",
       "2 -0.2001038  0.7644414 -0.2232791 -0.2632307 ⋯ 0                  \n",
       "3 -0.2001038 -0.2355586 -0.2232791  0.7367693 ⋯ 0                  \n",
       "4 -0.2001038 -0.2355586  0.7767209 -0.2632307 ⋯ 0                  \n",
       "5 -0.2001038 -0.2355586  0.7767209 -0.2632307 ⋯ 0                  \n",
       "6 -0.2001038 -0.2355586 -0.2232791  0.7367693 ⋯ 0                  \n",
       "  T2:Xagelt35:durable T2:Xagelt35:lusd T2:Xagelt35:husd T2:Xagegt54:durable\n",
       "1  0.03086608          0.05563156       0.05120138       0.007916241       \n",
       "2 -0.04263790          0.50322755      -0.07072875      -0.010935367       \n",
       "3  0.03086608          0.05563156       0.05120138       0.007916241       \n",
       "4  0.03086608          0.05563156       0.05120138       0.007916241       \n",
       "5 -0.04263790         -0.07684855      -0.07072875      -0.010935367       \n",
       "6  0.03086608          0.05563156       0.05120138      -0.412007661       \n",
       "  T2:Xagegt54:lusd T2:Xagegt54:husd T2:Xdurable:lusd T2:Xdurable:husd\n",
       "1  0.0136537        0.01162017       0.02309509       0.01220118     \n",
       "2 -0.0188610       -0.01605192      -0.03190318      -0.01685451     \n",
       "3  0.0136537        0.01162017       0.02309509       0.01220118     \n",
       "4  0.0136537        0.01162017       0.02309509       0.01220118     \n",
       "5 -0.0188610       -0.01605192      -0.03190318      -0.01685451     \n",
       "6 -0.4062702        0.01162017      -0.39682881       0.01220118     \n",
       "  T2:Xlusd:husd\n",
       "1 0            \n",
       "2 0            \n",
       "3 0            \n",
       "4 0            \n",
       "5 0            \n",
       "6 0            "
      ]
     },
     "metadata": {},
     "output_type": "display_data"
    }
   ],
   "source": [
    "head(S)"
   ]
  },
  {
   "cell_type": "markdown",
   "metadata": {
    "papermill": {
     "duration": 0.030965,
     "end_time": "2021-02-20T13:42:45.107753",
     "exception": false,
     "start_time": "2021-02-20T13:42:45.076788",
     "status": "completed"
    },
    "tags": []
   },
   "source": [
    "### Results"
   ]
  },
  {
   "cell_type": "code",
   "execution_count": 25,
   "metadata": {
    "execution": {
     "iopub.execute_input": "2021-02-20T13:42:45.214919Z",
     "iopub.status.busy": "2021-02-20T13:42:45.213709Z",
     "iopub.status.idle": "2021-02-20T13:42:45.304637Z",
     "shell.execute_reply": "2021-02-20T13:42:45.303410Z"
    },
    "papermill": {
     "duration": 0.113372,
     "end_time": "2021-02-20T13:42:45.304786",
     "exception": false,
     "start_time": "2021-02-20T13:42:45.191414",
     "status": "completed"
    },
    "tags": [],
    "vscode": {
     "languageId": "r"
    }
   },
   "outputs": [
    {
     "name": "stderr",
     "output_type": "stream",
     "text": [
      "Installing package into 'C:/Users/vn.hoyosm/AppData/Local/R/win-library/4.3'\n",
      "(as 'lib' is unspecified)\n",
      "\n"
     ]
    },
    {
     "name": "stdout",
     "output_type": "stream",
     "text": [
      "package 'xtable' successfully unpacked and MD5 sums checked\n",
      "\n",
      "The downloaded binary packages are in\n",
      "\tC:\\Users\\vn.hoyosm\\AppData\\Local\\Temp\\Rtmp8sXfMD\\downloaded_packages\n"
     ]
    },
    {
     "data": {
      "text/html": [
       "<table class=\"dataframe\">\n",
       "<caption>A xtable: 2 × 4</caption>\n",
       "<thead>\n",
       "\t<tr><th></th><th scope=col>CL</th><th scope=col>CRA</th><th scope=col>IRA</th><th scope=col>IRA w Lasso</th></tr>\n",
       "\t<tr><th></th><th scope=col>&lt;dbl&gt;</th><th scope=col>&lt;dbl&gt;</th><th scope=col>&lt;dbl&gt;</th><th scope=col>&lt;dbl&gt;</th></tr>\n",
       "</thead>\n",
       "<tbody>\n",
       "\t<tr><th scope=row>estimate</th><td>-0.07882533</td><td>-0.07120664</td><td>-0.06990440</td><td>-0.07457328</td></tr>\n",
       "\t<tr><th scope=row>standard error</th><td> 0.03250889</td><td> 0.03204403</td><td> 0.03207638</td><td> 0.03208892</td></tr>\n",
       "</tbody>\n",
       "</table>\n"
      ],
      "text/latex": [
       "A xtable: 2 × 4\n",
       "\\begin{tabular}{r|llll}\n",
       "  & CL & CRA & IRA & IRA w Lasso\\\\\n",
       "  & <dbl> & <dbl> & <dbl> & <dbl>\\\\\n",
       "\\hline\n",
       "\testimate & -0.07882533 & -0.07120664 & -0.06990440 & -0.07457328\\\\\n",
       "\tstandard error &  0.03250889 &  0.03204403 &  0.03207638 &  0.03208892\\\\\n",
       "\\end{tabular}\n"
      ],
      "text/markdown": [
       "\n",
       "A xtable: 2 × 4\n",
       "\n",
       "| <!--/--> | CL &lt;dbl&gt; | CRA &lt;dbl&gt; | IRA &lt;dbl&gt; | IRA w Lasso &lt;dbl&gt; |\n",
       "|---|---|---|---|---|\n",
       "| estimate | -0.07882533 | -0.07120664 | -0.06990440 | -0.07457328 |\n",
       "| standard error |  0.03250889 |  0.03204403 |  0.03207638 |  0.03208892 |\n",
       "\n"
      ],
      "text/plain": [
       "               CL          CRA         IRA         IRA w Lasso\n",
       "estimate       -0.07882533 -0.07120664 -0.06990440 -0.07457328\n",
       "standard error  0.03250889  0.03204403  0.03207638  0.03208892"
      ]
     },
     "metadata": {},
     "output_type": "display_data"
    },
    {
     "name": "stdout",
     "output_type": "stream",
     "text": [
      "% latex table generated in R 4.3.3 by xtable 1.8-4 package\n",
      "% Wed Apr 24 14:43:29 2024\n",
      "\\begin{table}[ht]\n",
      "\\centering\n",
      "\\begin{tabular}{rrrrr}\n",
      "  \\hline\n",
      " & CL & CRA & IRA & IRA w Lasso \\\\ \n",
      "  \\hline\n",
      "estimate & -0.07883 & -0.07121 & -0.06990 & -0.07457 \\\\ \n",
      "  standard error & 0.03251 & 0.03204 & 0.03208 & 0.03209 \\\\ \n",
      "   \\hline\n",
      "\\end{tabular}\n",
      "\\end{table}\n"
     ]
    }
   ],
   "source": [
    "install.packages(\"xtable\")\n",
    "library(xtable)\n",
    "table<- matrix(0, 2, 4)\n",
    "table[1,1]<-  ols.cl[2,1]\n",
    "table[1,2]<-  ols.cra[2,1]\n",
    "table[1,3]<-  ols.ira[2,1]\n",
    "table[1,4]<-  rlasso.ira[[1]][1]\n",
    "\n",
    "table[2,1]<-  ols.cl[2,2]\n",
    "table[2,2]<-  ols.cra[2,2]\n",
    "table[2,3]<-  ols.ira[2,2]\n",
    "table[2,4]<-  rlasso.ira[[1]][2]\n",
    "\n",
    "\n",
    "colnames(table)<- c(\"CL\",\"CRA\",\"IRA\", \"IRA w Lasso\")\n",
    "rownames(table)<- c(\"estimate\", \"standard error\")\n",
    "tab<- xtable(table, digits=5)\n",
    "tab\n",
    "\n",
    "print(tab, type=\"latex\", digits=5)"
   ]
  },
  {
   "cell_type": "markdown",
   "metadata": {},
   "source": [
    "* #### **Using the 3. interactive regression adjustment (IRA) plot the coefficients of the next variables**"
   ]
  },
  {
   "cell_type": "code",
   "execution_count": 26,
   "metadata": {
    "vscode": {
     "languageId": "r"
    }
   },
   "outputs": [],
   "source": [
    "CIdf <- data.frame(x = c('T2*female','T2*black','T2*agelt35','T2*factor(dep)1'),\n",
    "                         y = c(ols_ira.female, ols_ira.black,ols_ira.age, ols_ira.dep1),\n",
    "                         lower = c(CI1low,CI2low,CI3low,CI4low),\n",
    "                         upper = c(CI1upper,CI2upper,CI3upper,CI4upper))"
   ]
  },
  {
   "cell_type": "code",
   "execution_count": 27,
   "metadata": {
    "vscode": {
     "languageId": "r"
    }
   },
   "outputs": [
    {
     "data": {
      "image/png": "[encoded data removed]",
      "text/plain": [
       "plot without title"
      ]
     },
     "metadata": {
      "image/png": {
       "height": 420,
       "width": 420
      }
     },
     "output_type": "display_data"
    }
   ],
   "source": [
    "ggplot(CIdf, aes(x, y)) +\n",
    "  geom_point(color = \"darkred\") +  \n",
    "  geom_errorbar(aes(ymin = lower, ymax = upper), color = \"navyblue\") +  \n",
    "  ggtitle(\"Figure 3: C.I. Interactive regression adjustment coefficients.\") +\n",
    "  theme_light()\n",
    "     "
   ]
  },
  {
   "cell_type": "markdown",
   "metadata": {},
   "source": [
    "# A Crash Course in Good and Bad Controls\n",
    "\n",
    "In this section, we will cover various models that illustrate \"good\" and \"bad\" controls within statistical analyses. These terms refer to the effects of adding a variable to a regression model—whether such inclusion results in discrepancies or aids interpretation of the model. For a more detailed exploration of these concepts, you are encouraged to review the full text available in the technical report [here](https://ftp.cs.ucla.edu/pub/stat_ser/r493.pdf).\n"
   ]
  },
  {
   "cell_type": "markdown",
   "metadata": {},
   "source": [
    "#Good Controls 1 (blocking back-door paths)\n",
    "###MODEL 1\n",
    "In this case, we want to measure the effect of hours of study ($X$) on students' academic performance as measured by final grades ($Y$). If we run the regression without taking into account nutrition ($Z$), which affects both $X$ and $Y$, the coefficients will be biased. By including $Z$ in the model, a cleaner effect of hours of study on final grades can be obtained, approaching 1, which is the true parameter ( $\\approx1$)."
   ]
  },
  {
   "cell_type": "code",
   "execution_count": 28,
   "metadata": {
    "vscode": {
     "languageId": "r"
    }
   },
   "outputs": [
    {
     "name": "stderr",
     "output_type": "stream",
     "text": [
      "\n",
      "Attaching package: 'igraph'\n",
      "\n",
      "\n",
      "The following objects are masked from 'package:stats':\n",
      "\n",
      "    decompose, spectrum\n",
      "\n",
      "\n",
      "The following object is masked from 'package:base':\n",
      "\n",
      "    union\n",
      "\n",
      "\n"
     ]
    },
    {
     "data": {
      "image/png": "[encoded data removed]",
      "text/plain": [
       "Plot with title \"MODEL 1\""
      ]
     },
     "metadata": {
      "image/png": {
       "height": 420,
       "width": 420
      }
     },
     "output_type": "display_data"
    }
   ],
   "source": [
    "library(igraph)\n",
    "# Create a directed graph with specified edges and number of vertices\n",
    "sprinkle <- graph(edges = c(1, 2, 1, 3, 2, 3), n = 3, directed = TRUE)\n",
    "\n",
    "# Assign names to the vertices\n",
    "V(sprinkle)$name <- c(\"x\", \"z\", \"y\")\n",
    "\n",
    "# Plot the graph in a circular layout\n",
    "plot(sprinkle, layout = layout.circle,vertex.size = 25, # Increases the size of the vertices\n",
    "     edge.arrow.size = 0.1,#Change the size of the arrowheads\n",
    "     vertex.colour = \"skyblue\", # Vertex label colour\n",
    "     vertex.label.colour = \"red\", # Colour of the vertex label\n",
    "     vertex.label.cex = 2, # Increases the size of the vertex label\n",
    "     vertex.label.label.family = \"Helvetica\", # Label font type\n",
    "     edge.width = 0.3, # Edge thickness\n",
    "     edge.colour = \"blue\", # Border colour\n",
    "     vertex.shape = \"sphere\",\n",
    "     main = \"MODEL 1\") # GRAPH TITLE\n"
   ]
  },
  {
   "cell_type": "code",
   "execution_count": 29,
   "metadata": {
    "vscode": {
     "languageId": "r"
    }
   },
   "outputs": [],
   "source": [
    "# Set Seed\n",
    "# To make the results replicable (generating random numbers)\n",
    "set.seed(1234567)\n",
    "\n",
    "# Generate data\n",
    "n <- 1000\n",
    "Z <- matrix(rnorm(n, mean = 0, sd = 1), ncol = 1)\n",
    "X <- 2 * Z + matrix(rnorm(n, mean = 0, sd = 1), ncol = 1)\n",
    "Y <- X + Z + matrix(rnorm(n, mean = 0, sd = 1), ncol = 1)\n",
    "\n",
    "# Create dataframe\n",
    "data <- data.frame(Z = Z, X = X, Y = Y)"
   ]
  },
  {
   "cell_type": "code",
   "execution_count": 30,
   "metadata": {
    "vscode": {
     "languageId": "r"
    }
   },
   "outputs": [
    {
     "data": {
      "text/plain": [
       "\n",
       "Call:\n",
       "lm(formula = Y ~ X, data = data)\n",
       "\n",
       "Residuals:\n",
       "    Min      1Q  Median      3Q     Max \n",
       "-3.4825 -0.7057 -0.0475  0.7142  4.3064 \n",
       "\n",
       "Coefficients:\n",
       "             Estimate Std. Error t value Pr(>|t|)    \n",
       "(Intercept) -0.003953   0.034892  -0.113     0.91    \n",
       "X            1.402810   0.015884  88.314   <2e-16 ***\n",
       "---\n",
       "Signif. codes:  0 '***' 0.001 '**' 0.01 '*' 0.05 '.' 0.1 ' ' 1\n",
       "\n",
       "Residual standard error: 1.103 on 998 degrees of freedom\n",
       "Multiple R-squared:  0.8866,\tAdjusted R-squared:  0.8864 \n",
       "F-statistic:  7799 on 1 and 998 DF,  p-value: < 2.2e-16\n"
      ]
     },
     "metadata": {},
     "output_type": "display_data"
    },
    {
     "data": {
      "text/plain": [
       "\n",
       "Call:\n",
       "lm(formula = Y ~ X + Z, data = data)\n",
       "\n",
       "Residuals:\n",
       "    Min      1Q  Median      3Q     Max \n",
       "-3.2981 -0.6776 -0.0586  0.6585  3.3177 \n",
       "\n",
       "Coefficients:\n",
       "            Estimate Std. Error t value Pr(>|t|)    \n",
       "(Intercept) -0.01069    0.03202  -0.334    0.739    \n",
       "X            1.00757    0.03227  31.222   <2e-16 ***\n",
       "Z            0.97774    0.07123  13.727   <2e-16 ***\n",
       "---\n",
       "Signif. codes:  0 '***' 0.001 '**' 0.01 '*' 0.05 '.' 0.1 ' ' 1\n",
       "\n",
       "Residual standard error: 1.012 on 997 degrees of freedom\n",
       "Multiple R-squared:  0.9046,\tAdjusted R-squared:  0.9044 \n",
       "F-statistic:  4726 on 2 and 997 DF,  p-value: < 2.2e-16\n"
      ]
     },
     "metadata": {},
     "output_type": "display_data"
    }
   ],
   "source": [
    "# Regressions\n",
    "no_control <- lm(Y ~ X, data = data)\n",
    "using_control <- lm(Y ~ X + Z, data = data)\n",
    "\n",
    "# Summary results\n",
    "summary(no_control)\n",
    "summary(using_control)"
   ]
  },
  {
   "cell_type": "markdown",
   "metadata": {},
   "source": [
    "###Model 2\n",
    "\n",
    "In this case we want to see how much anti-corruption laws($X$) affect the number of corruption cases($Y$). But there is an unobservable variable that affects both, which is the feeling of injustice, which drives criminality and increases the number of laws. Then, we control for the number of active judges($Z$) to clean up the effect of the unobservable on my X. Finally controlling, my coefficient is close to my variable ($\\approx 0.5$).\n",
    "\n"
   ]
  },
  {
   "cell_type": "code",
   "execution_count": 31,
   "metadata": {
    "vscode": {
     "languageId": "r"
    }
   },
   "outputs": [
    {
     "name": "stderr",
     "output_type": "stream",
     "text": [
      "Warning message in text.default(x, y, labels = labels, col = label.color, family = label.family, :\n",
      "\"font family not found in Windows font database\"\n"
     ]
    },
    {
     "data": {
      "image/png": "[encoded data removed]",
      "text/plain": [
       "Plot with title \"Model 2\""
      ]
     },
     "metadata": {
      "image/png": {
       "height": 420,
       "width": 420
      }
     },
     "output_type": "display_data"
    }
   ],
   "source": [
    "# Define nodes and edges including latent edges as different style.\n",
    "edges <- c(\"Z\", \"X\", \"X\", \"Y\", \"Latent\", \"Z\", \"Latent\", \"Y\")\n",
    "edge_types <- c(\"observed\", \"observed\", \"latent\", \"latent\")\n",
    "\n",
    "# Create the graph\n",
    "sprinkler <- graph(edges, directed = TRUE)\n",
    "\n",
    "# Set vertex names\n",
    "V(sprinkler)$name <- c(\"Z\", \"X\", \"Y\", \"Unobservable\")\n",
    "\n",
    "# Assign edge types (latent or observed)\n",
    "E(sprinkler)$type <- edge_types\n",
    "\n",
    "# Define edge style based on type\n",
    "E(sprinkler)$color <- ifelse(E(sprinkler)$type == \"observed\", \"black\", \"red\")\n",
    "E(sprinkler)$arrow.size <- 0.1\n",
    "E(sprinkler)$arrow.width <- 2\n",
    "E(sprinkler)$lty <- ifelse(E(sprinkler)$type == \"observed\", 1, 2) # Solid for observed, dashed for latent\n",
    "\n",
    "# Plot graph with curves and customisations\n",
    "plot(sprinkler, layout = layout_nicely(sprinkler),\n",
    "     vertex.size = 30, # Adjust size of vertices\n",
    "     vertex.colour = \"skyblue\", # Set vertex colour\n",
    "     vertex.label.colour = \"black\", # Set the vertex label colour\n",
    "     vertex.label.cex = 1.5, # Sets the font size of the vertex label\n",
    "     vertex.label.family = \"Helvetica\", # Sets the label's font family\n",
    "     edge.curved = 0.2, # Adjust the curvature of the edges\n",
    "     main = \"Model 2\") #GRAPH TITLE"
   ]
  },
  {
   "cell_type": "code",
   "execution_count": 32,
   "metadata": {
    "vscode": {
     "languageId": "r"
    }
   },
   "outputs": [],
   "source": [
    "# Set Seed\n",
    "# To make the results replicable (generating random numbers)\n",
    "set.seed(1234567)\n",
    "\n",
    "# Generate data\n",
    "n <- 1000\n",
    "U <- matrix(rnorm(n, mean = 0, sd = 1), ncol = 1)\n",
    "Z <- 3 * U + matrix(rnorm(n, mean = 0, sd = 1), ncol = 1)\n",
    "X <- Z + matrix(rnorm(n, mean = 0, sd = 1), ncol = 1)\n",
    "Y <- 0.5 * X + 2 * U + matrix(rnorm(n, mean = 0, sd = 1), ncol = 1)\n",
    "\n",
    "# Create dataframe\n",
    "data <- data.frame(U = U, Z = Z, X = X, Y = Y)\n",
    "\n",
    "\n"
   ]
  },
  {
   "cell_type": "code",
   "execution_count": 33,
   "metadata": {
    "vscode": {
     "languageId": "r"
    }
   },
   "outputs": [
    {
     "data": {
      "text/plain": [
       "\n",
       "Call:\n",
       "lm(formula = Y ~ X, data = data)\n",
       "\n",
       "Residuals:\n",
       "    Min      1Q  Median      3Q     Max \n",
       "-3.7309 -0.9189 -0.0846  0.9308  4.8195 \n",
       "\n",
       "Coefficients:\n",
       "            Estimate Std. Error t value Pr(>|t|)    \n",
       "(Intercept) -0.05425    0.04278  -1.268    0.205    \n",
       "X            1.04629    0.01307  80.036   <2e-16 ***\n",
       "---\n",
       "Signif. codes:  0 '***' 0.001 '**' 0.01 '*' 0.05 '.' 0.1 ' ' 1\n",
       "\n",
       "Residual standard error: 1.353 on 998 degrees of freedom\n",
       "Multiple R-squared:  0.8652,\tAdjusted R-squared:  0.8651 \n",
       "F-statistic:  6406 on 1 and 998 DF,  p-value: < 2.2e-16\n"
      ]
     },
     "metadata": {},
     "output_type": "display_data"
    },
    {
     "data": {
      "text/plain": [
       "\n",
       "Call:\n",
       "lm(formula = Y ~ X + Z, data = data)\n",
       "\n",
       "Residuals:\n",
       "    Min      1Q  Median      3Q     Max \n",
       "-3.8194 -0.8272 -0.1053  0.8398  4.4475 \n",
       "\n",
       "Coefficients:\n",
       "            Estimate Std. Error t value Pr(>|t|)    \n",
       "(Intercept) -0.05880    0.03822  -1.539    0.124    \n",
       "X            0.47369    0.03781  12.530   <2e-16 ***\n",
       "Z            0.63207    0.03969  15.925   <2e-16 ***\n",
       "---\n",
       "Signif. codes:  0 '***' 0.001 '**' 0.01 '*' 0.05 '.' 0.1 ' ' 1\n",
       "\n",
       "Residual standard error: 1.209 on 997 degrees of freedom\n",
       "Multiple R-squared:  0.8925,\tAdjusted R-squared:  0.8923 \n",
       "F-statistic:  4140 on 2 and 997 DF,  p-value: < 2.2e-16\n"
      ]
     },
     "metadata": {},
     "output_type": "display_data"
    }
   ],
   "source": [
    "# Regressions\n",
    "no_control <- lm(Y ~ X, data = data)\n",
    "using_control <- lm(Y ~ X + Z, data = data)\n",
    "\n",
    "# Summary results\n",
    "summary(no_control)\n",
    "summary(using_control)"
   ]
  },
  {
   "cell_type": "markdown",
   "metadata": {},
   "source": [
    "#Bad Control (M-bias)\n",
    "\n",
    "###MODEL 7\n",
    "\n",
    "Now, if we want to study how education($X$) affects diabetes($Y$) we could adjust for the mother's diabetes status($Z$) and consider it a confounder. However, this association is not direct, and adjusting for the mother will open up an association with income during childhood($U_1$) and overall risk of diabetes ($U_2$)."
   ]
  },
  {
   "cell_type": "code",
   "execution_count": 34,
   "metadata": {
    "vscode": {
     "languageId": "r"
    }
   },
   "outputs": [
    {
     "data": {
      "image/png": "[encoded data removed]",
      "text/plain": [
       "Plot with title \"MODEL 7\""
      ]
     },
     "metadata": {
      "image/png": {
       "height": 420,
       "width": 420
      }
     },
     "output_type": "display_data"
    }
   ],
   "source": [
    "# Define nodes and edges\n",
    "edges <- c(\"U1\", \"Z\", \"U2\", \"Z\", \"U2\", \"X\", \"U1\", \"Y\", \"X\", \"Y\")\n",
    "\n",
    "# Create the directed graph with nodes and edges defined\n",
    "sprinkle <- graph(edges, directed = TRUE)\n",
    "\n",
    "# Set names for the vertices if needed (optional since they are defined in edges)\n",
    "V(sprinkle)$name <- c(\"U1\", \"Z\", \"U2\", \"X\", \"Y\")\n",
    "\n",
    "# Plot the graph with customizations\n",
    "plot(sprinkle, layout = layout_nicely(sprinkle),\n",
    "     vertex.size = 20,            # Adjusts the size of the vertices\n",
    "     vertex.color = \"skyblue\",    # Sets the vertex color\n",
    "     vertex.label.color = \"black\", # Sets the vertex label color\n",
    "     vertex.label.cex = 1.2,      # Adjusts the font size of vertex labels\n",
    "     edge.arrow.size = 0.2,       # Adjusts the size of the arrows to be smaller\n",
    "     edge.width = 2,              # Adjusts the thickness of the edges\n",
    "     main = \"MODEL 7\") # Graph title\n"
   ]
  },
  {
   "cell_type": "code",
   "execution_count": 35,
   "metadata": {
    "vscode": {
     "languageId": "r"
    }
   },
   "outputs": [],
   "source": [
    "# Set Seed\n",
    "# To make the results replicable (generating random numbers)\n",
    "set.seed(12345676)\n",
    "\n",
    "# Generate data\n",
    "n <- 1000\n",
    "U_1 <- matrix(rnorm(n, mean = 0, sd = 1), ncol = 1)\n",
    "U_2 <- matrix(rnorm(n, mean = 0, sd = 1), ncol = 1)\n",
    "\n",
    "Z <- U_1 + U_2 + matrix(rnorm(n, mean = 0, sd = 1), ncol = 1)\n",
    "X <- 1.5 * U_1 + matrix(rnorm(n, mean = 0, sd = 1), ncol = 1)\n",
    "Y <- X + 2.5 * U_2 + matrix(rnorm(n, mean = 0, sd = 1), ncol = 1)\n",
    "\n",
    "# Create dataframe\n",
    "data <- data.frame(U_1 = U_1, U_2 = U_2, Z = Z, X = X, Y = Y)\n",
    "\n"
   ]
  },
  {
   "cell_type": "code",
   "execution_count": 36,
   "metadata": {
    "vscode": {
     "languageId": "r"
    }
   },
   "outputs": [
    {
     "data": {
      "text/plain": [
       "\n",
       "Call:\n",
       "lm(formula = Y ~ X, data = data)\n",
       "\n",
       "Residuals:\n",
       "    Min      1Q  Median      3Q     Max \n",
       "-9.1907 -1.7167 -0.0141  1.7659  7.8172 \n",
       "\n",
       "Coefficients:\n",
       "            Estimate Std. Error t value Pr(>|t|)    \n",
       "(Intercept)  0.05503    0.08605   0.639    0.523    \n",
       "X            0.98486    0.04902  20.092   <2e-16 ***\n",
       "---\n",
       "Signif. codes:  0 '***' 0.001 '**' 0.01 '*' 0.05 '.' 0.1 ' ' 1\n",
       "\n",
       "Residual standard error: 2.72 on 998 degrees of freedom\n",
       "Multiple R-squared:  0.288,\tAdjusted R-squared:  0.2873 \n",
       "F-statistic: 403.7 on 1 and 998 DF,  p-value: < 2.2e-16\n"
      ]
     },
     "metadata": {},
     "output_type": "display_data"
    },
    {
     "data": {
      "text/plain": [
       "\n",
       "Call:\n",
       "lm(formula = Y ~ X + Z, data = data)\n",
       "\n",
       "Residuals:\n",
       "    Min      1Q  Median      3Q     Max \n",
       "-8.4769 -1.4166  0.0225  1.4589  7.7379 \n",
       "\n",
       "Coefficients:\n",
       "            Estimate Std. Error t value Pr(>|t|)    \n",
       "(Intercept)  0.05301    0.06689   0.792    0.428    \n",
       "X            0.50418    0.04248  11.868   <2e-16 ***\n",
       "Z            1.07251    0.04192  25.588   <2e-16 ***\n",
       "---\n",
       "Signif. codes:  0 '***' 0.001 '**' 0.01 '*' 0.05 '.' 0.1 ' ' 1\n",
       "\n",
       "Residual standard error: 2.114 on 997 degrees of freedom\n",
       "Multiple R-squared:  0.5702,\tAdjusted R-squared:  0.5694 \n",
       "F-statistic: 661.4 on 2 and 997 DF,  p-value: < 2.2e-16\n"
      ]
     },
     "metadata": {},
     "output_type": "display_data"
    }
   ],
   "source": [
    "# Regressions\n",
    "no_control <- lm(Y ~ X, data = data)\n",
    "using_control <- lm(Y ~ X + Z, data = data)\n",
    "\n",
    "# Summary results\n",
    "summary(no_control)\n",
    "summary(using_control)"
   ]
  },
  {
   "cell_type": "markdown",
   "metadata": {},
   "source": [
    "#Neutral Control (possibly good for precision)\n",
    "\n",
    "###Model 8\n",
    "\n",
    "In this case, we want to estimate how the introduction of a new smart learning programme ($X$) affects the academic performance of students ($Y$). When we run this regression, our estimator is unbiased. However, if we include the attendance rate ($Z$), which also affects performance, we can increase the precision of the estimator and still remain unbiased and increase the precision."
   ]
  },
  {
   "cell_type": "code",
   "execution_count": 37,
   "metadata": {
    "vscode": {
     "languageId": "r"
    }
   },
   "outputs": [
    {
     "data": {
      "image/png": "[encoded data removed]",
      "text/plain": [
       "Plot with title \"MODEL 8\""
      ]
     },
     "metadata": {
      "image/png": {
       "height": 420,
       "width": 420
      }
     },
     "output_type": "display_data"
    }
   ],
   "source": [
    "# Define nodes and edges\n",
    "edges <- c(\"X\", \"Y\", \"Z\", \"Y\")\n",
    "\n",
    "# Create the directed graph with nodes and edges defined\n",
    "sprinkle <- graph(edges, directed = TRUE)\n",
    "\n",
    "# Set names for the vertices if needed (optional since they are defined in edges)\n",
    "V(sprinkle)$name <- c(\"X\", \"Y\", \"Z\")\n",
    "\n",
    "# Plot the graph with customizations\n",
    "plot(sprinkle, layout = layout_nicely(sprinkle),\n",
    "     vertex.size = 20,            # Adjusts the size of the vertices\n",
    "     vertex.color = \"skyblue\",    # Sets the vertex color\n",
    "     vertex.label.color = \"black\", # Sets the vertex label color\n",
    "     vertex.label.cex = 1.2,      # Adjusts the font size of vertex labels\n",
    "     edge.arrow.size = 0.2,       # Adjusts the size of the arrows to be smaller\n",
    "     edge.width = 2,              # Adjusts the thickness of the edges\n",
    "     main = \"MODEL 8\") # Graph title\n"
   ]
  },
  {
   "cell_type": "code",
   "execution_count": 38,
   "metadata": {
    "vscode": {
     "languageId": "r"
    }
   },
   "outputs": [],
   "source": [
    "# Set Seed\n",
    "# To make the results replicable (generating random numbers)\n",
    "set.seed(12345676)\n",
    "\n",
    "# Generate data\n",
    "n <- 1000\n",
    "Z <- matrix(rnorm(n, mean = 0, sd = 1), ncol = 1)\n",
    "X <- matrix(rnorm(n, mean = 0, sd = 1), ncol = 1)\n",
    "Y <- X + 1.5 * Z + matrix(rnorm(n, mean = 0, sd = 1), ncol = 1)\n",
    "\n",
    "# Create dataframe\n",
    "data <- data.frame(Z = Z, X = X, Y = Y)\n",
    "\n"
   ]
  },
  {
   "cell_type": "code",
   "execution_count": 39,
   "metadata": {
    "vscode": {
     "languageId": "r"
    }
   },
   "outputs": [
    {
     "data": {
      "text/plain": [
       "\n",
       "Call:\n",
       "lm(formula = Y ~ X, data = data)\n",
       "\n",
       "Residuals:\n",
       "    Min      1Q  Median      3Q     Max \n",
       "-6.6349 -1.2718  0.0289  1.2724  5.0490 \n",
       "\n",
       "Coefficients:\n",
       "            Estimate Std. Error t value Pr(>|t|)    \n",
       "(Intercept)  0.01047    0.05674   0.185    0.854    \n",
       "X            1.06537    0.05512  19.330   <2e-16 ***\n",
       "---\n",
       "Signif. codes:  0 '***' 0.001 '**' 0.01 '*' 0.05 '.' 0.1 ' ' 1\n",
       "\n",
       "Residual standard error: 1.794 on 998 degrees of freedom\n",
       "Multiple R-squared:  0.2724,\tAdjusted R-squared:  0.2717 \n",
       "F-statistic: 373.6 on 1 and 998 DF,  p-value: < 2.2e-16\n"
      ]
     },
     "metadata": {},
     "output_type": "display_data"
    },
    {
     "data": {
      "text/plain": [
       "\n",
       "Call:\n",
       "lm(formula = Y ~ X + Z, data = data)\n",
       "\n",
       "Residuals:\n",
       "    Min      1Q  Median      3Q     Max \n",
       "-3.5100 -0.6873  0.0084  0.6944  3.2094 \n",
       "\n",
       "Coefficients:\n",
       "            Estimate Std. Error t value Pr(>|t|)    \n",
       "(Intercept) -0.02095    0.03132  -0.669    0.504    \n",
       "X            1.00564    0.03045  33.030   <2e-16 ***\n",
       "Z            1.55237    0.03252  47.738   <2e-16 ***\n",
       "---\n",
       "Signif. codes:  0 '***' 0.001 '**' 0.01 '*' 0.05 '.' 0.1 ' ' 1\n",
       "\n",
       "Residual standard error: 0.9901 on 997 degrees of freedom\n",
       "Multiple R-squared:  0.7786,\tAdjusted R-squared:  0.7781 \n",
       "F-statistic:  1753 on 2 and 997 DF,  p-value: < 2.2e-16\n"
      ]
     },
     "metadata": {},
     "output_type": "display_data"
    }
   ],
   "source": [
    "# Regressions\n",
    "no_control <- lm(Y ~ X, data = data)\n",
    "using_control <- lm(Y ~ X + Z, data = data)\n",
    "\n",
    "# Summary results\n",
    "summary(no_control)\n",
    "summary(using_control)\n"
   ]
  },
  {
   "cell_type": "markdown",
   "metadata": {},
   "source": [
    "#Bad Controls (Overcontrol Bias)\n",
    "\n",
    "###Model 11\n",
    "\n",
    "In this case we want to analyse how the growth of the city in terms of urban infrastructure (residential areas, shopping centres, etc.) impacts on the level of vehicle congestion ($Y$). Now, if we add a variable such as the number of cars ($Z$) that is affected by the infrastructure, but not vice versa and that causes a higher level of congestion, we would be removing the explanatory power of $X$. Now by controlling for both variables, the estimator of X loses significance and moves away from its true estimator ($\\neq1$).\n"
   ]
  },
  {
   "cell_type": "code",
   "execution_count": 40,
   "metadata": {
    "vscode": {
     "languageId": "r"
    }
   },
   "outputs": [
    {
     "ename": "ERROR",
     "evalue": "Error in V()$name <- c(\"X\", \"Z\", \"Y\"): lado izquierdo de la asignación inválida (NULL)\n",
     "output_type": "error",
     "traceback": [
      "Error in V()$name <- c(\"X\", \"Z\", \"Y\"): lado izquierdo de la asignación inválida (NULL)\nTraceback:\n"
     ]
    }
   ],
   "source": [
    "# Define nodes and edges\n",
    "edges <- c(\"X\", \"Z\", \"Z\", \"Y\")\n",
    "\n",
    "# Create the directed graph with nodes and edges defined\n",
    "sprinkle <- graph(edges, directed = TRUE)\n",
    "\n",
    "# Set names for the vertices\n",
    "V(sprinkle)$name <- c(\"X\", \"Z\", \"Y\")\n",
    "\n",
    "# Plot the graph with customizations\n",
    "plot(sprinkle, layout = layout_nicely(sprinkle),\n",
    "     vertex.size = 20,            # Adjusts the size of the vertices\n",
    "     vertex.color = \"skyblue\",    # Sets the vertex color\n",
    "     vertex.label.color = \"black\", # Sets the vertex label\n",
    "     vertex.label.cex = 1.2,      # Adjusts the font size of vertex labels\n",
    "     edge.arrow.size = 0.2,       # Adjusts the size of the arrows to be smaller\n",
    "     edge.width = 2,              # Adjusts the thickness of the edges\n",
    "     main = \"MODEL 11\") # Graph title"
   ]
  },
  {
   "cell_type": "code",
   "execution_count": 41,
   "metadata": {
    "vscode": {
     "languageId": "r"
    }
   },
   "outputs": [],
   "source": [
    "# Set Seed\n",
    "# To make the results replicable (generating random numbers)\n",
    "set.seed(1234567)\n",
    "\n",
    "# Generate data\n",
    "n <- 1000\n",
    "X <- matrix(rnorm(n, mean = 0, sd = 1), ncol = 1) # Generate X\n",
    "Z <- 1.3 * X + matrix(rnorm(n, mean = 0, sd = 1), ncol = 1) # Generate Z\n",
    "Y <- Z + matrix(rnorm(n, mean = 0, sd = 1), ncol = 1) # Generate Y\n",
    "\n",
    "# Create dataframe\n",
    "data <- data.frame(Z = Z, X = X, Y = Y)"
   ]
  },
  {
   "cell_type": "code",
   "execution_count": 42,
   "metadata": {
    "vscode": {
     "languageId": "r"
    }
   },
   "outputs": [
    {
     "data": {
      "text/plain": [
       "\n",
       "Call:\n",
       "lm(formula = Y ~ X, data = data)\n",
       "\n",
       "Residuals:\n",
       "    Min      1Q  Median      3Q     Max \n",
       "-5.1327 -0.9115  0.0324  0.8743  5.3061 \n",
       "\n",
       "Coefficients:\n",
       "            Estimate Std. Error t value Pr(>|t|)    \n",
       "(Intercept) -0.02939    0.04500  -0.653    0.514    \n",
       "X            1.26186    0.04522  27.908   <2e-16 ***\n",
       "---\n",
       "Signif. codes:  0 '***' 0.001 '**' 0.01 '*' 0.05 '.' 0.1 ' ' 1\n",
       "\n",
       "Residual standard error: 1.423 on 998 degrees of freedom\n",
       "Multiple R-squared:  0.4383,\tAdjusted R-squared:  0.4378 \n",
       "F-statistic: 778.8 on 1 and 998 DF,  p-value: < 2.2e-16\n"
      ]
     },
     "metadata": {},
     "output_type": "display_data"
    },
    {
     "data": {
      "text/plain": [
       "\n",
       "Call:\n",
       "lm(formula = Y ~ X + Z, data = data)\n",
       "\n",
       "Residuals:\n",
       "    Min      1Q  Median      3Q     Max \n",
       "-3.2981 -0.6776 -0.0586  0.6585  3.3177 \n",
       "\n",
       "Coefficients:\n",
       "            Estimate Std. Error t value Pr(>|t|)    \n",
       "(Intercept) -0.01069    0.03202  -0.334    0.739    \n",
       "X           -0.01696    0.05208  -0.326    0.745    \n",
       "Z            1.00757    0.03227  31.222   <2e-16 ***\n",
       "---\n",
       "Signif. codes:  0 '***' 0.001 '**' 0.01 '*' 0.05 '.' 0.1 ' ' 1\n",
       "\n",
       "Residual standard error: 1.012 on 997 degrees of freedom\n",
       "Multiple R-squared:  0.716,\tAdjusted R-squared:  0.7154 \n",
       "F-statistic:  1257 on 2 and 997 DF,  p-value: < 2.2e-16\n"
      ]
     },
     "metadata": {},
     "output_type": "display_data"
    }
   ],
   "source": [
    "# Regressions\n",
    "no_control <- lm(Y ~ X, data = data)\n",
    "using_control <- lm(Y ~ X + Z, data = data)\n",
    "\n",
    "# Summary results\n",
    "summary(no_control)\n",
    "summary(using_control)"
   ]
  },
  {
   "cell_type": "code",
   "execution_count": null,
   "metadata": {
    "vscode": {
     "languageId": "r"
    }
   },
   "outputs": [],
   "source": []
  },
  {
   "cell_type": "code",
   "execution_count": null,
   "metadata": {
    "vscode": {
     "languageId": "r"
    }
   },
   "outputs": [],
   "source": []
  }
 ],
 "metadata": {
  "hide_input": false,
  "kernelspec": {
   "display_name": "R",
   "language": "R",
   "name": "ir"
  },
  "language_info": {
   "codemirror_mode": "r",
   "file_extension": ".r",
   "mimetype": "text/x-r-source",
   "name": "R",
   "pygments_lexer": "r",
   "version": "4.3.3"
  },
  "papermill": {
   "default_parameters": {},
   "duration": 7.178818,
   "end_time": "2021-02-20T13:42:45.473549",
   "environment_variables": {},
   "exception": null,
   "input_path": "__notebook__.ipynb",
   "output_path": "__notebook__.ipynb",
   "parameters": {},
   "start_time": "2021-02-20T13:42:38.294731",
   "version": "2.2.2"
  }
 },
 "nbformat": 4,
 "nbformat_minor": 4
}
