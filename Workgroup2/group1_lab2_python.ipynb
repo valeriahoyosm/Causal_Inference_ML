{
  "nbformat": 4,
  "nbformat_minor": 0,
  "metadata": {
    "colab": {
      "provenance": []
    },
    "kernelspec": {
      "name": "python3",
      "display_name": "Python 3"
    },
    "language_info": {
      "name": "python"
    }
  },
  "cells": [
    {
      "cell_type": "code",
      "execution_count": null,
      "metadata": {
        "colab": {
          "base_uri": "https://localhost:8080/"
        },
        "id": "18xu6zUBzSM0",
        "outputId": "12549426-7c77-4929-8006-d7f832b5bde7"
      },
      "outputs": [
        {
          "output_type": "stream",
          "name": "stdout",
          "text": [
            "Collecting causalgraphicalmodels\n",
            "  Downloading causalgraphicalmodels-0.0.4-py3-none-any.whl (11 kB)\n",
            "Requirement already satisfied: graphviz in /usr/local/lib/python3.10/dist-packages (from causalgraphicalmodels) (0.20.3)\n",
            "Requirement already satisfied: networkx in /usr/local/lib/python3.10/dist-packages (from causalgraphicalmodels) (3.3)\n",
            "Requirement already satisfied: numpy in /usr/local/lib/python3.10/dist-packages (from causalgraphicalmodels) (1.25.2)\n",
            "Requirement already satisfied: pandas in /usr/local/lib/python3.10/dist-packages (from causalgraphicalmodels) (2.0.3)\n",
            "Requirement already satisfied: python-dateutil>=2.8.2 in /usr/local/lib/python3.10/dist-packages (from pandas->causalgraphicalmodels) (2.8.2)\n",
            "Requirement already satisfied: pytz>=2020.1 in /usr/local/lib/python3.10/dist-packages (from pandas->causalgraphicalmodels) (2023.4)\n",
            "Requirement already satisfied: tzdata>=2022.1 in /usr/local/lib/python3.10/dist-packages (from pandas->causalgraphicalmodels) (2024.1)\n",
            "Requirement already satisfied: six>=1.5 in /usr/local/lib/python3.10/dist-packages (from python-dateutil>=2.8.2->pandas->causalgraphicalmodels) (1.16.0)\n",
            "Installing collected packages: causalgraphicalmodels\n",
            "Successfully installed causalgraphicalmodels-0.0.4\n"
          ]
        }
      ],
      "source": [
        "#!pip install numpy pandas statsmodels causalgraphicalmodels pyreadr"
      ]
    },
    {
      "cell_type": "code",
      "source": [
        "import pandas as pd, numpy as np, statsmodels.api as sm, statsmodels.formula.api as smf\n",
        "import sympy, matplotlib, math, random, networkx\n",
        "from causalgraphicalmodels import CausalGraphicalModel\n",
        "from statsmodels.iolib.summary2 import summary_col\n",
        "import pyreadr\n",
        "import patsy\n"
      ],
      "metadata": {
        "id": "Dl2qCNY3zaM3"
      },
      "execution_count": null,
      "outputs": []
    },
    {
      "cell_type": "markdown",
      "source": [
        "# Multicollinearity\n",
        "\n",
        "## Introduction\n",
        "**Multicollinearity** occurs when one or more predictor variables in a multiple regression model are highly correlated. This can significantly affect the accuracy of the coefficient estimates within the model.\n",
        "\n",
        "## Mathematical Explanation\n",
        "\n",
        "Consider the linear regression model:\n",
        "$ Y = \\beta_0 + \\beta_1X_1 + \\beta_2X_2 + \\ldots + \\beta_kX_k + \\epsilon $\n",
        "\n",
        "\n",
        "where:\n",
        "- $Y$ is the dependent variable\n",
        "- $X_1, X_2, \\ldots, X_k$ are the independent variables\n",
        "- $\\epsilon$ is the error term.\n",
        "\n",
        "### Normal Equation\n",
        "The coefficients $\\beta$ are estimated using the equation:\n",
        "$ \\beta = (\\mathbf{X}´\\mathbf{X})^{-1}\\mathbf{X}´\\mathbf{Y} $\n",
        "\n",
        "To find $\\beta$, the matrix $\\mathbf{X}´\\mathbf{X}$ must be invertible. However, multicollinearity can make this matrix nearly singular or singular.\n",
        "\n",
        "\n",
        "### Why $\\mathbf{X}´\\mathbf{X}$ Becomes Non-invertible\n",
        "- **Singular Matrix**: If $\\mathbf{X}´\\mathbf{X}$ is singular, it implies that its determinant is zero due to perfect or high multicollinearity.\n",
        "- **Linear Dependence**: This happens when one or more independent variables are linear combinations of others.\n",
        "\n",
        "\n",
        "Matrix Representation\n",
        "\n",
        "Assume $X_2 = cX_1$, then:\n",
        "$ \\mathbf{X} = \\begin{bmatrix} 1 & X_1 & X_2 \\\\ 1 & X_1 & cX_1 \\\\ \\vdots & \\vdots & \\vdots \\\\ 1 & X_1 & cX_1 \\end{bmatrix} $\n",
        "\n",
        "\n",
        "### Covariance Matrix ($\\mathbf{X}´\\mathbf{X}$)\n",
        "$ \\mathbf{X}´\\mathbf{X} = \\begin{bmatrix} n & \\sum X_1 & c\\sum X_1 \\\\ \\sum X_1 & \\sum X_1^2 & c\\sum X_1^2 \\\\ c\\sum X_1 & c\\sum X_1^2 & c^2\\sum X_1^2 \\end{bmatrix} $\n",
        "\n",
        "\n",
        "Here, the columns of $\\mathbf{X}´\\mathbf{X}$ are linear combinations of each other, which results in:\n",
        "$ \\text{det}(\\mathbf{X}´\\mathbf{X}) = 0 $\n",
        "indicating that the matrix is not invertible due to multicollinearity.\n",
        "\n",
        "###Example\n",
        "\n",
        "**-Economic indicators** Predicting country's economic growth using both consumer spending and consumer income as predictors might lead to multicollinearity because these two are highly correlated; higher income generally leads to higher spending. Including both in the same regression model can cause issues in accurately estimating the impact of each predictor on economic growth.\n",
        "\n",
        "**-Real Estate Pricing** In real estate, the size of a house and the number of rooms often exhibit multicollinearity. Both these variables tend to increase together; a larger house typically has more rooms. If both variables are used as predictors in a regression model to predict house prices, their high correlation can distort the individual effect of each variable on the pricing, making it difficult to assess which feature (size or number of rooms) truly impacts the house price.\n",
        "\n",
        "\n",
        "\n",
        "\n"
      ],
      "metadata": {
        "id": "Bo3bvBWYARRw"
      }
    },
    {
      "cell_type": "markdown",
      "source": [
        "### Testing for invertibility\n",
        "\n",
        "\n"
      ],
      "metadata": {
        "id": "obIRKloRF4N9"
      }
    },
    {
      "cell_type": "code",
      "source": [
        "# seed for reproducibility\n",
        "np.random.seed(3)\n",
        "# 10x10 matrix with 9 columns following a normal distribution\n",
        "A = np.random.randn(10, 9)\n",
        "# 10th column as a linear combination of three other columns\n",
        "A = np.hstack([A, (2 * A[:,0] + 3 * A[:,1] -  A[:,8]).reshape(10, 1)])\n",
        "\n",
        "# 1st attempt to invert the matrix\n",
        "try:\n",
        "    inv_A = np.linalg.inv(A)\n",
        "    print(\"Inverse computed successfully:\\n\",inv_A)\n",
        "except np.linalg.LinAlgError:\n",
        "    print(\"Matrix is singular and cannot be inverted\")"
      ],
      "metadata": {
        "colab": {
          "base_uri": "https://localhost:8080/"
        },
        "id": "XuZVyOoVFplZ",
        "outputId": "ee4e4de2-dc74-4a5f-c907-6793e35bd3ae"
      },
      "execution_count": null,
      "outputs": [
        {
          "output_type": "stream",
          "name": "stdout",
          "text": [
            "Matrix is singular and cannot be inverted\n"
          ]
        }
      ]
    },
    {
      "cell_type": "markdown",
      "source": [
        "In Colab, unlike jupyter notebook, the matrix is non-invertible. This result reflects what was previously expressed, as we have linearly dependent vectors we cannot estimate $\\beta$"
      ],
      "metadata": {
        "id": "LALqQvZJGfSv"
      }
    },
    {
      "cell_type": "code",
      "execution_count": null,
      "metadata": {
        "id": "aaa0c1c8"
      },
      "outputs": [],
      "source": [
        "## loading the data\n",
        "Penn = pd.read_csv(\"C:/Users/arami/Desktop/penn_jae.dat\" , sep='\\s', engine='python')\n",
        "n = Penn.shape[0]\n",
        "p_1 = Penn.shape[1]\n",
        "Penn = Penn[ (Penn['tg'] == 2) | (Penn['tg'] == 0) ]"
      ]
    },
    {
      "cell_type": "code",
      "execution_count": null,
      "metadata": {
        "id": "8973229c",
        "outputId": "be522022-8485-4a9b-b132-a58738cf9d2d"
      },
      "outputs": [
        {
          "data": {
            "text/plain": [
              "[2, 0, 1]\n",
              "Categories (3, int64): [0, 1, 2]"
            ]
          },
          "execution_count": 4,
          "metadata": {},
          "output_type": "execute_result"
        }
      ],
      "source": [
        "# Dependent variable\n",
        "Penn['T2'] = (Penn[['tg']]==2).astype(int)\n",
        "\n",
        "# Create category variable\n",
        "Penn['dep'] = Penn['dep'].astype( 'category' )\n",
        "Penn.head()\n",
        "Penn['dep'].unique()"
      ]
    },
    {
      "cell_type": "code",
      "execution_count": null,
      "metadata": {
        "id": "644a56b2",
        "outputId": "327342ab-54e4-4e78-8353-03f885d56610"
      },
      "outputs": [
        {
          "name": "stderr",
          "output_type": "stream",
          "text": [
            "C:\\Users\\arami\\anaconda3\\lib\\site-packages\\statsmodels\\tsa\\base\\tsa_model.py:7: FutureWarning: pandas.Int64Index is deprecated and will be removed from pandas in a future version. Use pandas.Index with the appropriate dtype instead.\n",
            "  from pandas import (to_datetime, Int64Index, DatetimeIndex, Period,\n",
            "C:\\Users\\arami\\anaconda3\\lib\\site-packages\\statsmodels\\tsa\\base\\tsa_model.py:7: FutureWarning: pandas.Float64Index is deprecated and will be removed from pandas in a future version. Use pandas.Index with the appropriate dtype instead.\n",
            "  from pandas import (to_datetime, Int64Index, DatetimeIndex, Period,\n"
          ]
        },
        {
          "name": "stdout",
          "output_type": "stream",
          "text": [
            "                            OLS Regression Results                            \n",
            "==============================================================================\n",
            "Dep. Variable:                     T2   R-squared:                       0.019\n",
            "Model:                            OLS   Adj. R-squared:                  0.000\n",
            "Method:                 Least Squares   F-statistic:                     4.748\n",
            "Date:                Tue, 23 Apr 2024   Prob (F-statistic):           5.79e-51\n",
            "Time:                        21:37:27   Log-Likelihood:                -4065.8\n",
            "No. Observations:                5782   AIC:                             8352.\n",
            "Df Residuals:                    5672   BIC:                             9084.\n",
            "Df Model:                         109                                         \n",
            "Covariance Type:                  HC1                                         \n",
            "=======================================================================================\n",
            "                          coef    std err          t      P>|t|      [0.025      0.975]\n",
            "---------------------------------------------------------------------------------------\n",
            "Intercept               0.5090      0.032     15.741      0.000       0.446       0.572\n",
            "C(dep)[T.1]             0.0747      0.057      1.307      0.191      -0.037       0.187\n",
            "C(dep)[T.2]             0.0381      0.049      0.773      0.440      -0.058       0.135\n",
            "female                 -0.0182      0.036     -0.511      0.609      -0.088       0.052\n",
            "female:C(dep)[T.1]     -0.0185      0.045     -0.413      0.680      -0.106       0.069\n",
            "female:C(dep)[T.2]      0.0158      0.040      0.396      0.692      -0.062       0.094\n",
            "black                  -0.0108      0.068     -0.159      0.873      -0.144       0.122\n",
            "black:C(dep)[T.1]      -0.0020      0.067     -0.031      0.976      -0.132       0.128\n",
            "black:C(dep)[T.2]      -0.0110      0.063     -0.175      0.861      -0.134       0.112\n",
            "othrace                -0.1295      0.250     -0.519      0.604      -0.619       0.360\n",
            "othrace:C(dep)[T.1]     0.6118      0.232      2.636      0.008       0.157       1.067\n",
            "othrace:C(dep)[T.2]    -0.1486      0.269     -0.552      0.581      -0.676       0.379\n",
            "q2                     -0.0788      0.045     -1.767      0.077      -0.166       0.009\n",
            "C(dep)[T.1]:q2          0.0431      0.062      0.696      0.486      -0.078       0.164\n",
            "C(dep)[T.2]:q2          0.0090      0.053      0.170      0.865      -0.095       0.113\n",
            "q3                     -0.1042      0.042     -2.501      0.012      -0.186      -0.023\n",
            "C(dep)[T.1]:q3         -0.0303      0.058     -0.519      0.604      -0.145       0.084\n",
            "C(dep)[T.2]:q3          0.0386      0.052      0.737      0.461      -0.064       0.141\n",
            "q4                     -0.0646      0.042     -1.522      0.128      -0.148       0.019\n",
            "C(dep)[T.1]:q4         -0.0482      0.058     -0.829      0.407      -0.162       0.066\n",
            "C(dep)[T.2]:q4         -0.0112      0.054     -0.208      0.835      -0.117       0.094\n",
            "q5                     -0.1248      0.061     -2.031      0.042      -0.245      -0.004\n",
            "C(dep)[T.1]:q5         -0.0347      0.089     -0.388      0.698      -0.210       0.141\n",
            "C(dep)[T.2]:q5          0.0339      0.076      0.449      0.653      -0.114       0.182\n",
            "q6                     -0.0296      0.082     -0.360      0.719      -0.191       0.132\n",
            "C(dep)[T.1]:q6         -0.0186      0.069     -0.270      0.787      -0.154       0.117\n",
            "C(dep)[T.2]:q6          0.0447      0.060      0.745      0.456      -0.073       0.162\n",
            "agelt35                -0.0553      0.059     -0.930      0.353      -0.172       0.061\n",
            "C(dep)[T.1]:agelt35    -0.0869      0.061     -1.436      0.151      -0.206       0.032\n",
            "C(dep)[T.2]:agelt35    -0.1097      0.154     -0.713      0.476      -0.411       0.192\n",
            "agegt54                -0.0555      0.047     -1.173      0.241      -0.148       0.037\n",
            "C(dep)[T.1]:agegt54    -0.0006      0.058     -0.011      0.991      -0.115       0.114\n",
            "C(dep)[T.2]:agegt54    -0.1089      0.051     -2.127      0.033      -0.209      -0.009\n",
            "durable                -0.1152      0.060     -1.914      0.056      -0.233       0.003\n",
            "C(dep)[T.1]:durable    -0.0628      0.071     -0.880      0.379      -0.203       0.077\n",
            "C(dep)[T.2]:durable    -0.1011      0.059     -1.699      0.089      -0.218       0.016\n",
            "lusd                   -0.0655      0.042     -1.543      0.123      -0.149       0.018\n",
            "C(dep)[T.1]:lusd       -0.0247      0.055     -0.446      0.656      -0.133       0.084\n",
            "C(dep)[T.2]:lusd       -0.0528      0.050     -1.055      0.292      -0.151       0.045\n",
            "husd                   -0.0608      0.037     -1.625      0.104      -0.134       0.013\n",
            "C(dep)[T.1]:husd       -0.0272      0.049     -0.554      0.579      -0.124       0.069\n",
            "C(dep)[T.2]:husd       -0.0549      0.043     -1.267      0.205      -0.140       0.030\n",
            "female:black            0.0069      0.044      0.155      0.877      -0.080       0.094\n",
            "female:othrace          0.0383      0.174      0.219      0.826      -0.304       0.380\n",
            "female:q2              -0.0406      0.041     -1.000      0.317      -0.120       0.039\n",
            "female:q3               0.0383      0.039      0.989      0.323      -0.038       0.114\n",
            "female:q4               0.0362      0.039      0.932      0.351      -0.040       0.112\n",
            "female:q5               0.1090      0.061      1.791      0.073      -0.010       0.228\n",
            "female:q6              -0.0133      0.048     -0.277      0.782      -0.108       0.081\n",
            "female:agelt35         -0.0228      0.047     -0.480      0.631      -0.116       0.070\n",
            "female:agegt54         -0.0634      0.044     -1.446      0.148      -0.149       0.023\n",
            "female:durable         -0.0285      0.043     -0.657      0.511      -0.114       0.057\n",
            "female:lusd             0.0128      0.038      0.338      0.736      -0.062       0.087\n",
            "female:husd            -0.0166      0.032     -0.516      0.606      -0.080       0.047\n",
            "black:othrace        5.806e-16   3.67e-16      1.583      0.113   -1.38e-16     1.3e-15\n",
            "black:q2                0.1424      0.064      2.230      0.026       0.017       0.268\n",
            "black:q3                0.0355      0.058      0.607      0.544      -0.079       0.150\n",
            "black:q4               -0.0941      0.060     -1.564      0.118      -0.212       0.024\n",
            "black:q5                0.0064      0.089      0.072      0.942      -0.169       0.181\n",
            "black:q6               -0.0286      0.099     -0.289      0.773      -0.223       0.165\n",
            "black:agelt35          -0.0863      0.080     -1.079      0.281      -0.243       0.071\n",
            "black:agegt54          -0.0247      0.070     -0.353      0.724      -0.162       0.113\n",
            "black:durable          -0.0363      0.077     -0.471      0.637      -0.187       0.115\n",
            "black:lusd              0.1510      0.186      0.811      0.417      -0.214       0.516\n",
            "black:husd             -0.0033      0.054     -0.060      0.952      -0.109       0.103\n",
            "othrace:q2             -0.5813      0.367     -1.585      0.113      -1.300       0.138\n",
            "othrace:q3              0.1171      0.217      0.540      0.589      -0.308       0.542\n",
            "othrace:q4             -0.0792      0.220     -0.361      0.718      -0.510       0.352\n",
            "othrace:q5             -0.1960      0.195     -1.007      0.314      -0.578       0.186\n",
            "othrace:q6           8.938e-16   4.64e-16      1.927      0.054   -1.56e-17     1.8e-15\n",
            "othrace:agelt35        -0.1305      0.379     -0.344      0.731      -0.873       0.612\n",
            "othrace:agegt54         0.0312      0.215      0.145      0.885      -0.390       0.453\n",
            "othrace:durable         0.4016      0.226      1.775      0.076      -0.042       0.845\n",
            "othrace:lusd           -0.8868      0.347     -2.554      0.011      -1.568      -0.206\n",
            "othrace:husd           -0.0610      0.183     -0.333      0.739      -0.419       0.298\n",
            "q2:q3                1.859e-16   1.49e-16      1.250      0.211   -1.06e-16    4.78e-16\n",
            "q2:q4               -2.228e-16   2.03e-16     -1.096      0.273   -6.21e-16    1.76e-16\n",
            "q2:q5               -3.543e-16    4.4e-16     -0.804      0.421   -1.22e-15    5.09e-16\n",
            "q2:q6                  -0.0154      0.078     -0.198      0.843      -0.168       0.137\n",
            "q2:agelt35              0.1697      0.064      2.637      0.008       0.044       0.296\n",
            "q2:agegt54              0.0474      0.056      0.847      0.397      -0.062       0.157\n",
            "q2:durable              0.1072      0.063      1.697      0.090      -0.017       0.231\n",
            "q2:lusd                 0.0503      0.053      0.943      0.346      -0.054       0.155\n",
            "q2:husd                -0.0097      0.046     -0.208      0.835      -0.101       0.081\n",
            "q3:q4                1.469e-16   1.32e-16      1.114      0.265   -1.11e-16    4.05e-16\n",
            "q3:q5                1.631e-16   1.89e-16      0.862      0.389   -2.08e-16    5.34e-16\n",
            "q3:q6                  -0.1296      0.079     -1.639      0.101      -0.285       0.025\n",
            "q3:agelt35              0.1499      0.060      2.483      0.013       0.032       0.268\n",
            "q3:agegt54              0.1074      0.053      2.010      0.045       0.003       0.212\n",
            "q3:durable              0.1372      0.061      2.236      0.025       0.017       0.257\n",
            "q3:lusd                 0.0479      0.051      0.931      0.352      -0.053       0.149\n",
            "q3:husd                 0.0454      0.044      1.026      0.305      -0.041       0.132\n",
            "q4:q5                3.846e-17   9.23e-17      0.417      0.677   -1.43e-16    2.19e-16\n",
            "q4:q6                   0.0342      0.080      0.428      0.668      -0.122       0.191\n",
            "q4:agelt35              0.0759      0.060      1.276      0.202      -0.041       0.193\n",
            "q4:agegt54              0.0284      0.055      0.518      0.605      -0.079       0.136\n",
            "q4:durable              0.0608      0.060      1.008      0.314      -0.058       0.179\n",
            "q4:lusd                 0.0334      0.051      0.651      0.515      -0.067       0.134\n",
            "q4:husd                 0.0611      0.045      1.352      0.177      -0.028       0.150\n",
            "q5:q6                  -0.0330      0.129     -0.255      0.799      -0.287       0.221\n",
            "q5:agelt35              0.0551      0.091      0.606      0.544      -0.123       0.233\n",
            "q5:agegt54              0.1332      0.076      1.744      0.081      -0.017       0.283\n",
            "q5:durable              0.0982      0.100      0.987      0.324      -0.097       0.293\n",
            "q5:lusd                -0.0596      0.080     -0.745      0.456      -0.216       0.097\n",
            "q5:husd                -0.0066      0.067     -0.098      0.922      -0.139       0.125\n",
            "q6:agelt35             -0.0164      0.071     -0.231      0.818      -0.156       0.123\n",
            "q6:agegt54              0.0623      0.067      0.925      0.355      -0.070       0.194\n",
            "q6:durable              0.0175      0.072      0.241      0.809      -0.124       0.159\n",
            "q6:lusd                 0.0419      0.054      0.779      0.436      -0.064       0.147\n",
            "q6:husd                 0.0823      0.052      1.584      0.113      -0.020       0.184\n",
            "agelt35:agegt54        -0.0283      0.062     -0.457      0.648      -0.150       0.093\n",
            "agelt35:durable         0.0207      0.063      0.328      0.743      -0.103       0.145\n",
            "agelt35:lusd           -0.0533      0.056     -0.948      0.343      -0.164       0.057\n",
            "agelt35:husd           -0.0164      0.053     -0.312      0.755      -0.120       0.087\n",
            "agegt54:durable              0          0        nan        nan           0           0\n",
            "agegt54:lusd            0.0501      0.052      0.959      0.337      -0.052       0.152\n",
            "agegt54:husd            0.0508      0.043      1.181      0.238      -0.034       0.135\n",
            "durable:lusd            0.1570      0.056      2.822      0.005       0.048       0.266\n",
            "durable:husd            0.1278      0.053      2.414      0.016       0.024       0.232\n",
            "lusd:husd                    0          0        nan        nan           0           0\n",
            "==============================================================================\n",
            "Omnibus:                    22532.679   Durbin-Watson:                   2.015\n",
            "Prob(Omnibus):                  0.000   Jarque-Bera (JB):              902.476\n",
            "Skew:                           0.315   Prob(JB):                    1.07e-196\n",
            "Kurtosis:                       1.170   Cond. No.                     1.40e+16\n",
            "==============================================================================\n",
            "\n",
            "Notes:\n",
            "[1] Standard Errors are heteroscedasticity robust (HC1)\n",
            "[2] The smallest eigenvalue is 5.77e-29. This might indicate that there are\n",
            "strong multicollinearity problems or that the design matrix is singular.\n",
            "Number of regressors in the basic model: 120 \n",
            "\n"
          ]
        },
        {
          "name": "stderr",
          "output_type": "stream",
          "text": [
            "C:\\Users\\arami\\anaconda3\\lib\\site-packages\\statsmodels\\base\\model.py:1832: ValueWarning: covariance of constraints does not have full rank. The number of constraints is 119, but rank is 108\n",
            "  warnings.warn('covariance of constraints does not have full '\n"
          ]
        }
      ],
      "source": [
        "# Carry out covariate balance check\n",
        "\n",
        "formula1 = \"T2~(female+black+othrace+C(dep)+q2+q3+q4+q5+q6+agelt35+agegt54+durable+lusd+husd)**2\"\n",
        "\n",
        "model_results = smf.ols(formula1, data = Penn).fit().get_robustcov_results(cov_type = \"HC1\")\n",
        "\n",
        "print(model_results.summary())\n",
        "print( \"Number of regressors in the basic model:\",len(model_results.params), '\\n')"
      ]
    },
    {
      "cell_type": "code",
      "execution_count": null,
      "metadata": {
        "id": "8424f63f",
        "outputId": "3813529c-b81d-4563-e6db-2889036a0532"
      },
      "outputs": [
        {
          "name": "stdout",
          "output_type": "stream",
          "text": [
            "                            OLS Regression Results                            \n",
            "==============================================================================\n",
            "Dep. Variable:                     T2   R-squared:                       0.016\n",
            "Model:                            OLS   Adj. R-squared:                 -0.002\n",
            "Method:                 Least Squares   F-statistic:                     4.204\n",
            "Date:                Tue, 23 Apr 2024   Prob (F-statistic):           2.42e-39\n",
            "Time:                        21:37:27   Log-Likelihood:                -4075.6\n",
            "No. Observations:                5782   AIC:                             8357.\n",
            "Df Residuals:                    5679   BIC:                             9043.\n",
            "Df Model:                         102                                         \n",
            "Covariance Type:                  HC1                                         \n",
            "========================================================================================\n",
            "                           coef    std err          t      P>|t|      [0.025      0.975]\n",
            "----------------------------------------------------------------------------------------\n",
            "(Intercept)              0.5171      0.157      3.296      0.001       0.210       0.825\n",
            "female                   0.0056      0.132      0.042      0.966      -0.254       0.265\n",
            "black                   -0.0308      0.085     -0.363      0.716      -0.197       0.135\n",
            "othrace                 -0.4279      0.301     -1.424      0.155      -1.017       0.161\n",
            "factor(dep)1             0.1577      0.185      0.851      0.395      -0.205       0.521\n",
            "factor(dep)2            -0.1928      0.151     -1.278      0.201      -0.489       0.103\n",
            "q2                      -0.1092      0.158     -0.690      0.490      -0.420       0.201\n",
            "q3                      -0.1076      0.158     -0.681      0.496      -0.417       0.202\n",
            "q4                      -0.0621      0.158     -0.393      0.694      -0.372       0.248\n",
            "q5                      -0.0499      0.158     -0.317      0.752      -0.359       0.259\n",
            "q6                      -0.2176      0.156     -1.397      0.163      -0.523       0.088\n",
            "agelt35                 -0.0643      0.133     -0.485      0.628      -0.324       0.196\n",
            "agegt54                  0.0259      0.240      0.108      0.914      -0.444       0.496\n",
            "durable                 -0.1256      0.176     -0.712      0.476      -0.471       0.220\n",
            "lusd                     0.0861      0.069      1.246      0.213      -0.049       0.221\n",
            "husd                    -0.0182      0.076     -0.238      0.812      -0.167       0.131\n",
            "female:black             0.0027      0.044      0.061      0.951      -0.083       0.089\n",
            "female:othrace           0.1015      0.206      0.492      0.623      -0.303       0.506\n",
            "female:factor(dep)1     -0.0179      0.045     -0.398      0.691      -0.106       0.070\n",
            "female:factor(dep)2      0.0219      0.040      0.553      0.581      -0.056       0.100\n",
            "female:q2               -0.0995      0.132     -0.753      0.452      -0.359       0.160\n",
            "female:q3               -0.0144      0.132     -0.109      0.913      -0.273       0.244\n",
            "female:q4               -0.0167      0.132     -0.127      0.899      -0.275       0.241\n",
            "female:q5               -0.0586      0.131     -0.447      0.655      -0.316       0.198\n",
            "female:q6                0.0550      0.140      0.394      0.694      -0.219       0.329\n",
            "female:agelt35           0.0333      0.030      1.127      0.260      -0.025       0.091\n",
            "female:agegt54          -0.0110      0.050     -0.219      0.826      -0.109       0.087\n",
            "female:durable          -0.0586      0.044     -1.340      0.180      -0.144       0.027\n",
            "female:lusd              0.0051      0.033      0.153      0.878      -0.060       0.070\n",
            "female:husd              0.0187      0.037      0.509      0.611      -0.053       0.091\n",
            "black:factor(dep)1      -0.0139      0.068     -0.206      0.837      -0.146       0.118\n",
            "black:factor(dep)2      -0.0230      0.062     -0.370      0.712      -0.145       0.099\n",
            "black:q2                 0.1311      0.091      1.440      0.150      -0.047       0.309\n",
            "black:q3                 0.0357      0.088      0.407      0.684      -0.136       0.207\n",
            "black:q4                -0.1095      0.089     -1.227      0.220      -0.284       0.065\n",
            "black:q5                -0.0108      0.087     -0.124      0.901      -0.181       0.159\n",
            "black:agelt35            0.0295      0.045      0.659      0.510      -0.058       0.117\n",
            "black:agegt54           -0.0575      0.082     -0.701      0.484      -0.218       0.103\n",
            "black:durable           -0.0122      0.069     -0.176      0.860      -0.148       0.124\n",
            "black:lusd               0.0106      0.055      0.192      0.848      -0.097       0.119\n",
            "black:husd               0.1309      0.181      0.724      0.469      -0.224       0.486\n",
            "othrace:factor(dep)1     0.5857      0.223      2.631      0.009       0.149       1.022\n",
            "othrace:factor(dep)2    -0.1436      0.332     -0.433      0.665      -0.794       0.506\n",
            "othrace:q2              -0.4009      0.345     -1.162      0.245      -1.077       0.276\n",
            "othrace:q3               0.6009      0.236      2.544      0.011       0.138       1.064\n",
            "othrace:q4               0.2964      0.287      1.033      0.302      -0.266       0.859\n",
            "othrace:q5               0.2727      0.192      1.418      0.156      -0.104       0.650\n",
            "othrace:agelt35          0.0078      0.208      0.037      0.970      -0.400       0.416\n",
            "othrace:agegt54          0.2412      0.319      0.755      0.450      -0.385       0.867\n",
            "othrace:durable         -0.1464      0.214     -0.684      0.494      -0.566       0.273\n",
            "othrace:lusd             0.0925      0.207      0.447      0.655      -0.313       0.498\n",
            "othrace:husd            -0.8587      0.318     -2.702      0.007      -1.482      -0.236\n",
            "factor(dep)1:q2         -0.0779      0.186     -0.419      0.675      -0.442       0.286\n",
            "factor(dep)2:q2          0.1434      0.150      0.957      0.339      -0.150       0.437\n",
            "factor(dep)1:q3         -0.1494      0.185     -0.808      0.419      -0.512       0.213\n",
            "factor(dep)2:q3          0.1687      0.150      1.125      0.261      -0.125       0.463\n",
            "factor(dep)1:q4         -0.1595      0.184     -0.868      0.386      -0.520       0.201\n",
            "factor(dep)2:q4          0.1210      0.150      0.805      0.421      -0.174       0.416\n",
            "factor(dep)1:q5         -0.1177      0.183     -0.642      0.521      -0.477       0.242\n",
            "factor(dep)2:q5          0.1390      0.149      0.934      0.350      -0.153       0.431\n",
            "factor(dep)1:q6         -0.1531      0.195     -0.785      0.432      -0.535       0.229\n",
            "factor(dep)2:q6          0.1619      0.159      1.016      0.310      -0.150       0.474\n",
            "factor(dep)1:agelt35    -0.0036      0.047     -0.077      0.939      -0.095       0.088\n",
            "factor(dep)2:agelt35     0.0615      0.037      1.657      0.098      -0.011       0.134\n",
            "factor(dep)1:agegt54    -0.0883      0.065     -1.359      0.174      -0.216       0.039\n",
            "factor(dep)2:agegt54    -0.0785      0.151     -0.520      0.603      -0.374       0.217\n",
            "factor(dep)1:durable     0.0088      0.058      0.152      0.879      -0.104       0.122\n",
            "factor(dep)2:durable    -0.0924      0.051     -1.814      0.070      -0.192       0.007\n",
            "factor(dep)1:lusd        0.0359      0.050      0.710      0.478      -0.063       0.135\n",
            "factor(dep)2:lusd        0.0707      0.046      1.537      0.124      -0.019       0.161\n",
            "factor(dep)1:husd       -0.0181      0.054     -0.333      0.739      -0.124       0.088\n",
            "factor(dep)2:husd        0.0066      0.048      0.138      0.890      -0.087       0.100\n",
            "q2:agelt35               0.0306      0.133      0.231      0.818      -0.229       0.291\n",
            "q2:agegt54               0.0590      0.239      0.247      0.805      -0.410       0.528\n",
            "q2:durable               0.1371      0.175      0.783      0.434      -0.206       0.480\n",
            "q2:lusd                 -0.0531      0.072     -0.737      0.461      -0.194       0.088\n",
            "q2:husd                  0.0860      0.078      1.107      0.268      -0.066       0.238\n",
            "q3:agelt35               0.0303      0.132      0.229      0.819      -0.229       0.290\n",
            "q3:agegt54               0.0251      0.238      0.106      0.916      -0.441       0.491\n",
            "q3:durable               0.1905      0.175      1.089      0.276      -0.153       0.533\n",
            "q3:lusd                 -0.0706      0.071     -1.001      0.317      -0.209       0.068\n",
            "q3:husd                  0.0444      0.077      0.575      0.566      -0.107       0.196\n",
            "q4:agelt35               0.0723      0.132      0.546      0.585      -0.187       0.332\n",
            "q4:agegt54              -0.0193      0.237     -0.081      0.935      -0.484       0.445\n",
            "q4:durable               0.1229      0.176      0.699      0.485      -0.222       0.467\n",
            "q4:lusd                 -0.1132      0.071     -1.590      0.112      -0.253       0.026\n",
            "q4:husd                  0.0103      0.077      0.134      0.894      -0.141       0.162\n",
            "q5:agelt35               0.0465      0.132      0.353      0.724      -0.211       0.304\n",
            "q5:agegt54              -0.1165      0.236     -0.493      0.622      -0.579       0.346\n",
            "q5:durable               0.1025      0.173      0.591      0.555      -0.238       0.442\n",
            "q5:lusd                 -0.0357      0.070     -0.508      0.611      -0.174       0.102\n",
            "q5:husd                  0.0270      0.076      0.357      0.721      -0.121       0.175\n",
            "q6:agelt35               0.1099      0.140      0.787      0.431      -0.164       0.384\n",
            "q6:agegt54              -0.0174      0.248     -0.070      0.944      -0.503       0.469\n",
            "q6:durable               0.2161      0.183      1.179      0.239      -0.143       0.576\n",
            "agelt35:durable          0.0323      0.040      0.801      0.423      -0.047       0.111\n",
            "agelt35:lusd            -0.0092      0.035     -0.265      0.791      -0.077       0.059\n",
            "agelt35:husd            -0.0250      0.039     -0.641      0.521      -0.101       0.051\n",
            "agegt54:durable         -0.0155      0.065     -0.236      0.813      -0.144       0.113\n",
            "agegt54:lusd             0.0287      0.057      0.504      0.614      -0.083       0.140\n",
            "agegt54:husd            -0.0423      0.061     -0.694      0.488      -0.162       0.077\n",
            "durable:lusd            -0.0386      0.043     -0.901      0.368      -0.122       0.045\n",
            "durable:husd             0.0093      0.053      0.178      0.859      -0.094       0.112\n",
            "==============================================================================\n",
            "Omnibus:                    22320.003   Durbin-Watson:                   2.010\n",
            "Prob(Omnibus):                  0.000   Jarque-Bera (JB):              913.891\n",
            "Skew:                           0.316   Prob(JB):                    3.56e-199\n",
            "Kurtosis:                       1.158   Cond. No.                         236.\n",
            "==============================================================================\n",
            "\n",
            "Notes:\n",
            "[1] Standard Errors are heteroscedasticity robust (HC1)\n",
            "Number of regressors in the basic model: 103 \n",
            "\n"
          ]
        },
        {
          "name": "stderr",
          "output_type": "stream",
          "text": [
            "C:\\Users\\arami\\anaconda3\\lib\\site-packages\\statsmodels\\base\\model.py:1832: ValueWarning: covariance of constraints does not have full rank. The number of constraints is 102, but rank is 101\n",
            "  warnings.warn('covariance of constraints does not have full '\n"
          ]
        }
      ],
      "source": [
        "# Regress treatment on all covariates using data from R\n",
        "y = Penn[['T2']].reset_index( drop = True )\n",
        "# Get data from R\n",
        "result = pyreadr.read_r('C:/Users/arami/Desktop/m_reg_g2.RData')\n",
        "X_vars = result['X1']\n",
        "\n",
        "# model = \"T2~(female+black+othrace+C(dep)+q2+q3+q4+q5+q6+agelt35+agegt54+durable+lusd+husd)**2\"\n",
        "\n",
        "model_results = sm.OLS( y, X_vars ).fit().get_robustcov_results(cov_type = \"HC1\")\n",
        "\n",
        "print(model_results.summary())\n",
        "print( \"Number of regressors in the basic model:\",len(model_results.params), '\\n')\n"
      ]
    },
    {
      "cell_type": "code",
      "execution_count": null,
      "metadata": {
        "id": "0241fd79",
        "outputId": "0ddb7b11-28dd-4f50-f0d7-8e2dc8f569ee"
      },
      "outputs": [
        {
          "data": {
            "image/png": "[encoded data removed]",
            "text/plain": [
              "<Figure size 720x360 with 2 Axes>"
            ]
          },
          "metadata": {
            "needs_background": "light"
          },
          "output_type": "display_data"
        }
      ],
      "source": [
        "# Plot two histograms for treatment and control group to see the distribution of the outcome variable inuidur1\n",
        "import matplotlib.pyplot as plt\n",
        "\n",
        "inuidur1_t2_1 = Penn[Penn['T2'] == 1]['inuidur1']\n",
        "inuidur1_t2_0 = Penn[Penn['T2'] == 0]['inuidur1']\n",
        "\n",
        "# Crear una figura y subtramas\n",
        "fig, axs = plt.subplots(1, 2, figsize=(10, 5))\n",
        "\n",
        "# Crear histograma para T2 = 1\n",
        "axs[0].hist(inuidur1_t2_1, bins=10, color='blue')\n",
        "axs[0].set_title('T2 = 1')\n",
        "\n",
        "# Crear histograma para T2 = 0\n",
        "axs[1].hist(inuidur1_t2_0, bins=10, color='red')\n",
        "axs[1].set_title('T2 = 0')\n",
        "\n",
        "# Agregar etiquetas de ejes\n",
        "for ax in axs:\n",
        "    ax.set_xlabel('Valores de inuidur1')\n",
        "    ax.set_ylabel('Frecuencia')\n",
        "\n",
        "# Mostrar el histograma\n",
        "plt.tight_layout()\n",
        "plt.show()"
      ]
    },
    {
      "cell_type": "markdown",
      "metadata": {
        "id": "07fa4456"
      },
      "source": [
        "Run all specifications:\n",
        "classical 2-sample approach, no adjustment (CL)\n",
        "classical linear regression adjustment (CRA)\n",
        "interactive regression adjustment (IRA)\n",
        "interactive regression adjustment (IRA) using Lasso. Use Hdm package for Python , R and Julia scripts."
      ]
    },
    {
      "cell_type": "code",
      "execution_count": null,
      "metadata": {
        "id": "53f271ee"
      },
      "outputs": [],
      "source": [
        "# Model specification\n",
        "# take log of inuidur1\n",
        "Penn[\"log_inuidur1\"] = np.log( Penn[\"inuidur1\"] )\n",
        "log_inuidur1 = pd.DataFrame(np.log( Penn[\"inuidur1\"] ) ).reset_index( drop = True )\n",
        "\n",
        "# no adjustment (2-sample approach)\n",
        "formula_cl = 'log_inuidur1 ~ T2'\n",
        "\n",
        "ols_cl = smf.ols( formula = formula_cl, data = Penn ).fit().get_robustcov_results(cov_type = \"HC1\")"
      ]
    },
    {
      "cell_type": "code",
      "execution_count": null,
      "metadata": {
        "id": "c1d75f4e",
        "outputId": "5ee455f1-5dca-4af3-bce8-c619f8239e14"
      },
      "outputs": [
        {
          "name": "stdout",
          "output_type": "stream",
          "text": [
            "                            OLS Regression Results                            \n",
            "==============================================================================\n",
            "Dep. Variable:           log_inuidur1   R-squared:                       0.001\n",
            "Model:                            OLS   Adj. R-squared:                  0.001\n",
            "Method:                 Least Squares   F-statistic:                     5.879\n",
            "Date:                Tue, 23 Apr 2024   Prob (F-statistic):             0.0154\n",
            "Time:                        21:37:29   Log-Likelihood:                -9344.7\n",
            "No. Observations:                5782   AIC:                         1.869e+04\n",
            "Df Residuals:                    5780   BIC:                         1.871e+04\n",
            "Df Model:                           1                                         \n",
            "Covariance Type:                  HC1                                         \n",
            "==============================================================================\n",
            "                 coef    std err          t      P>|t|      [0.025      0.975]\n",
            "------------------------------------------------------------------------------\n",
            "Intercept      2.0568      0.021     98.158      0.000       2.016       2.098\n",
            "T2            -0.0788      0.033     -2.425      0.015      -0.143      -0.015\n",
            "==============================================================================\n",
            "Omnibus:                     3220.110   Durbin-Watson:                   1.978\n",
            "Prob(Omnibus):                  0.000   Jarque-Bera (JB):              593.120\n",
            "Skew:                          -0.541   Prob(JB):                    1.61e-129\n",
            "Kurtosis:                       1.865   Cond. No.                         2.47\n",
            "==============================================================================\n",
            "\n",
            "Notes:\n",
            "[1] Standard Errors are heteroscedasticity robust (HC1)\n",
            "                            OLS Regression Results                            \n",
            "==============================================================================\n",
            "Dep. Variable:           log_inuidur1   R-squared:                       0.062\n",
            "Model:                            OLS   Adj. R-squared:                  0.044\n",
            "Method:                 Least Squares   F-statistic:                     89.08\n",
            "Date:                Tue, 23 Apr 2024   Prob (F-statistic):               0.00\n",
            "Time:                        21:37:29   Log-Likelihood:                -9162.5\n",
            "No. Observations:                5782   AIC:                         1.855e+04\n",
            "Df Residuals:                    5671   BIC:                         1.929e+04\n",
            "Df Model:                         110                                         \n",
            "Covariance Type:                  HC1                                         \n",
            "=======================================================================================\n",
            "                          coef    std err          t      P>|t|      [0.025      0.975]\n",
            "---------------------------------------------------------------------------------------\n",
            "Intercept               1.7006      0.081     21.063      0.000       1.542       1.859\n",
            "C(dep)[T.1]             0.1619      0.142      1.140      0.254      -0.116       0.440\n",
            "C(dep)[T.2]             0.0232      0.123      0.188      0.851      -0.219       0.265\n",
            "T2                     -0.0691      0.032     -2.152      0.031      -0.132      -0.006\n",
            "female                  0.1419      0.089      1.602      0.109      -0.032       0.315\n",
            "female:C(dep)[T.1]     -0.1352      0.110     -1.229      0.219      -0.351       0.080\n",
            "female:C(dep)[T.2]     -0.0401      0.096     -0.419      0.675      -0.227       0.147\n",
            "black                  -0.1316      0.179     -0.737      0.461      -0.482       0.219\n",
            "black:C(dep)[T.1]       0.1944      0.180      1.080      0.280      -0.159       0.547\n",
            "black:C(dep)[T.2]       0.0153      0.166      0.092      0.927      -0.311       0.341\n",
            "othrace                -0.8597      0.827     -1.039      0.299      -2.482       0.762\n",
            "othrace:C(dep)[T.1]     1.2158      0.470      2.586      0.010       0.294       2.138\n",
            "othrace:C(dep)[T.2]    -0.4329      0.446     -0.971      0.332      -1.307       0.441\n",
            "q2                      0.2998      0.107      2.797      0.005       0.090       0.510\n",
            "C(dep)[T.1]:q2          0.0544      0.146      0.373      0.709      -0.231       0.340\n",
            "C(dep)[T.2]:q2          0.2706      0.131      2.072      0.038       0.015       0.527\n",
            "q3                      0.0412      0.101      0.407      0.684      -0.157       0.239\n",
            "C(dep)[T.1]:q3         -0.0467      0.142     -0.329      0.742      -0.325       0.231\n",
            "C(dep)[T.2]:q3          0.2327      0.125      1.860      0.063      -0.013       0.478\n",
            "q4                      0.0718      0.105      0.682      0.495      -0.135       0.278\n",
            "C(dep)[T.1]:q4         -0.1009      0.146     -0.692      0.489      -0.387       0.185\n",
            "C(dep)[T.2]:q4          0.2781      0.133      2.087      0.037       0.017       0.539\n",
            "q5                     -0.0138      0.162     -0.085      0.932      -0.332       0.304\n",
            "C(dep)[T.1]:q5          0.0185      0.241      0.077      0.939      -0.454       0.491\n",
            "C(dep)[T.2]:q5          0.4402      0.179      2.456      0.014       0.089       0.792\n",
            "q6                      0.3561      0.158      2.254      0.024       0.046       0.666\n",
            "C(dep)[T.1]:q6         -0.1036      0.120     -0.862      0.389      -0.339       0.132\n",
            "C(dep)[T.2]:q6         -0.0780      0.101     -0.771      0.441      -0.276       0.120\n",
            "agelt35                 0.3653      0.151      2.417      0.016       0.069       0.662\n",
            "C(dep)[T.1]:agelt35    -0.1455      0.148     -0.985      0.325      -0.435       0.144\n",
            "C(dep)[T.2]:agelt35     0.1357      0.360      0.377      0.706      -0.570       0.841\n",
            "agegt54                 0.0811      0.119      0.683      0.495      -0.152       0.314\n",
            "C(dep)[T.1]:agegt54     0.2199      0.139      1.584      0.113      -0.052       0.492\n",
            "C(dep)[T.2]:agegt54     0.0689      0.121      0.571      0.568      -0.168       0.305\n",
            "durable                -0.0048      0.147     -0.033      0.974      -0.292       0.283\n",
            "C(dep)[T.1]:durable    -0.1791      0.173     -1.034      0.301      -0.519       0.161\n",
            "C(dep)[T.2]:durable    -0.1038      0.139     -0.747      0.455      -0.376       0.169\n",
            "lusd                    0.1755      0.104      1.687      0.092      -0.028       0.379\n",
            "C(dep)[T.1]:lusd        0.1480      0.131      1.127      0.260      -0.109       0.405\n",
            "C(dep)[T.2]:lusd        0.0217      0.117      0.185      0.853      -0.208       0.251\n",
            "husd                    0.3846      0.092      4.199      0.000       0.205       0.564\n",
            "C(dep)[T.1]:husd        0.0614      0.118      0.520      0.603      -0.170       0.293\n",
            "C(dep)[T.2]:husd       -0.1154      0.102     -1.136      0.256      -0.315       0.084\n",
            "female:black           -0.3044      0.119     -2.567      0.010      -0.537      -0.072\n",
            "female:othrace          0.4972      0.501      0.992      0.321      -0.485       1.480\n",
            "female:q2              -0.0813      0.100     -0.815      0.415      -0.277       0.114\n",
            "female:q3               0.2179      0.094      2.313      0.021       0.033       0.403\n",
            "female:q4               0.1139      0.097      1.178      0.239      -0.076       0.304\n",
            "female:q5               0.1687      0.153      1.100      0.271      -0.132       0.469\n",
            "female:q6              -0.1162      0.085     -1.370      0.171      -0.283       0.050\n",
            "female:agelt35          0.0469      0.113      0.414      0.679      -0.175       0.269\n",
            "female:agegt54          0.1466      0.104      1.406      0.160      -0.058       0.351\n",
            "female:durable         -0.1252      0.105     -1.194      0.233      -0.331       0.080\n",
            "female:lusd            -0.0299      0.089     -0.336      0.737      -0.204       0.145\n",
            "female:husd            -0.0517      0.078     -0.663      0.507      -0.204       0.101\n",
            "black:othrace        1.615e-15   1.11e-15      1.460      0.144   -5.53e-16    3.78e-15\n",
            "black:q2               -0.2414      0.172     -1.405      0.160      -0.578       0.095\n",
            "black:q3               -0.1426      0.153     -0.929      0.353      -0.443       0.158\n",
            "black:q4               -0.0508      0.167     -0.303      0.762      -0.379       0.278\n",
            "black:q5               -0.4827      0.243     -1.989      0.047      -0.959      -0.007\n",
            "black:q6                0.2243      0.166      1.354      0.176      -0.100       0.549\n",
            "black:agelt35           0.2593      0.206      1.260      0.208      -0.144       0.663\n",
            "black:agegt54           0.1850      0.181      1.024      0.306      -0.169       0.539\n",
            "black:durable          -0.1287      0.191     -0.674      0.501      -0.503       0.246\n",
            "black:lusd              0.4668      0.499      0.935      0.350      -0.512       1.446\n",
            "black:husd             -0.1060      0.137     -0.774      0.439      -0.374       0.162\n",
            "othrace:q2              0.5939      0.754      0.787      0.431      -0.885       2.073\n",
            "othrace:q3             -0.6657      0.566     -1.175      0.240      -1.776       0.445\n",
            "othrace:q4              0.0442      0.664      0.067      0.947      -1.257       1.346\n",
            "othrace:q5             -0.9973      0.520     -1.917      0.055      -2.017       0.023\n",
            "othrace:q6           1.407e-15   1.19e-15      1.180      0.238    -9.3e-16    3.74e-15\n",
            "othrace:agelt35        -1.0889      0.936     -1.163      0.245      -2.925       0.747\n",
            "othrace:agegt54         1.8903      0.456      4.143      0.000       0.996       2.785\n",
            "othrace:durable         0.0586      0.608      0.097      0.923      -1.132       1.250\n",
            "othrace:lusd            0.7283      0.859      0.848      0.396      -0.955       2.411\n",
            "othrace:husd            0.0410      0.446      0.092      0.927      -0.834       0.916\n",
            "q2:q3               -6.098e-17   4.21e-16     -0.145      0.885   -8.86e-16    7.64e-16\n",
            "q2:q4               -8.783e-16   5.65e-16     -1.555      0.120   -1.99e-15    2.29e-16\n",
            "q2:q5                5.794e-16   5.56e-16      1.041      0.298   -5.12e-16    1.67e-15\n",
            "q2:q6                   0.0967      0.145      0.665      0.506      -0.188       0.382\n",
            "q2:agelt35             -0.0282      0.159     -0.178      0.859      -0.340       0.283\n",
            "q2:agegt54             -0.3669      0.135     -2.721      0.007      -0.631      -0.103\n",
            "q2:durable             -0.0502      0.157     -0.320      0.749      -0.358       0.257\n",
            "q2:lusd                -0.1269      0.126     -1.003      0.316      -0.375       0.121\n",
            "q2:husd                -0.1391      0.112     -1.241      0.214      -0.359       0.081\n",
            "q3:q4               -2.158e-17   1.25e-16     -0.173      0.863   -2.66e-16    2.23e-16\n",
            "q3:q5                9.418e-17   1.33e-16      0.708      0.479   -1.67e-16    3.55e-16\n",
            "q3:q6                  -0.0069      0.145     -0.048      0.962      -0.291       0.278\n",
            "q3:agelt35              0.2224      0.148      1.508      0.132      -0.067       0.512\n",
            "q3:agegt54              0.0082      0.127      0.064      0.949      -0.241       0.258\n",
            "q3:durable              0.0748      0.150      0.500      0.617      -0.219       0.368\n",
            "q3:lusd                -0.0130      0.121     -0.107      0.915      -0.251       0.225\n",
            "q3:husd                -0.1367      0.107     -1.275      0.202      -0.347       0.074\n",
            "q4:q5               -6.446e-16   5.45e-16     -1.182      0.237   -1.71e-15    4.24e-16\n",
            "q4:q6                  -0.0781      0.148     -0.529      0.597      -0.367       0.211\n",
            "q4:agelt35              0.0914      0.147      0.622      0.534      -0.197       0.379\n",
            "q4:agegt54             -0.0626      0.136     -0.462      0.644      -0.328       0.203\n",
            "q4:durable              0.1055      0.146      0.722      0.470      -0.181       0.392\n",
            "q4:lusd                -0.1218      0.125     -0.972      0.331      -0.367       0.124\n",
            "q4:husd                -0.1918      0.111     -1.726      0.084      -0.410       0.026\n",
            "q5:q6                   0.0517      0.270      0.191      0.848      -0.478       0.582\n",
            "q5:agelt35              0.3411      0.214      1.591      0.112      -0.079       0.761\n",
            "q5:agegt54              0.3271      0.186      1.755      0.079      -0.038       0.692\n",
            "q5:durable              0.0658      0.237      0.278      0.781      -0.398       0.530\n",
            "q5:lusd                 0.1587      0.198      0.802      0.423      -0.229       0.547\n",
            "q5:husd                -0.1181      0.169     -0.701      0.484      -0.448       0.212\n",
            "q6:agelt35             -0.2787      0.127     -2.196      0.028      -0.527      -0.030\n",
            "q6:agegt54              0.1237      0.117      1.062      0.288      -0.105       0.352\n",
            "q6:durable              0.2330      0.137      1.697      0.090      -0.036       0.502\n",
            "q6:lusd                 0.1301      0.097      1.340      0.180      -0.060       0.320\n",
            "q6:husd                -0.0106      0.090     -0.118      0.906      -0.186       0.165\n",
            "agelt35:agegt54        -0.0655      0.148     -0.444      0.657      -0.355       0.224\n",
            "agelt35:durable        -0.1393      0.156     -0.894      0.371      -0.445       0.166\n",
            "agelt35:lusd           -0.2748      0.132     -2.074      0.038      -0.534      -0.015\n",
            "agelt35:husd           -0.0742      0.120     -0.618      0.536      -0.310       0.161\n",
            "agegt54:durable              0          0        nan        nan           0           0\n",
            "agegt54:lusd           -0.0293      0.124     -0.236      0.813      -0.273       0.214\n",
            "agegt54:husd           -0.2674      0.103     -2.596      0.009      -0.469      -0.065\n",
            "durable:lusd           -0.3206      0.132     -2.430      0.015      -0.579      -0.062\n",
            "durable:husd           -0.0422      0.127     -0.332      0.740      -0.291       0.207\n",
            "lusd:husd                    0          0        nan        nan           0           0\n",
            "==============================================================================\n",
            "Omnibus:                     1610.502   Durbin-Watson:                   1.993\n",
            "Prob(Omnibus):                  0.000   Jarque-Bera (JB):              457.590\n",
            "Skew:                          -0.466   Prob(JB):                    4.32e-100\n",
            "Kurtosis:                       1.985   Cond. No.                     1.46e+16\n",
            "==============================================================================\n",
            "\n",
            "Notes:\n",
            "[1] Standard Errors are heteroscedasticity robust (HC1)\n",
            "[2] The smallest eigenvalue is 5.81e-29. This might indicate that there are\n",
            "strong multicollinearity problems or that the design matrix is singular.\n",
            "Number of regressors in the control model: 121 \n",
            "\n"
          ]
        },
        {
          "name": "stderr",
          "output_type": "stream",
          "text": [
            "C:\\Users\\arami\\anaconda3\\lib\\site-packages\\statsmodels\\base\\model.py:1832: ValueWarning: covariance of constraints does not have full rank. The number of constraints is 120, but rank is 109\n",
            "  warnings.warn('covariance of constraints does not have full '\n"
          ]
        }
      ],
      "source": [
        "# adding controls\n",
        "\n",
        "formula_cra = 'log_inuidur1 ~ T2 + (female+black+othrace+C(dep)+q2+q3+q4+q5+q6+agelt35+agegt54+durable+lusd+husd)**2'\n",
        "# Omitted dummies: q1, nondurable, muld\n",
        "\n",
        "ols_cra = smf.ols( formula = formula_cra, data = Penn ).fit().get_robustcov_results(cov_type = \"HC1\")\n",
        "\n",
        "\n",
        "print(ols_cl.summary())\n",
        "print(ols_cra.summary())\n",
        "print( \"Number of regressors in the control model:\",len(ols_cra.params), '\\n')"
      ]
    },
    {
      "cell_type": "code",
      "execution_count": null,
      "metadata": {
        "id": "cb84ec03"
      },
      "outputs": [],
      "source": [
        "# Model Specification using data from R\n",
        "# take log of inuidur1\n",
        "log_inuidur1 = pd.DataFrame(np.log( Penn[\"inuidur1\"] ) ).reset_index( drop = True )\n",
        "\n",
        "# no adjustment (2-sample approach)\n",
        "formula_cl = 'log_inuidur1 ~ T2'\n",
        "\n",
        "# adding controls\n",
        "# formula_cra = 'log_inuidur1 ~ T2 + (female+black+othrace+dep+q2+q3+q4+q5+q6+agelt35+agegt54+durable+lusd+husd)**2'\n",
        "# Omitted dummies: q1, nondurable, muld\n",
        "\n",
        "ols_cl = smf.ols( formula = formula_cl, data = Penn ).fit().get_robustcov_results(cov_type = \"HC1\")"
      ]
    },
    {
      "cell_type": "code",
      "execution_count": null,
      "metadata": {
        "id": "4c3e2524",
        "outputId": "c359e613-bc05-4c12-e178-0fbd9c0f6bce"
      },
      "outputs": [
        {
          "name": "stdout",
          "output_type": "stream",
          "text": [
            "                            OLS Regression Results                            \n",
            "==============================================================================\n",
            "Dep. Variable:           log_inuidur1   R-squared:                       0.001\n",
            "Model:                            OLS   Adj. R-squared:                  0.001\n",
            "Method:                 Least Squares   F-statistic:                     5.879\n",
            "Date:                Tue, 23 Apr 2024   Prob (F-statistic):             0.0154\n",
            "Time:                        21:37:29   Log-Likelihood:                -9344.7\n",
            "No. Observations:                5782   AIC:                         1.869e+04\n",
            "Df Residuals:                    5780   BIC:                         1.871e+04\n",
            "Df Model:                           1                                         \n",
            "Covariance Type:                  HC1                                         \n",
            "==============================================================================\n",
            "                 coef    std err          t      P>|t|      [0.025      0.975]\n",
            "------------------------------------------------------------------------------\n",
            "Intercept      2.0568      0.021     98.158      0.000       2.016       2.098\n",
            "T2            -0.0788      0.033     -2.425      0.015      -0.143      -0.015\n",
            "==============================================================================\n",
            "Omnibus:                     3220.110   Durbin-Watson:                   1.978\n",
            "Prob(Omnibus):                  0.000   Jarque-Bera (JB):              593.120\n",
            "Skew:                          -0.541   Prob(JB):                    1.61e-129\n",
            "Kurtosis:                       1.865   Cond. No.                         2.47\n",
            "==============================================================================\n",
            "\n",
            "Notes:\n",
            "[1] Standard Errors are heteroscedasticity robust (HC1)\n",
            "                            OLS Regression Results                            \n",
            "==============================================================================\n",
            "Dep. Variable:               inuidur1   R-squared:                       0.056\n",
            "Model:                            OLS   Adj. R-squared:                  0.039\n",
            "Method:                 Least Squares   F-statistic:                     84.52\n",
            "Date:                Tue, 23 Apr 2024   Prob (F-statistic):               0.00\n",
            "Time:                        21:37:29   Log-Likelihood:                -9180.6\n",
            "No. Observations:                5782   AIC:                         1.857e+04\n",
            "Df Residuals:                    5678   BIC:                         1.926e+04\n",
            "Df Model:                         103                                         \n",
            "Covariance Type:                  HC1                                         \n",
            "========================================================================================\n",
            "                           coef    std err          t      P>|t|      [0.025      0.975]\n",
            "----------------------------------------------------------------------------------------\n",
            "(Intercept)              2.4472      0.358      6.834      0.000       1.745       3.149\n",
            "T2                      -0.0712      0.032     -2.222      0.026      -0.134      -0.008\n",
            "female                  -0.9428      0.283     -3.334      0.001      -1.497      -0.388\n",
            "black                   -0.6654      0.243     -2.738      0.006      -1.142      -0.189\n",
            "othrace                 -1.5495      0.731     -2.119      0.034      -2.983      -0.116\n",
            "factor(dep)1             0.2798      0.378      0.740      0.460      -0.462       1.022\n",
            "factor(dep)2             0.1678      0.368      0.456      0.648      -0.553       0.889\n",
            "q2                       0.0271      0.361      0.075      0.940      -0.680       0.734\n",
            "q3                      -0.3542      0.360     -0.984      0.325      -1.060       0.352\n",
            "q4                      -0.3380      0.361     -0.937      0.349      -1.045       0.369\n",
            "q5                      -0.1777      0.360     -0.494      0.621      -0.883       0.528\n",
            "q6                      -0.4456      0.361     -1.233      0.217      -1.154       0.263\n",
            "agelt35                 -0.3265      0.311     -1.050      0.294      -0.936       0.283\n",
            "agegt54                 -0.1552      0.480     -0.323      0.746      -1.095       0.785\n",
            "durable                 -1.0152      0.445     -2.282      0.023      -1.887      -0.143\n",
            "lusd                    -0.1194      0.174     -0.684      0.494      -0.461       0.223\n",
            "husd                     0.0703      0.188      0.374      0.708      -0.298       0.438\n",
            "female:black            -0.2840      0.118     -2.403      0.016      -0.516      -0.052\n",
            "female:othrace           0.4212      0.488      0.863      0.388      -0.536       1.378\n",
            "female:factor(dep)1     -0.0852      0.110     -0.776      0.438      -0.300       0.130\n",
            "female:factor(dep)2      0.0192      0.096      0.200      0.842      -0.169       0.207\n",
            "female:q2                0.7579      0.282      2.691      0.007       0.206       1.310\n",
            "female:q3                1.1132      0.280      3.969      0.000       0.563       1.663\n",
            "female:q4                1.0476      0.280      3.737      0.000       0.498       1.597\n",
            "female:q5                0.9392      0.280      3.357      0.001       0.391       1.488\n",
            "female:q6                1.0943      0.305      3.586      0.000       0.496       1.693\n",
            "female:agelt35           0.0897      0.072      1.250      0.211      -0.051       0.230\n",
            "female:agegt54           0.1052      0.119      0.882      0.378      -0.129       0.339\n",
            "female:durable           0.1479      0.105      1.414      0.157      -0.057       0.353\n",
            "female:lusd              0.1040      0.080      1.294      0.196      -0.054       0.262\n",
            "female:husd              0.0405      0.087      0.465      0.642      -0.130       0.211\n",
            "black:factor(dep)1       0.2551      0.178      1.435      0.151      -0.093       0.603\n",
            "black:factor(dep)2      -0.0027      0.169     -0.016      0.987      -0.333       0.328\n",
            "black:q2                 0.1579      0.254      0.621      0.535      -0.340       0.656\n",
            "black:q3                 0.3137      0.242      1.295      0.195      -0.161       0.788\n",
            "black:q4                 0.4071      0.253      1.608      0.108      -0.089       0.903\n",
            "black:q5                 0.4780      0.242      1.972      0.049       0.003       0.953\n",
            "black:agelt35           -0.0328      0.120     -0.273      0.785      -0.268       0.202\n",
            "black:agegt54            0.2404      0.215      1.118      0.264      -0.181       0.662\n",
            "black:durable            0.1605      0.182      0.883      0.378      -0.196       0.517\n",
            "black:lusd               0.0977      0.140      0.699      0.485      -0.176       0.372\n",
            "black:husd               0.5227      0.471      1.111      0.267      -0.400       1.445\n",
            "othrace:factor(dep)1     1.1662      0.569      2.050      0.040       0.051       2.281\n",
            "othrace:factor(dep)2    -0.7687      0.688     -1.117      0.264      -2.118       0.580\n",
            "othrace:q2               1.5108      0.755      2.000      0.046       0.030       2.992\n",
            "othrace:q3               0.2916      0.401      0.727      0.467      -0.495       1.078\n",
            "othrace:q4               0.9423      0.522      1.806      0.071      -0.080       1.965\n",
            "othrace:q5               0.9633      0.451      2.137      0.033       0.079       1.847\n",
            "othrace:agelt35         -0.1902      0.574     -0.331      0.740      -1.316       0.935\n",
            "othrace:agegt54         -1.5320      0.777     -1.971      0.049      -3.056      -0.008\n",
            "othrace:durable          1.9037      0.298      6.379      0.000       1.319       2.489\n",
            "othrace:lusd            -0.1288      0.385     -0.335      0.738      -0.883       0.625\n",
            "othrace:husd             0.6131      0.632      0.970      0.332      -0.626       1.853\n",
            "factor(dep)1:q2         -0.0578      0.377     -0.154      0.878      -0.796       0.681\n",
            "factor(dep)2:q2         -0.0868      0.366     -0.237      0.813      -0.805       0.631\n",
            "factor(dep)1:q3         -0.1448      0.377     -0.384      0.701      -0.883       0.594\n",
            "factor(dep)2:q3         -0.0664      0.366     -0.181      0.856      -0.784       0.651\n",
            "factor(dep)1:q4         -0.2323      0.376     -0.618      0.537      -0.969       0.504\n",
            "factor(dep)2:q4         -0.0189      0.366     -0.052      0.959      -0.737       0.699\n",
            "factor(dep)1:q5         -0.1367      0.375     -0.365      0.715      -0.871       0.598\n",
            "factor(dep)2:q5         -0.3474      0.366     -0.950      0.342      -1.065       0.370\n",
            "factor(dep)1:q6         -0.0754      0.424     -0.178      0.859      -0.906       0.755\n",
            "factor(dep)2:q6          0.1670      0.386      0.432      0.665      -0.590       0.924\n",
            "factor(dep)1:agelt35     0.0296      0.111      0.266      0.790      -0.188       0.247\n",
            "factor(dep)2:agelt35     0.0604      0.088      0.684      0.494      -0.113       0.234\n",
            "factor(dep)1:agegt54    -0.0654      0.158     -0.414      0.679      -0.375       0.244\n",
            "factor(dep)2:agegt54     0.2389      0.350      0.682      0.495      -0.448       0.926\n",
            "factor(dep)1:durable     0.2490      0.139      1.791      0.073      -0.024       0.522\n",
            "factor(dep)2:durable     0.1155      0.121      0.955      0.340      -0.122       0.353\n",
            "factor(dep)1:lusd       -0.1891      0.120     -1.578      0.115      -0.424       0.046\n",
            "factor(dep)2:lusd        0.0100      0.108      0.092      0.926      -0.202       0.222\n",
            "factor(dep)1:husd        0.0210      0.130      0.162      0.871      -0.234       0.276\n",
            "factor(dep)2:husd        0.0644      0.112      0.575      0.565      -0.155       0.284\n",
            "q2:agelt35               0.1075      0.311      0.346      0.729      -0.501       0.716\n",
            "q2:agegt54               0.2089      0.479      0.436      0.663      -0.730       1.148\n",
            "q2:durable               0.4369      0.445      0.983      0.326      -0.435       1.309\n",
            "q2:lusd                 -0.0452      0.178     -0.255      0.799      -0.393       0.303\n",
            "q2:husd                 -0.2224      0.187     -1.191      0.234      -0.588       0.144\n",
            "q3:agelt35               0.1805      0.311      0.581      0.561      -0.428       0.789\n",
            "q3:agegt54               0.5557      0.475      1.169      0.242      -0.376       1.487\n",
            "q3:durable               0.8396      0.444      1.889      0.059      -0.032       1.711\n",
            "q3:lusd                 -0.0160      0.175     -0.091      0.927      -0.359       0.327\n",
            "q3:husd                 -0.1131      0.185     -0.610      0.542      -0.476       0.250\n",
            "q4:agelt35               0.1183      0.310      0.381      0.703      -0.490       0.727\n",
            "q4:agegt54               0.3742      0.473      0.791      0.429      -0.553       1.301\n",
            "q4:durable               0.7434      0.447      1.663      0.096      -0.133       1.620\n",
            "q4:lusd                 -0.0222      0.178     -0.125      0.901      -0.371       0.326\n",
            "q4:husd                 -0.1848      0.186     -0.993      0.321      -0.550       0.180\n",
            "q5:agelt35              -0.0348      0.309     -0.112      0.910      -0.642       0.572\n",
            "q5:agegt54               0.2173      0.474      0.458      0.647      -0.712       1.147\n",
            "q5:durable               0.8554      0.444      1.928      0.054      -0.014       1.725\n",
            "q5:lusd                 -0.1843      0.177     -1.043      0.297      -0.531       0.162\n",
            "q5:husd                 -0.2742      0.184     -1.486      0.137      -0.636       0.088\n",
            "q6:agelt35               0.1822      0.333      0.547      0.584      -0.471       0.835\n",
            "q6:agegt54               0.6639      0.504      1.318      0.188      -0.324       1.652\n",
            "q6:durable               1.1467      0.466      2.462      0.014       0.234       2.060\n",
            "agelt35:durable          0.0130      0.097      0.134      0.894      -0.178       0.204\n",
            "agelt35:lusd            -0.0561      0.083     -0.679      0.497      -0.218       0.106\n",
            "agelt35:husd             0.0175      0.092      0.190      0.849      -0.162       0.197\n",
            "agegt54:durable         -0.0134      0.155     -0.086      0.931      -0.318       0.291\n",
            "agegt54:lusd            -0.0236      0.130     -0.182      0.856      -0.278       0.231\n",
            "agegt54:husd            -0.2739      0.144     -1.906      0.057      -0.556       0.008\n",
            "durable:lusd             0.2916      0.103      2.821      0.005       0.089       0.494\n",
            "durable:husd             0.3027      0.124      2.437      0.015       0.059       0.546\n",
            "==============================================================================\n",
            "Omnibus:                     1646.671   Durbin-Watson:                   2.004\n",
            "Prob(Omnibus):                  0.000   Jarque-Bera (JB):              492.421\n",
            "Skew:                          -0.503   Prob(JB):                    1.18e-107\n",
            "Kurtosis:                       1.984   Cond. No.                         245.\n",
            "==============================================================================\n",
            "\n",
            "Notes:\n",
            "[1] Standard Errors are heteroscedasticity robust (HC1)\n",
            "Number of regressors in the interactive model: 104 \n",
            "\n"
          ]
        },
        {
          "name": "stderr",
          "output_type": "stream",
          "text": [
            "C:\\Users\\arami\\anaconda3\\lib\\site-packages\\statsmodels\\base\\model.py:1832: ValueWarning: covariance of constraints does not have full rank. The number of constraints is 103, but rank is 102\n",
            "  warnings.warn('covariance of constraints does not have full '\n"
          ]
        },
        {
          "name": "stdout",
          "output_type": "stream",
          "text": [
            "                            OLS Regression Results                            \n",
            "==============================================================================\n",
            "Dep. Variable:               inuidur1   R-squared:                       0.073\n",
            "Model:                            OLS   Adj. R-squared:                  0.039\n",
            "Method:                 Least Squares   F-statistic:                     35.02\n",
            "Date:                Tue, 23 Apr 2024   Prob (F-statistic):               0.00\n",
            "Time:                        21:37:30   Log-Likelihood:                -9129.1\n",
            "No. Observations:                5782   AIC:                         1.866e+04\n",
            "Df Residuals:                    5579   BIC:                         2.002e+04\n",
            "Df Model:                         202                                         \n",
            "Covariance Type:                  HC1                                         \n",
            "================================================================================================\n",
            "                                   coef    std err          t      P>|t|      [0.025      0.975]\n",
            "------------------------------------------------------------------------------------------------\n",
            "(Intercept)                      2.0557      0.021     99.243      0.000       2.015       2.096\n",
            "T2                              -0.0699      0.032     -2.179      0.029      -0.133      -0.007\n",
            "Xfemale                         -0.6663      0.408     -1.633      0.103      -1.466       0.134\n",
            "Xblack                          -0.8635      0.297     -2.908      0.004      -1.446      -0.281\n",
            "Xothrace                        -3.8177      0.937     -4.076      0.000      -5.654      -1.982\n",
            "Xfactor(dep)1                    0.0359      0.648      0.055      0.956      -1.234       1.306\n",
            "Xfactor(dep)2                    0.2118      0.451      0.469      0.639      -0.673       1.096\n",
            "Xq2                             -0.2546      0.455     -0.559      0.576      -1.147       0.638\n",
            "Xq3                             -0.6212      0.455     -1.365      0.172      -1.513       0.271\n",
            "Xq4                             -0.4799      0.456     -1.052      0.293      -1.374       0.414\n",
            "Xq5                             -0.3719      0.454     -0.819      0.413      -1.262       0.518\n",
            "Xq6                             -0.6770      0.452     -1.497      0.134      -1.563       0.209\n",
            "Xagelt35                        -0.6777      0.409     -1.655      0.098      -1.480       0.125\n",
            "Xagegt54                        -0.3041      0.701     -0.434      0.664      -1.678       1.069\n",
            "Xdurable                        -0.8380      0.596     -1.405      0.160      -2.007       0.331\n",
            "Xlusd                           -0.0995      0.228     -0.436      0.662      -0.546       0.347\n",
            "Xhusd                           -0.0626      0.235     -0.267      0.790      -0.523       0.398\n",
            "Xfemale:black                   -0.2155      0.151     -1.432      0.152      -0.511       0.080\n",
            "Xfemale:othrace                  0.5994      0.563      1.066      0.287      -0.503       1.702\n",
            "Xfemale:factor(dep)1            -0.1734      0.142     -1.222      0.222      -0.452       0.105\n",
            "Xfemale:factor(dep)2             0.2166      0.126      1.715      0.086      -0.031       0.464\n",
            "Xfemale:q2                       0.3919      0.407      0.964      0.335      -0.405       1.189\n",
            "Xfemale:q3                       0.6850      0.406      1.686      0.092      -0.112       1.482\n",
            "Xfemale:q4                       0.7214      0.406      1.776      0.076      -0.075       1.518\n",
            "Xfemale:q5                       0.5658      0.405      1.398      0.162      -0.228       1.359\n",
            "Xfemale:q6                       0.9082      0.430      2.110      0.035       0.064       1.752\n",
            "Xfemale:agelt35                  0.1701      0.095      1.789      0.074      -0.016       0.356\n",
            "Xfemale:agegt54                  0.2358      0.160      1.472      0.141      -0.078       0.550\n",
            "Xfemale:durable                  0.0974      0.138      0.708      0.479      -0.172       0.367\n",
            "Xfemale:lusd                     0.0720      0.107      0.676      0.499      -0.137       0.281\n",
            "Xfemale:husd                     0.0610      0.116      0.524      0.601      -0.167       0.289\n",
            "Xblack:factor(dep)1              0.1090      0.228      0.477      0.633      -0.339       0.557\n",
            "Xblack:factor(dep)2             -0.2007      0.228     -0.878      0.380      -0.649       0.247\n",
            "Xblack:q2                        0.4267      0.321      1.331      0.183      -0.202       1.055\n",
            "Xblack:q3                        0.3299      0.303      1.089      0.276      -0.264       0.924\n",
            "Xblack:q4                        0.5443      0.311      1.753      0.080      -0.064       1.153\n",
            "Xblack:q5                        0.6597      0.300      2.198      0.028       0.071       1.248\n",
            "Xblack:agelt35                   0.0830      0.158      0.524      0.600      -0.227       0.393\n",
            "Xblack:agegt54                   0.4230      0.255      1.660      0.097      -0.076       0.922\n",
            "Xblack:durable                   0.4681      0.227      2.058      0.040       0.022       0.914\n",
            "Xblack:lusd                      0.3086      0.184      1.674      0.094      -0.053       0.670\n",
            "Xblack:husd                      0.5498      0.660      0.834      0.405      -0.743       1.843\n",
            "Xothrace:factor(dep)1            2.5202      1.855      1.359      0.174      -1.116       6.157\n",
            "Xothrace:factor(dep)2            1.1889      0.573      2.074      0.038       0.065       2.312\n",
            "Xothrace:q2                      2.0826      0.608      3.423      0.001       0.890       3.275\n",
            "Xothrace:q3                      0.9373      0.660      1.420      0.156      -0.357       2.232\n",
            "Xothrace:q4                      3.8597      0.881      4.384      0.000       2.134       5.586\n",
            "Xothrace:q5                      0.9712      0.553      1.758      0.079      -0.112       2.054\n",
            "Xothrace:agelt35                 2.2480      0.915      2.456      0.014       0.453       4.043\n",
            "Xothrace:agegt54                -4.1490      0.482     -8.610      0.000      -5.094      -3.204\n",
            "Xothrace:durable                 1.7506      0.370      4.725      0.000       1.024       2.477\n",
            "Xothrace:lusd                   -0.6944      0.495     -1.402      0.161      -1.665       0.276\n",
            "Xothrace:husd                    4.7889      0.818      5.855      0.000       3.185       6.392\n",
            "Xfactor(dep)1:q2                 0.2339      0.642      0.365      0.715      -1.024       1.492\n",
            "Xfactor(dep)2:q2                -0.2177      0.448     -0.486      0.627      -1.096       0.661\n",
            "Xfactor(dep)1:q3                 0.1543      0.644      0.240      0.811      -1.108       1.416\n",
            "Xfactor(dep)2:q3                -0.2545      0.450     -0.565      0.572      -1.137       0.628\n",
            "Xfactor(dep)1:q4                -0.0239      0.642     -0.037      0.970      -1.283       1.235\n",
            "Xfactor(dep)2:q4                -0.1619      0.451     -0.359      0.720      -1.046       0.722\n",
            "Xfactor(dep)1:q5                 0.1396      0.638      0.219      0.827      -1.112       1.391\n",
            "Xfactor(dep)2:q5                -0.5626      0.449     -1.253      0.210      -1.443       0.317\n",
            "Xfactor(dep)1:q6                 0.4833      0.680      0.710      0.477      -0.850       1.817\n",
            "Xfactor(dep)2:q6                -0.0048      0.477     -0.010      0.992      -0.941       0.931\n",
            "Xfactor(dep)1:agelt35            0.0508      0.149      0.340      0.734      -0.242       0.343\n",
            "Xfactor(dep)2:agelt35            0.1192      0.116      1.026      0.305      -0.109       0.347\n",
            "Xfactor(dep)1:agegt54            0.0366      0.205      0.178      0.858      -0.366       0.439\n",
            "Xfactor(dep)2:agegt54            0.2231      0.421      0.530      0.596      -0.602       1.048\n",
            "Xfactor(dep)1:durable            0.3397      0.184      1.845      0.065      -0.021       0.701\n",
            "Xfactor(dep)2:durable            0.1147      0.153      0.748      0.454      -0.186       0.415\n",
            "Xfactor(dep)1:lusd              -0.2604      0.162     -1.609      0.108      -0.578       0.057\n",
            "Xfactor(dep)2:lusd               0.1151      0.140      0.823      0.411      -0.159       0.389\n",
            "Xfactor(dep)1:husd              -0.0428      0.166     -0.258      0.796      -0.368       0.282\n",
            "Xfactor(dep)2:husd               0.0180      0.151      0.119      0.905      -0.278       0.314\n",
            "Xq2:agelt35                      0.5007      0.410      1.222      0.222      -0.302       1.304\n",
            "Xq2:agegt54                      0.4322      0.698      0.619      0.536      -0.936       1.800\n",
            "Xq2:durable                      0.2615      0.593      0.441      0.659      -0.901       1.424\n",
            "Xq2:lusd                        -0.0675      0.231     -0.292      0.770      -0.520       0.385\n",
            "Xq2:husd                        -0.1818      0.234     -0.778      0.437      -0.640       0.276\n",
            "Xq3:agelt35                      0.5137      0.410      1.254      0.210      -0.290       1.317\n",
            "Xq3:agegt54                      0.7246      0.696      1.042      0.298      -0.639       2.088\n",
            "Xq3:durable                      0.7224      0.592      1.221      0.222      -0.438       1.883\n",
            "Xq3:lusd                        -0.0014      0.230     -0.006      0.995      -0.453       0.450\n",
            "Xq3:husd                         0.0989      0.232      0.427      0.669      -0.355       0.553\n",
            "Xq4:agelt35                      0.4048      0.410      0.988      0.323      -0.398       1.208\n",
            "Xq4:agegt54                      0.2469      0.694      0.356      0.722      -1.113       1.607\n",
            "Xq4:durable                      0.5938      0.598      0.993      0.321      -0.578       1.766\n",
            "Xq4:lusd                        -0.1686      0.232     -0.726      0.468      -0.624       0.287\n",
            "Xq4:husd                        -0.1451      0.235     -0.618      0.537      -0.605       0.315\n",
            "Xq5:agelt35                      0.2160      0.408      0.529      0.597      -0.584       1.016\n",
            "Xq5:agegt54                      0.0996      0.692      0.144      0.885      -1.256       1.456\n",
            "Xq5:durable                      0.8536      0.590      1.446      0.148      -0.304       2.011\n",
            "Xq5:lusd                        -0.2593      0.234     -1.108      0.268      -0.718       0.199\n",
            "Xq5:husd                        -0.1736      0.232     -0.749      0.454      -0.628       0.280\n",
            "Xq6:agelt35                      0.3824      0.434      0.881      0.379      -0.469       1.234\n",
            "Xq6:agegt54                      0.8362      0.728      1.149      0.251      -0.591       2.263\n",
            "Xq6:durable                      1.0289      0.618      1.664      0.096      -0.183       2.241\n",
            "Xagelt35:durable                -0.0027      0.126     -0.021      0.983      -0.249       0.243\n",
            "Xagelt35:lusd                   -0.0574      0.109     -0.525      0.600      -0.272       0.157\n",
            "Xagelt35:husd                    0.0545      0.126      0.434      0.664      -0.192       0.301\n",
            "Xagegt54:durable                -0.1239      0.207     -0.598      0.550      -0.530       0.283\n",
            "Xagegt54:lusd                    0.0912      0.176      0.519      0.604      -0.253       0.436\n",
            "Xagegt54:husd                   -0.3146      0.189     -1.662      0.097      -0.686       0.056\n",
            "Xdurable:lusd                    0.2634      0.138      1.911      0.056      -0.007       0.533\n",
            "Xdurable:husd                    0.3138      0.158      1.984      0.047       0.004       0.624\n",
            "T2TRUE:Xfemale                  -0.6598      0.550     -1.200      0.230      -1.738       0.418\n",
            "T2TRUE:Xblack                    0.4526      0.510      0.887      0.375      -0.548       1.453\n",
            "T2TRUE:Xothrace                  2.2115      1.102      2.007      0.045       0.051       4.372\n",
            "T2TRUE:Xfactor(dep)1             0.7636      0.785      0.972      0.331      -0.776       2.303\n",
            "T2TRUE:Xfactor(dep)2            -0.0512      0.779     -0.066      0.948      -1.578       1.475\n",
            "T2TRUE:Xq2                       0.8969      0.737      1.217      0.224      -0.548       2.342\n",
            "T2TRUE:Xq3                       0.8962      0.736      1.218      0.223      -0.546       2.338\n",
            "T2TRUE:Xq4                       0.5890      0.736      0.800      0.424      -0.854       2.032\n",
            "T2TRUE:Xq5                       0.7173      0.735      0.976      0.329      -0.723       2.158\n",
            "T2TRUE:Xq6                       0.7812      0.743      1.051      0.293      -0.676       2.239\n",
            "T2TRUE:Xagelt35                  1.1233      0.637      1.762      0.078      -0.126       2.373\n",
            "T2TRUE:Xagegt54                  0.4143      0.871      0.475      0.635      -1.294       2.123\n",
            "T2TRUE:Xdurable                  0.0699      0.851      0.082      0.935      -1.598       1.737\n",
            "T2TRUE:Xlusd                    -0.0864      0.361     -0.240      0.811      -0.794       0.621\n",
            "T2TRUE:Xhusd                     0.2846      0.399      0.713      0.476      -0.497       1.067\n",
            "T2TRUE:Xfemale:black            -0.2036      0.243     -0.837      0.403      -0.681       0.274\n",
            "T2TRUE:Xfemale:othrace          -0.9119      0.580     -1.572      0.116      -2.049       0.225\n",
            "T2TRUE:Xfemale:factor(dep)1      0.1813      0.220      0.826      0.409      -0.249       0.612\n",
            "T2TRUE:Xfemale:factor(dep)2     -0.4690      0.199     -2.360      0.018      -0.859      -0.079\n",
            "T2TRUE:Xfemale:q2                0.8485      0.549      1.545      0.122      -0.228       1.925\n",
            "T2TRUE:Xfemale:q3                1.0429      0.546      1.910      0.056      -0.028       2.113\n",
            "T2TRUE:Xfemale:q4                0.7825      0.546      1.434      0.152      -0.287       1.852\n",
            "T2TRUE:Xfemale:q5                0.8994      0.545      1.651      0.099      -0.169       1.967\n",
            "T2TRUE:Xfemale:q6                0.4086      0.604      0.677      0.499      -0.775       1.592\n",
            "T2TRUE:Xfemale:agelt35          -0.1861      0.146     -1.276      0.202      -0.472       0.100\n",
            "T2TRUE:Xfemale:agegt54          -0.3821      0.244     -1.564      0.118      -0.861       0.097\n",
            "T2TRUE:Xfemale:durable           0.1104      0.215      0.514      0.607      -0.310       0.531\n",
            "T2TRUE:Xfemale:lusd              0.1061      0.163      0.650      0.515      -0.214       0.426\n",
            "T2TRUE:Xfemale:husd             -0.0426      0.179     -0.239      0.811      -0.393       0.307\n",
            "T2TRUE:Xblack:factor(dep)1       0.3636      0.350      1.038      0.299      -0.323       1.050\n",
            "T2TRUE:Xblack:factor(dep)2       0.4284      0.338      1.266      0.206      -0.235       1.092\n",
            "T2TRUE:Xblack:q2                -0.5878      0.529     -1.112      0.266      -1.625       0.449\n",
            "T2TRUE:Xblack:q3                -0.0625      0.510     -0.123      0.902      -1.062       0.937\n",
            "T2TRUE:Xblack:q4                -0.4010      0.537     -0.747      0.455      -1.453       0.651\n",
            "T2TRUE:Xblack:q5                -0.4359      0.509     -0.856      0.392      -1.434       0.562\n",
            "T2TRUE:Xblack:agelt35           -0.2159      0.242     -0.893      0.372      -0.690       0.258\n",
            "T2TRUE:Xblack:agegt54           -0.2617      0.487     -0.538      0.591      -1.216       0.692\n",
            "T2TRUE:Xblack:durable           -0.8365      0.350     -2.387      0.017      -1.524      -0.149\n",
            "T2TRUE:Xblack:lusd              -0.4265      0.280     -1.525      0.127      -0.975       0.122\n",
            "T2TRUE:Xblack:husd              -0.1958      0.891     -0.220      0.826      -1.943       1.551\n",
            "T2TRUE:Xothrace:factor(dep)1     0.4788      1.895      0.253      0.801      -3.236       4.193\n",
            "T2TRUE:Xothrace:factor(dep)2    -4.4514      0.782     -5.695      0.000      -5.984      -2.919\n",
            "T2TRUE:Xothrace:q3              -0.7826      0.915     -0.856      0.392      -2.576       1.010\n",
            "T2TRUE:Xothrace:q4              -2.4173      1.144     -2.113      0.035      -4.660      -0.174\n",
            "T2TRUE:Xothrace:q5               0.7621      0.796      0.958      0.338      -0.798       2.322\n",
            "T2TRUE:Xothrace:agelt35         -3.8313      0.954     -4.017      0.000      -5.701      -1.962\n",
            "T2TRUE:Xothrace:durable          1.5659      0.462      3.388      0.001       0.660       2.472\n",
            "T2TRUE:Xothrace:lusd             2.0930      0.514      4.076      0.000       1.086       3.100\n",
            "T2TRUE:Xfactor(dep)1:q2         -0.8318      0.778     -1.069      0.285      -2.358       0.694\n",
            "T2TRUE:Xfactor(dep)2:q2          0.2249      0.778      0.289      0.773      -1.300       1.750\n",
            "T2TRUE:Xfactor(dep)1:q3         -0.8573      0.780     -1.099      0.272      -2.387       0.672\n",
            "T2TRUE:Xfactor(dep)2:q3          0.3587      0.775      0.463      0.644      -1.161       1.878\n",
            "T2TRUE:Xfactor(dep)1:q4         -0.6286      0.776     -0.810      0.418      -2.151       0.894\n",
            "T2TRUE:Xfactor(dep)2:q4          0.2390      0.774      0.309      0.758      -1.279       1.757\n",
            "T2TRUE:Xfactor(dep)1:q5         -0.8385      0.775     -1.082      0.279      -2.358       0.681\n",
            "T2TRUE:Xfactor(dep)2:q5          0.4285      0.774      0.553      0.580      -1.090       1.947\n",
            "T2TRUE:Xfactor(dep)1:q6         -1.5382      0.893     -1.722      0.085      -3.289       0.213\n",
            "T2TRUE:Xfactor(dep)2:q6          0.2847      0.818      0.348      0.728      -1.319       1.888\n",
            "T2TRUE:Xfactor(dep)1:agelt35    -0.0778      0.224     -0.347      0.729      -0.518       0.362\n",
            "T2TRUE:Xfactor(dep)2:agelt35    -0.1017      0.180     -0.564      0.573      -0.455       0.252\n",
            "T2TRUE:Xfactor(dep)1:agegt54    -0.2825      0.324     -0.873      0.383      -0.917       0.352\n",
            "T2TRUE:Xfactor(dep)2:agegt54     0.3793      0.571      0.664      0.507      -0.741       1.500\n",
            "T2TRUE:Xfactor(dep)1:durable    -0.2186      0.280     -0.779      0.436      -0.768       0.331\n",
            "T2TRUE:Xfactor(dep)2:durable    -0.0951      0.260     -0.366      0.715      -0.605       0.414\n",
            "T2TRUE:Xfactor(dep)1:lusd        0.2161      0.243      0.888      0.374      -0.261       0.693\n",
            "T2TRUE:Xfactor(dep)2:lusd       -0.2071      0.222     -0.933      0.351      -0.642       0.228\n",
            "T2TRUE:Xfactor(dep)1:husd        0.1232      0.268      0.460      0.646      -0.402       0.649\n",
            "T2TRUE:Xfactor(dep)2:husd        0.1580      0.230      0.686      0.493      -0.293       0.609\n",
            "T2TRUE:Xq2:agelt35              -1.2408      0.636     -1.952      0.051      -2.487       0.005\n",
            "T2TRUE:Xq2:agegt54              -0.6020      0.871     -0.691      0.489      -2.309       1.105\n",
            "T2TRUE:Xq2:durable              -0.0778      0.855     -0.091      0.928      -1.754       1.598\n",
            "T2TRUE:Xq2:lusd                  0.0508      0.367      0.138      0.890      -0.669       0.771\n",
            "T2TRUE:Xq2:husd                 -0.0920      0.395     -0.233      0.816      -0.866       0.682\n",
            "T2TRUE:Xq3:agelt35              -1.1278      0.636     -1.775      0.076      -2.374       0.118\n",
            "T2TRUE:Xq3:agegt54              -0.5411      0.862     -0.628      0.530      -2.231       1.149\n",
            "T2TRUE:Xq3:durable              -0.1956      0.855     -0.229      0.819      -1.872       1.481\n",
            "T2TRUE:Xq3:lusd                 -0.0740      0.361     -0.205      0.838      -0.781       0.633\n",
            "T2TRUE:Xq3:husd                 -0.5532      0.391     -1.414      0.157      -1.320       0.214\n",
            "T2TRUE:Xq4:agelt35              -0.9926      0.634     -1.565      0.118      -2.236       0.251\n",
            "T2TRUE:Xq4:agegt54               0.2122      0.852      0.249      0.803      -1.458       1.883\n",
            "T2TRUE:Xq4:durable              -0.1188      0.862     -0.138      0.890      -1.808       1.571\n",
            "T2TRUE:Xq4:lusd                  0.3042      0.366      0.831      0.406      -0.414       1.022\n",
            "T2TRUE:Xq4:husd                 -0.0828      0.393     -0.211      0.833      -0.852       0.687\n",
            "T2TRUE:Xq5:agelt35              -0.9263      0.633     -1.464      0.143      -2.167       0.314\n",
            "T2TRUE:Xq5:agegt54               0.2188      0.862      0.254      0.800      -1.471       1.909\n",
            "T2TRUE:Xq5:durable              -0.4451      0.852     -0.523      0.601      -2.115       1.225\n",
            "T2TRUE:Xq5:lusd                  0.0896      0.364      0.246      0.806      -0.625       0.804\n",
            "T2TRUE:Xq5:husd                 -0.2456      0.391     -0.629      0.529      -1.011       0.520\n",
            "T2TRUE:Xq6:agelt35              -0.7320      0.684     -1.070      0.285      -2.073       0.609\n",
            "T2TRUE:Xq6:agegt54              -0.4355      0.935     -0.466      0.641      -2.268       1.397\n",
            "T2TRUE:Xq6:durable              -0.1469      0.905     -0.162      0.871      -1.921       1.627\n",
            "T2TRUE:Xagelt35:durable          0.0216      0.201      0.108      0.914      -0.371       0.415\n",
            "T2TRUE:Xagelt35:lusd             0.0680      0.170      0.401      0.688      -0.264       0.400\n",
            "T2TRUE:Xagelt35:husd            -0.0587      0.186     -0.316      0.752      -0.423       0.305\n",
            "T2TRUE:Xagegt54:durable          0.1732      0.318      0.545      0.586      -0.450       0.796\n",
            "T2TRUE:Xagegt54:lusd            -0.1245      0.267     -0.467      0.641      -0.647       0.398\n",
            "T2TRUE:Xagegt54:husd             0.2899      0.296      0.979      0.328      -0.291       0.870\n",
            "T2TRUE:Xdurable:lusd             0.1281      0.212      0.605      0.545      -0.287       0.543\n",
            "T2TRUE:Xdurable:husd             0.0133      0.255      0.052      0.958      -0.487       0.514\n",
            "==============================================================================\n",
            "Omnibus:                     1349.401   Durbin-Watson:                   1.997\n",
            "Prob(Omnibus):                  0.000   Jarque-Bera (JB):              465.384\n",
            "Skew:                          -0.496   Prob(JB):                    8.77e-102\n",
            "Kurtosis:                       2.027   Cond. No.                         714.\n",
            "==============================================================================\n",
            "\n",
            "Notes:\n",
            "[1] Standard Errors are heteroscedasticity robust (HC1)\n"
          ]
        },
        {
          "name": "stderr",
          "output_type": "stream",
          "text": [
            "C:\\Users\\arami\\anaconda3\\lib\\site-packages\\statsmodels\\base\\model.py:1832: ValueWarning: covariance of constraints does not have full rank. The number of constraints is 202, but rank is 188\n",
            "  warnings.warn('covariance of constraints does not have full '\n"
          ]
        }
      ],
      "source": [
        "#getting data\n",
        "# Get data from R\n",
        "result = pyreadr.read_r('C:/Users/arami/Desktop/ols_cra_reg_g2.RData')\n",
        "X_vars = result['X1']\n",
        "\n",
        "ols_cra = sm.OLS( log_inuidur1, X_vars ).fit().get_robustcov_results(cov_type = \"HC1\")\n",
        "\n",
        "# Results\n",
        "print(ols_cl.summary())\n",
        "print(ols_cra.summary())\n",
        "print( \"Number of regressors in the interactive model:\",len(ols_cra.params), '\\n')\n",
        "\n",
        "# create Y variable\n",
        "log_inuidur1 = pd.DataFrame(np.log( Penn[\"inuidur1\"] )).reset_index( drop = True )\n",
        "\n",
        "# Reset index to estimation\n",
        "# Get data from R\n",
        "result = pyreadr.read_r('C:/Users/arami/Desktop/ols_ira_reg_g2.RData')\n",
        "X_vars = result['S1']\n",
        "\n",
        "ols_ira = sm.OLS( log_inuidur1, X_vars ).fit().get_robustcov_results(cov_type = \"HC1\")\n",
        "\n",
        "# Results\n",
        "print(ols_ira.summary())"
      ]
    },
    {
      "cell_type": "markdown",
      "metadata": {
        "id": "7b5b676a"
      },
      "source": [
        "Using the 3. interactive regression adjustment (IRA) plot the coefficients of the next variables: T2*female, T2*black,T2*agelt35, T2*factor(dep)1\n"
      ]
    },
    {
      "cell_type": "code",
      "execution_count": null,
      "metadata": {
        "id": "039f7029",
        "outputId": "220d9cc0-f1bf-49c1-e4a1-46c2b10bc485"
      },
      "outputs": [
        {
          "data": {
            "text/html": [
              "<div>\n",
              "<style scoped>\n",
              "    .dataframe tbody tr th:only-of-type {\n",
              "        vertical-align: middle;\n",
              "    }\n",
              "\n",
              "    .dataframe tbody tr th {\n",
              "        vertical-align: top;\n",
              "    }\n",
              "\n",
              "    .dataframe thead th {\n",
              "        text-align: right;\n",
              "    }\n",
              "</style>\n",
              "<table border=\"1\" class=\"dataframe\">\n",
              "  <thead>\n",
              "    <tr style=\"text-align: right;\">\n",
              "      <th></th>\n",
              "      <th>coef</th>\n",
              "      <th>std err</th>\n",
              "      <th>varname</th>\n",
              "    </tr>\n",
              "  </thead>\n",
              "  <tbody>\n",
              "    <tr>\n",
              "      <th>T2TRUE:Xfemale</th>\n",
              "      <td>-0.6598</td>\n",
              "      <td>0.550</td>\n",
              "      <td>T2*female</td>\n",
              "    </tr>\n",
              "    <tr>\n",
              "      <th>T2TRUE:Xblack</th>\n",
              "      <td>0.4526</td>\n",
              "      <td>0.510</td>\n",
              "      <td>T2*black</td>\n",
              "    </tr>\n",
              "    <tr>\n",
              "      <th>T2TRUE:Xagelt35</th>\n",
              "      <td>1.1233</td>\n",
              "      <td>0.637</td>\n",
              "      <td>T2*agelt35</td>\n",
              "    </tr>\n",
              "    <tr>\n",
              "      <th>T2TRUE:Xfactor(dep)1</th>\n",
              "      <td>0.7636</td>\n",
              "      <td>0.785</td>\n",
              "      <td>T2*factor(dep)1</td>\n",
              "    </tr>\n",
              "  </tbody>\n",
              "</table>\n",
              "</div>"
            ],
            "text/plain": [
              "                        coef  std err          varname\n",
              "T2TRUE:Xfemale       -0.6598    0.550        T2*female\n",
              "T2TRUE:Xblack         0.4526    0.510         T2*black\n",
              "T2TRUE:Xagelt35       1.1233    0.637       T2*agelt35\n",
              "T2TRUE:Xfactor(dep)1  0.7636    0.785  T2*factor(dep)1"
            ]
          },
          "execution_count": 12,
          "metadata": {},
          "output_type": "execute_result"
        }
      ],
      "source": [
        "ols_ira_res = pd.read_html(ols_ira.summary().tables[1].as_html(),header=0,index_col=0)[0]\n",
        "\n",
        "coef_df = ols_ira_res.loc[['T2TRUE:Xfemale', 'T2TRUE:Xblack', 'T2TRUE:Xagelt35', 'T2TRUE:Xfactor(dep)1'], ['coef', 'std err']]\n",
        "\n",
        "coef_df['varname'] = ['T2*female', 'T2*black', 'T2*agelt35', 'T2*factor(dep)1']\n",
        "\n",
        "coef_df"
      ]
    },
    {
      "cell_type": "code",
      "execution_count": null,
      "metadata": {
        "id": "7dfbec1d",
        "outputId": "8d7a1da5-c4a4-417b-9924-ab69c3b45625"
      },
      "outputs": [
        {
          "name": "stderr",
          "output_type": "stream",
          "text": [
            "<ipython-input-13-41a9ec4058d8>:7: FutureWarning: The pandas.np module is deprecated and will be removed from pandas in a future version. Import numpy directly instead.\n",
            "  ax.scatter(x=pd.np.arange(coef_df.shape[0]),\n"
          ]
        },
        {
          "data": {
            "image/png": "[encoded data removed]",
            "text/plain": [
              "<Figure size 576x288 with 1 Axes>"
            ]
          },
          "metadata": {
            "needs_background": "light"
          },
          "output_type": "display_data"
        }
      ],
      "source": [
        "fig, ax = plt.subplots(figsize=(8, 4))\n",
        "coef_df.plot(x='varname', y='coef', kind='bar',\n",
        "             ax=ax, color='none',\n",
        "             yerr='std err', legend=False)\n",
        "ax.set_ylabel('')\n",
        "ax.set_xlabel('')\n",
        "ax.scatter(x=pd.np.arange(coef_df.shape[0]),\n",
        "           marker='s', s=120,\n",
        "           y=coef_df['coef'], color='black')\n",
        "ax.axhline(y=0, linestyle='--', color='black', linewidth=4)\n",
        "ax.xaxis.set_ticks_position('none')\n",
        "_ = ax.set_xticklabels(['T2*female', 'T2*Xblack', 'T2*agelt35', 'T2*factor(dep)1'],\n",
        "                       rotation=0, fontsize=10)"
      ]
    },
    {
      "cell_type": "markdown",
      "metadata": {
        "id": "af9fcb3f"
      },
      "source": [
        "Comment this figure and give an explanation for the coefficients."
      ]
    },
    {
      "cell_type": "markdown",
      "metadata": {
        "id": "6224ef56"
      },
      "source": [
        "This graph shows that the effect of receiving monetary compensation and being over 35 years of age affects the time of unemployment by 1.12 units. Likewise, the effect of receiving monetary compensation and being black affects unemployment time by 0.45 units. Furthermore, the effect of receiving monetary compensation and having at least one dependent affects the unemployment time by 0.76 units. Finally, the effect of receiving monetary compensation and being a woman negatively affects unemployment time by 0.66 units. But the coefficients of the interaction with being black and the number of dependents are not significant because the values of the confidence intervals can be zero."
      ]
    },
    {
      "cell_type": "code",
      "execution_count": null,
      "metadata": {
        "scrolled": false,
        "id": "9a4ef35e"
      },
      "outputs": [],
      "source": [
        "# Next we try out partialling out with lasso\n",
        "!pip install multiprocess"
      ]
    },
    {
      "cell_type": "code",
      "execution_count": null,
      "metadata": {
        "id": "a3ef806a",
        "outputId": "6638e3ad-eb7a-4808-bba1-9b4d1a0768bb"
      },
      "outputs": [
        {
          "name": "stdout",
          "output_type": "stream",
          "text": [
            "\\begin{tabular}{lrrrr}\n",
            "\\toprule\n",
            "{} &        CL &       CRA &       IRA &  IRA Lasso \\\\\n",
            "\\midrule\n",
            "estimate       & -0.078825 & -0.071207 & -0.069904 &  -0.074574 \\\\\n",
            "standard error &  0.032509 &  0.032044 &  0.032076 &   0.032104 \\\\\n",
            "\\bottomrule\n",
            "\\end{tabular}\n",
            "\n"
          ]
        },
        {
          "name": "stderr",
          "output_type": "stream",
          "text": [
            "<ipython-input-16-4997f4719885>:37: FutureWarning: In future versions `DataFrame.to_latex` is expected to utilise the base implementation of `Styler.to_latex` for formatting and rendering. The arguments signature may therefore change. It is recommended instead to use `DataFrame.style.to_latex` which also contains additional functionality.\n",
            "  print(table2.to_latex())\n"
          ]
        }
      ],
      "source": [
        "import hdmpy as hdm\n",
        "# Get data from R\n",
        "result = pyreadr.read_r('C:/Users/arami/Desktop/rlasso_ira_reg_g2.RData')\n",
        "X_vars = result['S']\n",
        "\n",
        "X_vars\n",
        "\n",
        "result = hdm.rlassoEffects( X_vars, log_inuidur1, index = 0 )\n",
        "\n",
        "rlasso_ira = pd.DataFrame(np.array( (result.res['coefficients'][0] , result.res['se'][0] , \\\n",
        "           result.res['t'][0] , result.res['pval'][0] ) ).reshape(1, 4) , columns = ['Coef.' , \\\n",
        "                            \"Std.Err.\" , \"t\" , 'P>|t|'] , index = ['T2'])\n",
        "\n",
        "# result.res is a object dictionary\n",
        "result.res.keys()\n",
        "\n",
        "result.res['coefficients']\n",
        "\n",
        "rlasso_ira\n",
        "\n",
        "# Results\n",
        "table2 = np.zeros((2, 4))\n",
        "table2[0,0] = ols_cl.summary2().tables[1]['Coef.']['T2']\n",
        "table2[0,1] = ols_cra.summary2().tables[1]['Coef.']['T2']\n",
        "table2[0,2] = ols_ira.summary2().tables[1]['Coef.']['T2']\n",
        "table2[0,3] = rlasso_ira['Coef.']['T2']\n",
        "\n",
        "table2[1,0] = ols_cl.summary2().tables[1]['Std.Err.']['T2']\n",
        "table2[1,1] = ols_cra.summary2().tables[1]['Std.Err.']['T2']\n",
        "table2[1,2] = ols_ira.summary2().tables[1]['Std.Err.']['T2']\n",
        "table2[1,3] = rlasso_ira['Std.Err.']['T2']\n",
        "\n",
        "table2 = pd.DataFrame(table2, columns = [\"CL\", \"CRA\", \"IRA\", \"IRA Lasso\"], \\\n",
        "                      index = [\"estimate\",\"standard error\"])\n",
        "table2\n",
        "\n",
        "table2.to_latex\n",
        "print(table2.to_latex())\n"
      ]
    },
    {
      "cell_type": "markdown",
      "metadata": {
        "id": "2b3b763e"
      },
      "source": [
        "Treatment group 2 experiences an average decrease of about  (7.4574)%  in the length of unemployment spell."
      ]
    },
    {
      "cell_type": "markdown",
      "source": [
        "# A Crash Course in Good and Bad Controls\n",
        "\n",
        "In this section, we will cover various models that illustrate \"good\" and \"bad\" controls within statistical analyses. These terms refer to the effects of adding a variable to a regression model—whether such inclusion results in discrepancies or aids interpretation of the model. For a more detailed exploration of these concepts, you are encouraged to review the full text available in the technical report [here](https://ftp.cs.ucla.edu/pub/stat_ser/r493.pdf).\n",
        "\n"
      ],
      "metadata": {
        "id": "dBQ_prrSQkQz"
      }
    },
    {
      "cell_type": "markdown",
      "source": [
        "#Good Controls 1 (blocking back-door paths)\n",
        "###MODEL 1\n",
        "In this case, we want to measure the effect of hours of study ($X$) on students' academic performance as measured by final grades ($Y$). If we run the regression without taking into account nutrition ($Z$), which affects both $X$ and $Y$, the coefficients will be biased. By including $Z$ in the model, a cleaner effect of hours of study on final grades can be obtained, approaching 1, which is the true parameter ( $1.0088\\approx1$).\n"
      ],
      "metadata": {
        "id": "xRYiJ1PHLdjz"
      }
    },
    {
      "cell_type": "code",
      "source": [
        "sprinkler = CausalGraphicalModel(nodes=[\"Z\",\"Y\",\"X\"],\n",
        "                                 edges=[(\"Z\",\"Y\"),\n",
        "                                        (\"Z\",\"X\"),\n",
        "                                        (\"X\",\"Y\")])\n",
        "sprinkler.draw()"
      ],
      "metadata": {
        "colab": {
          "base_uri": "https://localhost:8080/",
          "height": 272
        },
        "id": "xcMysWPI2sFp",
        "outputId": "4767388b-e7d5-4244-c0cd-37a8c18afc18"
      },
      "execution_count": null,
      "outputs": [
        {
          "output_type": "execute_result",
          "data": {
            "image/svg+xml": "<?xml version=\"1.0\" encoding=\"UTF-8\" standalone=\"no\"?>\n<!DOCTYPE svg PUBLIC \"-//W3C//DTD SVG 1.1//EN\"\n \"http://www.w3.org/Graphics/SVG/1.1/DTD/svg11.dtd\">\n<!-- Generated by graphviz version 2.43.0 (0)\n -->\n<!-- Title: %3 Pages: 1 -->\n<svg width=\"90pt\" height=\"188pt\"\n viewBox=\"0.00 0.00 90.00 188.00\" xmlns=\"http://www.w3.org/2000/svg\" xmlns:xlink=\"http://www.w3.org/1999/xlink\">\n<g id=\"graph0\" class=\"graph\" transform=\"scale(1 1) rotate(0) translate(4 184)\">\n<title>%3</title>\n<polygon fill=\"white\" stroke=\"transparent\" points=\"-4,4 -4,-184 86,-184 86,4 -4,4\"/>\n<!-- Y -->\n<g id=\"node1\" class=\"node\">\n<title>Y</title>\n<ellipse fill=\"none\" stroke=\"black\" cx=\"27\" cy=\"-18\" rx=\"27\" ry=\"18\"/>\n<text text-anchor=\"middle\" x=\"27\" y=\"-14.3\" font-family=\"Times,serif\" font-size=\"14.00\">Y</text>\n</g>\n<!-- X -->\n<g id=\"node2\" class=\"node\">\n<title>X</title>\n<ellipse fill=\"none\" stroke=\"black\" cx=\"55\" cy=\"-90\" rx=\"27\" ry=\"18\"/>\n<text text-anchor=\"middle\" x=\"55\" y=\"-86.3\" font-family=\"Times,serif\" font-size=\"14.00\">X</text>\n</g>\n<!-- X&#45;&gt;Y -->\n<g id=\"edge3\" class=\"edge\">\n<title>X&#45;&gt;Y</title>\n<path fill=\"none\" stroke=\"black\" d=\"M48.36,-72.41C45.09,-64.22 41.06,-54.14 37.38,-44.95\"/>\n<polygon fill=\"black\" stroke=\"black\" points=\"40.55,-43.45 33.59,-35.47 34.05,-46.05 40.55,-43.45\"/>\n</g>\n<!-- Z -->\n<g id=\"node3\" class=\"node\">\n<title>Z</title>\n<ellipse fill=\"none\" stroke=\"black\" cx=\"27\" cy=\"-162\" rx=\"27\" ry=\"18\"/>\n<text text-anchor=\"middle\" x=\"27\" y=\"-158.3\" font-family=\"Times,serif\" font-size=\"14.00\">Z</text>\n</g>\n<!-- Z&#45;&gt;Y -->\n<g id=\"edge1\" class=\"edge\">\n<title>Z&#45;&gt;Y</title>\n<path fill=\"none\" stroke=\"black\" d=\"M23.75,-143.89C21.95,-133.54 19.91,-120.06 19,-108 17.8,-92.04 17.8,-87.96 19,-72 19.64,-63.52 20.84,-54.34 22.12,-46.04\"/>\n<polygon fill=\"black\" stroke=\"black\" points=\"25.58,-46.55 23.75,-36.11 18.68,-45.41 25.58,-46.55\"/>\n</g>\n<!-- Z&#45;&gt;X -->\n<g id=\"edge2\" class=\"edge\">\n<title>Z&#45;&gt;X</title>\n<path fill=\"none\" stroke=\"black\" d=\"M33.64,-144.41C36.91,-136.22 40.94,-126.14 44.62,-116.95\"/>\n<polygon fill=\"black\" stroke=\"black\" points=\"47.95,-118.05 48.41,-107.47 41.45,-115.45 47.95,-118.05\"/>\n</g>\n</g>\n</svg>\n",
            "text/plain": [
              "<graphviz.graphs.Digraph at 0x7c719fa1c430>"
            ]
          },
          "metadata": {},
          "execution_count": 14
        }
      ]
    },
    {
      "cell_type": "code",
      "source": [
        "# Set Seed\n",
        "# to make the results replicable (generating random numbers)\n",
        "np.random.seed(1234567)     # set MC seed\n",
        "\n",
        "n = 10000              # sample size\n",
        "Z = np.random.normal(0,1, 1000).reshape((1000, 1))\n",
        "X = 2*Z + np.random.normal(0, 1, 1000).reshape((1000, 1))\n",
        "Y = X + 1*Z + np.random.normal(0, 1, 1000).reshape((1000, 1))\n",
        "\n",
        "# Create dataframe\n",
        "D = np.hstack((Z, X, Y))\n",
        "data = pd.DataFrame(D, columns = [\"Z\", \"X\", \"Y\"])\n"
      ],
      "metadata": {
        "id": "Zzw5HQqKLiEQ"
      },
      "execution_count": null,
      "outputs": []
    },
    {
      "cell_type": "code",
      "source": [
        "# Regressions\n",
        "no_control = \"Y ~ X\"          #Wrong, not controlling by nutrition\n",
        "using_control = \"Y ~ X + Z\"   # Correct\n",
        "\n",
        "no_control = smf.ols(no_control , data=data).fit()\n",
        "using_control = smf.ols(using_control , data=data).fit()\n",
        "\n",
        "# Summary results\n",
        "dfoutput = summary_col([no_control,using_control],stars=True)\n",
        "print(dfoutput)"
      ],
      "metadata": {
        "colab": {
          "base_uri": "https://localhost:8080/"
        },
        "id": "8ytbYhK9RCGv",
        "outputId": "a73155e4-85f0-4604-9ebb-6820fddc2a6f"
      },
      "execution_count": null,
      "outputs": [
        {
          "output_type": "stream",
          "name": "stdout",
          "text": [
            "\n",
            "==================================\n",
            "                  Y I       Y II  \n",
            "----------------------------------\n",
            "Intercept      0.0107    -0.0039  \n",
            "               (0.0351)  (0.0323) \n",
            "X              1.3965*** 1.0088***\n",
            "               (0.0162)  (0.0323) \n",
            "Z                        0.9710***\n",
            "                         (0.0718) \n",
            "R-squared      0.8818    0.9001   \n",
            "R-squared Adj. 0.8816    0.8999   \n",
            "==================================\n",
            "Standard errors in parentheses.\n",
            "* p<.1, ** p<.05, ***p<.01\n"
          ]
        }
      ]
    },
    {
      "cell_type": "markdown",
      "source": [
        "###Model 2\n",
        "In this case we want to see how much anti-corruption laws($X$) affect the number of corruption cases($Y$). But there is an unobservable variable that affects both, which is the feeling of injustice, which drives criminality and increases the number of laws. Then, we control for the number of active judges($Z$) to clean up the effect of the unobservable on my X. Finally controlling, my coefficient is close to my variable ($0.4321\\approx 0.5$).\n",
        "\n"
      ],
      "metadata": {
        "id": "RQj7HrXolXuW"
      }
    },
    {
      "cell_type": "markdown",
      "source": [],
      "metadata": {
        "id": "5OlaiIIwubv5"
      }
    },
    {
      "cell_type": "code",
      "source": [
        "sprinkler = CausalGraphicalModel(nodes=[\"Z\",\"Y\",\"X\"],\n",
        "                                 edges=[(\"Z\",\"X\"),\n",
        "                                        (\"X\",\"Y\")],\n",
        "                                 latent_edges=[(\"Z\",\"Y\")])\n",
        "sprinkler.draw()"
      ],
      "metadata": {
        "colab": {
          "base_uri": "https://localhost:8080/",
          "height": 325
        },
        "id": "PHjYcTgSlUtR",
        "outputId": "97f215fd-0dec-4f6f-9ff3-3e60a1f6690e"
      },
      "execution_count": null,
      "outputs": [
        {
          "output_type": "execute_result",
          "data": {
            "image/svg+xml": "<?xml version=\"1.0\" encoding=\"UTF-8\" standalone=\"no\"?>\n<!DOCTYPE svg PUBLIC \"-//W3C//DTD SVG 1.1//EN\"\n \"http://www.w3.org/Graphics/SVG/1.1/DTD/svg11.dtd\">\n<!-- Generated by graphviz version 2.43.0 (0)\n -->\n<!-- Title: %3 Pages: 1 -->\n<svg width=\"90pt\" height=\"228pt\"\n viewBox=\"0.00 0.00 90.00 227.60\" xmlns=\"http://www.w3.org/2000/svg\" xmlns:xlink=\"http://www.w3.org/1999/xlink\">\n<g id=\"graph0\" class=\"graph\" transform=\"scale(1 1) rotate(0) translate(4 223.6)\">\n<title>%3</title>\n<polygon fill=\"white\" stroke=\"transparent\" points=\"-4,4 -4,-223.6 86,-223.6 86,4 -4,4\"/>\n<!-- X -->\n<g id=\"node1\" class=\"node\">\n<title>X</title>\n<ellipse fill=\"none\" stroke=\"black\" cx=\"55\" cy=\"-90\" rx=\"27\" ry=\"18\"/>\n<text text-anchor=\"middle\" x=\"55\" y=\"-86.3\" font-family=\"Times,serif\" font-size=\"14.00\">X</text>\n</g>\n<!-- Y -->\n<g id=\"node2\" class=\"node\">\n<title>Y</title>\n<ellipse fill=\"none\" stroke=\"black\" cx=\"27\" cy=\"-18\" rx=\"27\" ry=\"18\"/>\n<text text-anchor=\"middle\" x=\"27\" y=\"-14.3\" font-family=\"Times,serif\" font-size=\"14.00\">Y</text>\n</g>\n<!-- X&#45;&gt;Y -->\n<g id=\"edge2\" class=\"edge\">\n<title>X&#45;&gt;Y</title>\n<path fill=\"none\" stroke=\"black\" d=\"M48.36,-72.41C45.09,-64.22 41.06,-54.14 37.38,-44.95\"/>\n<polygon fill=\"black\" stroke=\"black\" points=\"40.55,-43.45 33.59,-35.47 34.05,-46.05 40.55,-43.45\"/>\n</g>\n<!-- Z -->\n<g id=\"node3\" class=\"node\">\n<title>Z</title>\n<ellipse fill=\"none\" stroke=\"black\" cx=\"55\" cy=\"-162\" rx=\"27\" ry=\"18\"/>\n<text text-anchor=\"middle\" x=\"55\" y=\"-158.3\" font-family=\"Times,serif\" font-size=\"14.00\">Z</text>\n</g>\n<!-- Z&#45;&gt;X -->\n<g id=\"edge1\" class=\"edge\">\n<title>Z&#45;&gt;X</title>\n<path fill=\"none\" stroke=\"black\" d=\"M55,-143.7C55,-135.98 55,-126.71 55,-118.11\"/>\n<polygon fill=\"black\" stroke=\"black\" points=\"58.5,-118.1 55,-108.1 51.5,-118.1 58.5,-118.1\"/>\n</g>\n<!-- Unobserved_0 -->\n<g id=\"node4\" class=\"node\">\n<title>Unobserved_0</title>\n<ellipse fill=\"black\" stroke=\"black\" cx=\"27\" cy=\"-217.8\" rx=\"1.8\" ry=\"1.8\"/>\n</g>\n<!-- Unobserved_0&#45;&gt;Y -->\n<g id=\"edge4\" class=\"edge\">\n<title>Unobserved_0&#45;&gt;Y</title>\n<path fill=\"none\" stroke=\"black\" stroke-dasharray=\"5,2\" d=\"M26.73,-215.9C25.52,-211.82 20.56,-194.56 19,-180 13.87,-132.27 15.41,-119.87 19,-72 19.64,-63.52 20.84,-54.34 22.12,-46.04\"/>\n<polygon fill=\"black\" stroke=\"black\" points=\"25.58,-46.55 23.75,-36.11 18.68,-45.41 25.58,-46.55\"/>\n</g>\n<!-- Unobserved_0&#45;&gt;Z -->\n<g id=\"edge3\" class=\"edge\">\n<title>Unobserved_0&#45;&gt;Z</title>\n<path fill=\"none\" stroke=\"black\" stroke-dasharray=\"5,2\" d=\"M27.49,-215.87C29.28,-212.42 35.75,-199.99 41.96,-188.05\"/>\n<polygon fill=\"black\" stroke=\"black\" points=\"45.07,-189.66 46.58,-179.17 38.86,-186.43 45.07,-189.66\"/>\n</g>\n</g>\n</svg>\n",
            "text/plain": [
              "<graphviz.graphs.Digraph at 0x7f78b0ded3f0>"
            ]
          },
          "metadata": {},
          "execution_count": 25
        }
      ]
    },
    {
      "cell_type": "code",
      "source": [
        "# Set Seed\n",
        "# to make the results replicable (generating random numbers)\n",
        "np.random.seed(1234567)     # set MC seed\n",
        "\n",
        "n = 1000                # sample size\n",
        "U = np.random.normal(0, 1, 1000).reshape((1000, 1))\n",
        "Z = 3*U + np.random.normal(0, 1, 1000).reshape((1000, 1)) # generate Z\n",
        "X = 1*Z + np.random.normal(0, 1, 1000).reshape((1000, 1))\n",
        "Y = 0.5*X + 2*U + np.random.normal(0, 1, 1000).reshape((1000, 1))\n",
        "\n",
        "# Create dataframe\n",
        "D = np.hstack((U, Z, X, Y))\n",
        "data = pd.DataFrame(D, columns = [\"U\", \"Z\", \"X\", \"Y\"])"
      ],
      "metadata": {
        "id": "YZt-6ucjtMLO"
      },
      "execution_count": null,
      "outputs": []
    },
    {
      "cell_type": "code",
      "source": [
        "# Regressions\n",
        "no_control = \"Y ~ X\"           #Wrong, not controlling for confounder\n",
        "using_control = \"Y ~ X + Z\"      #classical\n",
        "\n",
        "no_control = smf.ols(no_control , data=data).fit()\n",
        "using_control = smf.ols(using_control , data=data).fit()\n",
        "\n",
        "# Summary results\n",
        "dfoutput = summary_col([no_control,using_control],stars=True)\n",
        "print(dfoutput)"
      ],
      "metadata": {
        "colab": {
          "base_uri": "https://localhost:8080/"
        },
        "id": "FAqA3W6CtOz4",
        "outputId": "bfb03bc3-64ff-44e6-ebb8-3d9bc47363d7"
      },
      "execution_count": null,
      "outputs": [
        {
          "output_type": "stream",
          "name": "stdout",
          "text": [
            "\n",
            "==================================\n",
            "                  Y I       Y II  \n",
            "----------------------------------\n",
            "Intercept      0.0348    0.0253   \n",
            "               (0.0434)  (0.0383) \n",
            "X              1.0341*** 0.4321***\n",
            "               (0.0134)  (0.0375) \n",
            "Z                        0.6671***\n",
            "                         (0.0394) \n",
            "R-squared      0.8556    0.8878   \n",
            "R-squared Adj. 0.8555    0.8876   \n",
            "==================================\n",
            "Standard errors in parentheses.\n",
            "* p<.1, ** p<.05, ***p<.01\n"
          ]
        }
      ]
    },
    {
      "cell_type": "markdown",
      "source": [
        "#Bad Control (M-bias)\n",
        "##MODEL 7\n",
        "Now, if we want to study how education($X$) affects diabetes($Y$) we could adjust for the mother's diabetes status($Z$) and consider it a confounder. However, this association is not direct, and adjusting for the mother will open up an association with income during childhood (U_1) and overall risk of diabetes (U_2)."
      ],
      "metadata": {
        "id": "tCCGpEDLS7iu"
      }
    },
    {
      "cell_type": "code",
      "source": [
        "sprinkler = CausalGraphicalModel(nodes=[\"Z\",\"Y\",\"X\"],\n",
        "                                 edges=[(\"X\",\"Y\")],\n",
        "                                 latent_edges=[(\"X\",\"Z\"),(\"Z\",\"Y\")]\n",
        "                                )\n",
        "sprinkler.draw()"
      ],
      "metadata": {
        "colab": {
          "base_uri": "https://localhost:8080/",
          "height": 229
        },
        "id": "flC4lW6dTCGC",
        "outputId": "59d33d12-a713-44ff-c54a-4911975319b9"
      },
      "execution_count": null,
      "outputs": [
        {
          "output_type": "execute_result",
          "data": {
            "image/svg+xml": "<?xml version=\"1.0\" encoding=\"UTF-8\" standalone=\"no\"?>\n<!DOCTYPE svg PUBLIC \"-//W3C//DTD SVG 1.1//EN\"\n \"http://www.w3.org/Graphics/SVG/1.1/DTD/svg11.dtd\">\n<!-- Generated by graphviz version 2.43.0 (0)\n -->\n<!-- Title: %3 Pages: 1 -->\n<svg width=\"147pt\" height=\"156pt\"\n viewBox=\"0.00 0.00 146.58 155.60\" xmlns=\"http://www.w3.org/2000/svg\" xmlns:xlink=\"http://www.w3.org/1999/xlink\">\n<g id=\"graph0\" class=\"graph\" transform=\"scale(1 1) rotate(0) translate(4 151.6)\">\n<title>%3</title>\n<polygon fill=\"white\" stroke=\"transparent\" points=\"-4,4 -4,-151.6 142.58,-151.6 142.58,4 -4,4\"/>\n<!-- X -->\n<g id=\"node1\" class=\"node\">\n<title>X</title>\n<ellipse fill=\"none\" stroke=\"black\" cx=\"111.58\" cy=\"-90\" rx=\"27\" ry=\"18\"/>\n<text text-anchor=\"middle\" x=\"111.58\" y=\"-86.3\" font-family=\"Times,serif\" font-size=\"14.00\">X</text>\n</g>\n<!-- Y -->\n<g id=\"node2\" class=\"node\">\n<title>Y</title>\n<ellipse fill=\"none\" stroke=\"black\" cx=\"47.58\" cy=\"-18\" rx=\"27\" ry=\"18\"/>\n<text text-anchor=\"middle\" x=\"47.58\" y=\"-14.3\" font-family=\"Times,serif\" font-size=\"14.00\">Y</text>\n</g>\n<!-- X&#45;&gt;Y -->\n<g id=\"edge1\" class=\"edge\">\n<title>X&#45;&gt;Y</title>\n<path fill=\"none\" stroke=\"black\" d=\"M98,-74.15C89.26,-64.6 77.74,-51.99 67.92,-41.25\"/>\n<polygon fill=\"black\" stroke=\"black\" points=\"70.46,-38.84 61.13,-33.82 65.29,-43.57 70.46,-38.84\"/>\n</g>\n<!-- Z -->\n<g id=\"node3\" class=\"node\">\n<title>Z</title>\n<ellipse fill=\"none\" stroke=\"black\" cx=\"39.58\" cy=\"-90\" rx=\"27\" ry=\"18\"/>\n<text text-anchor=\"middle\" x=\"39.58\" y=\"-86.3\" font-family=\"Times,serif\" font-size=\"14.00\">Z</text>\n</g>\n<!-- Unobserved_0 -->\n<g id=\"node4\" class=\"node\">\n<title>Unobserved_0</title>\n<ellipse fill=\"black\" stroke=\"black\" cx=\"20.58\" cy=\"-145.8\" rx=\"1.8\" ry=\"1.8\"/>\n</g>\n<!-- Unobserved_0&#45;&gt;Y -->\n<g id=\"edge3\" class=\"edge\">\n<title>Unobserved_0&#45;&gt;Y</title>\n<path fill=\"none\" stroke=\"black\" stroke-dasharray=\"5,2\" d=\"M20,-143.94C17.44,-140.02 6.96,-123.4 3.58,-108 0.14,-92.37 -1.86,-87.05 3.58,-72 7.85,-60.17 16.04,-49.11 24.2,-40.19\"/>\n<polygon fill=\"black\" stroke=\"black\" points=\"26.8,-42.54 31.28,-32.93 21.79,-37.65 26.8,-42.54\"/>\n</g>\n<!-- Unobserved_0&#45;&gt;Z -->\n<g id=\"edge2\" class=\"edge\">\n<title>Unobserved_0&#45;&gt;Z</title>\n<path fill=\"none\" stroke=\"black\" stroke-dasharray=\"5,2\" d=\"M20.9,-143.87C22.08,-140.53 26.23,-128.78 30.32,-117.21\"/>\n<polygon fill=\"black\" stroke=\"black\" points=\"33.64,-118.31 33.67,-107.71 27.04,-115.98 33.64,-118.31\"/>\n</g>\n<!-- Unobserved_1 -->\n<g id=\"node5\" class=\"node\">\n<title>Unobserved_1</title>\n<ellipse fill=\"black\" stroke=\"black\" cx=\"58.58\" cy=\"-145.8\" rx=\"1.8\" ry=\"1.8\"/>\n</g>\n<!-- Unobserved_1&#45;&gt;X -->\n<g id=\"edge4\" class=\"edge\">\n<title>Unobserved_1&#45;&gt;X</title>\n<path fill=\"none\" stroke=\"black\" stroke-dasharray=\"5,2\" d=\"M59.5,-143.87C63.2,-140.11 77.4,-125.69 90.04,-112.86\"/>\n<polygon fill=\"black\" stroke=\"black\" points=\"92.69,-115.16 97.21,-105.58 87.7,-110.25 92.69,-115.16\"/>\n</g>\n<!-- Unobserved_1&#45;&gt;Z -->\n<g id=\"edge5\" class=\"edge\">\n<title>Unobserved_1&#45;&gt;Z</title>\n<path fill=\"none\" stroke=\"black\" stroke-dasharray=\"5,2\" d=\"M58.25,-143.87C57.07,-140.53 52.92,-128.78 48.83,-117.21\"/>\n<polygon fill=\"black\" stroke=\"black\" points=\"52.11,-115.98 45.48,-107.71 45.51,-118.31 52.11,-115.98\"/>\n</g>\n</g>\n</svg>\n",
            "text/plain": [
              "<graphviz.graphs.Digraph at 0x7f78b0ebf280>"
            ]
          },
          "metadata": {},
          "execution_count": 18
        }
      ]
    },
    {
      "cell_type": "code",
      "source": [
        "# Set Seed\n",
        "# to make the results replicable (generating random numbers)\n",
        "np.random.seed(12345676)     # set MC seed\n",
        "\n",
        "n = 1000                # sample size\n",
        "U_1 = np.random.normal(0, 1, 1000).reshape((1000, 1))\n",
        "U_2 = np.random.normal(0, 1, 1000).reshape((1000, 1))\n",
        "\n",
        "Z = 1*U_1 + 1*U_2 + np.random.normal(0, 1, 1000).reshape((1000, 1)) # generate Z\n",
        "X = 1.5*U_1 + np.random.normal(0, 1, 1000).reshape((1000, 1))\n",
        "Y = X + 2.5*U_2 + np.random.normal(0, 1, 1000).reshape((1000, 1))\n",
        "\n",
        "# Create dataframe\n",
        "D = np.hstack((U_1,U_2, Z, X, Y))\n",
        "data = pd.DataFrame(D, columns = [\"U_1\", \"U_2\", \"Z\", \"X\", \"Y\"])"
      ],
      "metadata": {
        "id": "556aShOsTa-Z"
      },
      "execution_count": null,
      "outputs": []
    },
    {
      "cell_type": "code",
      "source": [
        "# Regressions\n",
        "no_control = \"Y ~ X\"\n",
        "using_control = \"Y ~ X + Z\"      #classical\n",
        "\n",
        "no_control = smf.ols(no_control , data=data).fit()\n",
        "using_control = smf.ols(using_control , data=data).fit()\n",
        "\n",
        "# Summary results\n",
        "dfoutput = summary_col([no_control,using_control],stars=True)\n",
        "print(dfoutput)"
      ],
      "metadata": {
        "colab": {
          "base_uri": "https://localhost:8080/"
        },
        "id": "jRdxnonGTcvu",
        "outputId": "fc3eb9a6-6610-4361-c10c-f56b8d77f773"
      },
      "execution_count": null,
      "outputs": [
        {
          "output_type": "stream",
          "name": "stdout",
          "text": [
            "\n",
            "==================================\n",
            "                  Y I       Y II  \n",
            "----------------------------------\n",
            "Intercept      0.0219    -0.0210  \n",
            "               (0.0850)  (0.0668) \n",
            "X              1.0433*** 0.5338***\n",
            "               (0.0469)  (0.0422) \n",
            "Z                        1.0602***\n",
            "                         (0.0426) \n",
            "R-squared      0.3316    0.5875   \n",
            "R-squared Adj. 0.3310    0.5867   \n",
            "==================================\n",
            "Standard errors in parentheses.\n",
            "* p<.1, ** p<.05, ***p<.01\n"
          ]
        }
      ]
    },
    {
      "cell_type": "markdown",
      "source": [
        "#Neutral Control (possibly good for precision)\n",
        "###Model 8\n",
        "In this case, we want to estimate how the introduction of a new smart learning programme ($X$) affects the academic performance of students ($Y$). When we run this regression, our estimator is unbiased. However, if we include the attendance rate ($Z$), which also affects performance, we can increase the precision of the estimator and still remain unbiased and increase the precision."
      ],
      "metadata": {
        "id": "8LJNgxO0M6xC"
      }
    },
    {
      "cell_type": "code",
      "source": [
        "sprinkler = CausalGraphicalModel(nodes=[\"Z\",\"Y\",\"X\"],\n",
        "                                 edges=[(\"Z\",\"Y\"),(\"X\",\"Y\")])\n",
        "sprinkler.draw()"
      ],
      "metadata": {
        "colab": {
          "base_uri": "https://localhost:8080/",
          "height": 176
        },
        "id": "_JIRB-SYOKoU",
        "outputId": "1c841d74-9f69-4fea-f0c8-a5d7c31a7cee"
      },
      "execution_count": null,
      "outputs": [
        {
          "output_type": "execute_result",
          "data": {
            "image/svg+xml": "<?xml version=\"1.0\" encoding=\"UTF-8\" standalone=\"no\"?>\n<!DOCTYPE svg PUBLIC \"-//W3C//DTD SVG 1.1//EN\"\n \"http://www.w3.org/Graphics/SVG/1.1/DTD/svg11.dtd\">\n<!-- Generated by graphviz version 2.43.0 (0)\n -->\n<!-- Title: %3 Pages: 1 -->\n<svg width=\"134pt\" height=\"116pt\"\n viewBox=\"0.00 0.00 134.00 116.00\" xmlns=\"http://www.w3.org/2000/svg\" xmlns:xlink=\"http://www.w3.org/1999/xlink\">\n<g id=\"graph0\" class=\"graph\" transform=\"scale(1 1) rotate(0) translate(4 112)\">\n<title>%3</title>\n<polygon fill=\"white\" stroke=\"transparent\" points=\"-4,4 -4,-112 130,-112 130,4 -4,4\"/>\n<!-- X -->\n<g id=\"node1\" class=\"node\">\n<title>X</title>\n<ellipse fill=\"none\" stroke=\"black\" cx=\"27\" cy=\"-90\" rx=\"27\" ry=\"18\"/>\n<text text-anchor=\"middle\" x=\"27\" y=\"-86.3\" font-family=\"Times,serif\" font-size=\"14.00\">X</text>\n</g>\n<!-- Y -->\n<g id=\"node2\" class=\"node\">\n<title>Y</title>\n<ellipse fill=\"none\" stroke=\"black\" cx=\"63\" cy=\"-18\" rx=\"27\" ry=\"18\"/>\n<text text-anchor=\"middle\" x=\"63\" y=\"-14.3\" font-family=\"Times,serif\" font-size=\"14.00\">Y</text>\n</g>\n<!-- X&#45;&gt;Y -->\n<g id=\"edge2\" class=\"edge\">\n<title>X&#45;&gt;Y</title>\n<path fill=\"none\" stroke=\"black\" d=\"M35.35,-72.76C39.71,-64.28 45.15,-53.71 50.04,-44.2\"/>\n<polygon fill=\"black\" stroke=\"black\" points=\"53.23,-45.64 54.7,-35.15 47.01,-42.44 53.23,-45.64\"/>\n</g>\n<!-- Z -->\n<g id=\"node3\" class=\"node\">\n<title>Z</title>\n<ellipse fill=\"none\" stroke=\"black\" cx=\"99\" cy=\"-90\" rx=\"27\" ry=\"18\"/>\n<text text-anchor=\"middle\" x=\"99\" y=\"-86.3\" font-family=\"Times,serif\" font-size=\"14.00\">Z</text>\n</g>\n<!-- Z&#45;&gt;Y -->\n<g id=\"edge1\" class=\"edge\">\n<title>Z&#45;&gt;Y</title>\n<path fill=\"none\" stroke=\"black\" d=\"M90.65,-72.76C86.29,-64.28 80.85,-53.71 75.96,-44.2\"/>\n<polygon fill=\"black\" stroke=\"black\" points=\"78.99,-42.44 71.3,-35.15 72.77,-45.64 78.99,-42.44\"/>\n</g>\n</g>\n</svg>\n",
            "text/plain": [
              "<graphviz.graphs.Digraph at 0x7f78b0f1f250>"
            ]
          },
          "metadata": {},
          "execution_count": 42
        }
      ]
    },
    {
      "cell_type": "code",
      "source": [
        "# Set Seed\n",
        "# to make the results replicable (generating random numbers)\n",
        "np.random.seed(12345676)     # set MC seed\n",
        "\n",
        "n = 1000                # sample size\n",
        "\n",
        "Z = np.random.normal(0, 1, 1000).reshape((1000, 1))\n",
        "X = np.random.normal(0, 1, 1000).reshape((1000, 1))\n",
        "Y = X + 1.5*Z + np.random.normal(0, 1, 1000).reshape((1000, 1))\n",
        "\n",
        "# Create dataframe\n",
        "D = np.hstack((Z, X, Y))\n",
        "data = pd.DataFrame(D, columns = [\"Z\", \"X\", \"Y\"])"
      ],
      "metadata": {
        "id": "vRFIo_obOM9u"
      },
      "execution_count": null,
      "outputs": []
    },
    {
      "cell_type": "code",
      "source": [
        "# Regressions\n",
        "no_control = \"Y ~ X\"\n",
        "using_control = \"Y ~ X + Z\"      #classical\n",
        "\n",
        "no_control = smf.ols(no_control , data=data).fit()\n",
        "using_control = smf.ols(using_control , data=data).fit()\n",
        "\n",
        "# Summary results\n",
        "dfoutput = summary_col([no_control,using_control],stars=True)\n",
        "print(dfoutput)"
      ],
      "metadata": {
        "colab": {
          "base_uri": "https://localhost:8080/"
        },
        "id": "_VFrGiW4OReP",
        "outputId": "da1dd210-3acf-4947-df1b-e02eaed32973"
      },
      "execution_count": null,
      "outputs": [
        {
          "output_type": "stream",
          "name": "stdout",
          "text": [
            "\n",
            "==================================\n",
            "                  Y I       Y II  \n",
            "----------------------------------\n",
            "Intercept      0.1056*   0.0001   \n",
            "               (0.0578)  (0.0327) \n",
            "X              1.0865*** 1.0192***\n",
            "               (0.0578)  (0.0327) \n",
            "Z                        1.5158***\n",
            "                         (0.0329) \n",
            "R-squared      0.2616    0.7642   \n",
            "R-squared Adj. 0.2608    0.7638   \n",
            "==================================\n",
            "Standard errors in parentheses.\n",
            "* p<.1, ** p<.05, ***p<.01\n"
          ]
        }
      ]
    },
    {
      "cell_type": "markdown",
      "source": [
        "#Bad Controls (Overcontrol Bias)\n",
        "##Model 11\n",
        "In this case we want to analyse how the growth of the city in terms of urban infrastructure (residential areas, shopping centres, etc.) impacts on the level of vehicle congestion ($Y$). Now, if we add a variable such as the number of cars ($Z$) that is affected by the infrastructure, but not vice versa and that causes a higher level of congestion, we would be removing the explanatory power of $X$. Now by controlling for both variables, the estimator of X loses significance and moves away from its true estimator ($-0.022\\neq1$).\n"
      ],
      "metadata": {
        "id": "EomMv6RDTpGj"
      }
    },
    {
      "cell_type": "code",
      "source": [
        "sprinkler = CausalGraphicalModel(nodes=[\"Z\",\"Y\",\"X\"],\n",
        "                                 edges=[(\"X\",\"Z\"),(\"Z\",\"Y\")])\n",
        "sprinkler.draw()"
      ],
      "metadata": {
        "colab": {
          "base_uri": "https://localhost:8080/",
          "height": 272
        },
        "id": "vaMI4F-MTnH8",
        "outputId": "207d474a-123c-4b90-8a6e-827a66de3286"
      },
      "execution_count": null,
      "outputs": [
        {
          "output_type": "execute_result",
          "data": {
            "image/svg+xml": "<?xml version=\"1.0\" encoding=\"UTF-8\" standalone=\"no\"?>\n<!DOCTYPE svg PUBLIC \"-//W3C//DTD SVG 1.1//EN\"\n \"http://www.w3.org/Graphics/SVG/1.1/DTD/svg11.dtd\">\n<!-- Generated by graphviz version 2.43.0 (0)\n -->\n<!-- Title: %3 Pages: 1 -->\n<svg width=\"62pt\" height=\"188pt\"\n viewBox=\"0.00 0.00 62.00 188.00\" xmlns=\"http://www.w3.org/2000/svg\" xmlns:xlink=\"http://www.w3.org/1999/xlink\">\n<g id=\"graph0\" class=\"graph\" transform=\"scale(1 1) rotate(0) translate(4 184)\">\n<title>%3</title>\n<polygon fill=\"white\" stroke=\"transparent\" points=\"-4,4 -4,-184 58,-184 58,4 -4,4\"/>\n<!-- Y -->\n<g id=\"node1\" class=\"node\">\n<title>Y</title>\n<ellipse fill=\"none\" stroke=\"black\" cx=\"27\" cy=\"-18\" rx=\"27\" ry=\"18\"/>\n<text text-anchor=\"middle\" x=\"27\" y=\"-14.3\" font-family=\"Times,serif\" font-size=\"14.00\">Y</text>\n</g>\n<!-- X -->\n<g id=\"node2\" class=\"node\">\n<title>X</title>\n<ellipse fill=\"none\" stroke=\"black\" cx=\"27\" cy=\"-162\" rx=\"27\" ry=\"18\"/>\n<text text-anchor=\"middle\" x=\"27\" y=\"-158.3\" font-family=\"Times,serif\" font-size=\"14.00\">X</text>\n</g>\n<!-- Z -->\n<g id=\"node3\" class=\"node\">\n<title>Z</title>\n<ellipse fill=\"none\" stroke=\"black\" cx=\"27\" cy=\"-90\" rx=\"27\" ry=\"18\"/>\n<text text-anchor=\"middle\" x=\"27\" y=\"-86.3\" font-family=\"Times,serif\" font-size=\"14.00\">Z</text>\n</g>\n<!-- X&#45;&gt;Z -->\n<g id=\"edge2\" class=\"edge\">\n<title>X&#45;&gt;Z</title>\n<path fill=\"none\" stroke=\"black\" d=\"M27,-143.7C27,-135.98 27,-126.71 27,-118.11\"/>\n<polygon fill=\"black\" stroke=\"black\" points=\"30.5,-118.1 27,-108.1 23.5,-118.1 30.5,-118.1\"/>\n</g>\n<!-- Z&#45;&gt;Y -->\n<g id=\"edge1\" class=\"edge\">\n<title>Z&#45;&gt;Y</title>\n<path fill=\"none\" stroke=\"black\" d=\"M27,-71.7C27,-63.98 27,-54.71 27,-46.11\"/>\n<polygon fill=\"black\" stroke=\"black\" points=\"30.5,-46.1 27,-36.1 23.5,-46.1 30.5,-46.1\"/>\n</g>\n</g>\n</svg>\n",
            "text/plain": [
              "<graphviz.graphs.Digraph at 0x7c719fa11d50>"
            ]
          },
          "metadata": {},
          "execution_count": 25
        }
      ]
    },
    {
      "cell_type": "code",
      "source": [
        "# Set Seed\n",
        "# to make the results replicable (generating random numbers)\n",
        "np.random.seed(1234567)     # set MC seed\n",
        "\n",
        "n = 1000                # sample size\n",
        "X = np.random.normal(0, 1, 1000).reshape((1000, 1)) # generate Z\n",
        "Z = 1.3*X + np.random.normal(0, 1, 1000).reshape((1000, 1))\n",
        "Y = 1*Z + np.random.normal(0, 1, 1000).reshape((1000, 1))\n",
        "\n",
        "# Create dataframe\n",
        "D = np.hstack((Z, X, Y))\n",
        "data = pd.DataFrame(D, columns = [\"Z\", \"X\", \"Y\"])"
      ],
      "metadata": {
        "id": "SAgjlnUPTs8y"
      },
      "execution_count": null,
      "outputs": []
    },
    {
      "cell_type": "code",
      "source": [
        "# Regressions\n",
        "no_control = \"Y ~ X\"\n",
        "using_control = \"Y ~ X + Z\"      #classical\n",
        "\n",
        "no_control = smf.ols(no_control , data=data).fit()\n",
        "using_control = smf.ols(using_control , data=data).fit()\n",
        "\n",
        "# Summary results\n",
        "dfoutput = summary_col([no_control,using_control],stars=True)\n",
        "print(dfoutput)"
      ],
      "metadata": {
        "colab": {
          "base_uri": "https://localhost:8080/"
        },
        "id": "SxX0t9PmTu-d",
        "outputId": "05097e1f-ff1a-4681-c559-d7f811f263b7"
      },
      "execution_count": null,
      "outputs": [
        {
          "output_type": "stream",
          "name": "stdout",
          "text": [
            "\n",
            "==================================\n",
            "                  Y I       Y II  \n",
            "----------------------------------\n",
            "Intercept      -0.0204   -0.0039  \n",
            "               (0.0455)  (0.0323) \n",
            "X              1.2604*** -0.0229  \n",
            "               (0.0465)  (0.0527) \n",
            "Z                        1.0088***\n",
            "                         (0.0323) \n",
            "R-squared      0.4239    0.7089   \n",
            "R-squared Adj. 0.4233    0.7083   \n",
            "==================================\n",
            "Standard errors in parentheses.\n",
            "* p<.1, ** p<.05, ***p<.01\n"
          ]
        }
      ]
    }
  ]
}